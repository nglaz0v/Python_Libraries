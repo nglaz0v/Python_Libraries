{
 "cells": [
  {
   "cell_type": "markdown",
   "id": "9539de32",
   "metadata": {},
   "source": [
    "## Задание на повторение материала"
   ]
  },
  {
   "cell_type": "code",
   "execution_count": 1,
   "id": "e5fdb204",
   "metadata": {},
   "outputs": [],
   "source": [
    "import numpy as np\n",
    "import numpy.linalg as la"
   ]
  },
  {
   "cell_type": "markdown",
   "id": "d1a68ea8",
   "metadata": {},
   "source": [
    "1. Создать одномерный массив Numpy под названием a из 12 последовательных целых чисел чисел от 12 до 24 невключительно"
   ]
  },
  {
   "cell_type": "code",
   "execution_count": 2,
   "id": "a3ac0416",
   "metadata": {},
   "outputs": [
    {
     "data": {
      "text/plain": [
       "array([12, 13, 14, 15, 16, 17, 18, 19, 20, 21, 22, 23])"
      ]
     },
     "execution_count": 2,
     "metadata": {},
     "output_type": "execute_result"
    }
   ],
   "source": [
    "a = np.arange(12, 24)\n",
    "a"
   ]
  },
  {
   "cell_type": "markdown",
   "id": "feed47ad",
   "metadata": {},
   "source": [
    "2. Создать 5 двумерных массивов разной формы из массива a. Не использовать в аргументах метода reshape число -1."
   ]
  },
  {
   "cell_type": "code",
   "execution_count": 3,
   "id": "2ee95923",
   "metadata": {},
   "outputs": [
    {
     "data": {
      "text/plain": [
       "(array([[12, 13, 14, 15, 16, 17],\n",
       "        [18, 19, 20, 21, 22, 23]]),\n",
       " array([[12, 13, 14, 15],\n",
       "        [16, 17, 18, 19],\n",
       "        [20, 21, 22, 23]]),\n",
       " array([[12, 13, 14],\n",
       "        [15, 16, 17],\n",
       "        [18, 19, 20],\n",
       "        [21, 22, 23]]),\n",
       " array([[12, 13],\n",
       "        [14, 15],\n",
       "        [16, 17],\n",
       "        [18, 19],\n",
       "        [20, 21],\n",
       "        [22, 23]]),\n",
       " array([[12],\n",
       "        [13],\n",
       "        [14],\n",
       "        [15],\n",
       "        [16],\n",
       "        [17],\n",
       "        [18],\n",
       "        [19],\n",
       "        [20],\n",
       "        [21],\n",
       "        [22],\n",
       "        [23]]))"
      ]
     },
     "execution_count": 3,
     "metadata": {},
     "output_type": "execute_result"
    }
   ],
   "source": [
    "a_2x6 = a.reshape(2, 6)\n",
    "a_3x4 = a.reshape(3, 4)\n",
    "a_4x3 = a.reshape(4, 3)\n",
    "a_6x2 = a.reshape(6, 2)\n",
    "a_12x1 = a.reshape(12, 1)\n",
    "a_2x6, a_3x4, a_4x3, a_6x2, a_12x1"
   ]
  },
  {
   "cell_type": "markdown",
   "id": "23f6982b",
   "metadata": {},
   "source": [
    "3. Создать 5 двумерных массивов разной формы из массива a. Использовать в аргументах метода reshape число -1 (в трёх примерах - для обозначения числа столбцов, в двух - для строк)."
   ]
  },
  {
   "cell_type": "code",
   "execution_count": 4,
   "id": "572cadbf",
   "metadata": {},
   "outputs": [
    {
     "data": {
      "text/plain": [
       "(array([[12, 13, 14, 15, 16, 17],\n",
       "        [18, 19, 20, 21, 22, 23]]),\n",
       " array([[12, 13, 14, 15],\n",
       "        [16, 17, 18, 19],\n",
       "        [20, 21, 22, 23]]),\n",
       " array([[12, 13, 14],\n",
       "        [15, 16, 17],\n",
       "        [18, 19, 20],\n",
       "        [21, 22, 23]]),\n",
       " array([[12, 13],\n",
       "        [14, 15],\n",
       "        [16, 17],\n",
       "        [18, 19],\n",
       "        [20, 21],\n",
       "        [22, 23]]),\n",
       " array([[12],\n",
       "        [13],\n",
       "        [14],\n",
       "        [15],\n",
       "        [16],\n",
       "        [17],\n",
       "        [18],\n",
       "        [19],\n",
       "        [20],\n",
       "        [21],\n",
       "        [22],\n",
       "        [23]]))"
      ]
     },
     "execution_count": 4,
     "metadata": {},
     "output_type": "execute_result"
    }
   ],
   "source": [
    "a_2xN = a.reshape(2, -1)\n",
    "a_3xN = a.reshape(3, -1)\n",
    "a_4xN = a.reshape(4, -1)\n",
    "a_Nx2 = a.reshape(-1, 2)\n",
    "a_Nx1 = a.reshape(-1, 1)\n",
    "a_2xN, a_3xN, a_4xN, a_Nx2, a_Nx1"
   ]
  },
  {
   "cell_type": "markdown",
   "id": "8e6dcda0",
   "metadata": {},
   "source": [
    "4. Можно ли массив Numpy, состоящий из одного столбца и 12 строк, назвать одномерным?"
   ]
  },
  {
   "cell_type": "markdown",
   "id": "6faea3cf",
   "metadata": {},
   "source": [
    "*Нельзя.  \n",
    "В одномерном массиве прямой доступ к элементу осуществляется с помощью одного индекса.  \n",
    "При обращении к массиву Numpy из 1 столбца и 12 строк с помощью одного индекса возвращается не сам элемент, а массив из одного элемента.*"
   ]
  },
  {
   "cell_type": "code",
   "execution_count": 5,
   "id": "ef94acc0",
   "metadata": {},
   "outputs": [
    {
     "name": "stdout",
     "output_type": "stream",
     "text": [
      "12\t<class 'numpy.int32'>\n",
      "[12]\t<class 'numpy.ndarray'>\n"
     ]
    }
   ],
   "source": [
    "print(f\"{a[0]}\\t{type(a[0])}\\n{a_12x1[0]}\\t{type(a_12x1[0])}\")"
   ]
  },
  {
   "cell_type": "markdown",
   "id": "6d781a53",
   "metadata": {},
   "source": [
    "5. Создать массив из 3 строк и 4 столбцов, состоящий из случайных чисел с плавающей запятой из нормального распределения со средним, равным 0 и среднеквадратичным отклонением, равным 1.0. Получить из этого массива одномерный массив с таким же атрибутом size, как и исходный массив."
   ]
  },
  {
   "cell_type": "code",
   "execution_count": 6,
   "id": "59bf600f",
   "metadata": {},
   "outputs": [
    {
     "data": {
      "text/plain": [
       "(array([[ 2.01496541, -0.07885585, -1.01236036, -1.17100712],\n",
       "        [ 0.34090062,  1.55097829, -0.4772052 , -0.75692118],\n",
       "        [ 0.97933693,  1.37454227, -0.57092814,  0.72035785]]),\n",
       " array([ 2.01496541, -0.07885585, -1.01236036, -1.17100712,  0.34090062,\n",
       "         1.55097829, -0.4772052 , -0.75692118,  0.97933693,  1.37454227,\n",
       "        -0.57092814,  0.72035785]))"
      ]
     },
     "execution_count": 6,
     "metadata": {},
     "output_type": "execute_result"
    }
   ],
   "source": [
    "rnd_3x4 = np.random.randn(3, 4)\n",
    "rnd_new = rnd_3x4.flatten()\n",
    "assert(rnd_3x4.size == rnd_new.size)\n",
    "rnd_3x4, rnd_new"
   ]
  },
  {
   "cell_type": "markdown",
   "id": "9dac4fd8",
   "metadata": {},
   "source": [
    "6. Создать массив a, состоящий из целых чисел, убывающих от 20 до 0 невключительно с интервалом 2."
   ]
  },
  {
   "cell_type": "code",
   "execution_count": 7,
   "id": "13af81a0",
   "metadata": {},
   "outputs": [
    {
     "data": {
      "text/plain": [
       "array([20, 18, 16, 14, 12, 10,  8,  6,  4,  2])"
      ]
     },
     "execution_count": 7,
     "metadata": {},
     "output_type": "execute_result"
    }
   ],
   "source": [
    "a = np.arange(20, 0, -2)\n",
    "a"
   ]
  },
  {
   "cell_type": "markdown",
   "id": "83ccc85d",
   "metadata": {},
   "source": [
    "7. Создать массив b, состоящий из 1 строки и 10 столбцов: целых чисел, убывающих от 20 до 1 невключительно с интервалом 2."
   ]
  },
  {
   "cell_type": "code",
   "execution_count": 8,
   "id": "5f91d86c",
   "metadata": {},
   "outputs": [
    {
     "data": {
      "text/plain": [
       "array([[20, 18, 16, 14, 12, 10,  8,  6,  4,  2]])"
      ]
     },
     "execution_count": 8,
     "metadata": {},
     "output_type": "execute_result"
    }
   ],
   "source": [
    "b = np.arange(20, 1, -2).reshape(1, 10)\n",
    "b"
   ]
  },
  {
   "cell_type": "markdown",
   "id": "206ea7f0",
   "metadata": {},
   "source": [
    "В чём разница между массивами a и b?  \n",
    "*Массив a - одномерный, а массив b - двумерный:*"
   ]
  },
  {
   "cell_type": "code",
   "execution_count": 9,
   "id": "9794a1f0",
   "metadata": {},
   "outputs": [
    {
     "data": {
      "text/plain": [
       "((10,), (1, 10))"
      ]
     },
     "execution_count": 9,
     "metadata": {},
     "output_type": "execute_result"
    }
   ],
   "source": [
    "a.shape, b.shape"
   ]
  },
  {
   "cell_type": "markdown",
   "id": "7feee41c",
   "metadata": {},
   "source": [
    "8. Вертикально соединить массивы a и b. a - двумерный массив из нулей, число строк которого больше 1 и на 1 меньше, чем число строк двумерного массива b, состоящего из единиц. Итоговый массив v должен иметь атрибут size, равный 10."
   ]
  },
  {
   "cell_type": "code",
   "execution_count": 10,
   "id": "ec4a771c",
   "metadata": {},
   "outputs": [
    {
     "data": {
      "text/plain": [
       "(array([[0., 0.],\n",
       "        [0., 0.]]),\n",
       " array([[1., 1.],\n",
       "        [1., 1.],\n",
       "        [1., 1.]]),\n",
       " array([[0., 0.],\n",
       "        [0., 0.],\n",
       "        [1., 1.],\n",
       "        [1., 1.],\n",
       "        [1., 1.]]))"
      ]
     },
     "execution_count": 10,
     "metadata": {},
     "output_type": "execute_result"
    }
   ],
   "source": [
    "arows = 2\n",
    "brows = 3\n",
    "cols = 2\n",
    "assert((arows > 1) & (arows == (brows - 1)))\n",
    "a = np.zeros((arows, cols))\n",
    "b = np.ones((brows, cols))\n",
    "v = np.vstack((a, b))\n",
    "assert(v.size == 10)\n",
    "a, b, v"
   ]
  },
  {
   "cell_type": "markdown",
   "id": "27515178",
   "metadata": {},
   "source": [
    "9. Создать одномерный массив а, состоящий из последовательности целых чисел от 0 до 12. Поменять форму этого массива, чтобы получилась матрица A (двумерный массив Numpy), состоящая из 4 строк и 3 столбцов. Получить матрицу At путем транспонирования матрицы A. Получить матрицу B, умножив матрицу A на матрицу At с помощью матричного умножения."
   ]
  },
  {
   "cell_type": "code",
   "execution_count": 11,
   "id": "c12df2e0",
   "metadata": {},
   "outputs": [
    {
     "data": {
      "text/plain": [
       "(array([ 0,  1,  2,  3,  4,  5,  6,  7,  8,  9, 10, 11]),\n",
       " array([[ 0,  1,  2],\n",
       "        [ 3,  4,  5],\n",
       "        [ 6,  7,  8],\n",
       "        [ 9, 10, 11]]),\n",
       " array([[ 0,  3,  6,  9],\n",
       "        [ 1,  4,  7, 10],\n",
       "        [ 2,  5,  8, 11]]),\n",
       " array([[  5,  14,  23,  32],\n",
       "        [ 14,  50,  86, 122],\n",
       "        [ 23,  86, 149, 212],\n",
       "        [ 32, 122, 212, 302]]))"
      ]
     },
     "execution_count": 11,
     "metadata": {},
     "output_type": "execute_result"
    }
   ],
   "source": [
    "a = np.arange(0, 12)\n",
    "A = a.reshape(4, 3)\n",
    "At = A.T\n",
    "B = A @ At\n",
    "a, A, At, B"
   ]
  },
  {
   "cell_type": "markdown",
   "id": "b24a43db",
   "metadata": {},
   "source": [
    "Какой размер имеет матрица B?"
   ]
  },
  {
   "cell_type": "code",
   "execution_count": 12,
   "id": "5bf0915d",
   "metadata": {},
   "outputs": [
    {
     "data": {
      "text/plain": [
       "((4, 4), 16)"
      ]
     },
     "execution_count": 12,
     "metadata": {},
     "output_type": "execute_result"
    }
   ],
   "source": [
    "B.shape, B.size"
   ]
  },
  {
   "cell_type": "markdown",
   "id": "016e5a4f",
   "metadata": {},
   "source": [
    "Получится ли вычислить обратную матрицу для матрицы B и почему?"
   ]
  },
  {
   "cell_type": "code",
   "execution_count": 13,
   "id": "88b7c7ec",
   "metadata": {},
   "outputs": [
    {
     "name": "stdout",
     "output_type": "stream",
     "text": [
      "Матрица В квадратная и определитель матрицы B равен нулю => обратная матрица для матрицы B не существует\n"
     ]
    }
   ],
   "source": [
    "cnd1 = (B.shape[0] == B.shape[1])\n",
    "cnd2 = (la.det(B) != 0)\n",
    "print(\"Матрица В {} и определитель матрицы B {} нулю => обратная матрица для матрицы B {}\".format(\n",
    "    \"квадратная\" if cnd1 else \"неквадратная\",\n",
    "    \"не равен\" if cnd2 else \"равен\",\n",
    "    \"существует\" if (cnd1 and cnd2) else \"не существует\"))"
   ]
  },
  {
   "cell_type": "markdown",
   "id": "1abdb626",
   "metadata": {},
   "source": [
    "10. Инициализируйте генератор случайных числе с помощью объекта seed, равного 42."
   ]
  },
  {
   "cell_type": "code",
   "execution_count": 14,
   "id": "84eba592",
   "metadata": {},
   "outputs": [],
   "source": [
    "np.random.seed(42)"
   ]
  },
  {
   "cell_type": "markdown",
   "id": "0c4d6d2c",
   "metadata": {},
   "source": [
    "11. Создайте одномерный массив c, составленный из последовательности 16-ти случайных равномерно распределённых целых чисел от 0 до 16 невключительно."
   ]
  },
  {
   "cell_type": "code",
   "execution_count": 15,
   "id": "d52d3f8d",
   "metadata": {},
   "outputs": [
    {
     "data": {
      "text/plain": [
       "array([ 6,  3, 12, 14, 10,  7, 12,  4,  6,  9,  2,  6, 10, 10,  7,  4])"
      ]
     },
     "execution_count": 15,
     "metadata": {},
     "output_type": "execute_result"
    }
   ],
   "source": [
    "c = np.random.randint(0, 16, 16)\n",
    "c"
   ]
  },
  {
   "cell_type": "markdown",
   "id": "3e712c11",
   "metadata": {},
   "source": [
    "12. Поменяйте его форму так, чтобы получилась квадратная матрица C. Получите матрицу D, поэлементно прибавив матрицу B из предыдущего вопроса к матрице C, умноженной на 10. Вычислите определитель, ранг и обратную матрицу D_inv для D."
   ]
  },
  {
   "cell_type": "code",
   "execution_count": 16,
   "id": "dbb32476",
   "metadata": {},
   "outputs": [
    {
     "data": {
      "text/plain": [
       "(array([[ 6,  3, 12, 14],\n",
       "        [10,  7, 12,  4],\n",
       "        [ 6,  9,  2,  6],\n",
       "        [10, 10,  7,  4]]),\n",
       " array([[ 65,  44, 143, 172],\n",
       "        [114, 120, 206, 162],\n",
       "        [ 83, 176, 169, 272],\n",
       "        [132, 222, 282, 342]]),\n",
       " -28511999.999999944,\n",
       " 4,\n",
       " array([[ 0.00935396,  0.04486532,  0.05897517, -0.07286055],\n",
       "        [-0.01503577, -0.00122896, -0.00192971,  0.00967873],\n",
       "        [-0.00356692, -0.01782828, -0.04152146,  0.04326178],\n",
       "        [ 0.00909091, -0.00181818,  0.01272727, -0.01090909]]))"
      ]
     },
     "execution_count": 16,
     "metadata": {},
     "output_type": "execute_result"
    }
   ],
   "source": [
    "N = int(np.sqrt(c.size))\n",
    "C = c.reshape(N, N)\n",
    "D = C*10 + B\n",
    "D_det = la.det(D)\n",
    "D_rank = la.matrix_rank(D)\n",
    "D_inv = la.inv(D)\n",
    "C, D, D_det, D_rank, D_inv"
   ]
  },
  {
   "cell_type": "markdown",
   "id": "16cd55c9",
   "metadata": {},
   "source": [
    "13. Приравняйте к нулю отрицательные числа в матрице D_inv, а положительные - к единице. Убедитесь, что в матрице D_inv остались только нули и единицы. С помощью функции numpy.where, используя матрицу D_inv в качестве маски, а матрицы B и C - в качестве источников данных, получите матрицу E размером 4x4.  Элементы матрицы E, для которых соответствующий элемент матрицы D_inv равен 1, должны быть равны соответствующему элементу матрицы B, а элементы матрицы E, для которых соответствующий элемент матрицы D_inv равен 0, должны быть равны соответствующему элементу матрицы C."
   ]
  },
  {
   "cell_type": "code",
   "execution_count": 17,
   "id": "e982b2a2",
   "metadata": {},
   "outputs": [
    {
     "data": {
      "text/plain": [
       "(array([[1., 1., 1., 0.],\n",
       "        [0., 0., 0., 1.],\n",
       "        [0., 0., 0., 1.],\n",
       "        [1., 0., 1., 0.]]),\n",
       " array([[  5,  14,  23,  14],\n",
       "        [ 10,   7,  12, 122],\n",
       "        [  6,   9,   2, 212],\n",
       "        [ 32,  10, 212,   4]]))"
      ]
     },
     "execution_count": 17,
     "metadata": {},
     "output_type": "execute_result"
    }
   ],
   "source": [
    "D_inv[D_inv < 0] = 0\n",
    "D_inv[D_inv > 0] = 1\n",
    "assert(np.all((D_inv < 0) == (D_inv > 1)))\n",
    "E = np.where(D_inv, B, C)\n",
    "D_inv, E"
   ]
  }
 ],
 "metadata": {
  "kernelspec": {
   "display_name": "Python 3 (ipykernel)",
   "language": "python",
   "name": "python3"
  },
  "language_info": {
   "codemirror_mode": {
    "name": "ipython",
    "version": 3
   },
   "file_extension": ".py",
   "mimetype": "text/x-python",
   "name": "python",
   "nbconvert_exporter": "python",
   "pygments_lexer": "ipython3",
   "version": "3.8.12"
  }
 },
 "nbformat": 4,
 "nbformat_minor": 5
}
