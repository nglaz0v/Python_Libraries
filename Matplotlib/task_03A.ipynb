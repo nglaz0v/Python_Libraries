{
 "cells": [
  {
   "cell_type": "markdown",
   "id": "9539de32",
   "metadata": {},
   "source": [
    "## Задание на повторение материала"
   ]
  },
  {
   "cell_type": "code",
   "execution_count": 1,
   "id": "e5fdb204",
   "metadata": {},
   "outputs": [],
   "source": [
    "import numpy as np"
   ]
  },
  {
   "cell_type": "markdown",
   "id": "d1a68ea8",
   "metadata": {},
   "source": [
    "1. Создать одномерный массив Numpy под названием a из 12 последовательных целых чисел чисел от 12 до 24 невключительно"
   ]
  },
  {
   "cell_type": "code",
   "execution_count": null,
   "id": "a3ac0416",
   "metadata": {},
   "outputs": [],
   "source": []
  },
  {
   "cell_type": "markdown",
   "id": "feed47ad",
   "metadata": {},
   "source": [
    "2. Создать 5 двумерных массивов разной формы из массива a. Не использовать в аргументах метода reshape число -1."
   ]
  },
  {
   "cell_type": "code",
   "execution_count": null,
   "id": "2ee95923",
   "metadata": {},
   "outputs": [],
   "source": []
  },
  {
   "cell_type": "markdown",
   "id": "23f6982b",
   "metadata": {},
   "source": [
    "3. Создать 5 двумерных массивов разной формы из массива a. Использовать в аргументах метода reshape число -1 (в трёх примерах - для обозначения числа столбцов, в двух - для строк)."
   ]
  },
  {
   "cell_type": "code",
   "execution_count": null,
   "id": "572cadbf",
   "metadata": {},
   "outputs": [],
   "source": []
  },
  {
   "cell_type": "markdown",
   "id": "8e6dcda0",
   "metadata": {},
   "source": [
    "4. Можно ли массив Numpy, состоящий из одного столбца и 12 строк, назвать одномерным?"
   ]
  },
  {
   "cell_type": "code",
   "execution_count": null,
   "id": "ef94acc0",
   "metadata": {},
   "outputs": [],
   "source": []
  },
  {
   "cell_type": "markdown",
   "id": "6d781a53",
   "metadata": {},
   "source": [
    "5. Создать массив из 3 строк и 4 столбцов, состоящий из случайных чисел с плавающей запятой из нормального распределения со средним, равным 0 и среднеквадратичным отклонением, равным 1.0. Получить из этого массива одномерный массив с таким же атрибутом size, как и исходный массив."
   ]
  },
  {
   "cell_type": "code",
   "execution_count": null,
   "id": "59bf600f",
   "metadata": {},
   "outputs": [],
   "source": []
  },
  {
   "cell_type": "markdown",
   "id": "9dac4fd8",
   "metadata": {},
   "source": [
    "6. Создать массив a, состоящий из целых чисел, убывающих от 20 до 0 невключительно с интервалом 2."
   ]
  },
  {
   "cell_type": "code",
   "execution_count": null,
   "id": "13af81a0",
   "metadata": {},
   "outputs": [],
   "source": []
  },
  {
   "cell_type": "markdown",
   "id": "83ccc85d",
   "metadata": {},
   "source": [
    "7. Создать массив b, состоящий из 1 строки и 10 столбцов: целых чисел, убывающих от 20 до 1 невключительно с интервалом 2. В чем разница между массивами a и b?"
   ]
  },
  {
   "cell_type": "code",
   "execution_count": null,
   "id": "5f91d86c",
   "metadata": {},
   "outputs": [],
   "source": []
  },
  {
   "cell_type": "markdown",
   "id": "7feee41c",
   "metadata": {},
   "source": [
    "8. Вертикально соединить массивы a и b. a - двумерный массив из нулей, число строк которого больше 1 и на 1 меньше, чем число строк двумерного массива b, состоящего из единиц. Итоговый массив v должен иметь атрибут size, равный 10."
   ]
  },
  {
   "cell_type": "code",
   "execution_count": null,
   "id": "ec4a771c",
   "metadata": {},
   "outputs": [],
   "source": []
  },
  {
   "cell_type": "markdown",
   "id": "27515178",
   "metadata": {},
   "source": [
    "9. Создать одномерный массив а, состоящий из последовательности целых чисел от 0 до 12. Поменять форму этого массива, чтобы получилась матрица A (двумерный массив Numpy), состоящая из 4 строк и 3 столбцов. Получить матрицу At путем транспонирования матрицы A. Получить матрицу B, умножив матрицу A на матрицу At с помощью матричного умножения. Какой размер имеет матрица B? Получится ли вычислить обратную матрицу для матрицы B и почему?"
   ]
  },
  {
   "cell_type": "code",
   "execution_count": null,
   "id": "c12df2e0",
   "metadata": {},
   "outputs": [],
   "source": []
  },
  {
   "cell_type": "markdown",
   "id": "1abdb626",
   "metadata": {},
   "source": [
    "10. Инициализируйте генератор случайных числе с помощью объекта seed, равного 42."
   ]
  },
  {
   "cell_type": "code",
   "execution_count": null,
   "id": "84eba592",
   "metadata": {},
   "outputs": [],
   "source": []
  },
  {
   "cell_type": "markdown",
   "id": "0c4d6d2c",
   "metadata": {},
   "source": [
    "11. Создайте одномерный массив c, составленный из последовательности 16-ти случайных равномерно распределённых целых чисел от 0 до 16 невключительно."
   ]
  },
  {
   "cell_type": "code",
   "execution_count": null,
   "id": "d52d3f8d",
   "metadata": {},
   "outputs": [],
   "source": []
  },
  {
   "cell_type": "markdown",
   "id": "3e712c11",
   "metadata": {},
   "source": [
    "12. Поменяйте его форму так, чтобы получилась квадратная матрица C. Получите матрицу D, поэлементно прибавив матрицу B из предыдущего вопроса к матрице C, умноженной на 10. Вычислите определитель, ранг и обратную матрицу D_inv для D."
   ]
  },
  {
   "cell_type": "code",
   "execution_count": null,
   "id": "dbb32476",
   "metadata": {},
   "outputs": [],
   "source": []
  },
  {
   "cell_type": "markdown",
   "id": "16cd55c9",
   "metadata": {},
   "source": [
    "13. Приравняйте к нулю отрицательные числа в матрице D_inv, а положительные - к единице. Убедитесь, что в матрице D_inv остались только нули и единицы. С помощью функции numpy.where, используя матрицу D_inv в качестве маски, а матрицы B и C - в качестве источников данных, получите матрицу E размером 4x4.  Элементы матрицы E, для которых соответствующий элемент матрицы D_inv равен 1, должны быть равны соответствующему элементу матрицы B, а элементы матрицы E, для которых соответствующий элемент матрицы D_inv равен 0, должны быть равны соответствующему элементу матрицы C."
   ]
  },
  {
   "cell_type": "code",
   "execution_count": null,
   "id": "e982b2a2",
   "metadata": {},
   "outputs": [],
   "source": []
  }
 ],
 "metadata": {
  "kernelspec": {
   "display_name": "Python 3 (ipykernel)",
   "language": "python",
   "name": "python3"
  },
  "language_info": {
   "codemirror_mode": {
    "name": "ipython",
    "version": 3
   },
   "file_extension": ".py",
   "mimetype": "text/x-python",
   "name": "python",
   "nbconvert_exporter": "python",
   "pygments_lexer": "ipython3",
   "version": "3.8.12"
  }
 },
 "nbformat": 4,
 "nbformat_minor": 5
}
