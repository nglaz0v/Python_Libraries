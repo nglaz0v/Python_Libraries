{
 "cells": [
  {
   "cell_type": "markdown",
   "id": "4f0b7dd3",
   "metadata": {},
   "source": [
    "# Вычисления с помощью Numpy"
   ]
  },
  {
   "cell_type": "code",
   "execution_count": 1,
   "id": "acbe6ec5",
   "metadata": {},
   "outputs": [],
   "source": [
    "import numpy as np"
   ]
  },
  {
   "cell_type": "markdown",
   "id": "763133b0",
   "metadata": {},
   "source": [
    "__1.__ Импортируйте библиотеку Numpy и дайте ей псевдоним np.  \n",
    "Создайте массив Numpy под названием a размером 5x2, то есть состоящий из 5 строк и 2 столбцов. Первый столбец должен содержать числа 1, 2, 3, 3, 1, а второй - числа 6, 8, 11, 10, 7. Будем считать, что каждый столбец - это признак, а строка - наблюдение. Затем найдите среднее значение по каждому признаку, используя метод mean массива Numpy. Результат запишите в массив mean_a, в нём должно быть 2 элемента."
   ]
  },
  {
   "cell_type": "code",
   "execution_count": 2,
   "id": "fc1d73f4",
   "metadata": {},
   "outputs": [
    {
     "name": "stdout",
     "output_type": "stream",
     "text": [
      "a=array([[ 1,  6],\n",
      "       [ 2,  8],\n",
      "       [ 3, 11],\n",
      "       [ 3, 10],\n",
      "       [ 1,  7]])\n",
      "mean_a=array([2. , 8.4])\n"
     ]
    }
   ],
   "source": [
    "a = np.transpose(np.array([[1, 2, 3, 3, 1], [6, 8, 11, 10, 7]]))\n",
    "print(f\"{a=}\")\n",
    "mean_a = a.mean(axis=0)\n",
    "print(f\"{mean_a=}\")\n",
    "assert(mean_a.shape[0] == 2)"
   ]
  },
  {
   "cell_type": "markdown",
   "id": "a8ff03e0",
   "metadata": {},
   "source": [
    "__2.__ Вычислите массив a_centered, отняв от значений массива “а” средние значения соответствующих признаков, содержащиеся в массиве mean_a. Вычисление должно производиться в одно действие. Получившийся массив должен иметь размер 5x2."
   ]
  },
  {
   "cell_type": "code",
   "execution_count": 3,
   "id": "0b351d5b",
   "metadata": {},
   "outputs": [
    {
     "name": "stdout",
     "output_type": "stream",
     "text": [
      "a_centered=array([[-1. , -2.4],\n",
      "       [ 0. , -0.4],\n",
      "       [ 1. ,  2.6],\n",
      "       [ 1. ,  1.6],\n",
      "       [-1. , -1.4]])\n"
     ]
    }
   ],
   "source": [
    "a_centered = a - mean_a\n",
    "print(f\"{a_centered=}\")\n",
    "assert(a_centered.shape == (5, 2))"
   ]
  },
  {
   "cell_type": "markdown",
   "id": "f3f421f2",
   "metadata": {},
   "source": [
    "__3.__ Найдите скалярное произведение столбцов массива a_centered. В результате должна получиться величина a_centered_sp. Затем поделите a_centered_sp на N-1, где N - число наблюдений."
   ]
  },
  {
   "cell_type": "code",
   "execution_count": 4,
   "id": "04dc1fc5",
   "metadata": {},
   "outputs": [
    {
     "name": "stdout",
     "output_type": "stream",
     "text": [
      "a_centered_sp=8.0\n",
      "cov=2.0\n"
     ]
    }
   ],
   "source": [
    "X = a_centered[:, 0]\n",
    "Y = a_centered[:, 1]\n",
    "a_centered_sp = X @ Y \n",
    "print(f\"{a_centered_sp=}\")\n",
    "N = a.shape[0]\n",
    "cov = a_centered_sp / (N-1)\n",
    "print(f\"{cov=}\")"
   ]
  },
  {
   "cell_type": "markdown",
   "id": "bd328112",
   "metadata": {},
   "source": [
    "__4**.__ Число, которое мы получили в конце задания 3 является ковариацией двух признаков, содержащихся в массиве “а”. В задании 4 мы делили сумму произведений центрированных признаков на N-1, а не на N, поэтому полученная нами величина является несмещённой оценкой ковариации.\n",
    "В этом задании проверьте получившееся число, вычислив ковариацию ещё одним способом - с помощью функции np.cov. В качестве аргумента m функция np.cov должна принимать транспонированный массив “a”. В получившейся ковариационной матрице (массив Numpy размером 2x2) искомое значение ковариации будет равно элементу в строке с индексом 0 и столбце с индексом 1."
   ]
  },
  {
   "cell_type": "code",
   "execution_count": 5,
   "id": "6eaed2e0",
   "metadata": {},
   "outputs": [
    {
     "name": "stdout",
     "output_type": "stream",
     "text": [
      "[[1.  2. ]\n",
      " [2.  4.3]]\n"
     ]
    }
   ],
   "source": [
    "np_cov = np.cov(a.T)\n",
    "print(f\"{np_cov}\")\n",
    "assert(np_cov[0, 1] == cov)"
   ]
  },
  {
   "cell_type": "code",
   "execution_count": null,
   "id": "cc34c37b",
   "metadata": {},
   "outputs": [],
   "source": []
  }
 ],
 "metadata": {
  "kernelspec": {
   "display_name": "Python 3 (ipykernel)",
   "language": "python",
   "name": "python3"
  },
  "language_info": {
   "codemirror_mode": {
    "name": "ipython",
    "version": 3
   },
   "file_extension": ".py",
   "mimetype": "text/x-python",
   "name": "python",
   "nbconvert_exporter": "python",
   "pygments_lexer": "ipython3",
   "version": "3.8.12"
  }
 },
 "nbformat": 4,
 "nbformat_minor": 5
}
