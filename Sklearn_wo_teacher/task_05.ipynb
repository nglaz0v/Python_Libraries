{
 "cells": [
  {
   "cell_type": "markdown",
   "id": "16fff771",
   "metadata": {},
   "source": [
    "# Обучение без учителя"
   ]
  },
  {
   "cell_type": "code",
   "execution_count": 1,
   "id": "9d58d20a",
   "metadata": {},
   "outputs": [],
   "source": [
    "import numpy as np\n",
    "import pandas as pd\n",
    "import matplotlib.pyplot as plt"
   ]
  },
  {
   "cell_type": "markdown",
   "id": "c0819eee",
   "metadata": {},
   "source": [
    "__1.__ Импортируйте библиотеки pandas, numpy и matplotlib.  \n",
    "Загрузите \"Boston House Prices dataset\" из встроенных наборов данных библиотеки sklearn.  \n",
    "Создайте датафреймы X и y из этих данных.  \n",
    "Разбейте эти датафреймы на тренировочные (X_train, y_train) и тестовые (X_test, y_test) с помощью функции train_test_split так, чтобы размер тестовой выборки составлял 20% от всех данных, при этом аргумент random_state должен быть равен 42.  \n",
    "Масштабируйте данные с помощью StandardScaler.  \n",
    "Постройте модель TSNE на тренировочный данных с параметрами: n_components=2, learning_rate=250, random_state=42.  \n",
    "Постройте диаграмму рассеяния на этих данных."
   ]
  },
  {
   "cell_type": "code",
   "execution_count": null,
   "id": "6ff1e8bb",
   "metadata": {},
   "outputs": [],
   "source": []
  },
  {
   "cell_type": "markdown",
   "id": "74bab166",
   "metadata": {},
   "source": [
    "__2.__ С помощью KMeans разбейте данные из тренировочного набора на 3 кластера, используйте все признаки из датафрейма X_train.  \n",
    "Параметр max_iter должен быть равен 100, random_state сделайте равным 42.  \n",
    "Постройте ещё раз диаграмму рассеяния на данных, полученных с помощью TSNE, и раскрасьте точки из разных кластеров разными цветами.  \n",
    "Вычислите средние значения price и CRIM в разных кластерах."
   ]
  },
  {
   "cell_type": "code",
   "execution_count": null,
   "id": "b340eae5",
   "metadata": {},
   "outputs": [],
   "source": []
  },
  {
   "cell_type": "markdown",
   "id": "1def83b3",
   "metadata": {},
   "source": [
    "__3.__ Примените модель KMeans, построенную в предыдущем задании, к данным из тестового набора.  \n",
    "Вычислите средние значения price и CRIM в разных кластерах на тестовых данных."
   ]
  },
  {
   "cell_type": "code",
   "execution_count": null,
   "id": "ae8998d5",
   "metadata": {},
   "outputs": [],
   "source": []
  }
 ],
 "metadata": {
  "kernelspec": {
   "display_name": "Python 3 (ipykernel)",
   "language": "python",
   "name": "python3"
  },
  "language_info": {
   "codemirror_mode": {
    "name": "ipython",
    "version": 3
   },
   "file_extension": ".py",
   "mimetype": "text/x-python",
   "name": "python",
   "nbconvert_exporter": "python",
   "pygments_lexer": "ipython3",
   "version": "3.8.12"
  }
 },
 "nbformat": 4,
 "nbformat_minor": 5
}
