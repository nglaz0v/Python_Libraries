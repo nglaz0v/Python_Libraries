{
 "cells": [
  {
   "cell_type": "markdown",
   "metadata": {
    "papermill": {
     "duration": 0.073856,
     "end_time": "2022-06-14T12:06:14.476797",
     "exception": false,
     "start_time": "2022-06-14T12:06:14.402941",
     "status": "completed"
    },
    "tags": []
   },
   "source": [
    "# Курсовая \"Модель предсказания цены на недвижимость\"\n",
    "\n",
    "Нужно будет оформить ноутбук с основными этапами:\n",
    "1. подготовка данных\n",
    "    * анализ\n",
    "    * визуализация\n",
    "    * обработка выбросов\n",
    "    * обработка пропусков\n",
    "    * генерация фичей\n",
    "2. обучение модели\n",
    "3. проверка качества модели\n",
    "\n",
    "Так же надо отправить файл с предсказаниями на kaggle и на private leaderboard получить больше 0.6\n",
    "\n",
    "Данные для курсового можно брать отсюда https://www.kaggle.com/t/b4c9382d4f934176af9fe860b1976528 (вкладка data)\n",
    "\n",
    "Метрика:\n",
    "R2 - коэффициент детерминации (sklearn.metrics.r2_score)\n",
    "\n",
    "Примечание:\n",
    "Все файлы csv должны содержать названия полей (header - то есть \"шапку\"),разделитель - запятая. В файлах не должны содержаться индексы из датафрейма.\n",
    "____________\n",
    "Рекомендации для файла с кодом (ipynb):\n",
    "1. Файл должен содержать заголовки и комментарии\n",
    "2. Повторяющиеся операции лучше оформлять в виде функций\n",
    "3. По возможности добавлять графики, описывающие данные (около 3-5)\n",
    "4. Добавлять только лучшую модель, то есть не включать в код все варианты решения проекта\n",
    "5. Скрипт проекта должен отрабатывать от начала и до конца (от загрузки данных до выгрузки предсказаний)\n",
    "6. Весь проект должен быть в одном скрипте (файл ipynb).\n",
    "7. При использовании статистик (среднее, медиана и т.д.) в качестве признаков, лучше считать их на трейне, и потом на валидационных и тестовых данных не считать статистики заново, а брать их с трейна.\n",
    "8. Проект должен полностью отрабатывать за разумное время (не больше 10 минут), поэтому в финальный вариант лучше не включать GridSearch с перебором большого количества сочетаний параметров. "
   ]
  },
  {
   "cell_type": "markdown",
   "metadata": {
    "papermill": {
     "duration": 0.071115,
     "end_time": "2022-06-14T12:06:14.620003",
     "exception": false,
     "start_time": "2022-06-14T12:06:14.548888",
     "status": "completed"
    },
    "tags": []
   },
   "source": [
    "**Содержание**\n",
    "* [0. Загрузка данных](#load)\n",
    "* [1. Разведочный анализ данных](#eda)\n",
    "* [2. Обработка выбросов](#outlier)\n",
    "* [3. Обработка пропусков](#nan)\n",
    "* [4. Построение новых признаков](#feature)\n",
    "* [5. Отбор признаков](#feature_selection)\n",
    "* [6. Разбиение на train и test](#split)\n",
    "* [7. Построение модели](#modeling)\n",
    "* [8. Прогнозирование на тестовом датасете](#prediction)"
   ]
  },
  {
   "cell_type": "markdown",
   "metadata": {
    "papermill": {
     "duration": 0.073213,
     "end_time": "2022-06-14T12:06:14.764014",
     "exception": false,
     "start_time": "2022-06-14T12:06:14.690801",
     "status": "completed"
    },
    "tags": []
   },
   "source": [
    "**Подключение библиотек и скриптов**"
   ]
  },
  {
   "cell_type": "code",
   "execution_count": 1,
   "metadata": {
    "execution": {
     "iopub.execute_input": "2022-06-14T12:06:14.914584Z",
     "iopub.status.busy": "2022-06-14T12:06:14.913868Z",
     "iopub.status.idle": "2022-06-14T12:06:14.918634Z",
     "shell.execute_reply": "2022-06-14T12:06:14.919486Z",
     "shell.execute_reply.started": "2022-06-14T11:23:31.231672Z"
    },
    "papermill": {
     "duration": 0.084205,
     "end_time": "2022-06-14T12:06:14.919720",
     "exception": false,
     "start_time": "2022-06-14T12:06:14.835515",
     "status": "completed"
    },
    "tags": []
   },
   "outputs": [
    {
     "name": "stdout",
     "output_type": "stream",
     "text": [
      "/kaggle/input/real-estate-price-prediction-moscow/sample_submission.csv\n",
      "/kaggle/input/real-estate-price-prediction-moscow/train.csv\n",
      "/kaggle/input/real-estate-price-prediction-moscow/test.csv\n"
     ]
    }
   ],
   "source": [
    "# This Python 3 environment comes with many helpful analytics libraries installed\n",
    "# It is defined by the kaggle/python docker image: https://github.com/kaggle/docker-python\n",
    "# For example, here's several helpful packages to load in \n",
    "\n",
    "import numpy as np # linear algebra\n",
    "import pandas as pd # data processing, CSV file I/O (e.g. pd.read_csv)\n",
    "\n",
    "# Input data files are available in the \"../input/\" directory.\n",
    "# For example, running this (by clicking run or pressing Shift+Enter) will list all files under the input directory\n",
    "\n",
    "import os\n",
    "for dirname, _, filenames in os.walk('/kaggle/input'):\n",
    "    for filename in filenames:\n",
    "        print(os.path.join(dirname, filename))\n",
    "\n",
    "# Any results you write to the current directory are saved as output."
   ]
  },
  {
   "cell_type": "code",
   "execution_count": 2,
   "metadata": {
    "execution": {
     "iopub.execute_input": "2022-06-14T12:06:15.070110Z",
     "iopub.status.busy": "2022-06-14T12:06:15.069461Z",
     "iopub.status.idle": "2022-06-14T12:06:16.406793Z",
     "shell.execute_reply": "2022-06-14T12:06:16.405883Z",
     "shell.execute_reply.started": "2022-06-14T11:23:31.390268Z"
    },
    "papermill": {
     "duration": 1.412958,
     "end_time": "2022-06-14T12:06:16.406966",
     "exception": false,
     "start_time": "2022-06-14T12:06:14.994008",
     "status": "completed"
    },
    "tags": []
   },
   "outputs": [],
   "source": [
    "import random\n",
    "\n",
    "from sklearn.model_selection import train_test_split, cross_val_score\n",
    "from sklearn.preprocessing import StandardScaler, MinMaxScaler, RobustScaler\n",
    "from sklearn.ensemble import RandomForestRegressor, GradientBoostingRegressor\n",
    "from sklearn.metrics import mean_squared_error as mse, r2_score as r2\n",
    "from sklearn.linear_model import LinearRegression, Lasso, Ridge, ElasticNet\n",
    "from sklearn.decomposition import PCA\n",
    "from sklearn.model_selection import KFold, GridSearchCV\n",
    "\n",
    "from datetime import datetime\n",
    "\n",
    "import matplotlib\n",
    "import matplotlib.pyplot as plt\n",
    "import seaborn as sns\n",
    "%matplotlib inline"
   ]
  },
  {
   "cell_type": "code",
   "execution_count": 3,
   "metadata": {
    "execution": {
     "iopub.execute_input": "2022-06-14T12:06:16.563385Z",
     "iopub.status.busy": "2022-06-14T12:06:16.562715Z",
     "iopub.status.idle": "2022-06-14T12:06:16.566989Z",
     "shell.execute_reply": "2022-06-14T12:06:16.567568Z",
     "shell.execute_reply.started": "2022-06-14T11:23:31.520622Z"
    },
    "papermill": {
     "duration": 0.080053,
     "end_time": "2022-06-14T12:06:16.567723",
     "exception": false,
     "start_time": "2022-06-14T12:06:16.487670",
     "status": "completed"
    },
    "tags": []
   },
   "outputs": [],
   "source": [
    "import warnings\n",
    "warnings.filterwarnings('ignore')"
   ]
  },
  {
   "cell_type": "code",
   "execution_count": 4,
   "metadata": {
    "execution": {
     "iopub.execute_input": "2022-06-14T12:06:16.716910Z",
     "iopub.status.busy": "2022-06-14T12:06:16.716253Z",
     "iopub.status.idle": "2022-06-14T12:06:16.718471Z",
     "shell.execute_reply": "2022-06-14T12:06:16.719019Z",
     "shell.execute_reply.started": "2022-06-14T11:23:31.593767Z"
    },
    "papermill": {
     "duration": 0.079656,
     "end_time": "2022-06-14T12:06:16.719192",
     "exception": false,
     "start_time": "2022-06-14T12:06:16.639536",
     "status": "completed"
    },
    "tags": []
   },
   "outputs": [],
   "source": [
    "random.seed(42)"
   ]
  },
  {
   "cell_type": "code",
   "execution_count": 5,
   "metadata": {
    "execution": {
     "iopub.execute_input": "2022-06-14T12:06:16.869331Z",
     "iopub.status.busy": "2022-06-14T12:06:16.868655Z",
     "iopub.status.idle": "2022-06-14T12:06:16.878378Z",
     "shell.execute_reply": "2022-06-14T12:06:16.877820Z",
     "shell.execute_reply.started": "2022-06-14T11:23:31.655578Z"
    },
    "papermill": {
     "duration": 0.085725,
     "end_time": "2022-06-14T12:06:16.878506",
     "exception": false,
     "start_time": "2022-06-14T12:06:16.792781",
     "status": "completed"
    },
    "tags": []
   },
   "outputs": [],
   "source": [
    "def evaluate_preds(train_true_values, train_pred_values, test_true_values, test_pred_values):\n",
    "    print(\"Train R2:\\t\" + str(round(r2(train_true_values, train_pred_values), 3)))\n",
    "    print(\"Test R2:\\t\" + str(round(r2(test_true_values, test_pred_values), 3)))\n",
    "    \n",
    "    plt.figure(figsize=(18,10))\n",
    "    \n",
    "    plt.subplot(121)\n",
    "    sns.scatterplot(x=train_pred_values, y=train_true_values)\n",
    "    plt.xlabel('Predicted values')\n",
    "    plt.ylabel('True values')\n",
    "    plt.title('Train sample prediction')\n",
    "    \n",
    "    plt.subplot(122)\n",
    "    sns.scatterplot(x=test_pred_values, y=test_true_values)\n",
    "    plt.xlabel('Predicted values')\n",
    "    plt.ylabel('True values')\n",
    "    plt.title('Test sample prediction')\n",
    "\n",
    "    plt.show()"
   ]
  },
  {
   "cell_type": "markdown",
   "metadata": {
    "papermill": {
     "duration": 0.073599,
     "end_time": "2022-06-14T12:06:17.024319",
     "exception": false,
     "start_time": "2022-06-14T12:06:16.950720",
     "status": "completed"
    },
    "tags": []
   },
   "source": [
    "**Пути к директориям и файлам**"
   ]
  },
  {
   "cell_type": "code",
   "execution_count": 6,
   "metadata": {
    "execution": {
     "iopub.execute_input": "2022-06-14T12:06:17.175300Z",
     "iopub.status.busy": "2022-06-14T12:06:17.174604Z",
     "iopub.status.idle": "2022-06-14T12:06:17.177600Z",
     "shell.execute_reply": "2022-06-14T12:06:17.176952Z",
     "shell.execute_reply.started": "2022-06-14T11:23:31.761740Z"
    },
    "papermill": {
     "duration": 0.080628,
     "end_time": "2022-06-14T12:06:17.177711",
     "exception": false,
     "start_time": "2022-06-14T12:06:17.097083",
     "status": "completed"
    },
    "tags": []
   },
   "outputs": [],
   "source": [
    "# Input\n",
    "SAMPLE_DATASET_PATH = '/kaggle/input/real-estate-price-prediction-moscow/sample_submission.csv'\n",
    "TRAIN_DATASET_PATH = '/kaggle/input/real-estate-price-prediction-moscow/train.csv'\n",
    "TEST_DATASET_PATH = '/kaggle/input/real-estate-price-prediction-moscow/test.csv'\n",
    "\n",
    "# Output\n",
    "RESULT = 'rf_submit.csv'"
   ]
  },
  {
   "cell_type": "markdown",
   "metadata": {
    "papermill": {
     "duration": 0.073191,
     "end_time": "2022-06-14T12:06:17.323838",
     "exception": false,
     "start_time": "2022-06-14T12:06:17.250647",
     "status": "completed"
    },
    "tags": []
   },
   "source": [
    "### Загрузка данных <a class='anchor' id='load'>"
   ]
  },
  {
   "cell_type": "markdown",
   "metadata": {
    "papermill": {
     "duration": 0.071759,
     "end_time": "2022-06-14T12:06:17.469443",
     "exception": false,
     "start_time": "2022-06-14T12:06:17.397684",
     "status": "completed"
    },
    "tags": []
   },
   "source": [
    "**Описание датасета**\n",
    "\n",
    "* **Id** - идентификационный номер квартиры\n",
    "* **DistrictId** - идентификационный номер района\n",
    "* **Rooms** - количество комнат\n",
    "* **Square** - площадь\n",
    "* **LifeSquare** - жилая площадь\n",
    "* **KitchenSquare** - площадь кухни\n",
    "* **Floor** - этаж\n",
    "* **HouseFloor** - количество этажей в доме\n",
    "* **HouseYear** - год постройки дома\n",
    "* **Ecology_1, Ecology_2, Ecology_3** - экологические показатели местности\n",
    "* **Social_1, Social_2, Social_3** - социальные показатели местности\n",
    "* **Healthcare_1, Helthcare_2** - показатели местности, связанные с охраной здоровья\n",
    "* **Shops_1, Shops_2** - показатели, связанные с наличием магазинов, торговых центров\n",
    "* **Price** - цена квартиры"
   ]
  },
  {
   "cell_type": "code",
   "execution_count": 7,
   "metadata": {
    "execution": {
     "iopub.execute_input": "2022-06-14T12:06:17.616518Z",
     "iopub.status.busy": "2022-06-14T12:06:17.615831Z",
     "iopub.status.idle": "2022-06-14T12:06:17.699496Z",
     "shell.execute_reply": "2022-06-14T12:06:17.698719Z",
     "shell.execute_reply.started": "2022-06-14T11:23:31.878615Z"
    },
    "papermill": {
     "duration": 0.158728,
     "end_time": "2022-06-14T12:06:17.699633",
     "exception": false,
     "start_time": "2022-06-14T12:06:17.540905",
     "status": "completed"
    },
    "tags": []
   },
   "outputs": [],
   "source": [
    "train_df = pd.read_csv(TRAIN_DATASET_PATH)\n",
    "test_df = pd.read_csv(TEST_DATASET_PATH)"
   ]
  },
  {
   "cell_type": "code",
   "execution_count": 8,
   "metadata": {
    "execution": {
     "iopub.execute_input": "2022-06-14T12:06:17.850420Z",
     "iopub.status.busy": "2022-06-14T12:06:17.849399Z",
     "iopub.status.idle": "2022-06-14T12:06:17.854214Z",
     "shell.execute_reply": "2022-06-14T12:06:17.854745Z",
     "shell.execute_reply.started": "2022-06-14T11:23:32.012749Z"
    },
    "papermill": {
     "duration": 0.081527,
     "end_time": "2022-06-14T12:06:17.854894",
     "exception": false,
     "start_time": "2022-06-14T12:06:17.773367",
     "status": "completed"
    },
    "tags": []
   },
   "outputs": [],
   "source": [
    "assert(train_df.shape[1] - 1 == test_df.shape[1])"
   ]
  },
  {
   "cell_type": "code",
   "execution_count": 9,
   "metadata": {
    "execution": {
     "iopub.execute_input": "2022-06-14T12:06:18.002444Z",
     "iopub.status.busy": "2022-06-14T12:06:18.001332Z",
     "iopub.status.idle": "2022-06-14T12:06:18.035238Z",
     "shell.execute_reply": "2022-06-14T12:06:18.035887Z",
     "shell.execute_reply.started": "2022-06-14T11:23:32.126545Z"
    },
    "papermill": {
     "duration": 0.109693,
     "end_time": "2022-06-14T12:06:18.036042",
     "exception": false,
     "start_time": "2022-06-14T12:06:17.926349",
     "status": "completed"
    },
    "tags": []
   },
   "outputs": [
    {
     "data": {
      "text/html": [
       "<div>\n",
       "<style scoped>\n",
       "    .dataframe tbody tr th:only-of-type {\n",
       "        vertical-align: middle;\n",
       "    }\n",
       "\n",
       "    .dataframe tbody tr th {\n",
       "        vertical-align: top;\n",
       "    }\n",
       "\n",
       "    .dataframe thead th {\n",
       "        text-align: right;\n",
       "    }\n",
       "</style>\n",
       "<table border=\"1\" class=\"dataframe\">\n",
       "  <thead>\n",
       "    <tr style=\"text-align: right;\">\n",
       "      <th></th>\n",
       "      <th>Id</th>\n",
       "      <th>DistrictId</th>\n",
       "      <th>Rooms</th>\n",
       "      <th>Square</th>\n",
       "      <th>LifeSquare</th>\n",
       "      <th>KitchenSquare</th>\n",
       "      <th>Floor</th>\n",
       "      <th>HouseFloor</th>\n",
       "      <th>HouseYear</th>\n",
       "      <th>Ecology_1</th>\n",
       "      <th>Ecology_2</th>\n",
       "      <th>Ecology_3</th>\n",
       "      <th>Social_1</th>\n",
       "      <th>Social_2</th>\n",
       "      <th>Social_3</th>\n",
       "      <th>Healthcare_1</th>\n",
       "      <th>Helthcare_2</th>\n",
       "      <th>Shops_1</th>\n",
       "      <th>Shops_2</th>\n",
       "      <th>Price</th>\n",
       "    </tr>\n",
       "  </thead>\n",
       "  <tbody>\n",
       "    <tr>\n",
       "      <th>0</th>\n",
       "      <td>11809</td>\n",
       "      <td>27</td>\n",
       "      <td>3.0</td>\n",
       "      <td>115.027311</td>\n",
       "      <td>NaN</td>\n",
       "      <td>10.0</td>\n",
       "      <td>4</td>\n",
       "      <td>10.0</td>\n",
       "      <td>2014</td>\n",
       "      <td>0.075424</td>\n",
       "      <td>B</td>\n",
       "      <td>B</td>\n",
       "      <td>11</td>\n",
       "      <td>3097</td>\n",
       "      <td>0</td>\n",
       "      <td>NaN</td>\n",
       "      <td>0</td>\n",
       "      <td>0</td>\n",
       "      <td>B</td>\n",
       "      <td>305018.871089</td>\n",
       "    </tr>\n",
       "    <tr>\n",
       "      <th>1</th>\n",
       "      <td>3013</td>\n",
       "      <td>22</td>\n",
       "      <td>1.0</td>\n",
       "      <td>39.832524</td>\n",
       "      <td>23.169223</td>\n",
       "      <td>8.0</td>\n",
       "      <td>7</td>\n",
       "      <td>8.0</td>\n",
       "      <td>1966</td>\n",
       "      <td>0.118537</td>\n",
       "      <td>B</td>\n",
       "      <td>B</td>\n",
       "      <td>30</td>\n",
       "      <td>6207</td>\n",
       "      <td>1</td>\n",
       "      <td>1183.0</td>\n",
       "      <td>1</td>\n",
       "      <td>0</td>\n",
       "      <td>B</td>\n",
       "      <td>177734.553407</td>\n",
       "    </tr>\n",
       "    <tr>\n",
       "      <th>2</th>\n",
       "      <td>8215</td>\n",
       "      <td>1</td>\n",
       "      <td>3.0</td>\n",
       "      <td>78.342215</td>\n",
       "      <td>47.671972</td>\n",
       "      <td>10.0</td>\n",
       "      <td>2</td>\n",
       "      <td>17.0</td>\n",
       "      <td>1988</td>\n",
       "      <td>0.025609</td>\n",
       "      <td>B</td>\n",
       "      <td>B</td>\n",
       "      <td>33</td>\n",
       "      <td>5261</td>\n",
       "      <td>0</td>\n",
       "      <td>240.0</td>\n",
       "      <td>3</td>\n",
       "      <td>1</td>\n",
       "      <td>B</td>\n",
       "      <td>282078.720850</td>\n",
       "    </tr>\n",
       "    <tr>\n",
       "      <th>3</th>\n",
       "      <td>2352</td>\n",
       "      <td>1</td>\n",
       "      <td>1.0</td>\n",
       "      <td>40.409907</td>\n",
       "      <td>NaN</td>\n",
       "      <td>1.0</td>\n",
       "      <td>10</td>\n",
       "      <td>22.0</td>\n",
       "      <td>1977</td>\n",
       "      <td>0.007122</td>\n",
       "      <td>B</td>\n",
       "      <td>B</td>\n",
       "      <td>1</td>\n",
       "      <td>264</td>\n",
       "      <td>0</td>\n",
       "      <td>NaN</td>\n",
       "      <td>0</td>\n",
       "      <td>1</td>\n",
       "      <td>B</td>\n",
       "      <td>168106.007630</td>\n",
       "    </tr>\n",
       "    <tr>\n",
       "      <th>4</th>\n",
       "      <td>13866</td>\n",
       "      <td>94</td>\n",
       "      <td>2.0</td>\n",
       "      <td>64.285067</td>\n",
       "      <td>38.562517</td>\n",
       "      <td>9.0</td>\n",
       "      <td>16</td>\n",
       "      <td>16.0</td>\n",
       "      <td>1972</td>\n",
       "      <td>0.282798</td>\n",
       "      <td>B</td>\n",
       "      <td>B</td>\n",
       "      <td>33</td>\n",
       "      <td>8667</td>\n",
       "      <td>2</td>\n",
       "      <td>NaN</td>\n",
       "      <td>0</td>\n",
       "      <td>6</td>\n",
       "      <td>B</td>\n",
       "      <td>343995.102962</td>\n",
       "    </tr>\n",
       "  </tbody>\n",
       "</table>\n",
       "</div>"
      ],
      "text/plain": [
       "      Id  DistrictId  Rooms      Square  LifeSquare  KitchenSquare  Floor  \\\n",
       "0  11809          27    3.0  115.027311         NaN           10.0      4   \n",
       "1   3013          22    1.0   39.832524   23.169223            8.0      7   \n",
       "2   8215           1    3.0   78.342215   47.671972           10.0      2   \n",
       "3   2352           1    1.0   40.409907         NaN            1.0     10   \n",
       "4  13866          94    2.0   64.285067   38.562517            9.0     16   \n",
       "\n",
       "   HouseFloor  HouseYear  Ecology_1 Ecology_2 Ecology_3  Social_1  Social_2  \\\n",
       "0        10.0       2014   0.075424         B         B        11      3097   \n",
       "1         8.0       1966   0.118537         B         B        30      6207   \n",
       "2        17.0       1988   0.025609         B         B        33      5261   \n",
       "3        22.0       1977   0.007122         B         B         1       264   \n",
       "4        16.0       1972   0.282798         B         B        33      8667   \n",
       "\n",
       "   Social_3  Healthcare_1  Helthcare_2  Shops_1 Shops_2          Price  \n",
       "0         0           NaN            0        0       B  305018.871089  \n",
       "1         1        1183.0            1        0       B  177734.553407  \n",
       "2         0         240.0            3        1       B  282078.720850  \n",
       "3         0           NaN            0        1       B  168106.007630  \n",
       "4         2           NaN            0        6       B  343995.102962  "
      ]
     },
     "execution_count": 9,
     "metadata": {},
     "output_type": "execute_result"
    }
   ],
   "source": [
    "train_df.head()"
   ]
  },
  {
   "cell_type": "markdown",
   "metadata": {
    "papermill": {
     "duration": 0.077452,
     "end_time": "2022-06-14T12:06:18.195787",
     "exception": false,
     "start_time": "2022-06-14T12:06:18.118335",
     "status": "completed"
    },
    "tags": []
   },
   "source": [
    "### Приведение типов"
   ]
  },
  {
   "cell_type": "code",
   "execution_count": 10,
   "metadata": {
    "execution": {
     "iopub.execute_input": "2022-06-14T12:06:18.343511Z",
     "iopub.status.busy": "2022-06-14T12:06:18.342816Z",
     "iopub.status.idle": "2022-06-14T12:06:18.364525Z",
     "shell.execute_reply": "2022-06-14T12:06:18.365469Z",
     "shell.execute_reply.started": "2022-06-14T11:23:32.210772Z"
    },
    "papermill": {
     "duration": 0.097364,
     "end_time": "2022-06-14T12:06:18.365682",
     "exception": false,
     "start_time": "2022-06-14T12:06:18.268318",
     "status": "completed"
    },
    "tags": []
   },
   "outputs": [
    {
     "name": "stdout",
     "output_type": "stream",
     "text": [
      "<class 'pandas.core.frame.DataFrame'>\n",
      "RangeIndex: 10000 entries, 0 to 9999\n",
      "Data columns (total 20 columns):\n",
      " #   Column         Non-Null Count  Dtype  \n",
      "---  ------         --------------  -----  \n",
      " 0   Id             10000 non-null  int64  \n",
      " 1   DistrictId     10000 non-null  int64  \n",
      " 2   Rooms          10000 non-null  float64\n",
      " 3   Square         10000 non-null  float64\n",
      " 4   LifeSquare     7887 non-null   float64\n",
      " 5   KitchenSquare  10000 non-null  float64\n",
      " 6   Floor          10000 non-null  int64  \n",
      " 7   HouseFloor     10000 non-null  float64\n",
      " 8   HouseYear      10000 non-null  int64  \n",
      " 9   Ecology_1      10000 non-null  float64\n",
      " 10  Ecology_2      10000 non-null  object \n",
      " 11  Ecology_3      10000 non-null  object \n",
      " 12  Social_1       10000 non-null  int64  \n",
      " 13  Social_2       10000 non-null  int64  \n",
      " 14  Social_3       10000 non-null  int64  \n",
      " 15  Healthcare_1   5202 non-null   float64\n",
      " 16  Helthcare_2    10000 non-null  int64  \n",
      " 17  Shops_1        10000 non-null  int64  \n",
      " 18  Shops_2        10000 non-null  object \n",
      " 19  Price          10000 non-null  float64\n",
      "dtypes: float64(8), int64(9), object(3)\n",
      "memory usage: 1.5+ MB\n"
     ]
    }
   ],
   "source": [
    "train_df.info()"
   ]
  },
  {
   "cell_type": "code",
   "execution_count": 11,
   "metadata": {
    "execution": {
     "iopub.execute_input": "2022-06-14T12:06:18.515402Z",
     "iopub.status.busy": "2022-06-14T12:06:18.514766Z",
     "iopub.status.idle": "2022-06-14T12:06:18.530242Z",
     "shell.execute_reply": "2022-06-14T12:06:18.530879Z",
     "shell.execute_reply.started": "2022-06-14T11:23:32.292746Z"
    },
    "papermill": {
     "duration": 0.091733,
     "end_time": "2022-06-14T12:06:18.531021",
     "exception": false,
     "start_time": "2022-06-14T12:06:18.439288",
     "status": "completed"
    },
    "tags": []
   },
   "outputs": [],
   "source": [
    "train_df['Id'] = train_df['Id'].astype(str)\n",
    "train_df['DistrictId'] = train_df['DistrictId'].astype(str)"
   ]
  },
  {
   "cell_type": "markdown",
   "metadata": {
    "papermill": {
     "duration": 0.07234,
     "end_time": "2022-06-14T12:06:18.675663",
     "exception": false,
     "start_time": "2022-06-14T12:06:18.603323",
     "status": "completed"
    },
    "tags": []
   },
   "source": [
    "## 1. Разведочный анализ данных  <a class='anchor' id='eda'>\n",
    "Делаем EDA для:\n",
    "- Исправления выбросов\n",
    "- Заполнения NaN\n",
    "- Идей для генерации новых фич"
   ]
  },
  {
   "cell_type": "markdown",
   "metadata": {
    "papermill": {
     "duration": 0.072206,
     "end_time": "2022-06-14T12:06:18.821027",
     "exception": false,
     "start_time": "2022-06-14T12:06:18.748821",
     "status": "completed"
    },
    "tags": []
   },
   "source": [
    "**Целевая переменная**"
   ]
  },
  {
   "cell_type": "code",
   "execution_count": 12,
   "metadata": {
    "execution": {
     "iopub.execute_input": "2022-06-14T12:06:18.974483Z",
     "iopub.status.busy": "2022-06-14T12:06:18.973774Z",
     "iopub.status.idle": "2022-06-14T12:06:19.271795Z",
     "shell.execute_reply": "2022-06-14T12:06:19.270560Z",
     "shell.execute_reply.started": "2022-06-14T11:23:32.396836Z"
    },
    "papermill": {
     "duration": 0.37666,
     "end_time": "2022-06-14T12:06:19.271918",
     "exception": false,
     "start_time": "2022-06-14T12:06:18.895258",
     "status": "completed"
    },
    "tags": []
   },
   "outputs": [
    {
     "data": {
      "image/png": "[encoded data removed]",
      "text/plain": [
       "<Figure size 1152x576 with 1 Axes>"
      ]
     },
     "metadata": {
      "needs_background": "light"
     },
     "output_type": "display_data"
    }
   ],
   "source": [
    "plt.figure(figsize = (16, 8))\n",
    "\n",
    "train_df['Price'].hist(bins=30)\n",
    "plt.ylabel('Count')\n",
    "plt.xlabel('Price')\n",
    "\n",
    "plt.title('Target distribution');"
   ]
  },
  {
   "cell_type": "code",
   "execution_count": 13,
   "metadata": {
    "execution": {
     "iopub.execute_input": "2022-06-14T12:06:19.424757Z",
     "iopub.status.busy": "2022-06-14T12:06:19.424029Z",
     "iopub.status.idle": "2022-06-14T12:06:19.426993Z",
     "shell.execute_reply": "2022-06-14T12:06:19.426372Z",
     "shell.execute_reply.started": "2022-06-14T11:23:32.637151Z"
    },
    "papermill": {
     "duration": 0.080968,
     "end_time": "2022-06-14T12:06:19.427103",
     "exception": false,
     "start_time": "2022-06-14T12:06:19.346135",
     "status": "completed"
    },
    "tags": []
   },
   "outputs": [],
   "source": [
    "# correlation = train_df.corrwith(train_df['Price']).sort_values(ascending=False)\n",
    "# correlation.drop('Price', inplace=True)\n",
    "\n",
    "# plt.figure(figsize = (16, 8))\n",
    "# plt.bar(correlation.index, correlation)\n",
    "# plt.xticks(rotation='90')\n",
    "# plt.xlabel('Features', fontsize=15)\n",
    "# plt.ylabel('Correlation', fontsize=15)\n",
    "# plt.title('Feature correlation', fontsize=15)\n",
    "# plt.show()"
   ]
  },
  {
   "cell_type": "markdown",
   "metadata": {
    "papermill": {
     "duration": 0.073012,
     "end_time": "2022-06-14T12:06:19.576032",
     "exception": false,
     "start_time": "2022-06-14T12:06:19.503020",
     "status": "completed"
    },
    "tags": []
   },
   "source": [
    "**Количественные переменные**"
   ]
  },
  {
   "cell_type": "code",
   "execution_count": 14,
   "metadata": {
    "execution": {
     "iopub.execute_input": "2022-06-14T12:06:19.730428Z",
     "iopub.status.busy": "2022-06-14T12:06:19.729760Z",
     "iopub.status.idle": "2022-06-14T12:06:19.868443Z",
     "shell.execute_reply": "2022-06-14T12:06:19.867737Z",
     "shell.execute_reply.started": "2022-06-14T11:23:32.642555Z"
    },
    "papermill": {
     "duration": 0.218613,
     "end_time": "2022-06-14T12:06:19.868565",
     "exception": false,
     "start_time": "2022-06-14T12:06:19.649952",
     "status": "completed"
    },
    "tags": []
   },
   "outputs": [
    {
     "data": {
      "text/html": [
       "<div>\n",
       "<style scoped>\n",
       "    .dataframe tbody tr th:only-of-type {\n",
       "        vertical-align: middle;\n",
       "    }\n",
       "\n",
       "    .dataframe tbody tr th {\n",
       "        vertical-align: top;\n",
       "    }\n",
       "\n",
       "    .dataframe thead th {\n",
       "        text-align: right;\n",
       "    }\n",
       "</style>\n",
       "<table border=\"1\" class=\"dataframe\">\n",
       "  <thead>\n",
       "    <tr style=\"text-align: right;\">\n",
       "      <th></th>\n",
       "      <th>Rooms</th>\n",
       "      <th>Square</th>\n",
       "      <th>LifeSquare</th>\n",
       "      <th>KitchenSquare</th>\n",
       "      <th>Floor</th>\n",
       "      <th>HouseFloor</th>\n",
       "      <th>HouseYear</th>\n",
       "      <th>Ecology_1</th>\n",
       "      <th>Social_1</th>\n",
       "      <th>Social_2</th>\n",
       "      <th>Social_3</th>\n",
       "      <th>Healthcare_1</th>\n",
       "      <th>Helthcare_2</th>\n",
       "      <th>Shops_1</th>\n",
       "      <th>Price</th>\n",
       "    </tr>\n",
       "  </thead>\n",
       "  <tbody>\n",
       "    <tr>\n",
       "      <th>count</th>\n",
       "      <td>10000.000000</td>\n",
       "      <td>10000.000000</td>\n",
       "      <td>7887.000000</td>\n",
       "      <td>10000.000000</td>\n",
       "      <td>10000.000000</td>\n",
       "      <td>10000.000000</td>\n",
       "      <td>1.000000e+04</td>\n",
       "      <td>10000.000000</td>\n",
       "      <td>10000.000000</td>\n",
       "      <td>10000.000000</td>\n",
       "      <td>10000.000000</td>\n",
       "      <td>5202.000000</td>\n",
       "      <td>10000.000000</td>\n",
       "      <td>10000.000000</td>\n",
       "      <td>10000.000000</td>\n",
       "    </tr>\n",
       "    <tr>\n",
       "      <th>mean</th>\n",
       "      <td>1.890500</td>\n",
       "      <td>56.315775</td>\n",
       "      <td>37.199645</td>\n",
       "      <td>6.273300</td>\n",
       "      <td>8.526700</td>\n",
       "      <td>12.609400</td>\n",
       "      <td>3.990166e+03</td>\n",
       "      <td>0.118858</td>\n",
       "      <td>24.687000</td>\n",
       "      <td>5352.157400</td>\n",
       "      <td>8.039200</td>\n",
       "      <td>1142.904460</td>\n",
       "      <td>1.319500</td>\n",
       "      <td>4.231300</td>\n",
       "      <td>214138.857399</td>\n",
       "    </tr>\n",
       "    <tr>\n",
       "      <th>std</th>\n",
       "      <td>0.839512</td>\n",
       "      <td>21.058732</td>\n",
       "      <td>86.241209</td>\n",
       "      <td>28.560917</td>\n",
       "      <td>5.241148</td>\n",
       "      <td>6.775974</td>\n",
       "      <td>2.005003e+05</td>\n",
       "      <td>0.119025</td>\n",
       "      <td>17.532614</td>\n",
       "      <td>4006.799803</td>\n",
       "      <td>23.831875</td>\n",
       "      <td>1021.517264</td>\n",
       "      <td>1.493601</td>\n",
       "      <td>4.806341</td>\n",
       "      <td>92872.293865</td>\n",
       "    </tr>\n",
       "    <tr>\n",
       "      <th>min</th>\n",
       "      <td>0.000000</td>\n",
       "      <td>1.136859</td>\n",
       "      <td>0.370619</td>\n",
       "      <td>0.000000</td>\n",
       "      <td>1.000000</td>\n",
       "      <td>0.000000</td>\n",
       "      <td>1.910000e+03</td>\n",
       "      <td>0.000000</td>\n",
       "      <td>0.000000</td>\n",
       "      <td>168.000000</td>\n",
       "      <td>0.000000</td>\n",
       "      <td>0.000000</td>\n",
       "      <td>0.000000</td>\n",
       "      <td>0.000000</td>\n",
       "      <td>59174.778028</td>\n",
       "    </tr>\n",
       "    <tr>\n",
       "      <th>25%</th>\n",
       "      <td>1.000000</td>\n",
       "      <td>41.774881</td>\n",
       "      <td>22.769832</td>\n",
       "      <td>1.000000</td>\n",
       "      <td>4.000000</td>\n",
       "      <td>9.000000</td>\n",
       "      <td>1.974000e+03</td>\n",
       "      <td>0.017647</td>\n",
       "      <td>6.000000</td>\n",
       "      <td>1564.000000</td>\n",
       "      <td>0.000000</td>\n",
       "      <td>350.000000</td>\n",
       "      <td>0.000000</td>\n",
       "      <td>1.000000</td>\n",
       "      <td>153872.633942</td>\n",
       "    </tr>\n",
       "    <tr>\n",
       "      <th>50%</th>\n",
       "      <td>2.000000</td>\n",
       "      <td>52.513310</td>\n",
       "      <td>32.781260</td>\n",
       "      <td>6.000000</td>\n",
       "      <td>7.000000</td>\n",
       "      <td>13.000000</td>\n",
       "      <td>1.977000e+03</td>\n",
       "      <td>0.075424</td>\n",
       "      <td>25.000000</td>\n",
       "      <td>5285.000000</td>\n",
       "      <td>2.000000</td>\n",
       "      <td>900.000000</td>\n",
       "      <td>1.000000</td>\n",
       "      <td>3.000000</td>\n",
       "      <td>192269.644879</td>\n",
       "    </tr>\n",
       "    <tr>\n",
       "      <th>75%</th>\n",
       "      <td>2.000000</td>\n",
       "      <td>65.900625</td>\n",
       "      <td>45.128803</td>\n",
       "      <td>9.000000</td>\n",
       "      <td>12.000000</td>\n",
       "      <td>17.000000</td>\n",
       "      <td>2.001000e+03</td>\n",
       "      <td>0.195781</td>\n",
       "      <td>36.000000</td>\n",
       "      <td>7227.000000</td>\n",
       "      <td>5.000000</td>\n",
       "      <td>1548.000000</td>\n",
       "      <td>2.000000</td>\n",
       "      <td>6.000000</td>\n",
       "      <td>249135.462171</td>\n",
       "    </tr>\n",
       "    <tr>\n",
       "      <th>max</th>\n",
       "      <td>19.000000</td>\n",
       "      <td>641.065193</td>\n",
       "      <td>7480.592129</td>\n",
       "      <td>2014.000000</td>\n",
       "      <td>42.000000</td>\n",
       "      <td>117.000000</td>\n",
       "      <td>2.005201e+07</td>\n",
       "      <td>0.521867</td>\n",
       "      <td>74.000000</td>\n",
       "      <td>19083.000000</td>\n",
       "      <td>141.000000</td>\n",
       "      <td>4849.000000</td>\n",
       "      <td>6.000000</td>\n",
       "      <td>23.000000</td>\n",
       "      <td>633233.466570</td>\n",
       "    </tr>\n",
       "  </tbody>\n",
       "</table>\n",
       "</div>"
      ],
      "text/plain": [
       "              Rooms        Square   LifeSquare  KitchenSquare         Floor  \\\n",
       "count  10000.000000  10000.000000  7887.000000   10000.000000  10000.000000   \n",
       "mean       1.890500     56.315775    37.199645       6.273300      8.526700   \n",
       "std        0.839512     21.058732    86.241209      28.560917      5.241148   \n",
       "min        0.000000      1.136859     0.370619       0.000000      1.000000   \n",
       "25%        1.000000     41.774881    22.769832       1.000000      4.000000   \n",
       "50%        2.000000     52.513310    32.781260       6.000000      7.000000   \n",
       "75%        2.000000     65.900625    45.128803       9.000000     12.000000   \n",
       "max       19.000000    641.065193  7480.592129    2014.000000     42.000000   \n",
       "\n",
       "         HouseFloor     HouseYear     Ecology_1      Social_1      Social_2  \\\n",
       "count  10000.000000  1.000000e+04  10000.000000  10000.000000  10000.000000   \n",
       "mean      12.609400  3.990166e+03      0.118858     24.687000   5352.157400   \n",
       "std        6.775974  2.005003e+05      0.119025     17.532614   4006.799803   \n",
       "min        0.000000  1.910000e+03      0.000000      0.000000    168.000000   \n",
       "25%        9.000000  1.974000e+03      0.017647      6.000000   1564.000000   \n",
       "50%       13.000000  1.977000e+03      0.075424     25.000000   5285.000000   \n",
       "75%       17.000000  2.001000e+03      0.195781     36.000000   7227.000000   \n",
       "max      117.000000  2.005201e+07      0.521867     74.000000  19083.000000   \n",
       "\n",
       "           Social_3  Healthcare_1   Helthcare_2       Shops_1          Price  \n",
       "count  10000.000000   5202.000000  10000.000000  10000.000000   10000.000000  \n",
       "mean       8.039200   1142.904460      1.319500      4.231300  214138.857399  \n",
       "std       23.831875   1021.517264      1.493601      4.806341   92872.293865  \n",
       "min        0.000000      0.000000      0.000000      0.000000   59174.778028  \n",
       "25%        0.000000    350.000000      0.000000      1.000000  153872.633942  \n",
       "50%        2.000000    900.000000      1.000000      3.000000  192269.644879  \n",
       "75%        5.000000   1548.000000      2.000000      6.000000  249135.462171  \n",
       "max      141.000000   4849.000000      6.000000     23.000000  633233.466570  "
      ]
     },
     "execution_count": 14,
     "metadata": {},
     "output_type": "execute_result"
    }
   ],
   "source": [
    "train_df.describe()"
   ]
  },
  {
   "cell_type": "markdown",
   "metadata": {
    "papermill": {
     "duration": 0.076312,
     "end_time": "2022-06-14T12:06:20.019183",
     "exception": false,
     "start_time": "2022-06-14T12:06:19.942871",
     "status": "completed"
    },
    "tags": []
   },
   "source": [
    "**Номинативные переменные**"
   ]
  },
  {
   "cell_type": "code",
   "execution_count": 15,
   "metadata": {
    "execution": {
     "iopub.execute_input": "2022-06-14T12:06:20.176827Z",
     "iopub.status.busy": "2022-06-14T12:06:20.175114Z",
     "iopub.status.idle": "2022-06-14T12:06:20.181448Z",
     "shell.execute_reply": "2022-06-14T12:06:20.180751Z",
     "shell.execute_reply.started": "2022-06-14T11:23:32.713505Z"
    },
    "papermill": {
     "duration": 0.087325,
     "end_time": "2022-06-14T12:06:20.181575",
     "exception": false,
     "start_time": "2022-06-14T12:06:20.094250",
     "status": "completed"
    },
    "tags": []
   },
   "outputs": [
    {
     "data": {
      "text/plain": [
       "['Id', 'DistrictId', 'Ecology_2', 'Ecology_3', 'Shops_2']"
      ]
     },
     "execution_count": 15,
     "metadata": {},
     "output_type": "execute_result"
    }
   ],
   "source": [
    "train_df.select_dtypes(include='object').columns.tolist()"
   ]
  },
  {
   "cell_type": "code",
   "execution_count": 16,
   "metadata": {
    "execution": {
     "iopub.execute_input": "2022-06-14T12:06:20.344940Z",
     "iopub.status.busy": "2022-06-14T12:06:20.343877Z",
     "iopub.status.idle": "2022-06-14T12:06:20.348605Z",
     "shell.execute_reply": "2022-06-14T12:06:20.347966Z",
     "shell.execute_reply.started": "2022-06-14T11:23:32.749836Z"
    },
    "papermill": {
     "duration": 0.091344,
     "end_time": "2022-06-14T12:06:20.348720",
     "exception": false,
     "start_time": "2022-06-14T12:06:20.257376",
     "status": "completed"
    },
    "tags": []
   },
   "outputs": [
    {
     "data": {
      "text/plain": [
       "27     851\n",
       "1      652\n",
       "23     565\n",
       "6      511\n",
       "9      294\n",
       "      ... \n",
       "174      1\n",
       "207      1\n",
       "199      1\n",
       "196      1\n",
       "117      1\n",
       "Name: DistrictId, Length: 205, dtype: int64"
      ]
     },
     "execution_count": 16,
     "metadata": {},
     "output_type": "execute_result"
    }
   ],
   "source": [
    "train_df['DistrictId'].value_counts()"
   ]
  },
  {
   "cell_type": "code",
   "execution_count": 17,
   "metadata": {
    "execution": {
     "iopub.execute_input": "2022-06-14T12:06:20.509477Z",
     "iopub.status.busy": "2022-06-14T12:06:20.508650Z",
     "iopub.status.idle": "2022-06-14T12:06:20.512765Z",
     "shell.execute_reply": "2022-06-14T12:06:20.512237Z",
     "shell.execute_reply.started": "2022-06-14T11:23:32.820963Z"
    },
    "papermill": {
     "duration": 0.089133,
     "end_time": "2022-06-14T12:06:20.512877",
     "exception": false,
     "start_time": "2022-06-14T12:06:20.423744",
     "status": "completed"
    },
    "tags": []
   },
   "outputs": [
    {
     "data": {
      "text/plain": [
       "B    9903\n",
       "A      97\n",
       "Name: Ecology_2, dtype: int64"
      ]
     },
     "execution_count": 17,
     "metadata": {},
     "output_type": "execute_result"
    }
   ],
   "source": [
    "train_df['Ecology_2'].value_counts()"
   ]
  },
  {
   "cell_type": "code",
   "execution_count": 18,
   "metadata": {
    "execution": {
     "iopub.execute_input": "2022-06-14T12:06:20.674027Z",
     "iopub.status.busy": "2022-06-14T12:06:20.673299Z",
     "iopub.status.idle": "2022-06-14T12:06:20.677204Z",
     "shell.execute_reply": "2022-06-14T12:06:20.676664Z",
     "shell.execute_reply.started": "2022-06-14T11:23:32.889836Z"
    },
    "papermill": {
     "duration": 0.088965,
     "end_time": "2022-06-14T12:06:20.677332",
     "exception": false,
     "start_time": "2022-06-14T12:06:20.588367",
     "status": "completed"
    },
    "tags": []
   },
   "outputs": [
    {
     "data": {
      "text/plain": [
       "B    9725\n",
       "A     275\n",
       "Name: Ecology_3, dtype: int64"
      ]
     },
     "execution_count": 18,
     "metadata": {},
     "output_type": "execute_result"
    }
   ],
   "source": [
    "train_df['Ecology_3'].value_counts()"
   ]
  },
  {
   "cell_type": "code",
   "execution_count": 19,
   "metadata": {
    "execution": {
     "iopub.execute_input": "2022-06-14T12:06:20.837961Z",
     "iopub.status.busy": "2022-06-14T12:06:20.837296Z",
     "iopub.status.idle": "2022-06-14T12:06:20.843237Z",
     "shell.execute_reply": "2022-06-14T12:06:20.843839Z",
     "shell.execute_reply.started": "2022-06-14T11:23:32.960372Z"
    },
    "papermill": {
     "duration": 0.090273,
     "end_time": "2022-06-14T12:06:20.843978",
     "exception": false,
     "start_time": "2022-06-14T12:06:20.753705",
     "status": "completed"
    },
    "tags": []
   },
   "outputs": [
    {
     "data": {
      "text/plain": [
       "B    9175\n",
       "A     825\n",
       "Name: Shops_2, dtype: int64"
      ]
     },
     "execution_count": 19,
     "metadata": {},
     "output_type": "execute_result"
    }
   ],
   "source": [
    "train_df['Shops_2'].value_counts()"
   ]
  },
  {
   "cell_type": "markdown",
   "metadata": {
    "papermill": {
     "duration": 0.075935,
     "end_time": "2022-06-14T12:06:20.996729",
     "exception": false,
     "start_time": "2022-06-14T12:06:20.920794",
     "status": "completed"
    },
    "tags": []
   },
   "source": [
    "### 2. Обработка выбросов  <a class='anchor' id='outlier'>\n",
    "Что можно делать с ними?\n",
    "1. Выкинуть эти данные (только на трейне, на тесте ничего не выкидываем)\n",
    "2. Заменять выбросы разными методами (медианы, средние значения, np.clip и т.д.)\n",
    "3. Делать/не делать дополнительную фичу\n",
    "4. Ничего не делать"
   ]
  },
  {
   "cell_type": "markdown",
   "metadata": {
    "papermill": {
     "duration": 0.07573,
     "end_time": "2022-06-14T12:06:21.149548",
     "exception": false,
     "start_time": "2022-06-14T12:06:21.073818",
     "status": "completed"
    },
    "tags": []
   },
   "source": [
    "**Rooms**"
   ]
  },
  {
   "cell_type": "code",
   "execution_count": 20,
   "metadata": {
    "execution": {
     "iopub.execute_input": "2022-06-14T12:06:21.355671Z",
     "iopub.status.busy": "2022-06-14T12:06:21.354987Z",
     "iopub.status.idle": "2022-06-14T12:06:21.362590Z",
     "shell.execute_reply": "2022-06-14T12:06:21.363224Z",
     "shell.execute_reply.started": "2022-06-14T11:23:33.022045Z"
    },
    "papermill": {
     "duration": 0.136412,
     "end_time": "2022-06-14T12:06:21.363369",
     "exception": false,
     "start_time": "2022-06-14T12:06:21.226957",
     "status": "completed"
    },
    "tags": []
   },
   "outputs": [
    {
     "data": {
      "text/plain": [
       "2.0     3880\n",
       "1.0     3705\n",
       "3.0     2235\n",
       "4.0      150\n",
       "5.0       18\n",
       "0.0        8\n",
       "10.0       2\n",
       "19.0       1\n",
       "6.0        1\n",
       "Name: Rooms, dtype: int64"
      ]
     },
     "execution_count": 20,
     "metadata": {},
     "output_type": "execute_result"
    }
   ],
   "source": [
    "train_df['Rooms'].value_counts()"
   ]
  },
  {
   "cell_type": "code",
   "execution_count": 21,
   "metadata": {
    "execution": {
     "iopub.execute_input": "2022-06-14T12:06:21.518338Z",
     "iopub.status.busy": "2022-06-14T12:06:21.517698Z",
     "iopub.status.idle": "2022-06-14T12:06:21.568446Z",
     "shell.execute_reply": "2022-06-14T12:06:21.569037Z",
     "shell.execute_reply.started": "2022-06-14T11:23:33.088974Z"
    },
    "papermill": {
     "duration": 0.129906,
     "end_time": "2022-06-14T12:06:21.569205",
     "exception": false,
     "start_time": "2022-06-14T12:06:21.439299",
     "status": "completed"
    },
    "tags": []
   },
   "outputs": [
    {
     "data": {
      "text/html": [
       "<div>\n",
       "<style scoped>\n",
       "    .dataframe tbody tr th:only-of-type {\n",
       "        vertical-align: middle;\n",
       "    }\n",
       "\n",
       "    .dataframe tbody tr th {\n",
       "        vertical-align: top;\n",
       "    }\n",
       "\n",
       "    .dataframe thead th {\n",
       "        text-align: right;\n",
       "    }\n",
       "</style>\n",
       "<table border=\"1\" class=\"dataframe\">\n",
       "  <thead>\n",
       "    <tr style=\"text-align: right;\">\n",
       "      <th></th>\n",
       "      <th>Id</th>\n",
       "      <th>DistrictId</th>\n",
       "      <th>Rooms</th>\n",
       "      <th>Square</th>\n",
       "      <th>LifeSquare</th>\n",
       "      <th>KitchenSquare</th>\n",
       "      <th>Floor</th>\n",
       "      <th>HouseFloor</th>\n",
       "      <th>HouseYear</th>\n",
       "      <th>Ecology_1</th>\n",
       "      <th>...</th>\n",
       "      <th>Ecology_3</th>\n",
       "      <th>Social_1</th>\n",
       "      <th>Social_2</th>\n",
       "      <th>Social_3</th>\n",
       "      <th>Healthcare_1</th>\n",
       "      <th>Helthcare_2</th>\n",
       "      <th>Shops_1</th>\n",
       "      <th>Shops_2</th>\n",
       "      <th>Price</th>\n",
       "      <th>Rooms_outlier</th>\n",
       "    </tr>\n",
       "  </thead>\n",
       "  <tbody>\n",
       "    <tr>\n",
       "      <th>0</th>\n",
       "      <td>11809</td>\n",
       "      <td>27</td>\n",
       "      <td>3.0</td>\n",
       "      <td>115.027311</td>\n",
       "      <td>NaN</td>\n",
       "      <td>10.0</td>\n",
       "      <td>4</td>\n",
       "      <td>10.0</td>\n",
       "      <td>2014</td>\n",
       "      <td>0.075424</td>\n",
       "      <td>...</td>\n",
       "      <td>B</td>\n",
       "      <td>11</td>\n",
       "      <td>3097</td>\n",
       "      <td>0</td>\n",
       "      <td>NaN</td>\n",
       "      <td>0</td>\n",
       "      <td>0</td>\n",
       "      <td>B</td>\n",
       "      <td>305018.871089</td>\n",
       "      <td>0</td>\n",
       "    </tr>\n",
       "    <tr>\n",
       "      <th>1</th>\n",
       "      <td>3013</td>\n",
       "      <td>22</td>\n",
       "      <td>1.0</td>\n",
       "      <td>39.832524</td>\n",
       "      <td>23.169223</td>\n",
       "      <td>8.0</td>\n",
       "      <td>7</td>\n",
       "      <td>8.0</td>\n",
       "      <td>1966</td>\n",
       "      <td>0.118537</td>\n",
       "      <td>...</td>\n",
       "      <td>B</td>\n",
       "      <td>30</td>\n",
       "      <td>6207</td>\n",
       "      <td>1</td>\n",
       "      <td>1183.0</td>\n",
       "      <td>1</td>\n",
       "      <td>0</td>\n",
       "      <td>B</td>\n",
       "      <td>177734.553407</td>\n",
       "      <td>0</td>\n",
       "    </tr>\n",
       "    <tr>\n",
       "      <th>2</th>\n",
       "      <td>8215</td>\n",
       "      <td>1</td>\n",
       "      <td>3.0</td>\n",
       "      <td>78.342215</td>\n",
       "      <td>47.671972</td>\n",
       "      <td>10.0</td>\n",
       "      <td>2</td>\n",
       "      <td>17.0</td>\n",
       "      <td>1988</td>\n",
       "      <td>0.025609</td>\n",
       "      <td>...</td>\n",
       "      <td>B</td>\n",
       "      <td>33</td>\n",
       "      <td>5261</td>\n",
       "      <td>0</td>\n",
       "      <td>240.0</td>\n",
       "      <td>3</td>\n",
       "      <td>1</td>\n",
       "      <td>B</td>\n",
       "      <td>282078.720850</td>\n",
       "      <td>0</td>\n",
       "    </tr>\n",
       "    <tr>\n",
       "      <th>3</th>\n",
       "      <td>2352</td>\n",
       "      <td>1</td>\n",
       "      <td>1.0</td>\n",
       "      <td>40.409907</td>\n",
       "      <td>NaN</td>\n",
       "      <td>1.0</td>\n",
       "      <td>10</td>\n",
       "      <td>22.0</td>\n",
       "      <td>1977</td>\n",
       "      <td>0.007122</td>\n",
       "      <td>...</td>\n",
       "      <td>B</td>\n",
       "      <td>1</td>\n",
       "      <td>264</td>\n",
       "      <td>0</td>\n",
       "      <td>NaN</td>\n",
       "      <td>0</td>\n",
       "      <td>1</td>\n",
       "      <td>B</td>\n",
       "      <td>168106.007630</td>\n",
       "      <td>0</td>\n",
       "    </tr>\n",
       "    <tr>\n",
       "      <th>4</th>\n",
       "      <td>13866</td>\n",
       "      <td>94</td>\n",
       "      <td>2.0</td>\n",
       "      <td>64.285067</td>\n",
       "      <td>38.562517</td>\n",
       "      <td>9.0</td>\n",
       "      <td>16</td>\n",
       "      <td>16.0</td>\n",
       "      <td>1972</td>\n",
       "      <td>0.282798</td>\n",
       "      <td>...</td>\n",
       "      <td>B</td>\n",
       "      <td>33</td>\n",
       "      <td>8667</td>\n",
       "      <td>2</td>\n",
       "      <td>NaN</td>\n",
       "      <td>0</td>\n",
       "      <td>6</td>\n",
       "      <td>B</td>\n",
       "      <td>343995.102962</td>\n",
       "      <td>0</td>\n",
       "    </tr>\n",
       "  </tbody>\n",
       "</table>\n",
       "<p>5 rows × 21 columns</p>\n",
       "</div>"
      ],
      "text/plain": [
       "      Id DistrictId  Rooms      Square  LifeSquare  KitchenSquare  Floor  \\\n",
       "0  11809         27    3.0  115.027311         NaN           10.0      4   \n",
       "1   3013         22    1.0   39.832524   23.169223            8.0      7   \n",
       "2   8215          1    3.0   78.342215   47.671972           10.0      2   \n",
       "3   2352          1    1.0   40.409907         NaN            1.0     10   \n",
       "4  13866         94    2.0   64.285067   38.562517            9.0     16   \n",
       "\n",
       "   HouseFloor  HouseYear  Ecology_1  ... Ecology_3 Social_1  Social_2  \\\n",
       "0        10.0       2014   0.075424  ...         B       11      3097   \n",
       "1         8.0       1966   0.118537  ...         B       30      6207   \n",
       "2        17.0       1988   0.025609  ...         B       33      5261   \n",
       "3        22.0       1977   0.007122  ...         B        1       264   \n",
       "4        16.0       1972   0.282798  ...         B       33      8667   \n",
       "\n",
       "   Social_3  Healthcare_1  Helthcare_2  Shops_1  Shops_2          Price  \\\n",
       "0         0           NaN            0        0        B  305018.871089   \n",
       "1         1        1183.0            1        0        B  177734.553407   \n",
       "2         0         240.0            3        1        B  282078.720850   \n",
       "3         0           NaN            0        1        B  168106.007630   \n",
       "4         2           NaN            0        6        B  343995.102962   \n",
       "\n",
       "   Rooms_outlier  \n",
       "0              0  \n",
       "1              0  \n",
       "2              0  \n",
       "3              0  \n",
       "4              0  \n",
       "\n",
       "[5 rows x 21 columns]"
      ]
     },
     "execution_count": 21,
     "metadata": {},
     "output_type": "execute_result"
    }
   ],
   "source": [
    "train_df['Rooms_outlier'] = 0\n",
    "train_df.loc[(train_df['Rooms'] == 0) | (train_df['Rooms'] >= 6), 'Rooms_outlier'] = 1\n",
    "train_df.head()"
   ]
  },
  {
   "cell_type": "code",
   "execution_count": 22,
   "metadata": {
    "execution": {
     "iopub.execute_input": "2022-06-14T12:06:21.728397Z",
     "iopub.status.busy": "2022-06-14T12:06:21.727702Z",
     "iopub.status.idle": "2022-06-14T12:06:21.734819Z",
     "shell.execute_reply": "2022-06-14T12:06:21.735509Z",
     "shell.execute_reply.started": "2022-06-14T11:23:33.146230Z"
    },
    "papermill": {
     "duration": 0.088271,
     "end_time": "2022-06-14T12:06:21.735661",
     "exception": false,
     "start_time": "2022-06-14T12:06:21.647390",
     "status": "completed"
    },
    "tags": []
   },
   "outputs": [],
   "source": [
    "train_df.loc[train_df['Rooms'] == 0, 'Rooms'] = 1\n",
    "train_df.loc[train_df['Rooms'] >= 6, 'Rooms'] = train_df['Rooms'].median()"
   ]
  },
  {
   "cell_type": "code",
   "execution_count": 23,
   "metadata": {
    "execution": {
     "iopub.execute_input": "2022-06-14T12:06:21.893365Z",
     "iopub.status.busy": "2022-06-14T12:06:21.892699Z",
     "iopub.status.idle": "2022-06-14T12:06:21.900611Z",
     "shell.execute_reply": "2022-06-14T12:06:21.901175Z",
     "shell.execute_reply.started": "2022-06-14T11:23:33.197043Z"
    },
    "papermill": {
     "duration": 0.087992,
     "end_time": "2022-06-14T12:06:21.901321",
     "exception": false,
     "start_time": "2022-06-14T12:06:21.813329",
     "status": "completed"
    },
    "tags": []
   },
   "outputs": [
    {
     "data": {
      "text/plain": [
       "2.0    3884\n",
       "1.0    3713\n",
       "3.0    2235\n",
       "4.0     150\n",
       "5.0      18\n",
       "Name: Rooms, dtype: int64"
      ]
     },
     "execution_count": 23,
     "metadata": {},
     "output_type": "execute_result"
    }
   ],
   "source": [
    "train_df['Rooms'].value_counts()"
   ]
  },
  {
   "cell_type": "markdown",
   "metadata": {
    "papermill": {
     "duration": 0.077599,
     "end_time": "2022-06-14T12:06:22.056263",
     "exception": false,
     "start_time": "2022-06-14T12:06:21.978664",
     "status": "completed"
    },
    "tags": []
   },
   "source": [
    "**KitchenSquare** "
   ]
  },
  {
   "cell_type": "code",
   "execution_count": 24,
   "metadata": {
    "execution": {
     "iopub.execute_input": "2022-06-14T12:06:22.214778Z",
     "iopub.status.busy": "2022-06-14T12:06:22.214050Z",
     "iopub.status.idle": "2022-06-14T12:06:22.222576Z",
     "shell.execute_reply": "2022-06-14T12:06:22.223197Z",
     "shell.execute_reply.started": "2022-06-14T11:23:33.250168Z"
    },
    "papermill": {
     "duration": 0.089624,
     "end_time": "2022-06-14T12:06:22.223347",
     "exception": false,
     "start_time": "2022-06-14T12:06:22.133723",
     "status": "completed"
    },
    "tags": []
   },
   "outputs": [
    {
     "data": {
      "text/plain": [
       "1.0       2460\n",
       "8.0       1306\n",
       "5.0       1169\n",
       "10.0      1075\n",
       "6.0       1038\n",
       "9.0        843\n",
       "0.0        697\n",
       "7.0        609\n",
       "12.0       249\n",
       "11.0       233\n",
       "13.0        67\n",
       "14.0        51\n",
       "4.0         39\n",
       "15.0        31\n",
       "3.0         22\n",
       "16.0        16\n",
       "20.0        14\n",
       "17.0        12\n",
       "19.0        11\n",
       "18.0         6\n",
       "2.0          4\n",
       "22.0         3\n",
       "43.0         2\n",
       "112.0        2\n",
       "41.0         2\n",
       "32.0         2\n",
       "58.0         2\n",
       "25.0         2\n",
       "37.0         2\n",
       "30.0         2\n",
       "51.0         2\n",
       "40.0         1\n",
       "96.0         1\n",
       "48.0         1\n",
       "72.0         1\n",
       "73.0         1\n",
       "2014.0       1\n",
       "66.0         1\n",
       "36.0         1\n",
       "78.0         1\n",
       "54.0         1\n",
       "29.0         1\n",
       "31.0         1\n",
       "35.0         1\n",
       "62.0         1\n",
       "39.0         1\n",
       "1970.0       1\n",
       "60.0         1\n",
       "75.0         1\n",
       "26.0         1\n",
       "21.0         1\n",
       "84.0         1\n",
       "63.0         1\n",
       "123.0        1\n",
       "53.0         1\n",
       "42.0         1\n",
       "23.0         1\n",
       "27.0         1\n",
       "Name: KitchenSquare, dtype: int64"
      ]
     },
     "execution_count": 24,
     "metadata": {},
     "output_type": "execute_result"
    }
   ],
   "source": [
    "train_df['KitchenSquare'].value_counts()"
   ]
  },
  {
   "cell_type": "code",
   "execution_count": 25,
   "metadata": {
    "execution": {
     "iopub.execute_input": "2022-06-14T12:06:22.382873Z",
     "iopub.status.busy": "2022-06-14T12:06:22.382239Z",
     "iopub.status.idle": "2022-06-14T12:06:22.390236Z",
     "shell.execute_reply": "2022-06-14T12:06:22.390839Z",
     "shell.execute_reply.started": "2022-06-14T11:23:33.299808Z"
    },
    "papermill": {
     "duration": 0.089599,
     "end_time": "2022-06-14T12:06:22.391022",
     "exception": false,
     "start_time": "2022-06-14T12:06:22.301423",
     "status": "completed"
    },
    "tags": []
   },
   "outputs": [
    {
     "data": {
      "text/plain": [
       "(13.0, 0.0)"
      ]
     },
     "execution_count": 25,
     "metadata": {},
     "output_type": "execute_result"
    }
   ],
   "source": [
    "train_df['KitchenSquare'].quantile(.975), train_df['KitchenSquare'].quantile(.025)"
   ]
  },
  {
   "cell_type": "code",
   "execution_count": 26,
   "metadata": {
    "execution": {
     "iopub.execute_input": "2022-06-14T12:06:22.550733Z",
     "iopub.status.busy": "2022-06-14T12:06:22.550088Z",
     "iopub.status.idle": "2022-06-14T12:06:22.559483Z",
     "shell.execute_reply": "2022-06-14T12:06:22.560036Z",
     "shell.execute_reply.started": "2022-06-14T11:23:33.347658Z"
    },
    "papermill": {
     "duration": 0.090828,
     "end_time": "2022-06-14T12:06:22.560203",
     "exception": false,
     "start_time": "2022-06-14T12:06:22.469375",
     "status": "completed"
    },
    "tags": []
   },
   "outputs": [],
   "source": [
    "condition = (train_df['KitchenSquare'].isna()) \\\n",
    "             | (train_df['KitchenSquare'] > train_df['KitchenSquare'].quantile(.975))\n",
    "        \n",
    "train_df.loc[condition, 'KitchenSquare'] = train_df['KitchenSquare'].median()\n",
    "\n",
    "train_df.loc[train_df['KitchenSquare'] < 3, 'KitchenSquare'] = 3"
   ]
  },
  {
   "cell_type": "code",
   "execution_count": 27,
   "metadata": {
    "execution": {
     "iopub.execute_input": "2022-06-14T12:06:22.719646Z",
     "iopub.status.busy": "2022-06-14T12:06:22.719016Z",
     "iopub.status.idle": "2022-06-14T12:06:22.726530Z",
     "shell.execute_reply": "2022-06-14T12:06:22.727027Z",
     "shell.execute_reply.started": "2022-06-14T11:23:33.394973Z"
    },
    "papermill": {
     "duration": 0.088643,
     "end_time": "2022-06-14T12:06:22.727184",
     "exception": false,
     "start_time": "2022-06-14T12:06:22.638541",
     "status": "completed"
    },
    "tags": []
   },
   "outputs": [
    {
     "data": {
      "text/plain": [
       "3.0     3183\n",
       "8.0     1306\n",
       "6.0     1227\n",
       "5.0     1169\n",
       "10.0    1075\n",
       "9.0      843\n",
       "7.0      609\n",
       "12.0     249\n",
       "11.0     233\n",
       "13.0      67\n",
       "4.0       39\n",
       "Name: KitchenSquare, dtype: int64"
      ]
     },
     "execution_count": 27,
     "metadata": {},
     "output_type": "execute_result"
    }
   ],
   "source": [
    "train_df['KitchenSquare'].value_counts()"
   ]
  },
  {
   "cell_type": "markdown",
   "metadata": {
    "papermill": {
     "duration": 0.07859,
     "end_time": "2022-06-14T12:06:22.885837",
     "exception": false,
     "start_time": "2022-06-14T12:06:22.807247",
     "status": "completed"
    },
    "tags": []
   },
   "source": [
    "**HouseFloor, Floor**"
   ]
  },
  {
   "cell_type": "code",
   "execution_count": 28,
   "metadata": {
    "execution": {
     "iopub.execute_input": "2022-06-14T12:06:23.047868Z",
     "iopub.status.busy": "2022-06-14T12:06:23.047207Z",
     "iopub.status.idle": "2022-06-14T12:06:23.056215Z",
     "shell.execute_reply": "2022-06-14T12:06:23.056694Z",
     "shell.execute_reply.started": "2022-06-14T11:23:33.441359Z"
    },
    "papermill": {
     "duration": 0.091634,
     "end_time": "2022-06-14T12:06:23.056848",
     "exception": false,
     "start_time": "2022-06-14T12:06:22.965214",
     "status": "completed"
    },
    "tags": []
   },
   "outputs": [
    {
     "data": {
      "text/plain": [
       "array([  0.,   1.,   2.,   3.,   4.,   5.,   6.,   7.,   8.,   9.,  10.,\n",
       "        11.,  12.,  13.,  14.,  15.,  16.,  17.,  18.,  19.,  20.,  21.,\n",
       "        22.,  23.,  24.,  25.,  26.,  27.,  28.,  29.,  30.,  31.,  32.,\n",
       "        36.,  37.,  38.,  39.,  40.,  44.,  45.,  47.,  48.,  99., 117.])"
      ]
     },
     "execution_count": 28,
     "metadata": {},
     "output_type": "execute_result"
    }
   ],
   "source": [
    "train_df['HouseFloor'].sort_values().unique()"
   ]
  },
  {
   "cell_type": "code",
   "execution_count": 29,
   "metadata": {
    "execution": {
     "iopub.execute_input": "2022-06-14T12:06:23.218928Z",
     "iopub.status.busy": "2022-06-14T12:06:23.218291Z",
     "iopub.status.idle": "2022-06-14T12:06:23.224961Z",
     "shell.execute_reply": "2022-06-14T12:06:23.225592Z",
     "shell.execute_reply.started": "2022-06-14T11:23:33.494937Z"
    },
    "papermill": {
     "duration": 0.089505,
     "end_time": "2022-06-14T12:06:23.225735",
     "exception": false,
     "start_time": "2022-06-14T12:06:23.136230",
     "status": "completed"
    },
    "tags": []
   },
   "outputs": [
    {
     "data": {
      "text/plain": [
       "array([ 1,  2,  3,  4,  5,  6,  7,  8,  9, 10, 11, 12, 13, 14, 15, 16, 17,\n",
       "       18, 19, 20, 21, 22, 23, 24, 25, 26, 27, 28, 31, 32, 33, 37, 42])"
      ]
     },
     "execution_count": 29,
     "metadata": {},
     "output_type": "execute_result"
    }
   ],
   "source": [
    "train_df['Floor'].sort_values().unique()"
   ]
  },
  {
   "cell_type": "code",
   "execution_count": 30,
   "metadata": {
    "execution": {
     "iopub.execute_input": "2022-06-14T12:06:23.387359Z",
     "iopub.status.busy": "2022-06-14T12:06:23.386728Z",
     "iopub.status.idle": "2022-06-14T12:06:23.393167Z",
     "shell.execute_reply": "2022-06-14T12:06:23.393777Z",
     "shell.execute_reply.started": "2022-06-14T11:23:33.544265Z"
    },
    "papermill": {
     "duration": 0.088589,
     "end_time": "2022-06-14T12:06:23.393913",
     "exception": false,
     "start_time": "2022-06-14T12:06:23.305324",
     "status": "completed"
    },
    "tags": []
   },
   "outputs": [
    {
     "data": {
      "text/plain": [
       "1825"
      ]
     },
     "execution_count": 30,
     "metadata": {},
     "output_type": "execute_result"
    }
   ],
   "source": [
    "(train_df['Floor'] > train_df['HouseFloor']).sum()"
   ]
  },
  {
   "cell_type": "code",
   "execution_count": 31,
   "metadata": {
    "execution": {
     "iopub.execute_input": "2022-06-14T12:06:23.556631Z",
     "iopub.status.busy": "2022-06-14T12:06:23.555919Z",
     "iopub.status.idle": "2022-06-14T12:06:23.564876Z",
     "shell.execute_reply": "2022-06-14T12:06:23.565454Z",
     "shell.execute_reply.started": "2022-06-14T11:23:33.585190Z"
    },
    "papermill": {
     "duration": 0.092145,
     "end_time": "2022-06-14T12:06:23.565611",
     "exception": false,
     "start_time": "2022-06-14T12:06:23.473466",
     "status": "completed"
    },
    "tags": []
   },
   "outputs": [],
   "source": [
    "train_df['HouseFloor_outlier'] = 0\n",
    "train_df.loc[train_df['HouseFloor'] == 0, 'HouseFloor_outlier'] = 1\n",
    "train_df.loc[train_df['Floor'] > train_df['HouseFloor'], 'HouseFloor_outlier'] = 1"
   ]
  },
  {
   "cell_type": "code",
   "execution_count": 32,
   "metadata": {
    "execution": {
     "iopub.execute_input": "2022-06-14T12:06:23.728537Z",
     "iopub.status.busy": "2022-06-14T12:06:23.727850Z",
     "iopub.status.idle": "2022-06-14T12:06:23.734833Z",
     "shell.execute_reply": "2022-06-14T12:06:23.734289Z",
     "shell.execute_reply.started": "2022-06-14T11:23:33.622221Z"
    },
    "papermill": {
     "duration": 0.089318,
     "end_time": "2022-06-14T12:06:23.734959",
     "exception": false,
     "start_time": "2022-06-14T12:06:23.645641",
     "status": "completed"
    },
    "tags": []
   },
   "outputs": [],
   "source": [
    "train_df.loc[train_df['HouseFloor'] == 0, 'HouseFloor'] = train_df['HouseFloor'].median()"
   ]
  },
  {
   "cell_type": "code",
   "execution_count": 33,
   "metadata": {
    "execution": {
     "iopub.execute_input": "2022-06-14T12:06:23.899250Z",
     "iopub.status.busy": "2022-06-14T12:06:23.898574Z",
     "iopub.status.idle": "2022-06-14T12:06:23.906463Z",
     "shell.execute_reply": "2022-06-14T12:06:23.907060Z",
     "shell.execute_reply.started": "2022-06-14T11:23:33.662260Z"
    },
    "papermill": {
     "duration": 0.090559,
     "end_time": "2022-06-14T12:06:23.907224",
     "exception": false,
     "start_time": "2022-06-14T12:06:23.816665",
     "status": "completed"
    },
    "tags": []
   },
   "outputs": [
    {
     "data": {
      "text/plain": [
       "Int64Index([  17,   19,   21,   25,   26,   33,   34,   37,   39,   44,\n",
       "            ...\n",
       "            9913, 9921, 9930, 9931, 9938, 9953, 9960, 9968, 9970, 9975],\n",
       "           dtype='int64', length=1610)"
      ]
     },
     "execution_count": 33,
     "metadata": {},
     "output_type": "execute_result"
    }
   ],
   "source": [
    "floor_outliers = train_df.loc[train_df['Floor'] > train_df['HouseFloor']].index\n",
    "floor_outliers"
   ]
  },
  {
   "cell_type": "code",
   "execution_count": 34,
   "metadata": {
    "execution": {
     "iopub.execute_input": "2022-06-14T12:06:24.071929Z",
     "iopub.status.busy": "2022-06-14T12:06:24.071296Z",
     "iopub.status.idle": "2022-06-14T12:06:24.082965Z",
     "shell.execute_reply": "2022-06-14T12:06:24.083516Z",
     "shell.execute_reply.started": "2022-06-14T11:23:33.697054Z"
    },
    "papermill": {
     "duration": 0.095837,
     "end_time": "2022-06-14T12:06:24.083664",
     "exception": false,
     "start_time": "2022-06-14T12:06:23.987827",
     "status": "completed"
    },
    "tags": []
   },
   "outputs": [],
   "source": [
    "train_df.loc[floor_outliers, 'Floor'] = train_df.loc[floor_outliers, 'HouseFloor']\\\n",
    "                                                .apply(lambda x: random.randint(1, x))"
   ]
  },
  {
   "cell_type": "code",
   "execution_count": 35,
   "metadata": {
    "execution": {
     "iopub.execute_input": "2022-06-14T12:06:24.250869Z",
     "iopub.status.busy": "2022-06-14T12:06:24.250225Z",
     "iopub.status.idle": "2022-06-14T12:06:24.253751Z",
     "shell.execute_reply": "2022-06-14T12:06:24.254293Z",
     "shell.execute_reply.started": "2022-06-14T11:23:33.730214Z"
    },
    "papermill": {
     "duration": 0.090655,
     "end_time": "2022-06-14T12:06:24.254456",
     "exception": false,
     "start_time": "2022-06-14T12:06:24.163801",
     "status": "completed"
    },
    "tags": []
   },
   "outputs": [
    {
     "data": {
      "text/plain": [
       "0"
      ]
     },
     "execution_count": 35,
     "metadata": {},
     "output_type": "execute_result"
    }
   ],
   "source": [
    "(train_df['Floor'] > train_df['HouseFloor']).sum()"
   ]
  },
  {
   "cell_type": "markdown",
   "metadata": {
    "papermill": {
     "duration": 0.079994,
     "end_time": "2022-06-14T12:06:24.415049",
     "exception": false,
     "start_time": "2022-06-14T12:06:24.335055",
     "status": "completed"
    },
    "tags": []
   },
   "source": [
    "**HouseYear**"
   ]
  },
  {
   "cell_type": "code",
   "execution_count": 36,
   "metadata": {
    "execution": {
     "iopub.execute_input": "2022-06-14T12:06:24.578730Z",
     "iopub.status.busy": "2022-06-14T12:06:24.578081Z",
     "iopub.status.idle": "2022-06-14T12:06:24.586300Z",
     "shell.execute_reply": "2022-06-14T12:06:24.586800Z",
     "shell.execute_reply.started": "2022-06-14T11:23:33.759240Z"
    },
    "papermill": {
     "duration": 0.09164,
     "end_time": "2022-06-14T12:06:24.586939",
     "exception": false,
     "start_time": "2022-06-14T12:06:24.495299",
     "status": "completed"
    },
    "tags": []
   },
   "outputs": [
    {
     "data": {
      "text/plain": [
       "9163    20052011\n",
       "8828        4968\n",
       "7246        2020\n",
       "2350        2020\n",
       "8296        2020\n",
       "          ...   \n",
       "7610        1916\n",
       "6250        1914\n",
       "2066        1912\n",
       "2795        1912\n",
       "6794        1910\n",
       "Name: HouseYear, Length: 10000, dtype: int64"
      ]
     },
     "execution_count": 36,
     "metadata": {},
     "output_type": "execute_result"
    }
   ],
   "source": [
    "train_df['HouseYear'].sort_values(ascending=False)"
   ]
  },
  {
   "cell_type": "code",
   "execution_count": 37,
   "metadata": {
    "execution": {
     "iopub.execute_input": "2022-06-14T12:06:24.751390Z",
     "iopub.status.busy": "2022-06-14T12:06:24.750748Z",
     "iopub.status.idle": "2022-06-14T12:06:24.755973Z",
     "shell.execute_reply": "2022-06-14T12:06:24.756501Z",
     "shell.execute_reply.started": "2022-06-14T11:23:33.784934Z"
    },
    "papermill": {
     "duration": 0.088805,
     "end_time": "2022-06-14T12:06:24.756644",
     "exception": false,
     "start_time": "2022-06-14T12:06:24.667839",
     "status": "completed"
    },
    "tags": []
   },
   "outputs": [],
   "source": [
    "train_df.loc[train_df['HouseYear'] > 2020, 'HouseYear'] = 2020"
   ]
  },
  {
   "cell_type": "markdown",
   "metadata": {
    "papermill": {
     "duration": 0.097022,
     "end_time": "2022-06-14T12:06:24.937861",
     "exception": false,
     "start_time": "2022-06-14T12:06:24.840839",
     "status": "completed"
    },
    "tags": []
   },
   "source": [
    "### 3. Обработка пропусков  <a class='anchor' id='nan'>"
   ]
  },
  {
   "cell_type": "code",
   "execution_count": 38,
   "metadata": {
    "execution": {
     "iopub.execute_input": "2022-06-14T12:06:25.117375Z",
     "iopub.status.busy": "2022-06-14T12:06:25.116381Z",
     "iopub.status.idle": "2022-06-14T12:06:25.130196Z",
     "shell.execute_reply": "2022-06-14T12:06:25.130979Z",
     "shell.execute_reply.started": "2022-06-14T11:23:33.810043Z"
    },
    "papermill": {
     "duration": 0.106616,
     "end_time": "2022-06-14T12:06:25.131218",
     "exception": false,
     "start_time": "2022-06-14T12:06:25.024602",
     "status": "completed"
    },
    "tags": []
   },
   "outputs": [
    {
     "data": {
      "text/plain": [
       "Id                       0\n",
       "DistrictId               0\n",
       "Rooms                    0\n",
       "Square                   0\n",
       "LifeSquare            2113\n",
       "KitchenSquare            0\n",
       "Floor                    0\n",
       "HouseFloor               0\n",
       "HouseYear                0\n",
       "Ecology_1                0\n",
       "Ecology_2                0\n",
       "Ecology_3                0\n",
       "Social_1                 0\n",
       "Social_2                 0\n",
       "Social_3                 0\n",
       "Healthcare_1          4798\n",
       "Helthcare_2              0\n",
       "Shops_1                  0\n",
       "Shops_2                  0\n",
       "Price                    0\n",
       "Rooms_outlier            0\n",
       "HouseFloor_outlier       0\n",
       "dtype: int64"
      ]
     },
     "execution_count": 38,
     "metadata": {},
     "output_type": "execute_result"
    }
   ],
   "source": [
    "train_df.isna().sum()"
   ]
  },
  {
   "cell_type": "code",
   "execution_count": 39,
   "metadata": {
    "execution": {
     "iopub.execute_input": "2022-06-14T12:06:25.313788Z",
     "iopub.status.busy": "2022-06-14T12:06:25.313023Z",
     "iopub.status.idle": "2022-06-14T12:06:25.322711Z",
     "shell.execute_reply": "2022-06-14T12:06:25.323378Z",
     "shell.execute_reply.started": "2022-06-14T11:23:33.841929Z"
    },
    "papermill": {
     "duration": 0.099645,
     "end_time": "2022-06-14T12:06:25.323531",
     "exception": false,
     "start_time": "2022-06-14T12:06:25.223886",
     "status": "completed"
    },
    "tags": []
   },
   "outputs": [
    {
     "data": {
      "text/html": [
       "<div>\n",
       "<style scoped>\n",
       "    .dataframe tbody tr th:only-of-type {\n",
       "        vertical-align: middle;\n",
       "    }\n",
       "\n",
       "    .dataframe tbody tr th {\n",
       "        vertical-align: top;\n",
       "    }\n",
       "\n",
       "    .dataframe thead th {\n",
       "        text-align: right;\n",
       "    }\n",
       "</style>\n",
       "<table border=\"1\" class=\"dataframe\">\n",
       "  <thead>\n",
       "    <tr style=\"text-align: right;\">\n",
       "      <th></th>\n",
       "      <th>Square</th>\n",
       "      <th>LifeSquare</th>\n",
       "      <th>KitchenSquare</th>\n",
       "    </tr>\n",
       "  </thead>\n",
       "  <tbody>\n",
       "    <tr>\n",
       "      <th>0</th>\n",
       "      <td>115.027311</td>\n",
       "      <td>NaN</td>\n",
       "      <td>10.0</td>\n",
       "    </tr>\n",
       "    <tr>\n",
       "      <th>1</th>\n",
       "      <td>39.832524</td>\n",
       "      <td>23.169223</td>\n",
       "      <td>8.0</td>\n",
       "    </tr>\n",
       "    <tr>\n",
       "      <th>2</th>\n",
       "      <td>78.342215</td>\n",
       "      <td>47.671972</td>\n",
       "      <td>10.0</td>\n",
       "    </tr>\n",
       "    <tr>\n",
       "      <th>3</th>\n",
       "      <td>40.409907</td>\n",
       "      <td>NaN</td>\n",
       "      <td>3.0</td>\n",
       "    </tr>\n",
       "    <tr>\n",
       "      <th>4</th>\n",
       "      <td>64.285067</td>\n",
       "      <td>38.562517</td>\n",
       "      <td>9.0</td>\n",
       "    </tr>\n",
       "    <tr>\n",
       "      <th>5</th>\n",
       "      <td>62.528465</td>\n",
       "      <td>47.103833</td>\n",
       "      <td>6.0</td>\n",
       "    </tr>\n",
       "    <tr>\n",
       "      <th>6</th>\n",
       "      <td>33.938750</td>\n",
       "      <td>21.772930</td>\n",
       "      <td>9.0</td>\n",
       "    </tr>\n",
       "    <tr>\n",
       "      <th>7</th>\n",
       "      <td>50.391814</td>\n",
       "      <td>32.893256</td>\n",
       "      <td>8.0</td>\n",
       "    </tr>\n",
       "    <tr>\n",
       "      <th>8</th>\n",
       "      <td>46.887892</td>\n",
       "      <td>44.628132</td>\n",
       "      <td>3.0</td>\n",
       "    </tr>\n",
       "    <tr>\n",
       "      <th>9</th>\n",
       "      <td>79.867477</td>\n",
       "      <td>75.085125</td>\n",
       "      <td>3.0</td>\n",
       "    </tr>\n",
       "  </tbody>\n",
       "</table>\n",
       "</div>"
      ],
      "text/plain": [
       "       Square  LifeSquare  KitchenSquare\n",
       "0  115.027311         NaN           10.0\n",
       "1   39.832524   23.169223            8.0\n",
       "2   78.342215   47.671972           10.0\n",
       "3   40.409907         NaN            3.0\n",
       "4   64.285067   38.562517            9.0\n",
       "5   62.528465   47.103833            6.0\n",
       "6   33.938750   21.772930            9.0\n",
       "7   50.391814   32.893256            8.0\n",
       "8   46.887892   44.628132            3.0\n",
       "9   79.867477   75.085125            3.0"
      ]
     },
     "execution_count": 39,
     "metadata": {},
     "output_type": "execute_result"
    }
   ],
   "source": [
    "train_df[['Square', 'LifeSquare', 'KitchenSquare']].head(10)"
   ]
  },
  {
   "cell_type": "markdown",
   "metadata": {
    "papermill": {
     "duration": 0.082504,
     "end_time": "2022-06-14T12:06:25.488510",
     "exception": false,
     "start_time": "2022-06-14T12:06:25.406006",
     "status": "completed"
    },
    "tags": []
   },
   "source": [
    "**LifeSquare**"
   ]
  },
  {
   "cell_type": "code",
   "execution_count": 40,
   "metadata": {
    "execution": {
     "iopub.execute_input": "2022-06-14T12:06:25.659264Z",
     "iopub.status.busy": "2022-06-14T12:06:25.658563Z",
     "iopub.status.idle": "2022-06-14T12:06:25.674680Z",
     "shell.execute_reply": "2022-06-14T12:06:25.675175Z",
     "shell.execute_reply.started": "2022-06-14T11:23:33.862940Z"
    },
    "papermill": {
     "duration": 0.103353,
     "end_time": "2022-06-14T12:06:25.675336",
     "exception": false,
     "start_time": "2022-06-14T12:06:25.571983",
     "status": "completed"
    },
    "tags": []
   },
   "outputs": [],
   "source": [
    "train_df['LifeSquare_nan'] = train_df['LifeSquare'].isna() * 1\n",
    "\n",
    "condition = (train_df['LifeSquare'].isna()) \\\n",
    "             & (~train_df['Square'].isna()) \\\n",
    "             & (~train_df['KitchenSquare'].isna())\n",
    "        \n",
    "train_df.loc[condition, 'LifeSquare'] = train_df.loc[condition, 'Square'] \\\n",
    "                                            - train_df.loc[condition, 'KitchenSquare'] - 3"
   ]
  },
  {
   "cell_type": "markdown",
   "metadata": {
    "papermill": {
     "duration": 0.082728,
     "end_time": "2022-06-14T12:06:25.843302",
     "exception": false,
     "start_time": "2022-06-14T12:06:25.760574",
     "status": "completed"
    },
    "tags": []
   },
   "source": [
    "Healthcare_1"
   ]
  },
  {
   "cell_type": "code",
   "execution_count": 41,
   "metadata": {
    "execution": {
     "iopub.execute_input": "2022-06-14T12:06:26.018603Z",
     "iopub.status.busy": "2022-06-14T12:06:26.017896Z",
     "iopub.status.idle": "2022-06-14T12:06:26.019323Z",
     "shell.execute_reply": "2022-06-14T12:06:26.019953Z",
     "shell.execute_reply.started": "2022-06-14T11:23:33.900327Z"
    },
    "papermill": {
     "duration": 0.094066,
     "end_time": "2022-06-14T12:06:26.020098",
     "exception": false,
     "start_time": "2022-06-14T12:06:25.926032",
     "status": "completed"
    },
    "tags": []
   },
   "outputs": [],
   "source": [
    "train_df.drop('Healthcare_1', axis=1, inplace=True)"
   ]
  },
  {
   "cell_type": "code",
   "execution_count": 42,
   "metadata": {
    "execution": {
     "iopub.execute_input": "2022-06-14T12:06:26.187000Z",
     "iopub.status.busy": "2022-06-14T12:06:26.186371Z",
     "iopub.status.idle": "2022-06-14T12:06:26.250457Z",
     "shell.execute_reply": "2022-06-14T12:06:26.249836Z",
     "shell.execute_reply.started": "2022-06-14T11:23:33.932890Z"
    },
    "papermill": {
     "duration": 0.148487,
     "end_time": "2022-06-14T12:06:26.250588",
     "exception": false,
     "start_time": "2022-06-14T12:06:26.102101",
     "status": "completed"
    },
    "tags": []
   },
   "outputs": [
    {
     "data": {
      "text/html": [
       "<div>\n",
       "<style scoped>\n",
       "    .dataframe tbody tr th:only-of-type {\n",
       "        vertical-align: middle;\n",
       "    }\n",
       "\n",
       "    .dataframe tbody tr th {\n",
       "        vertical-align: top;\n",
       "    }\n",
       "\n",
       "    .dataframe thead th {\n",
       "        text-align: right;\n",
       "    }\n",
       "</style>\n",
       "<table border=\"1\" class=\"dataframe\">\n",
       "  <thead>\n",
       "    <tr style=\"text-align: right;\">\n",
       "      <th></th>\n",
       "      <th>Rooms</th>\n",
       "      <th>Square</th>\n",
       "      <th>LifeSquare</th>\n",
       "      <th>KitchenSquare</th>\n",
       "      <th>Floor</th>\n",
       "      <th>HouseFloor</th>\n",
       "      <th>HouseYear</th>\n",
       "      <th>Ecology_1</th>\n",
       "      <th>Social_1</th>\n",
       "      <th>Social_2</th>\n",
       "      <th>Social_3</th>\n",
       "      <th>Helthcare_2</th>\n",
       "      <th>Shops_1</th>\n",
       "      <th>Price</th>\n",
       "      <th>Rooms_outlier</th>\n",
       "      <th>HouseFloor_outlier</th>\n",
       "      <th>LifeSquare_nan</th>\n",
       "    </tr>\n",
       "  </thead>\n",
       "  <tbody>\n",
       "    <tr>\n",
       "      <th>count</th>\n",
       "      <td>10000.000000</td>\n",
       "      <td>10000.000000</td>\n",
       "      <td>10000.000000</td>\n",
       "      <td>10000.000000</td>\n",
       "      <td>10000.000000</td>\n",
       "      <td>10000.00000</td>\n",
       "      <td>10000.000000</td>\n",
       "      <td>10000.000000</td>\n",
       "      <td>10000.000000</td>\n",
       "      <td>10000.000000</td>\n",
       "      <td>10000.000000</td>\n",
       "      <td>10000.000000</td>\n",
       "      <td>10000.000000</td>\n",
       "      <td>10000.000000</td>\n",
       "      <td>10000.000000</td>\n",
       "      <td>10000.000000</td>\n",
       "      <td>10000.000000</td>\n",
       "    </tr>\n",
       "    <tr>\n",
       "      <th>mean</th>\n",
       "      <td>1.887600</td>\n",
       "      <td>56.315775</td>\n",
       "      <td>40.734674</td>\n",
       "      <td>6.238200</td>\n",
       "      <td>7.397900</td>\n",
       "      <td>12.95910</td>\n",
       "      <td>1984.872400</td>\n",
       "      <td>0.118858</td>\n",
       "      <td>24.687000</td>\n",
       "      <td>5352.157400</td>\n",
       "      <td>8.039200</td>\n",
       "      <td>1.319500</td>\n",
       "      <td>4.231300</td>\n",
       "      <td>214138.857399</td>\n",
       "      <td>0.001200</td>\n",
       "      <td>0.182500</td>\n",
       "      <td>0.211300</td>\n",
       "    </tr>\n",
       "    <tr>\n",
       "      <th>std</th>\n",
       "      <td>0.811438</td>\n",
       "      <td>21.058732</td>\n",
       "      <td>77.610357</td>\n",
       "      <td>2.794717</td>\n",
       "      <td>5.035426</td>\n",
       "      <td>6.44346</td>\n",
       "      <td>18.416347</td>\n",
       "      <td>0.119025</td>\n",
       "      <td>17.532614</td>\n",
       "      <td>4006.799803</td>\n",
       "      <td>23.831875</td>\n",
       "      <td>1.493601</td>\n",
       "      <td>4.806341</td>\n",
       "      <td>92872.293865</td>\n",
       "      <td>0.034622</td>\n",
       "      <td>0.386275</td>\n",
       "      <td>0.408251</td>\n",
       "    </tr>\n",
       "    <tr>\n",
       "      <th>min</th>\n",
       "      <td>1.000000</td>\n",
       "      <td>1.136859</td>\n",
       "      <td>0.370619</td>\n",
       "      <td>3.000000</td>\n",
       "      <td>1.000000</td>\n",
       "      <td>1.00000</td>\n",
       "      <td>1910.000000</td>\n",
       "      <td>0.000000</td>\n",
       "      <td>0.000000</td>\n",
       "      <td>168.000000</td>\n",
       "      <td>0.000000</td>\n",
       "      <td>0.000000</td>\n",
       "      <td>0.000000</td>\n",
       "      <td>59174.778028</td>\n",
       "      <td>0.000000</td>\n",
       "      <td>0.000000</td>\n",
       "      <td>0.000000</td>\n",
       "    </tr>\n",
       "    <tr>\n",
       "      <th>25%</th>\n",
       "      <td>1.000000</td>\n",
       "      <td>41.774881</td>\n",
       "      <td>25.285992</td>\n",
       "      <td>3.000000</td>\n",
       "      <td>3.000000</td>\n",
       "      <td>9.00000</td>\n",
       "      <td>1974.000000</td>\n",
       "      <td>0.017647</td>\n",
       "      <td>6.000000</td>\n",
       "      <td>1564.000000</td>\n",
       "      <td>0.000000</td>\n",
       "      <td>0.000000</td>\n",
       "      <td>1.000000</td>\n",
       "      <td>153872.633942</td>\n",
       "      <td>0.000000</td>\n",
       "      <td>0.000000</td>\n",
       "      <td>0.000000</td>\n",
       "    </tr>\n",
       "    <tr>\n",
       "      <th>50%</th>\n",
       "      <td>2.000000</td>\n",
       "      <td>52.513310</td>\n",
       "      <td>35.527336</td>\n",
       "      <td>6.000000</td>\n",
       "      <td>6.000000</td>\n",
       "      <td>13.00000</td>\n",
       "      <td>1977.000000</td>\n",
       "      <td>0.075424</td>\n",
       "      <td>25.000000</td>\n",
       "      <td>5285.000000</td>\n",
       "      <td>2.000000</td>\n",
       "      <td>1.000000</td>\n",
       "      <td>3.000000</td>\n",
       "      <td>192269.644879</td>\n",
       "      <td>0.000000</td>\n",
       "      <td>0.000000</td>\n",
       "      <td>0.000000</td>\n",
       "    </tr>\n",
       "    <tr>\n",
       "      <th>75%</th>\n",
       "      <td>2.000000</td>\n",
       "      <td>65.900625</td>\n",
       "      <td>48.706162</td>\n",
       "      <td>8.000000</td>\n",
       "      <td>11.000000</td>\n",
       "      <td>17.00000</td>\n",
       "      <td>2001.000000</td>\n",
       "      <td>0.195781</td>\n",
       "      <td>36.000000</td>\n",
       "      <td>7227.000000</td>\n",
       "      <td>5.000000</td>\n",
       "      <td>2.000000</td>\n",
       "      <td>6.000000</td>\n",
       "      <td>249135.462171</td>\n",
       "      <td>0.000000</td>\n",
       "      <td>0.000000</td>\n",
       "      <td>0.000000</td>\n",
       "    </tr>\n",
       "    <tr>\n",
       "      <th>max</th>\n",
       "      <td>5.000000</td>\n",
       "      <td>641.065193</td>\n",
       "      <td>7480.592129</td>\n",
       "      <td>13.000000</td>\n",
       "      <td>42.000000</td>\n",
       "      <td>117.00000</td>\n",
       "      <td>2020.000000</td>\n",
       "      <td>0.521867</td>\n",
       "      <td>74.000000</td>\n",
       "      <td>19083.000000</td>\n",
       "      <td>141.000000</td>\n",
       "      <td>6.000000</td>\n",
       "      <td>23.000000</td>\n",
       "      <td>633233.466570</td>\n",
       "      <td>1.000000</td>\n",
       "      <td>1.000000</td>\n",
       "      <td>1.000000</td>\n",
       "    </tr>\n",
       "  </tbody>\n",
       "</table>\n",
       "</div>"
      ],
      "text/plain": [
       "              Rooms        Square    LifeSquare  KitchenSquare         Floor  \\\n",
       "count  10000.000000  10000.000000  10000.000000   10000.000000  10000.000000   \n",
       "mean       1.887600     56.315775     40.734674       6.238200      7.397900   \n",
       "std        0.811438     21.058732     77.610357       2.794717      5.035426   \n",
       "min        1.000000      1.136859      0.370619       3.000000      1.000000   \n",
       "25%        1.000000     41.774881     25.285992       3.000000      3.000000   \n",
       "50%        2.000000     52.513310     35.527336       6.000000      6.000000   \n",
       "75%        2.000000     65.900625     48.706162       8.000000     11.000000   \n",
       "max        5.000000    641.065193   7480.592129      13.000000     42.000000   \n",
       "\n",
       "        HouseFloor     HouseYear     Ecology_1      Social_1      Social_2  \\\n",
       "count  10000.00000  10000.000000  10000.000000  10000.000000  10000.000000   \n",
       "mean      12.95910   1984.872400      0.118858     24.687000   5352.157400   \n",
       "std        6.44346     18.416347      0.119025     17.532614   4006.799803   \n",
       "min        1.00000   1910.000000      0.000000      0.000000    168.000000   \n",
       "25%        9.00000   1974.000000      0.017647      6.000000   1564.000000   \n",
       "50%       13.00000   1977.000000      0.075424     25.000000   5285.000000   \n",
       "75%       17.00000   2001.000000      0.195781     36.000000   7227.000000   \n",
       "max      117.00000   2020.000000      0.521867     74.000000  19083.000000   \n",
       "\n",
       "           Social_3   Helthcare_2       Shops_1          Price  Rooms_outlier  \\\n",
       "count  10000.000000  10000.000000  10000.000000   10000.000000   10000.000000   \n",
       "mean       8.039200      1.319500      4.231300  214138.857399       0.001200   \n",
       "std       23.831875      1.493601      4.806341   92872.293865       0.034622   \n",
       "min        0.000000      0.000000      0.000000   59174.778028       0.000000   \n",
       "25%        0.000000      0.000000      1.000000  153872.633942       0.000000   \n",
       "50%        2.000000      1.000000      3.000000  192269.644879       0.000000   \n",
       "75%        5.000000      2.000000      6.000000  249135.462171       0.000000   \n",
       "max      141.000000      6.000000     23.000000  633233.466570       1.000000   \n",
       "\n",
       "       HouseFloor_outlier  LifeSquare_nan  \n",
       "count        10000.000000    10000.000000  \n",
       "mean             0.182500        0.211300  \n",
       "std              0.386275        0.408251  \n",
       "min              0.000000        0.000000  \n",
       "25%              0.000000        0.000000  \n",
       "50%              0.000000        0.000000  \n",
       "75%              0.000000        0.000000  \n",
       "max              1.000000        1.000000  "
      ]
     },
     "execution_count": 42,
     "metadata": {},
     "output_type": "execute_result"
    }
   ],
   "source": [
    "train_df.describe()"
   ]
  },
  {
   "cell_type": "code",
   "execution_count": 43,
   "metadata": {
    "execution": {
     "iopub.execute_input": "2022-06-14T12:06:26.419534Z",
     "iopub.status.busy": "2022-06-14T12:06:26.418734Z",
     "iopub.status.idle": "2022-06-14T12:06:26.450610Z",
     "shell.execute_reply": "2022-06-14T12:06:26.449904Z",
     "shell.execute_reply.started": "2022-06-14T11:41:58.727739Z"
    },
    "papermill": {
     "duration": 0.117472,
     "end_time": "2022-06-14T12:06:26.450723",
     "exception": false,
     "start_time": "2022-06-14T12:06:26.333251",
     "status": "completed"
    },
    "tags": []
   },
   "outputs": [],
   "source": [
    "class DataPreprocessor:\n",
    "    \"\"\"Подготовка исходных данных\"\"\"\n",
    "    \n",
    "    def __init__(self):\n",
    "        \"\"\"Параметры класса\"\"\"\n",
    "        self.medians = None\n",
    "        self.kitchen_square_max_value = None\n",
    "        self.kitchen_square_min_value = None\n",
    "        self.life_square_min_value = None\n",
    "        self.max_floor = None\n",
    "        self.districts_healthcare = None\n",
    "\n",
    "        \n",
    "    def fit(self, df):\n",
    "        \"\"\"Сохранение статистик\"\"\"\n",
    "        # Medians and quantiles\n",
    "        self.medians = df.median() # medians\n",
    "        self.kitchen_square_max_value = np.quantile(df['KitchenSquare'], q=0.999) \n",
    "        self.kitchen_square_min_value = np.quantile(df['KitchenSquare'], q=0.001) \n",
    "        self.life_square_min_value = np.quantile(df['LifeSquare'], q=0.03) \n",
    "        self.max_floor = df['Floor'].max()\n",
    "        \n",
    "        \n",
    "        # Compute mean Helthcare_1 value in each district\n",
    "        self.districts_healthcare = df.groupby(['DistrictId'])['Healthcare_1'].agg('mean').to_dict()\n",
    "\n",
    "\n",
    "    def transform(self, df):\n",
    "        \"\"\"Трансформация данных\"\"\"\n",
    "        # Life Square fillna\n",
    "        df['LifeSquare'].fillna(((df['Square'] - df['KitchenSquare']) - df['Square']*0.2), inplace=True)\n",
    "\n",
    "\n",
    "        # Rooms\n",
    "        # Fillna with medians         \n",
    "        df['Rooms'].fillna(self.medians.Rooms, inplace=True) \n",
    "        \n",
    "        # Compute median room square and fill outliers with LifeSquare/Room_square \n",
    "        condition_rooms = (df['Rooms'] > 6) | (df['Rooms'] == 0)   \n",
    "        room_sq = np.round((self.medians.LifeSquare / self.medians.Rooms, 1))[0]\n",
    "        df.loc[condition_rooms , 'Rooms'] = df.loc[condition_rooms, 'LifeSquare'] / room_sq\n",
    "\n",
    "        # Square\n",
    "        # If LifeSquare > Square: exchange values\n",
    "        df['Square'], df['LifeSquare'] = np.where(df['Square'] < df['LifeSquare'],(df['LifeSquare'],df['Square']), (df['Square'],df['LifeSquare']))\n",
    "\n",
    "\n",
    "        # LifeSquare\n",
    "        # Fill outliers with (Square - KithcenSquare)\n",
    "        ls_condition = (df['LifeSquare'] < self.life_square_min_value)\n",
    "        df.loc[ls_condition, 'LifeSquare'] = df.loc[ls_condition, ['Square']] - df.loc[ls_condition, ['KitchenSquare']]\n",
    "  \n",
    "        \n",
    "        # KitchenSquare\n",
    "        # Fill outliers with (Square - LifeSquare - 10% of Square)\n",
    "        condition_kitchen_square = (df['KitchenSquare'] > self.kitchen_square_max_value) | (df['KitchenSquare'] < self.kitchen_square_min_value)\n",
    "        df.loc[condition_kitchen_square, 'KitchenSquare'] = df.loc[condition_kitchen_square, 'Square'] - df.loc[condition_kitchen_square, 'LifeSquare'] \\\n",
    "        - (df.loc[condition_kitchen_square, 'Square'] * 0.1)\n",
    "\n",
    "\n",
    "        # Ecology and Shops\n",
    "        # Switch to binary\n",
    "        df.replace({'Ecology_2': {'A': 0, 'B': 1}}, inplace=True)\n",
    "        df.replace({'Ecology_3': {'A': 0, 'B': 1}}, inplace=True)\n",
    "        df.replace({'Shops_2': {'A': 0, 'B': 1}}, inplace=True)\n",
    "        \n",
    "        \n",
    "        # HouseFloor\n",
    "        # If HouseFloor < Floor: exchange values\n",
    "        house_floor_condition = df['HouseFloor'] < df['Floor']\n",
    "        df.loc[house_floor_condition, 'HouseFloor'] = df.loc[house_floor_condition, 'Floor']\n",
    "\n",
    "        \n",
    "        # HouseYear\n",
    "        # If HouseYear > current year set median value\n",
    "        current_year = datetime.now().year\n",
    "        condition_year = (df['HouseYear'] == 20052011)\n",
    "        df.loc[condition_year, 'HouseYear'] = random.randint(2005, 2011)\n",
    "        condition_year = (df['HouseYear'] == 4968)\n",
    "        df.loc[condition_year, 'HouseYear'] = random.randint(1949, 1968)\n",
    "        condition_year = (df['HouseYear'] > current_year)\n",
    "        df.loc[condition_year, 'HouseYear'] = self.medians.HouseYear\n",
    "        \n",
    "        \n",
    "        # Healthcare\n",
    "        # Fillna with dictrict healthcare value. (If district has no healthcare value fill with medians)      \n",
    "        df.loc[df['Healthcare_1'].isna(), 'Healthcare_1'] = df['DistrictId'].map(self.districts_healthcare)\n",
    "        df['Healthcare_1'].fillna(self.medians.Healthcare_1, inplace=True)       \n",
    "        # Clip on upper quantille\n",
    "        q_max = np.quantile(df['Healthcare_1'], q=0.9)\n",
    "        df['Healthcare_1'].clip(upper=q_max, axis=0, inplace=True)\n",
    "        \n",
    "        \n",
    "        # Drop Id\n",
    "        df.drop(['Id'], axis=1, inplace=True)\n",
    "\n",
    "        \n",
    "        # Fillna just in case\n",
    "        df.fillna(self.medians, inplace=True)\n",
    "        return df\n"
   ]
  },
  {
   "cell_type": "markdown",
   "metadata": {
    "papermill": {
     "duration": 0.081744,
     "end_time": "2022-06-14T12:06:26.616042",
     "exception": false,
     "start_time": "2022-06-14T12:06:26.534298",
     "status": "completed"
    },
    "tags": []
   },
   "source": [
    "### 4. Построение новых признаков  <a class='anchor' id='feature'>"
   ]
  },
  {
   "cell_type": "markdown",
   "metadata": {
    "papermill": {
     "duration": 0.081642,
     "end_time": "2022-06-14T12:06:26.780248",
     "exception": false,
     "start_time": "2022-06-14T12:06:26.698606",
     "status": "completed"
    },
    "tags": []
   },
   "source": [
    "**DistrictSize, IsDistrictLarge**"
   ]
  },
  {
   "cell_type": "code",
   "execution_count": 44,
   "metadata": {
    "execution": {
     "iopub.execute_input": "2022-06-14T12:06:26.950710Z",
     "iopub.status.busy": "2022-06-14T12:06:26.950037Z",
     "iopub.status.idle": "2022-06-14T12:06:26.965504Z",
     "shell.execute_reply": "2022-06-14T12:06:26.966052Z",
     "shell.execute_reply.started": "2022-06-14T11:34:02.696106Z"
    },
    "papermill": {
     "duration": 0.102272,
     "end_time": "2022-06-14T12:06:26.966224",
     "exception": false,
     "start_time": "2022-06-14T12:06:26.863952",
     "status": "completed"
    },
    "tags": []
   },
   "outputs": [
    {
     "data": {
      "text/html": [
       "<div>\n",
       "<style scoped>\n",
       "    .dataframe tbody tr th:only-of-type {\n",
       "        vertical-align: middle;\n",
       "    }\n",
       "\n",
       "    .dataframe tbody tr th {\n",
       "        vertical-align: top;\n",
       "    }\n",
       "\n",
       "    .dataframe thead th {\n",
       "        text-align: right;\n",
       "    }\n",
       "</style>\n",
       "<table border=\"1\" class=\"dataframe\">\n",
       "  <thead>\n",
       "    <tr style=\"text-align: right;\">\n",
       "      <th></th>\n",
       "      <th>DistrictId</th>\n",
       "      <th>DistrictSize</th>\n",
       "    </tr>\n",
       "  </thead>\n",
       "  <tbody>\n",
       "    <tr>\n",
       "      <th>0</th>\n",
       "      <td>27</td>\n",
       "      <td>851</td>\n",
       "    </tr>\n",
       "    <tr>\n",
       "      <th>1</th>\n",
       "      <td>1</td>\n",
       "      <td>652</td>\n",
       "    </tr>\n",
       "    <tr>\n",
       "      <th>2</th>\n",
       "      <td>23</td>\n",
       "      <td>565</td>\n",
       "    </tr>\n",
       "    <tr>\n",
       "      <th>3</th>\n",
       "      <td>6</td>\n",
       "      <td>511</td>\n",
       "    </tr>\n",
       "    <tr>\n",
       "      <th>4</th>\n",
       "      <td>9</td>\n",
       "      <td>294</td>\n",
       "    </tr>\n",
       "  </tbody>\n",
       "</table>\n",
       "</div>"
      ],
      "text/plain": [
       "  DistrictId  DistrictSize\n",
       "0         27           851\n",
       "1          1           652\n",
       "2         23           565\n",
       "3          6           511\n",
       "4          9           294"
      ]
     },
     "execution_count": 44,
     "metadata": {},
     "output_type": "execute_result"
    }
   ],
   "source": [
    "district_size = train_df['DistrictId'].value_counts().reset_index()\\\n",
    "                    .rename(columns={'index':'DistrictId', 'DistrictId':'DistrictSize'})\n",
    "\n",
    "district_size.head()"
   ]
  },
  {
   "cell_type": "code",
   "execution_count": 45,
   "metadata": {
    "execution": {
     "iopub.execute_input": "2022-06-14T12:06:27.134689Z",
     "iopub.status.busy": "2022-06-14T12:06:27.134015Z",
     "iopub.status.idle": "2022-06-14T12:06:27.177745Z",
     "shell.execute_reply": "2022-06-14T12:06:27.177092Z",
     "shell.execute_reply.started": "2022-06-14T11:34:14.096458Z"
    },
    "papermill": {
     "duration": 0.128721,
     "end_time": "2022-06-14T12:06:27.177857",
     "exception": false,
     "start_time": "2022-06-14T12:06:27.049136",
     "status": "completed"
    },
    "tags": []
   },
   "outputs": [
    {
     "data": {
      "text/html": [
       "<div>\n",
       "<style scoped>\n",
       "    .dataframe tbody tr th:only-of-type {\n",
       "        vertical-align: middle;\n",
       "    }\n",
       "\n",
       "    .dataframe tbody tr th {\n",
       "        vertical-align: top;\n",
       "    }\n",
       "\n",
       "    .dataframe thead th {\n",
       "        text-align: right;\n",
       "    }\n",
       "</style>\n",
       "<table border=\"1\" class=\"dataframe\">\n",
       "  <thead>\n",
       "    <tr style=\"text-align: right;\">\n",
       "      <th></th>\n",
       "      <th>Id</th>\n",
       "      <th>DistrictId</th>\n",
       "      <th>Rooms</th>\n",
       "      <th>Square</th>\n",
       "      <th>LifeSquare</th>\n",
       "      <th>KitchenSquare</th>\n",
       "      <th>Floor</th>\n",
       "      <th>HouseFloor</th>\n",
       "      <th>HouseYear</th>\n",
       "      <th>Ecology_1</th>\n",
       "      <th>...</th>\n",
       "      <th>Social_2</th>\n",
       "      <th>Social_3</th>\n",
       "      <th>Helthcare_2</th>\n",
       "      <th>Shops_1</th>\n",
       "      <th>Shops_2</th>\n",
       "      <th>Price</th>\n",
       "      <th>Rooms_outlier</th>\n",
       "      <th>HouseFloor_outlier</th>\n",
       "      <th>LifeSquare_nan</th>\n",
       "      <th>DistrictSize</th>\n",
       "    </tr>\n",
       "  </thead>\n",
       "  <tbody>\n",
       "    <tr>\n",
       "      <th>0</th>\n",
       "      <td>11809</td>\n",
       "      <td>27</td>\n",
       "      <td>3.0</td>\n",
       "      <td>115.027311</td>\n",
       "      <td>102.027311</td>\n",
       "      <td>10.0</td>\n",
       "      <td>4</td>\n",
       "      <td>10.0</td>\n",
       "      <td>2014</td>\n",
       "      <td>0.075424</td>\n",
       "      <td>...</td>\n",
       "      <td>3097</td>\n",
       "      <td>0</td>\n",
       "      <td>0</td>\n",
       "      <td>0</td>\n",
       "      <td>B</td>\n",
       "      <td>305018.871089</td>\n",
       "      <td>0</td>\n",
       "      <td>0</td>\n",
       "      <td>1</td>\n",
       "      <td>851</td>\n",
       "    </tr>\n",
       "    <tr>\n",
       "      <th>1</th>\n",
       "      <td>3013</td>\n",
       "      <td>22</td>\n",
       "      <td>1.0</td>\n",
       "      <td>39.832524</td>\n",
       "      <td>23.169223</td>\n",
       "      <td>8.0</td>\n",
       "      <td>7</td>\n",
       "      <td>8.0</td>\n",
       "      <td>1966</td>\n",
       "      <td>0.118537</td>\n",
       "      <td>...</td>\n",
       "      <td>6207</td>\n",
       "      <td>1</td>\n",
       "      <td>1</td>\n",
       "      <td>0</td>\n",
       "      <td>B</td>\n",
       "      <td>177734.553407</td>\n",
       "      <td>0</td>\n",
       "      <td>0</td>\n",
       "      <td>0</td>\n",
       "      <td>78</td>\n",
       "    </tr>\n",
       "    <tr>\n",
       "      <th>2</th>\n",
       "      <td>8215</td>\n",
       "      <td>1</td>\n",
       "      <td>3.0</td>\n",
       "      <td>78.342215</td>\n",
       "      <td>47.671972</td>\n",
       "      <td>10.0</td>\n",
       "      <td>2</td>\n",
       "      <td>17.0</td>\n",
       "      <td>1988</td>\n",
       "      <td>0.025609</td>\n",
       "      <td>...</td>\n",
       "      <td>5261</td>\n",
       "      <td>0</td>\n",
       "      <td>3</td>\n",
       "      <td>1</td>\n",
       "      <td>B</td>\n",
       "      <td>282078.720850</td>\n",
       "      <td>0</td>\n",
       "      <td>0</td>\n",
       "      <td>0</td>\n",
       "      <td>652</td>\n",
       "    </tr>\n",
       "    <tr>\n",
       "      <th>3</th>\n",
       "      <td>2352</td>\n",
       "      <td>1</td>\n",
       "      <td>1.0</td>\n",
       "      <td>40.409907</td>\n",
       "      <td>34.409907</td>\n",
       "      <td>3.0</td>\n",
       "      <td>10</td>\n",
       "      <td>22.0</td>\n",
       "      <td>1977</td>\n",
       "      <td>0.007122</td>\n",
       "      <td>...</td>\n",
       "      <td>264</td>\n",
       "      <td>0</td>\n",
       "      <td>0</td>\n",
       "      <td>1</td>\n",
       "      <td>B</td>\n",
       "      <td>168106.007630</td>\n",
       "      <td>0</td>\n",
       "      <td>0</td>\n",
       "      <td>1</td>\n",
       "      <td>652</td>\n",
       "    </tr>\n",
       "    <tr>\n",
       "      <th>4</th>\n",
       "      <td>13866</td>\n",
       "      <td>94</td>\n",
       "      <td>2.0</td>\n",
       "      <td>64.285067</td>\n",
       "      <td>38.562517</td>\n",
       "      <td>9.0</td>\n",
       "      <td>16</td>\n",
       "      <td>16.0</td>\n",
       "      <td>1972</td>\n",
       "      <td>0.282798</td>\n",
       "      <td>...</td>\n",
       "      <td>8667</td>\n",
       "      <td>2</td>\n",
       "      <td>0</td>\n",
       "      <td>6</td>\n",
       "      <td>B</td>\n",
       "      <td>343995.102962</td>\n",
       "      <td>0</td>\n",
       "      <td>0</td>\n",
       "      <td>0</td>\n",
       "      <td>89</td>\n",
       "    </tr>\n",
       "  </tbody>\n",
       "</table>\n",
       "<p>5 rows × 23 columns</p>\n",
       "</div>"
      ],
      "text/plain": [
       "      Id DistrictId  Rooms      Square  LifeSquare  KitchenSquare  Floor  \\\n",
       "0  11809         27    3.0  115.027311  102.027311           10.0      4   \n",
       "1   3013         22    1.0   39.832524   23.169223            8.0      7   \n",
       "2   8215          1    3.0   78.342215   47.671972           10.0      2   \n",
       "3   2352          1    1.0   40.409907   34.409907            3.0     10   \n",
       "4  13866         94    2.0   64.285067   38.562517            9.0     16   \n",
       "\n",
       "   HouseFloor  HouseYear  Ecology_1  ... Social_2 Social_3  Helthcare_2  \\\n",
       "0        10.0       2014   0.075424  ...     3097        0            0   \n",
       "1         8.0       1966   0.118537  ...     6207        1            1   \n",
       "2        17.0       1988   0.025609  ...     5261        0            3   \n",
       "3        22.0       1977   0.007122  ...      264        0            0   \n",
       "4        16.0       1972   0.282798  ...     8667        2            0   \n",
       "\n",
       "   Shops_1  Shops_2          Price  Rooms_outlier HouseFloor_outlier  \\\n",
       "0        0        B  305018.871089              0                  0   \n",
       "1        0        B  177734.553407              0                  0   \n",
       "2        1        B  282078.720850              0                  0   \n",
       "3        1        B  168106.007630              0                  0   \n",
       "4        6        B  343995.102962              0                  0   \n",
       "\n",
       "   LifeSquare_nan  DistrictSize  \n",
       "0               1           851  \n",
       "1               0            78  \n",
       "2               0           652  \n",
       "3               1           652  \n",
       "4               0            89  \n",
       "\n",
       "[5 rows x 23 columns]"
      ]
     },
     "execution_count": 45,
     "metadata": {},
     "output_type": "execute_result"
    }
   ],
   "source": [
    "train_df = train_df.merge(district_size, on='DistrictId', how='left')\n",
    "train_df.head()"
   ]
  },
  {
   "cell_type": "code",
   "execution_count": 46,
   "metadata": {
    "execution": {
     "iopub.execute_input": "2022-06-14T12:06:27.348525Z",
     "iopub.status.busy": "2022-06-14T12:06:27.347853Z",
     "iopub.status.idle": "2022-06-14T12:06:27.358853Z",
     "shell.execute_reply": "2022-06-14T12:06:27.358204Z",
     "shell.execute_reply.started": "2022-06-14T11:34:24.463191Z"
    },
    "papermill": {
     "duration": 0.097966,
     "end_time": "2022-06-14T12:06:27.358996",
     "exception": false,
     "start_time": "2022-06-14T12:06:27.261030",
     "status": "completed"
    },
    "tags": []
   },
   "outputs": [
    {
     "data": {
      "text/plain": [
       "True     5069\n",
       "False    4931\n",
       "Name: DistrictSize, dtype: int64"
      ]
     },
     "execution_count": 46,
     "metadata": {},
     "output_type": "execute_result"
    }
   ],
   "source": [
    "(train_df['DistrictSize'] > 100).value_counts()"
   ]
  },
  {
   "cell_type": "code",
   "execution_count": 47,
   "metadata": {
    "execution": {
     "iopub.execute_input": "2022-06-14T12:06:27.533567Z",
     "iopub.status.busy": "2022-06-14T12:06:27.532706Z",
     "iopub.status.idle": "2022-06-14T12:06:27.535804Z",
     "shell.execute_reply": "2022-06-14T12:06:27.536384Z",
     "shell.execute_reply.started": "2022-06-14T11:34:33.272389Z"
    },
    "papermill": {
     "duration": 0.092884,
     "end_time": "2022-06-14T12:06:27.536529",
     "exception": false,
     "start_time": "2022-06-14T12:06:27.443645",
     "status": "completed"
    },
    "tags": []
   },
   "outputs": [],
   "source": [
    "train_df['IsDistrictLarge'] = (train_df['DistrictSize'] > 100).astype(int)"
   ]
  },
  {
   "cell_type": "markdown",
   "metadata": {
    "papermill": {
     "duration": 0.083259,
     "end_time": "2022-06-14T12:06:27.704664",
     "exception": false,
     "start_time": "2022-06-14T12:06:27.621405",
     "status": "completed"
    },
    "tags": []
   },
   "source": [
    "**MedPriceByDistrict**"
   ]
  },
  {
   "cell_type": "code",
   "execution_count": 48,
   "metadata": {
    "execution": {
     "iopub.execute_input": "2022-06-14T12:06:27.876743Z",
     "iopub.status.busy": "2022-06-14T12:06:27.876045Z",
     "iopub.status.idle": "2022-06-14T12:06:27.896650Z",
     "shell.execute_reply": "2022-06-14T12:06:27.897223Z",
     "shell.execute_reply.started": "2022-06-14T11:34:50.311936Z"
    },
    "papermill": {
     "duration": 0.108896,
     "end_time": "2022-06-14T12:06:27.897369",
     "exception": false,
     "start_time": "2022-06-14T12:06:27.788473",
     "status": "completed"
    },
    "tags": []
   },
   "outputs": [
    {
     "data": {
      "text/html": [
       "<div>\n",
       "<style scoped>\n",
       "    .dataframe tbody tr th:only-of-type {\n",
       "        vertical-align: middle;\n",
       "    }\n",
       "\n",
       "    .dataframe tbody tr th {\n",
       "        vertical-align: top;\n",
       "    }\n",
       "\n",
       "    .dataframe thead th {\n",
       "        text-align: right;\n",
       "    }\n",
       "</style>\n",
       "<table border=\"1\" class=\"dataframe\">\n",
       "  <thead>\n",
       "    <tr style=\"text-align: right;\">\n",
       "      <th></th>\n",
       "      <th>DistrictId</th>\n",
       "      <th>Rooms</th>\n",
       "      <th>MedPriceByDistrict</th>\n",
       "    </tr>\n",
       "  </thead>\n",
       "  <tbody>\n",
       "    <tr>\n",
       "      <th>0</th>\n",
       "      <td>0</td>\n",
       "      <td>1.0</td>\n",
       "      <td>142799.434052</td>\n",
       "    </tr>\n",
       "    <tr>\n",
       "      <th>1</th>\n",
       "      <td>0</td>\n",
       "      <td>2.0</td>\n",
       "      <td>176210.812334</td>\n",
       "    </tr>\n",
       "    <tr>\n",
       "      <th>2</th>\n",
       "      <td>0</td>\n",
       "      <td>3.0</td>\n",
       "      <td>300610.359425</td>\n",
       "    </tr>\n",
       "    <tr>\n",
       "      <th>3</th>\n",
       "      <td>1</td>\n",
       "      <td>1.0</td>\n",
       "      <td>146735.671740</td>\n",
       "    </tr>\n",
       "    <tr>\n",
       "      <th>4</th>\n",
       "      <td>1</td>\n",
       "      <td>2.0</td>\n",
       "      <td>202666.310126</td>\n",
       "    </tr>\n",
       "  </tbody>\n",
       "</table>\n",
       "</div>"
      ],
      "text/plain": [
       "  DistrictId  Rooms  MedPriceByDistrict\n",
       "0          0    1.0       142799.434052\n",
       "1          0    2.0       176210.812334\n",
       "2          0    3.0       300610.359425\n",
       "3          1    1.0       146735.671740\n",
       "4          1    2.0       202666.310126"
      ]
     },
     "execution_count": 48,
     "metadata": {},
     "output_type": "execute_result"
    }
   ],
   "source": [
    "med_price_by_district = train_df.groupby(['DistrictId', 'Rooms'], as_index=False).agg({'Price':'median'})\\\n",
    "                            .rename(columns={'Price':'MedPriceByDistrict'})\n",
    "\n",
    "med_price_by_district.head()"
   ]
  },
  {
   "cell_type": "code",
   "execution_count": 49,
   "metadata": {
    "execution": {
     "iopub.execute_input": "2022-06-14T12:06:28.074424Z",
     "iopub.status.busy": "2022-06-14T12:06:28.073695Z",
     "iopub.status.idle": "2022-06-14T12:06:28.076445Z",
     "shell.execute_reply": "2022-06-14T12:06:28.076940Z",
     "shell.execute_reply.started": "2022-06-14T11:34:58.756528Z"
    },
    "papermill": {
     "duration": 0.095408,
     "end_time": "2022-06-14T12:06:28.077090",
     "exception": false,
     "start_time": "2022-06-14T12:06:27.981682",
     "status": "completed"
    },
    "tags": []
   },
   "outputs": [
    {
     "data": {
      "text/plain": [
       "(667, 3)"
      ]
     },
     "execution_count": 49,
     "metadata": {},
     "output_type": "execute_result"
    }
   ],
   "source": [
    "med_price_by_district.shape"
   ]
  },
  {
   "cell_type": "code",
   "execution_count": 50,
   "metadata": {
    "execution": {
     "iopub.execute_input": "2022-06-14T12:06:28.250078Z",
     "iopub.status.busy": "2022-06-14T12:06:28.249371Z",
     "iopub.status.idle": "2022-06-14T12:06:28.290812Z",
     "shell.execute_reply": "2022-06-14T12:06:28.291345Z",
     "shell.execute_reply.started": "2022-06-14T11:35:07.383019Z"
    },
    "papermill": {
     "duration": 0.129706,
     "end_time": "2022-06-14T12:06:28.291508",
     "exception": false,
     "start_time": "2022-06-14T12:06:28.161802",
     "status": "completed"
    },
    "tags": []
   },
   "outputs": [
    {
     "data": {
      "text/html": [
       "<div>\n",
       "<style scoped>\n",
       "    .dataframe tbody tr th:only-of-type {\n",
       "        vertical-align: middle;\n",
       "    }\n",
       "\n",
       "    .dataframe tbody tr th {\n",
       "        vertical-align: top;\n",
       "    }\n",
       "\n",
       "    .dataframe thead th {\n",
       "        text-align: right;\n",
       "    }\n",
       "</style>\n",
       "<table border=\"1\" class=\"dataframe\">\n",
       "  <thead>\n",
       "    <tr style=\"text-align: right;\">\n",
       "      <th></th>\n",
       "      <th>Id</th>\n",
       "      <th>DistrictId</th>\n",
       "      <th>Rooms</th>\n",
       "      <th>Square</th>\n",
       "      <th>LifeSquare</th>\n",
       "      <th>KitchenSquare</th>\n",
       "      <th>Floor</th>\n",
       "      <th>HouseFloor</th>\n",
       "      <th>HouseYear</th>\n",
       "      <th>Ecology_1</th>\n",
       "      <th>...</th>\n",
       "      <th>Helthcare_2</th>\n",
       "      <th>Shops_1</th>\n",
       "      <th>Shops_2</th>\n",
       "      <th>Price</th>\n",
       "      <th>Rooms_outlier</th>\n",
       "      <th>HouseFloor_outlier</th>\n",
       "      <th>LifeSquare_nan</th>\n",
       "      <th>DistrictSize</th>\n",
       "      <th>IsDistrictLarge</th>\n",
       "      <th>MedPriceByDistrict</th>\n",
       "    </tr>\n",
       "  </thead>\n",
       "  <tbody>\n",
       "    <tr>\n",
       "      <th>0</th>\n",
       "      <td>11809</td>\n",
       "      <td>27</td>\n",
       "      <td>3.0</td>\n",
       "      <td>115.027311</td>\n",
       "      <td>102.027311</td>\n",
       "      <td>10.0</td>\n",
       "      <td>4</td>\n",
       "      <td>10.0</td>\n",
       "      <td>2014</td>\n",
       "      <td>0.075424</td>\n",
       "      <td>...</td>\n",
       "      <td>0</td>\n",
       "      <td>0</td>\n",
       "      <td>B</td>\n",
       "      <td>305018.871089</td>\n",
       "      <td>0</td>\n",
       "      <td>0</td>\n",
       "      <td>1</td>\n",
       "      <td>851</td>\n",
       "      <td>1</td>\n",
       "      <td>213530.788443</td>\n",
       "    </tr>\n",
       "    <tr>\n",
       "      <th>1</th>\n",
       "      <td>3013</td>\n",
       "      <td>22</td>\n",
       "      <td>1.0</td>\n",
       "      <td>39.832524</td>\n",
       "      <td>23.169223</td>\n",
       "      <td>8.0</td>\n",
       "      <td>7</td>\n",
       "      <td>8.0</td>\n",
       "      <td>1966</td>\n",
       "      <td>0.118537</td>\n",
       "      <td>...</td>\n",
       "      <td>1</td>\n",
       "      <td>0</td>\n",
       "      <td>B</td>\n",
       "      <td>177734.553407</td>\n",
       "      <td>0</td>\n",
       "      <td>0</td>\n",
       "      <td>0</td>\n",
       "      <td>78</td>\n",
       "      <td>0</td>\n",
       "      <td>146032.829834</td>\n",
       "    </tr>\n",
       "    <tr>\n",
       "      <th>2</th>\n",
       "      <td>8215</td>\n",
       "      <td>1</td>\n",
       "      <td>3.0</td>\n",
       "      <td>78.342215</td>\n",
       "      <td>47.671972</td>\n",
       "      <td>10.0</td>\n",
       "      <td>2</td>\n",
       "      <td>17.0</td>\n",
       "      <td>1988</td>\n",
       "      <td>0.025609</td>\n",
       "      <td>...</td>\n",
       "      <td>3</td>\n",
       "      <td>1</td>\n",
       "      <td>B</td>\n",
       "      <td>282078.720850</td>\n",
       "      <td>0</td>\n",
       "      <td>0</td>\n",
       "      <td>0</td>\n",
       "      <td>652</td>\n",
       "      <td>1</td>\n",
       "      <td>244005.272380</td>\n",
       "    </tr>\n",
       "    <tr>\n",
       "      <th>3</th>\n",
       "      <td>2352</td>\n",
       "      <td>1</td>\n",
       "      <td>1.0</td>\n",
       "      <td>40.409907</td>\n",
       "      <td>34.409907</td>\n",
       "      <td>3.0</td>\n",
       "      <td>10</td>\n",
       "      <td>22.0</td>\n",
       "      <td>1977</td>\n",
       "      <td>0.007122</td>\n",
       "      <td>...</td>\n",
       "      <td>0</td>\n",
       "      <td>1</td>\n",
       "      <td>B</td>\n",
       "      <td>168106.007630</td>\n",
       "      <td>0</td>\n",
       "      <td>0</td>\n",
       "      <td>1</td>\n",
       "      <td>652</td>\n",
       "      <td>1</td>\n",
       "      <td>146735.671740</td>\n",
       "    </tr>\n",
       "    <tr>\n",
       "      <th>4</th>\n",
       "      <td>13866</td>\n",
       "      <td>94</td>\n",
       "      <td>2.0</td>\n",
       "      <td>64.285067</td>\n",
       "      <td>38.562517</td>\n",
       "      <td>9.0</td>\n",
       "      <td>16</td>\n",
       "      <td>16.0</td>\n",
       "      <td>1972</td>\n",
       "      <td>0.282798</td>\n",
       "      <td>...</td>\n",
       "      <td>0</td>\n",
       "      <td>6</td>\n",
       "      <td>B</td>\n",
       "      <td>343995.102962</td>\n",
       "      <td>0</td>\n",
       "      <td>0</td>\n",
       "      <td>0</td>\n",
       "      <td>89</td>\n",
       "      <td>0</td>\n",
       "      <td>201584.441255</td>\n",
       "    </tr>\n",
       "  </tbody>\n",
       "</table>\n",
       "<p>5 rows × 25 columns</p>\n",
       "</div>"
      ],
      "text/plain": [
       "      Id DistrictId  Rooms      Square  LifeSquare  KitchenSquare  Floor  \\\n",
       "0  11809         27    3.0  115.027311  102.027311           10.0      4   \n",
       "1   3013         22    1.0   39.832524   23.169223            8.0      7   \n",
       "2   8215          1    3.0   78.342215   47.671972           10.0      2   \n",
       "3   2352          1    1.0   40.409907   34.409907            3.0     10   \n",
       "4  13866         94    2.0   64.285067   38.562517            9.0     16   \n",
       "\n",
       "   HouseFloor  HouseYear  Ecology_1  ... Helthcare_2 Shops_1  Shops_2  \\\n",
       "0        10.0       2014   0.075424  ...           0       0        B   \n",
       "1         8.0       1966   0.118537  ...           1       0        B   \n",
       "2        17.0       1988   0.025609  ...           3       1        B   \n",
       "3        22.0       1977   0.007122  ...           0       1        B   \n",
       "4        16.0       1972   0.282798  ...           0       6        B   \n",
       "\n",
       "           Price  Rooms_outlier  HouseFloor_outlier  LifeSquare_nan  \\\n",
       "0  305018.871089              0                   0               1   \n",
       "1  177734.553407              0                   0               0   \n",
       "2  282078.720850              0                   0               0   \n",
       "3  168106.007630              0                   0               1   \n",
       "4  343995.102962              0                   0               0   \n",
       "\n",
       "  DistrictSize  IsDistrictLarge  MedPriceByDistrict  \n",
       "0          851                1       213530.788443  \n",
       "1           78                0       146032.829834  \n",
       "2          652                1       244005.272380  \n",
       "3          652                1       146735.671740  \n",
       "4           89                0       201584.441255  \n",
       "\n",
       "[5 rows x 25 columns]"
      ]
     },
     "execution_count": 50,
     "metadata": {},
     "output_type": "execute_result"
    }
   ],
   "source": [
    "train_df = train_df.merge(med_price_by_district, on=['DistrictId', 'Rooms'], how='left')\n",
    "train_df.head()"
   ]
  },
  {
   "cell_type": "markdown",
   "metadata": {
    "papermill": {
     "duration": 0.087257,
     "end_time": "2022-06-14T12:06:28.464161",
     "exception": false,
     "start_time": "2022-06-14T12:06:28.376904",
     "status": "completed"
    },
    "tags": []
   },
   "source": [
    "**MedPriceByFloorYear**"
   ]
  },
  {
   "cell_type": "code",
   "execution_count": 51,
   "metadata": {
    "execution": {
     "iopub.execute_input": "2022-06-14T12:06:28.640958Z",
     "iopub.status.busy": "2022-06-14T12:06:28.639936Z",
     "iopub.status.idle": "2022-06-14T12:06:28.659132Z",
     "shell.execute_reply": "2022-06-14T12:06:28.660110Z",
     "shell.execute_reply.started": "2022-06-14T11:35:57.656908Z"
    },
    "papermill": {
     "duration": 0.109755,
     "end_time": "2022-06-14T12:06:28.660286",
     "exception": false,
     "start_time": "2022-06-14T12:06:28.550531",
     "status": "completed"
    },
    "tags": []
   },
   "outputs": [],
   "source": [
    "def floor_to_cat(X):\n",
    "\n",
    "    X['floor_cat'] = 0\n",
    "\n",
    "    X.loc[X['Floor'] <= 3, 'floor_cat'] = 1  \n",
    "    X.loc[(X['Floor'] > 3) & (X['Floor'] <= 5), 'floor_cat'] = 2\n",
    "    X.loc[(X['Floor'] > 5) & (X['Floor'] <= 9), 'floor_cat'] = 3\n",
    "    X.loc[(X['Floor'] > 9) & (X['Floor'] <= 15), 'floor_cat'] = 4\n",
    "    X.loc[X['Floor'] > 15, 'floor_cat'] = 5\n",
    "\n",
    "    return X\n",
    "\n",
    "\n",
    "def floor_to_cat_pandas(X):\n",
    "    bins = [X['Floor'].min(), 3, 5, 9, 15, X['Floor'].max()]\n",
    "    X['floor_cat'] = pd.cut(X['Floor'], bins=bins, labels=False)\n",
    "    \n",
    "    X['floor_cat'].fillna(-1, inplace=True)\n",
    "    return X\n",
    "\n",
    "\n",
    "def year_to_cat(X):\n",
    "\n",
    "    X['year_cat'] = 0\n",
    "\n",
    "    X.loc[X['HouseYear'] <= 1941, 'year_cat'] = 1\n",
    "    X.loc[(X['HouseYear'] > 1941) & (X['HouseYear'] <= 1945), 'year_cat'] = 2\n",
    "    X.loc[(X['HouseYear'] > 1945) & (X['HouseYear'] <= 1980), 'year_cat'] = 3\n",
    "    X.loc[(X['HouseYear'] > 1980) & (X['HouseYear'] <= 2000), 'year_cat'] = 4\n",
    "    X.loc[(X['HouseYear'] > 2000) & (X['HouseYear'] <= 2010), 'year_cat'] = 5\n",
    "    X.loc[(X['HouseYear'] > 2010), 'year_cat'] = 6\n",
    "\n",
    "    return X\n",
    "\n",
    "\n",
    "def year_to_cat_pandas(X):\n",
    "    bins = [X['HouseYear'].min(), 1941, 1945, 1980, 2000, 2010, X['HouseYear'].max()]\n",
    "    X['year_cat'] = pd.cut(X['HouseYear'], bins=bins, labels=False)\n",
    "    \n",
    "    X['year_cat'].fillna(-1, inplace=True)\n",
    "    return X"
   ]
  },
  {
   "cell_type": "code",
   "execution_count": 52,
   "metadata": {
    "execution": {
     "iopub.execute_input": "2022-06-14T12:06:28.836674Z",
     "iopub.status.busy": "2022-06-14T12:06:28.835939Z",
     "iopub.status.idle": "2022-06-14T12:06:28.846205Z",
     "shell.execute_reply": "2022-06-14T12:06:28.846807Z",
     "shell.execute_reply.started": "2022-06-14T11:36:08.327486Z"
    },
    "papermill": {
     "duration": 0.100177,
     "end_time": "2022-06-14T12:06:28.846949",
     "exception": false,
     "start_time": "2022-06-14T12:06:28.746772",
     "status": "completed"
    },
    "tags": []
   },
   "outputs": [
    {
     "data": {
      "text/plain": [
       "0       1.0\n",
       "1       2.0\n",
       "2       0.0\n",
       "3       3.0\n",
       "4       4.0\n",
       "       ... \n",
       "9995    0.0\n",
       "9996    3.0\n",
       "9997    0.0\n",
       "9998    0.0\n",
       "9999    2.0\n",
       "Name: Floor, Length: 10000, dtype: float64"
      ]
     },
     "execution_count": 52,
     "metadata": {},
     "output_type": "execute_result"
    }
   ],
   "source": [
    "bins = [train_df['Floor'].min(), 3, 5, 9, 15, train_df['Floor'].max()]\n",
    "pd.cut(train_df['Floor'], bins=bins, labels=False)"
   ]
  },
  {
   "cell_type": "code",
   "execution_count": 53,
   "metadata": {
    "execution": {
     "iopub.execute_input": "2022-06-14T12:06:29.027401Z",
     "iopub.status.busy": "2022-06-14T12:06:29.026689Z",
     "iopub.status.idle": "2022-06-14T12:06:29.045759Z",
     "shell.execute_reply": "2022-06-14T12:06:29.046345Z",
     "shell.execute_reply.started": "2022-06-14T11:36:22.886064Z"
    },
    "papermill": {
     "duration": 0.11348,
     "end_time": "2022-06-14T12:06:29.046509",
     "exception": false,
     "start_time": "2022-06-14T12:06:28.933029",
     "status": "completed"
    },
    "tags": []
   },
   "outputs": [
    {
     "data": {
      "text/plain": [
       "0         (3, 5]\n",
       "1         (5, 9]\n",
       "2         (1, 3]\n",
       "3        (9, 15]\n",
       "4       (15, 42]\n",
       "          ...   \n",
       "9995      (1, 3]\n",
       "9996     (9, 15]\n",
       "9997      (1, 3]\n",
       "9998      (1, 3]\n",
       "9999      (5, 9]\n",
       "Name: Floor, Length: 10000, dtype: category\n",
       "Categories (5, interval[int64]): [(1, 3] < (3, 5] < (5, 9] < (9, 15] < (15, 42]]"
      ]
     },
     "execution_count": 53,
     "metadata": {},
     "output_type": "execute_result"
    }
   ],
   "source": [
    "bins = [train_df['Floor'].min(), 3, 5, 9, 15, train_df['Floor'].max()]\n",
    "pd.cut(train_df['Floor'], bins=bins)"
   ]
  },
  {
   "cell_type": "code",
   "execution_count": 54,
   "metadata": {
    "execution": {
     "iopub.execute_input": "2022-06-14T12:06:29.242248Z",
     "iopub.status.busy": "2022-06-14T12:06:29.241562Z",
     "iopub.status.idle": "2022-06-14T12:06:29.285427Z",
     "shell.execute_reply": "2022-06-14T12:06:29.285896Z",
     "shell.execute_reply.started": "2022-06-14T11:36:35.219662Z"
    },
    "papermill": {
     "duration": 0.13655,
     "end_time": "2022-06-14T12:06:29.286065",
     "exception": false,
     "start_time": "2022-06-14T12:06:29.149515",
     "status": "completed"
    },
    "tags": []
   },
   "outputs": [
    {
     "data": {
      "text/html": [
       "<div>\n",
       "<style scoped>\n",
       "    .dataframe tbody tr th:only-of-type {\n",
       "        vertical-align: middle;\n",
       "    }\n",
       "\n",
       "    .dataframe tbody tr th {\n",
       "        vertical-align: top;\n",
       "    }\n",
       "\n",
       "    .dataframe thead th {\n",
       "        text-align: right;\n",
       "    }\n",
       "</style>\n",
       "<table border=\"1\" class=\"dataframe\">\n",
       "  <thead>\n",
       "    <tr style=\"text-align: right;\">\n",
       "      <th></th>\n",
       "      <th>Id</th>\n",
       "      <th>DistrictId</th>\n",
       "      <th>Rooms</th>\n",
       "      <th>Square</th>\n",
       "      <th>LifeSquare</th>\n",
       "      <th>KitchenSquare</th>\n",
       "      <th>Floor</th>\n",
       "      <th>HouseFloor</th>\n",
       "      <th>HouseYear</th>\n",
       "      <th>Ecology_1</th>\n",
       "      <th>...</th>\n",
       "      <th>Shops_2</th>\n",
       "      <th>Price</th>\n",
       "      <th>Rooms_outlier</th>\n",
       "      <th>HouseFloor_outlier</th>\n",
       "      <th>LifeSquare_nan</th>\n",
       "      <th>DistrictSize</th>\n",
       "      <th>IsDistrictLarge</th>\n",
       "      <th>MedPriceByDistrict</th>\n",
       "      <th>year_cat</th>\n",
       "      <th>floor_cat</th>\n",
       "    </tr>\n",
       "  </thead>\n",
       "  <tbody>\n",
       "    <tr>\n",
       "      <th>0</th>\n",
       "      <td>11809</td>\n",
       "      <td>27</td>\n",
       "      <td>3.0</td>\n",
       "      <td>115.027311</td>\n",
       "      <td>102.027311</td>\n",
       "      <td>10.0</td>\n",
       "      <td>4</td>\n",
       "      <td>10.0</td>\n",
       "      <td>2014</td>\n",
       "      <td>0.075424</td>\n",
       "      <td>...</td>\n",
       "      <td>B</td>\n",
       "      <td>305018.871089</td>\n",
       "      <td>0</td>\n",
       "      <td>0</td>\n",
       "      <td>1</td>\n",
       "      <td>851</td>\n",
       "      <td>1</td>\n",
       "      <td>213530.788443</td>\n",
       "      <td>6</td>\n",
       "      <td>2</td>\n",
       "    </tr>\n",
       "    <tr>\n",
       "      <th>1</th>\n",
       "      <td>3013</td>\n",
       "      <td>22</td>\n",
       "      <td>1.0</td>\n",
       "      <td>39.832524</td>\n",
       "      <td>23.169223</td>\n",
       "      <td>8.0</td>\n",
       "      <td>7</td>\n",
       "      <td>8.0</td>\n",
       "      <td>1966</td>\n",
       "      <td>0.118537</td>\n",
       "      <td>...</td>\n",
       "      <td>B</td>\n",
       "      <td>177734.553407</td>\n",
       "      <td>0</td>\n",
       "      <td>0</td>\n",
       "      <td>0</td>\n",
       "      <td>78</td>\n",
       "      <td>0</td>\n",
       "      <td>146032.829834</td>\n",
       "      <td>3</td>\n",
       "      <td>3</td>\n",
       "    </tr>\n",
       "    <tr>\n",
       "      <th>2</th>\n",
       "      <td>8215</td>\n",
       "      <td>1</td>\n",
       "      <td>3.0</td>\n",
       "      <td>78.342215</td>\n",
       "      <td>47.671972</td>\n",
       "      <td>10.0</td>\n",
       "      <td>2</td>\n",
       "      <td>17.0</td>\n",
       "      <td>1988</td>\n",
       "      <td>0.025609</td>\n",
       "      <td>...</td>\n",
       "      <td>B</td>\n",
       "      <td>282078.720850</td>\n",
       "      <td>0</td>\n",
       "      <td>0</td>\n",
       "      <td>0</td>\n",
       "      <td>652</td>\n",
       "      <td>1</td>\n",
       "      <td>244005.272380</td>\n",
       "      <td>4</td>\n",
       "      <td>1</td>\n",
       "    </tr>\n",
       "    <tr>\n",
       "      <th>3</th>\n",
       "      <td>2352</td>\n",
       "      <td>1</td>\n",
       "      <td>1.0</td>\n",
       "      <td>40.409907</td>\n",
       "      <td>34.409907</td>\n",
       "      <td>3.0</td>\n",
       "      <td>10</td>\n",
       "      <td>22.0</td>\n",
       "      <td>1977</td>\n",
       "      <td>0.007122</td>\n",
       "      <td>...</td>\n",
       "      <td>B</td>\n",
       "      <td>168106.007630</td>\n",
       "      <td>0</td>\n",
       "      <td>0</td>\n",
       "      <td>1</td>\n",
       "      <td>652</td>\n",
       "      <td>1</td>\n",
       "      <td>146735.671740</td>\n",
       "      <td>3</td>\n",
       "      <td>4</td>\n",
       "    </tr>\n",
       "    <tr>\n",
       "      <th>4</th>\n",
       "      <td>13866</td>\n",
       "      <td>94</td>\n",
       "      <td>2.0</td>\n",
       "      <td>64.285067</td>\n",
       "      <td>38.562517</td>\n",
       "      <td>9.0</td>\n",
       "      <td>16</td>\n",
       "      <td>16.0</td>\n",
       "      <td>1972</td>\n",
       "      <td>0.282798</td>\n",
       "      <td>...</td>\n",
       "      <td>B</td>\n",
       "      <td>343995.102962</td>\n",
       "      <td>0</td>\n",
       "      <td>0</td>\n",
       "      <td>0</td>\n",
       "      <td>89</td>\n",
       "      <td>0</td>\n",
       "      <td>201584.441255</td>\n",
       "      <td>3</td>\n",
       "      <td>5</td>\n",
       "    </tr>\n",
       "  </tbody>\n",
       "</table>\n",
       "<p>5 rows × 27 columns</p>\n",
       "</div>"
      ],
      "text/plain": [
       "      Id DistrictId  Rooms      Square  LifeSquare  KitchenSquare  Floor  \\\n",
       "0  11809         27    3.0  115.027311  102.027311           10.0      4   \n",
       "1   3013         22    1.0   39.832524   23.169223            8.0      7   \n",
       "2   8215          1    3.0   78.342215   47.671972           10.0      2   \n",
       "3   2352          1    1.0   40.409907   34.409907            3.0     10   \n",
       "4  13866         94    2.0   64.285067   38.562517            9.0     16   \n",
       "\n",
       "   HouseFloor  HouseYear  Ecology_1  ... Shops_2          Price  \\\n",
       "0        10.0       2014   0.075424  ...       B  305018.871089   \n",
       "1         8.0       1966   0.118537  ...       B  177734.553407   \n",
       "2        17.0       1988   0.025609  ...       B  282078.720850   \n",
       "3        22.0       1977   0.007122  ...       B  168106.007630   \n",
       "4        16.0       1972   0.282798  ...       B  343995.102962   \n",
       "\n",
       "   Rooms_outlier  HouseFloor_outlier  LifeSquare_nan  DistrictSize  \\\n",
       "0              0                   0               1           851   \n",
       "1              0                   0               0            78   \n",
       "2              0                   0               0           652   \n",
       "3              0                   0               1           652   \n",
       "4              0                   0               0            89   \n",
       "\n",
       "   IsDistrictLarge MedPriceByDistrict  year_cat  floor_cat  \n",
       "0                1      213530.788443         6          2  \n",
       "1                0      146032.829834         3          3  \n",
       "2                1      244005.272380         4          1  \n",
       "3                1      146735.671740         3          4  \n",
       "4                0      201584.441255         3          5  \n",
       "\n",
       "[5 rows x 27 columns]"
      ]
     },
     "execution_count": 54,
     "metadata": {},
     "output_type": "execute_result"
    }
   ],
   "source": [
    "train_df = year_to_cat(train_df)\n",
    "train_df = floor_to_cat(train_df)\n",
    "train_df.head()"
   ]
  },
  {
   "cell_type": "code",
   "execution_count": 55,
   "metadata": {
    "execution": {
     "iopub.execute_input": "2022-06-14T12:06:29.470941Z",
     "iopub.status.busy": "2022-06-14T12:06:29.470283Z",
     "iopub.status.idle": "2022-06-14T12:06:29.483593Z",
     "shell.execute_reply": "2022-06-14T12:06:29.482852Z",
     "shell.execute_reply.started": "2022-06-14T11:36:43.732558Z"
    },
    "papermill": {
     "duration": 0.108157,
     "end_time": "2022-06-14T12:06:29.483710",
     "exception": false,
     "start_time": "2022-06-14T12:06:29.375553",
     "status": "completed"
    },
    "tags": []
   },
   "outputs": [
    {
     "data": {
      "text/html": [
       "<div>\n",
       "<style scoped>\n",
       "    .dataframe tbody tr th:only-of-type {\n",
       "        vertical-align: middle;\n",
       "    }\n",
       "\n",
       "    .dataframe tbody tr th {\n",
       "        vertical-align: top;\n",
       "    }\n",
       "\n",
       "    .dataframe thead th {\n",
       "        text-align: right;\n",
       "    }\n",
       "</style>\n",
       "<table border=\"1\" class=\"dataframe\">\n",
       "  <thead>\n",
       "    <tr style=\"text-align: right;\">\n",
       "      <th></th>\n",
       "      <th>year_cat</th>\n",
       "      <th>floor_cat</th>\n",
       "      <th>MedPriceByFloorYear</th>\n",
       "    </tr>\n",
       "  </thead>\n",
       "  <tbody>\n",
       "    <tr>\n",
       "      <th>0</th>\n",
       "      <td>1</td>\n",
       "      <td>1</td>\n",
       "      <td>379841.447890</td>\n",
       "    </tr>\n",
       "    <tr>\n",
       "      <th>1</th>\n",
       "      <td>1</td>\n",
       "      <td>2</td>\n",
       "      <td>333877.704698</td>\n",
       "    </tr>\n",
       "    <tr>\n",
       "      <th>2</th>\n",
       "      <td>1</td>\n",
       "      <td>3</td>\n",
       "      <td>393139.645677</td>\n",
       "    </tr>\n",
       "    <tr>\n",
       "      <th>3</th>\n",
       "      <td>1</td>\n",
       "      <td>4</td>\n",
       "      <td>274992.472366</td>\n",
       "    </tr>\n",
       "    <tr>\n",
       "      <th>4</th>\n",
       "      <td>2</td>\n",
       "      <td>1</td>\n",
       "      <td>467230.539057</td>\n",
       "    </tr>\n",
       "  </tbody>\n",
       "</table>\n",
       "</div>"
      ],
      "text/plain": [
       "   year_cat  floor_cat  MedPriceByFloorYear\n",
       "0         1          1        379841.447890\n",
       "1         1          2        333877.704698\n",
       "2         1          3        393139.645677\n",
       "3         1          4        274992.472366\n",
       "4         2          1        467230.539057"
      ]
     },
     "execution_count": 55,
     "metadata": {},
     "output_type": "execute_result"
    }
   ],
   "source": [
    "med_price_by_floor_year = train_df.groupby(['year_cat', 'floor_cat'], as_index=False).agg({'Price':'median'}).\\\n",
    "                                            rename(columns={'Price':'MedPriceByFloorYear'})\n",
    "med_price_by_floor_year.head()"
   ]
  },
  {
   "cell_type": "code",
   "execution_count": 56,
   "metadata": {
    "execution": {
     "iopub.execute_input": "2022-06-14T12:06:29.662659Z",
     "iopub.status.busy": "2022-06-14T12:06:29.661956Z",
     "iopub.status.idle": "2022-06-14T12:06:29.705425Z",
     "shell.execute_reply": "2022-06-14T12:06:29.704697Z",
     "shell.execute_reply.started": "2022-06-14T11:36:54.624029Z"
    },
    "papermill": {
     "duration": 0.134528,
     "end_time": "2022-06-14T12:06:29.705552",
     "exception": false,
     "start_time": "2022-06-14T12:06:29.571024",
     "status": "completed"
    },
    "tags": []
   },
   "outputs": [
    {
     "data": {
      "text/html": [
       "<div>\n",
       "<style scoped>\n",
       "    .dataframe tbody tr th:only-of-type {\n",
       "        vertical-align: middle;\n",
       "    }\n",
       "\n",
       "    .dataframe tbody tr th {\n",
       "        vertical-align: top;\n",
       "    }\n",
       "\n",
       "    .dataframe thead th {\n",
       "        text-align: right;\n",
       "    }\n",
       "</style>\n",
       "<table border=\"1\" class=\"dataframe\">\n",
       "  <thead>\n",
       "    <tr style=\"text-align: right;\">\n",
       "      <th></th>\n",
       "      <th>Id</th>\n",
       "      <th>DistrictId</th>\n",
       "      <th>Rooms</th>\n",
       "      <th>Square</th>\n",
       "      <th>LifeSquare</th>\n",
       "      <th>KitchenSquare</th>\n",
       "      <th>Floor</th>\n",
       "      <th>HouseFloor</th>\n",
       "      <th>HouseYear</th>\n",
       "      <th>Ecology_1</th>\n",
       "      <th>...</th>\n",
       "      <th>Price</th>\n",
       "      <th>Rooms_outlier</th>\n",
       "      <th>HouseFloor_outlier</th>\n",
       "      <th>LifeSquare_nan</th>\n",
       "      <th>DistrictSize</th>\n",
       "      <th>IsDistrictLarge</th>\n",
       "      <th>MedPriceByDistrict</th>\n",
       "      <th>year_cat</th>\n",
       "      <th>floor_cat</th>\n",
       "      <th>MedPriceByFloorYear</th>\n",
       "    </tr>\n",
       "  </thead>\n",
       "  <tbody>\n",
       "    <tr>\n",
       "      <th>0</th>\n",
       "      <td>11809</td>\n",
       "      <td>27</td>\n",
       "      <td>3.0</td>\n",
       "      <td>115.027311</td>\n",
       "      <td>102.027311</td>\n",
       "      <td>10.0</td>\n",
       "      <td>4</td>\n",
       "      <td>10.0</td>\n",
       "      <td>2014</td>\n",
       "      <td>0.075424</td>\n",
       "      <td>...</td>\n",
       "      <td>305018.871089</td>\n",
       "      <td>0</td>\n",
       "      <td>0</td>\n",
       "      <td>1</td>\n",
       "      <td>851</td>\n",
       "      <td>1</td>\n",
       "      <td>213530.788443</td>\n",
       "      <td>6</td>\n",
       "      <td>2</td>\n",
       "      <td>162124.189453</td>\n",
       "    </tr>\n",
       "    <tr>\n",
       "      <th>1</th>\n",
       "      <td>3013</td>\n",
       "      <td>22</td>\n",
       "      <td>1.0</td>\n",
       "      <td>39.832524</td>\n",
       "      <td>23.169223</td>\n",
       "      <td>8.0</td>\n",
       "      <td>7</td>\n",
       "      <td>8.0</td>\n",
       "      <td>1966</td>\n",
       "      <td>0.118537</td>\n",
       "      <td>...</td>\n",
       "      <td>177734.553407</td>\n",
       "      <td>0</td>\n",
       "      <td>0</td>\n",
       "      <td>0</td>\n",
       "      <td>78</td>\n",
       "      <td>0</td>\n",
       "      <td>146032.829834</td>\n",
       "      <td>3</td>\n",
       "      <td>3</td>\n",
       "      <td>191642.298789</td>\n",
       "    </tr>\n",
       "    <tr>\n",
       "      <th>2</th>\n",
       "      <td>8215</td>\n",
       "      <td>1</td>\n",
       "      <td>3.0</td>\n",
       "      <td>78.342215</td>\n",
       "      <td>47.671972</td>\n",
       "      <td>10.0</td>\n",
       "      <td>2</td>\n",
       "      <td>17.0</td>\n",
       "      <td>1988</td>\n",
       "      <td>0.025609</td>\n",
       "      <td>...</td>\n",
       "      <td>282078.720850</td>\n",
       "      <td>0</td>\n",
       "      <td>0</td>\n",
       "      <td>0</td>\n",
       "      <td>652</td>\n",
       "      <td>1</td>\n",
       "      <td>244005.272380</td>\n",
       "      <td>4</td>\n",
       "      <td>1</td>\n",
       "      <td>202046.143358</td>\n",
       "    </tr>\n",
       "    <tr>\n",
       "      <th>3</th>\n",
       "      <td>2352</td>\n",
       "      <td>1</td>\n",
       "      <td>1.0</td>\n",
       "      <td>40.409907</td>\n",
       "      <td>34.409907</td>\n",
       "      <td>3.0</td>\n",
       "      <td>10</td>\n",
       "      <td>22.0</td>\n",
       "      <td>1977</td>\n",
       "      <td>0.007122</td>\n",
       "      <td>...</td>\n",
       "      <td>168106.007630</td>\n",
       "      <td>0</td>\n",
       "      <td>0</td>\n",
       "      <td>1</td>\n",
       "      <td>652</td>\n",
       "      <td>1</td>\n",
       "      <td>146735.671740</td>\n",
       "      <td>3</td>\n",
       "      <td>4</td>\n",
       "      <td>183536.270077</td>\n",
       "    </tr>\n",
       "    <tr>\n",
       "      <th>4</th>\n",
       "      <td>13866</td>\n",
       "      <td>94</td>\n",
       "      <td>2.0</td>\n",
       "      <td>64.285067</td>\n",
       "      <td>38.562517</td>\n",
       "      <td>9.0</td>\n",
       "      <td>16</td>\n",
       "      <td>16.0</td>\n",
       "      <td>1972</td>\n",
       "      <td>0.282798</td>\n",
       "      <td>...</td>\n",
       "      <td>343995.102962</td>\n",
       "      <td>0</td>\n",
       "      <td>0</td>\n",
       "      <td>0</td>\n",
       "      <td>89</td>\n",
       "      <td>0</td>\n",
       "      <td>201584.441255</td>\n",
       "      <td>3</td>\n",
       "      <td>5</td>\n",
       "      <td>172123.099004</td>\n",
       "    </tr>\n",
       "  </tbody>\n",
       "</table>\n",
       "<p>5 rows × 28 columns</p>\n",
       "</div>"
      ],
      "text/plain": [
       "      Id DistrictId  Rooms      Square  LifeSquare  KitchenSquare  Floor  \\\n",
       "0  11809         27    3.0  115.027311  102.027311           10.0      4   \n",
       "1   3013         22    1.0   39.832524   23.169223            8.0      7   \n",
       "2   8215          1    3.0   78.342215   47.671972           10.0      2   \n",
       "3   2352          1    1.0   40.409907   34.409907            3.0     10   \n",
       "4  13866         94    2.0   64.285067   38.562517            9.0     16   \n",
       "\n",
       "   HouseFloor  HouseYear  Ecology_1  ...          Price Rooms_outlier  \\\n",
       "0        10.0       2014   0.075424  ...  305018.871089             0   \n",
       "1         8.0       1966   0.118537  ...  177734.553407             0   \n",
       "2        17.0       1988   0.025609  ...  282078.720850             0   \n",
       "3        22.0       1977   0.007122  ...  168106.007630             0   \n",
       "4        16.0       1972   0.282798  ...  343995.102962             0   \n",
       "\n",
       "   HouseFloor_outlier  LifeSquare_nan  DistrictSize  IsDistrictLarge  \\\n",
       "0                   0               1           851                1   \n",
       "1                   0               0            78                0   \n",
       "2                   0               0           652                1   \n",
       "3                   0               1           652                1   \n",
       "4                   0               0            89                0   \n",
       "\n",
       "   MedPriceByDistrict year_cat  floor_cat  MedPriceByFloorYear  \n",
       "0       213530.788443        6          2        162124.189453  \n",
       "1       146032.829834        3          3        191642.298789  \n",
       "2       244005.272380        4          1        202046.143358  \n",
       "3       146735.671740        3          4        183536.270077  \n",
       "4       201584.441255        3          5        172123.099004  \n",
       "\n",
       "[5 rows x 28 columns]"
      ]
     },
     "execution_count": 56,
     "metadata": {},
     "output_type": "execute_result"
    }
   ],
   "source": [
    "train_df = train_df.merge(med_price_by_floor_year, on=['year_cat', 'floor_cat'], how='left')\n",
    "train_df.head()"
   ]
  },
  {
   "cell_type": "code",
   "execution_count": 57,
   "metadata": {
    "execution": {
     "iopub.execute_input": "2022-06-14T12:06:29.888200Z",
     "iopub.status.busy": "2022-06-14T12:06:29.887503Z",
     "iopub.status.idle": "2022-06-14T12:06:29.915468Z",
     "shell.execute_reply": "2022-06-14T12:06:29.916004Z",
     "shell.execute_reply.started": "2022-06-14T11:42:35.401285Z"
    },
    "papermill": {
     "duration": 0.120887,
     "end_time": "2022-06-14T12:06:29.916174",
     "exception": false,
     "start_time": "2022-06-14T12:06:29.795287",
     "status": "completed"
    },
    "tags": []
   },
   "outputs": [],
   "source": [
    "class FeatureGenerator:\n",
    "    \"\"\"Генерация новых фич\"\"\"\n",
    "    \n",
    "    def __init__(self):\n",
    "        self.districts_median_year = None\n",
    "        self.districts_density = None\n",
    "        self.district_price_per_square = None\n",
    "        self.min_sq = None\n",
    "        self.max_sq = None\n",
    "\n",
    "        \n",
    "    def fit(self, df):   \n",
    "        self.min_sq = np.quantile(df['Square'], q=0.005)\n",
    "        self.max_sq = np.quantile(df['Square'], q=0.995)\n",
    "        \n",
    "        self.districts_median_year = df.groupby(['DistrictId'])['HouseYear'].agg('median').to_dict()  # median house year in each district\n",
    "        self.districts_density = df.groupby(['DistrictId'])['Square'].agg('median').to_dict()  # median square in each district\n",
    "        self.district_price_per_square = df.groupby(['DistrictId'])['Price'].agg('median') \\\n",
    "        / df.groupby(['DistrictId'])['Square'].agg('median')  # median price for square meter in each district\n",
    "        \n",
    "    \n",
    "    def new_features(self, df):\n",
    "        # How old is the district      \n",
    "        df['DistrictYear'] = df['DistrictId'].map(self.districts_median_year)\n",
    "        \n",
    "        self.median_district_year = df['DistrictYear'].median()\n",
    "        df['DistrictYear'].fillna(self.median_district_year, inplace=True)\n",
    "\n",
    "\n",
    "        # Median square of flat in each district\n",
    "        df['DistrictDensity'] = df['DistrictId'].map(self.districts_density)\n",
    "        \n",
    "        self.median_district_density = df['DistrictDensity'].median()\n",
    "        df['DistrictDensity'].fillna(self.median_district_density, inplace=True)\n",
    "\n",
    "\n",
    "        # Median price for square meter in each district\n",
    "        self.district_price_per_square.to_dict()\n",
    "        df['DistrictPrice'] = df['DistrictId'].map(self.district_price_per_square)\n",
    "        \n",
    "        self.median_district_price_per_square = df['DistrictPrice'].median()\n",
    "        df['DistrictPrice'].fillna(self.median_district_price_per_square, inplace=True)\n",
    "\n",
    "\n",
    "        # Floor category\n",
    "        floor_bins = [0, 4, 7, 12, df['Floor'].max()]\n",
    "        df['Floor_cat'] = pd.cut(df['Floor'], bins=floor_bins, labels=False)\n",
    "        df['Floor_cat'].fillna(-1, inplace=True) \n",
    "\n",
    "        \n",
    "        # Scale and merge Social\n",
    "        scaler = RobustScaler()\n",
    "        pca = PCA(n_components=1, random_state=42)\n",
    "        social_scaled = pd.DataFrame(scaler.fit_transform(df[['Social_1', 'Social_2', 'Social_3']]))\n",
    "        df['Social'] = pca.fit_transform(social_scaled)\n",
    "        \n",
    "        \n",
    "        df.drop(['Ecology_2', 'Ecology_3', 'Shops_2', 'Helthcare_2', 'Floor',], axis=1, inplace=True)\n",
    "        \n",
    "        return df\n",
    "    \n",
    "    \n",
    "    def drop_outliers(self, df):\n",
    "        df = df.loc[(df['Square'] > self.min_sq) & (df['Square'] < self.max_sq)]\n",
    "        return df\n",
    "    \n",
    "    def floor_to_cat(self, X):\n",
    "        bins = [self.floor_min, 3, 5, 9, 15, self.floor_max]\n",
    "        X['floor_cat'] = pd.cut(X['Floor'], bins=bins, labels=False)\n",
    "\n",
    "        X['floor_cat'].fillna(-1, inplace=True)\n",
    "        return X\n",
    "     \n",
    "    def year_to_cat(self, X):\n",
    "        bins = [self.house_year_min, 1941, 1945, 1980, 2000, 2010, self.house_year_max]\n",
    "        X['year_cat'] = pd.cut(X['HouseYear'], bins=bins, labels=False)\n",
    "\n",
    "        X['year_cat'].fillna(-1, inplace=True)\n",
    "        return X"
   ]
  },
  {
   "cell_type": "markdown",
   "metadata": {
    "papermill": {
     "duration": 0.089445,
     "end_time": "2022-06-14T12:06:30.094497",
     "exception": false,
     "start_time": "2022-06-14T12:06:30.005052",
     "status": "completed"
    },
    "tags": []
   },
   "source": [
    "### 5. Отбор признаков  <a class='anchor' id='feature_selection'>"
   ]
  },
  {
   "cell_type": "code",
   "execution_count": 58,
   "metadata": {
    "execution": {
     "iopub.execute_input": "2022-06-14T12:06:30.278451Z",
     "iopub.status.busy": "2022-06-14T12:06:30.277639Z",
     "iopub.status.idle": "2022-06-14T12:06:30.283781Z",
     "shell.execute_reply": "2022-06-14T12:06:30.284328Z",
     "shell.execute_reply.started": "2022-06-14T11:39:03.876449Z"
    },
    "papermill": {
     "duration": 0.10048,
     "end_time": "2022-06-14T12:06:30.284477",
     "exception": false,
     "start_time": "2022-06-14T12:06:30.183997",
     "status": "completed"
    },
    "tags": []
   },
   "outputs": [
    {
     "data": {
      "text/plain": [
       "['Id',\n",
       " 'DistrictId',\n",
       " 'Rooms',\n",
       " 'Square',\n",
       " 'LifeSquare',\n",
       " 'KitchenSquare',\n",
       " 'Floor',\n",
       " 'HouseFloor',\n",
       " 'HouseYear',\n",
       " 'Ecology_1',\n",
       " 'Ecology_2',\n",
       " 'Ecology_3',\n",
       " 'Social_1',\n",
       " 'Social_2',\n",
       " 'Social_3',\n",
       " 'Helthcare_2',\n",
       " 'Shops_1',\n",
       " 'Shops_2',\n",
       " 'Price',\n",
       " 'Rooms_outlier',\n",
       " 'HouseFloor_outlier',\n",
       " 'LifeSquare_nan',\n",
       " 'DistrictSize',\n",
       " 'IsDistrictLarge',\n",
       " 'MedPriceByDistrict',\n",
       " 'year_cat',\n",
       " 'floor_cat',\n",
       " 'MedPriceByFloorYear']"
      ]
     },
     "execution_count": 58,
     "metadata": {},
     "output_type": "execute_result"
    }
   ],
   "source": [
    "train_df.columns.tolist()"
   ]
  },
  {
   "cell_type": "code",
   "execution_count": 59,
   "metadata": {
    "execution": {
     "iopub.execute_input": "2022-06-14T12:06:30.466691Z",
     "iopub.status.busy": "2022-06-14T12:06:30.465817Z",
     "iopub.status.idle": "2022-06-14T12:06:30.471693Z",
     "shell.execute_reply": "2022-06-14T12:06:30.472246Z",
     "shell.execute_reply.started": "2022-06-14T11:39:24.720128Z"
    },
    "papermill": {
     "duration": 0.097431,
     "end_time": "2022-06-14T12:06:30.472392",
     "exception": false,
     "start_time": "2022-06-14T12:06:30.374961",
     "status": "completed"
    },
    "tags": []
   },
   "outputs": [],
   "source": [
    "feature_names = ['Rooms', 'Square', 'LifeSquare', 'KitchenSquare', 'Floor', 'HouseFloor', 'HouseYear',\n",
    "                 'Ecology_1', 'Ecology_2', 'Ecology_3', 'Social_1', 'Social_2', 'Social_3',\n",
    "                 'Helthcare_2', 'Shops_1', 'Shops_2']\n",
    "\n",
    "new_feature_names = ['Rooms_outlier', 'HouseFloor_outlier', 'HouseYear_outlier', 'LifeSquare_nan', 'DistrictSize',\n",
    "                     'new_district', 'IsDistrictLarge',  'MedPriceByDistrict', 'MedPriceByFloorYear']\n",
    "\n",
    "target_name = 'Price'"
   ]
  },
  {
   "cell_type": "markdown",
   "metadata": {
    "papermill": {
     "duration": 0.088179,
     "end_time": "2022-06-14T12:06:30.649118",
     "exception": false,
     "start_time": "2022-06-14T12:06:30.560939",
     "status": "completed"
    },
    "tags": []
   },
   "source": [
    "### 6. Разбиение на train и test  <a class='anchor' id='split'>"
   ]
  },
  {
   "cell_type": "code",
   "execution_count": 60,
   "metadata": {
    "execution": {
     "iopub.execute_input": "2022-06-14T12:06:30.831096Z",
     "iopub.status.busy": "2022-06-14T12:06:30.830414Z",
     "iopub.status.idle": "2022-06-14T12:06:30.885748Z",
     "shell.execute_reply": "2022-06-14T12:06:30.886315Z",
     "shell.execute_reply.started": "2022-06-14T12:01:09.020154Z"
    },
    "papermill": {
     "duration": 0.148172,
     "end_time": "2022-06-14T12:06:30.886470",
     "exception": false,
     "start_time": "2022-06-14T12:06:30.738298",
     "status": "completed"
    },
    "tags": []
   },
   "outputs": [],
   "source": [
    "train_df = pd.read_csv(TRAIN_DATASET_PATH)\n",
    "test_df = pd.read_csv(TEST_DATASET_PATH)"
   ]
  },
  {
   "cell_type": "code",
   "execution_count": 61,
   "metadata": {
    "execution": {
     "iopub.execute_input": "2022-06-14T12:06:31.069370Z",
     "iopub.status.busy": "2022-06-14T12:06:31.068713Z",
     "iopub.status.idle": "2022-06-14T12:06:31.201156Z",
     "shell.execute_reply": "2022-06-14T12:06:31.200428Z",
     "shell.execute_reply.started": "2022-06-14T12:01:10.599587Z"
    },
    "papermill": {
     "duration": 0.225414,
     "end_time": "2022-06-14T12:06:31.201278",
     "exception": false,
     "start_time": "2022-06-14T12:06:30.975864",
     "status": "completed"
    },
    "tags": []
   },
   "outputs": [],
   "source": [
    "preprocessor = DataPreprocessor()\n",
    "preprocessor.fit(train_df)\n",
    "train_df = preprocessor.transform(train_df)\n",
    "test_df = preprocessor.transform(test_df)"
   ]
  },
  {
   "cell_type": "code",
   "execution_count": 62,
   "metadata": {
    "execution": {
     "iopub.execute_input": "2022-06-14T12:06:31.384540Z",
     "iopub.status.busy": "2022-06-14T12:06:31.383854Z",
     "iopub.status.idle": "2022-06-14T12:06:31.499020Z",
     "shell.execute_reply": "2022-06-14T12:06:31.499654Z",
     "shell.execute_reply.started": "2022-06-14T12:01:12.437427Z"
    },
    "papermill": {
     "duration": 0.208344,
     "end_time": "2022-06-14T12:06:31.499854",
     "exception": false,
     "start_time": "2022-06-14T12:06:31.291510",
     "status": "completed"
    },
    "tags": []
   },
   "outputs": [],
   "source": [
    "features_gen = FeatureGenerator()\n",
    "features_gen.fit(train_df)\n",
    "train_df = features_gen.new_features(train_df)\n",
    "train_df = features_gen.drop_outliers(train_df)\n",
    "test_df = features_gen.new_features(test_df)"
   ]
  },
  {
   "cell_type": "code",
   "execution_count": 63,
   "metadata": {
    "execution": {
     "iopub.execute_input": "2022-06-14T12:06:31.685031Z",
     "iopub.status.busy": "2022-06-14T12:06:31.684032Z",
     "iopub.status.idle": "2022-06-14T12:06:31.696140Z",
     "shell.execute_reply": "2022-06-14T12:06:31.695559Z",
     "shell.execute_reply.started": "2022-06-14T12:02:57.230067Z"
    },
    "papermill": {
     "duration": 0.10433,
     "end_time": "2022-06-14T12:06:31.696300",
     "exception": false,
     "start_time": "2022-06-14T12:06:31.591970",
     "status": "completed"
    },
    "tags": []
   },
   "outputs": [],
   "source": [
    "X = train_df.drop(columns=target_name)\n",
    "y = train_df[target_name]\n",
    "X_train, X_test, y_train, y_test = train_test_split(X, y, test_size=0.15, random_state=100)\n",
    "X_valid = X_test\n",
    "y_valid = y_test"
   ]
  },
  {
   "cell_type": "code",
   "execution_count": 64,
   "metadata": {
    "execution": {
     "iopub.execute_input": "2022-06-14T12:06:31.880821Z",
     "iopub.status.busy": "2022-06-14T12:06:31.880101Z",
     "iopub.status.idle": "2022-06-14T12:06:31.892001Z",
     "shell.execute_reply": "2022-06-14T12:06:31.891477Z",
     "shell.execute_reply.started": "2022-06-14T12:03:01.655076Z"
    },
    "papermill": {
     "duration": 0.105719,
     "end_time": "2022-06-14T12:06:31.892138",
     "exception": false,
     "start_time": "2022-06-14T12:06:31.786419",
     "status": "completed"
    },
    "tags": []
   },
   "outputs": [
    {
     "data": {
      "text/plain": [
       "(0, 0, 0)"
      ]
     },
     "execution_count": 64,
     "metadata": {},
     "output_type": "execute_result"
    }
   ],
   "source": [
    "X_train.isna().sum().sum(), X_test.isna().sum().sum(), test_df.isna().sum().sum()"
   ]
  },
  {
   "cell_type": "markdown",
   "metadata": {
    "papermill": {
     "duration": 0.090125,
     "end_time": "2022-06-14T12:06:32.072390",
     "exception": false,
     "start_time": "2022-06-14T12:06:31.982265",
     "status": "completed"
    },
    "tags": []
   },
   "source": [
    "### 7. Построение модели  <a class='anchor' id='modeling'>"
   ]
  },
  {
   "cell_type": "markdown",
   "metadata": {
    "papermill": {
     "duration": 0.089951,
     "end_time": "2022-06-14T12:06:32.250994",
     "exception": false,
     "start_time": "2022-06-14T12:06:32.161043",
     "status": "completed"
    },
    "tags": []
   },
   "source": [
    "**Обучение**"
   ]
  },
  {
   "cell_type": "code",
   "execution_count": 65,
   "metadata": {
    "execution": {
     "iopub.execute_input": "2022-06-14T12:06:32.433496Z",
     "iopub.status.busy": "2022-06-14T12:06:32.432514Z",
     "iopub.status.idle": "2022-06-14T12:06:35.945846Z",
     "shell.execute_reply": "2022-06-14T12:06:35.946393Z",
     "shell.execute_reply.started": "2022-06-14T12:03:04.407927Z"
    },
    "papermill": {
     "duration": 3.606343,
     "end_time": "2022-06-14T12:06:35.946539",
     "exception": false,
     "start_time": "2022-06-14T12:06:32.340196",
     "status": "completed"
    },
    "tags": []
   },
   "outputs": [
    {
     "name": "stdout",
     "output_type": "stream",
     "text": [
      "0.9349702837384414\n",
      "0.7796195937013011\n"
     ]
    }
   ],
   "source": [
    "from sklearn.ensemble import RandomForestRegressor\n",
    "# from sklearn.ensemble import StackingRegressor, VotingRegressor, BaggingRegressor, GradientBoostingRegressor\n",
    "# from sklearn.linear_model import LinearRegression, Lasso, Ridge, ElasticNet, LassoCV, RidgeCV, ElasticNetCV\n",
    "\n",
    "rf_model = RandomForestRegressor(n_estimators=200, max_depth=14, max_features=\"sqrt\", random_state=21, criterion='mse')\n",
    "rf_model.fit(X_train, y_train)\n",
    "\n",
    "y_train_preds = rf_model.predict(X_train)\n",
    "y_test_preds = rf_model.predict(X_test)\n",
    "print(r2(y_train, y_train_preds))\n",
    "print(r2(y_test, y_test_preds))"
   ]
  },
  {
   "cell_type": "markdown",
   "metadata": {
    "papermill": {
     "duration": 0.089685,
     "end_time": "2022-06-14T12:06:36.129087",
     "exception": false,
     "start_time": "2022-06-14T12:06:36.039402",
     "status": "completed"
    },
    "tags": []
   },
   "source": [
    "**Оценка модели**"
   ]
  },
  {
   "cell_type": "code",
   "execution_count": 66,
   "metadata": {
    "execution": {
     "iopub.execute_input": "2022-06-14T12:06:36.312023Z",
     "iopub.status.busy": "2022-06-14T12:06:36.311365Z",
     "iopub.status.idle": "2022-06-14T12:06:37.036750Z",
     "shell.execute_reply": "2022-06-14T12:06:37.037391Z",
     "shell.execute_reply.started": "2022-06-14T12:03:14.351487Z"
    },
    "papermill": {
     "duration": 0.819216,
     "end_time": "2022-06-14T12:06:37.037547",
     "exception": false,
     "start_time": "2022-06-14T12:06:36.218331",
     "status": "completed"
    },
    "tags": []
   },
   "outputs": [
    {
     "name": "stdout",
     "output_type": "stream",
     "text": [
      "Train R2:\t0.935\n",
      "Test R2:\t0.78\n"
     ]
    },
    {
     "data": {
      "image/png": "[encoded data removed]",
      "text/plain": [
       "<Figure size 1296x720 with 2 Axes>"
      ]
     },
     "metadata": {
      "needs_background": "light"
     },
     "output_type": "display_data"
    }
   ],
   "source": [
    "y_train_preds = rf_model.predict(X_train)\n",
    "y_test_preds = rf_model.predict(X_valid)\n",
    "\n",
    "evaluate_preds(y_train, y_train_preds, y_valid, y_test_preds)"
   ]
  },
  {
   "cell_type": "markdown",
   "metadata": {
    "papermill": {
     "duration": 0.093177,
     "end_time": "2022-06-14T12:06:37.224299",
     "exception": false,
     "start_time": "2022-06-14T12:06:37.131122",
     "status": "completed"
    },
    "tags": []
   },
   "source": [
    "**Кросс-валидация**"
   ]
  },
  {
   "cell_type": "code",
   "execution_count": 67,
   "metadata": {
    "execution": {
     "iopub.execute_input": "2022-06-14T12:06:37.415594Z",
     "iopub.status.busy": "2022-06-14T12:06:37.414899Z",
     "iopub.status.idle": "2022-06-14T12:06:44.505685Z",
     "shell.execute_reply": "2022-06-14T12:06:44.505080Z",
     "shell.execute_reply.started": "2022-06-14T12:03:27.166761Z"
    },
    "papermill": {
     "duration": 7.187085,
     "end_time": "2022-06-14T12:06:44.505803",
     "exception": false,
     "start_time": "2022-06-14T12:06:37.318718",
     "status": "completed"
    },
    "tags": []
   },
   "outputs": [
    {
     "data": {
      "text/plain": [
       "array([0.74210585, 0.75181106, 0.7499325 ])"
      ]
     },
     "execution_count": 67,
     "metadata": {},
     "output_type": "execute_result"
    }
   ],
   "source": [
    "cv_score = cross_val_score(rf_model, X_train, y_train, scoring='r2', cv=KFold(n_splits=3, shuffle=True, random_state=21))\n",
    "cv_score"
   ]
  },
  {
   "cell_type": "code",
   "execution_count": 68,
   "metadata": {
    "execution": {
     "iopub.execute_input": "2022-06-14T12:06:44.696457Z",
     "iopub.status.busy": "2022-06-14T12:06:44.695794Z",
     "iopub.status.idle": "2022-06-14T12:06:44.701481Z",
     "shell.execute_reply": "2022-06-14T12:06:44.701934Z",
     "shell.execute_reply.started": "2022-06-14T12:03:36.669675Z"
    },
    "papermill": {
     "duration": 0.103005,
     "end_time": "2022-06-14T12:06:44.702091",
     "exception": false,
     "start_time": "2022-06-14T12:06:44.599086",
     "status": "completed"
    },
    "tags": []
   },
   "outputs": [
    {
     "data": {
      "text/plain": [
       "0.7479498042625238"
      ]
     },
     "execution_count": 68,
     "metadata": {},
     "output_type": "execute_result"
    }
   ],
   "source": [
    "cv_score.mean()"
   ]
  },
  {
   "cell_type": "markdown",
   "metadata": {
    "papermill": {
     "duration": 0.096531,
     "end_time": "2022-06-14T12:06:44.893831",
     "exception": false,
     "start_time": "2022-06-14T12:06:44.797300",
     "status": "completed"
    },
    "tags": []
   },
   "source": [
    "**Важность признаков**"
   ]
  },
  {
   "cell_type": "code",
   "execution_count": 69,
   "metadata": {
    "execution": {
     "iopub.execute_input": "2022-06-14T12:06:45.086281Z",
     "iopub.status.busy": "2022-06-14T12:06:45.085630Z",
     "iopub.status.idle": "2022-06-14T12:06:45.133437Z",
     "shell.execute_reply": "2022-06-14T12:06:45.133974Z",
     "shell.execute_reply.started": "2022-06-14T12:03:44.736959Z"
    },
    "papermill": {
     "duration": 0.146297,
     "end_time": "2022-06-14T12:06:45.134203",
     "exception": false,
     "start_time": "2022-06-14T12:06:44.987906",
     "status": "completed"
    },
    "tags": []
   },
   "outputs": [
    {
     "data": {
      "text/html": [
       "<div>\n",
       "<style scoped>\n",
       "    .dataframe tbody tr th:only-of-type {\n",
       "        vertical-align: middle;\n",
       "    }\n",
       "\n",
       "    .dataframe tbody tr th {\n",
       "        vertical-align: top;\n",
       "    }\n",
       "\n",
       "    .dataframe thead th {\n",
       "        text-align: right;\n",
       "    }\n",
       "</style>\n",
       "<table border=\"1\" class=\"dataframe\">\n",
       "  <thead>\n",
       "    <tr style=\"text-align: right;\">\n",
       "      <th></th>\n",
       "      <th>feature_name</th>\n",
       "      <th>importance</th>\n",
       "    </tr>\n",
       "  </thead>\n",
       "  <tbody>\n",
       "    <tr>\n",
       "      <th>2</th>\n",
       "      <td>Square</td>\n",
       "      <td>0.240321</td>\n",
       "    </tr>\n",
       "    <tr>\n",
       "      <th>15</th>\n",
       "      <td>DistrictPrice</td>\n",
       "      <td>0.152883</td>\n",
       "    </tr>\n",
       "    <tr>\n",
       "      <th>1</th>\n",
       "      <td>Rooms</td>\n",
       "      <td>0.124093</td>\n",
       "    </tr>\n",
       "    <tr>\n",
       "      <th>3</th>\n",
       "      <td>LifeSquare</td>\n",
       "      <td>0.092340</td>\n",
       "    </tr>\n",
       "    <tr>\n",
       "      <th>9</th>\n",
       "      <td>Social_2</td>\n",
       "      <td>0.053217</td>\n",
       "    </tr>\n",
       "    <tr>\n",
       "      <th>8</th>\n",
       "      <td>Social_1</td>\n",
       "      <td>0.044894</td>\n",
       "    </tr>\n",
       "    <tr>\n",
       "      <th>4</th>\n",
       "      <td>KitchenSquare</td>\n",
       "      <td>0.041673</td>\n",
       "    </tr>\n",
       "    <tr>\n",
       "      <th>17</th>\n",
       "      <td>Social</td>\n",
       "      <td>0.038569</td>\n",
       "    </tr>\n",
       "    <tr>\n",
       "      <th>6</th>\n",
       "      <td>HouseYear</td>\n",
       "      <td>0.034025</td>\n",
       "    </tr>\n",
       "    <tr>\n",
       "      <th>5</th>\n",
       "      <td>HouseFloor</td>\n",
       "      <td>0.027156</td>\n",
       "    </tr>\n",
       "    <tr>\n",
       "      <th>14</th>\n",
       "      <td>DistrictDensity</td>\n",
       "      <td>0.025910</td>\n",
       "    </tr>\n",
       "    <tr>\n",
       "      <th>0</th>\n",
       "      <td>DistrictId</td>\n",
       "      <td>0.024538</td>\n",
       "    </tr>\n",
       "    <tr>\n",
       "      <th>10</th>\n",
       "      <td>Social_3</td>\n",
       "      <td>0.024025</td>\n",
       "    </tr>\n",
       "    <tr>\n",
       "      <th>7</th>\n",
       "      <td>Ecology_1</td>\n",
       "      <td>0.018575</td>\n",
       "    </tr>\n",
       "    <tr>\n",
       "      <th>13</th>\n",
       "      <td>DistrictYear</td>\n",
       "      <td>0.018482</td>\n",
       "    </tr>\n",
       "    <tr>\n",
       "      <th>11</th>\n",
       "      <td>Healthcare_1</td>\n",
       "      <td>0.015681</td>\n",
       "    </tr>\n",
       "    <tr>\n",
       "      <th>12</th>\n",
       "      <td>Shops_1</td>\n",
       "      <td>0.013984</td>\n",
       "    </tr>\n",
       "    <tr>\n",
       "      <th>16</th>\n",
       "      <td>Floor_cat</td>\n",
       "      <td>0.009635</td>\n",
       "    </tr>\n",
       "  </tbody>\n",
       "</table>\n",
       "</div>"
      ],
      "text/plain": [
       "       feature_name  importance\n",
       "2            Square    0.240321\n",
       "15    DistrictPrice    0.152883\n",
       "1             Rooms    0.124093\n",
       "3        LifeSquare    0.092340\n",
       "9          Social_2    0.053217\n",
       "8          Social_1    0.044894\n",
       "4     KitchenSquare    0.041673\n",
       "17           Social    0.038569\n",
       "6         HouseYear    0.034025\n",
       "5        HouseFloor    0.027156\n",
       "14  DistrictDensity    0.025910\n",
       "0        DistrictId    0.024538\n",
       "10         Social_3    0.024025\n",
       "7         Ecology_1    0.018575\n",
       "13     DistrictYear    0.018482\n",
       "11     Healthcare_1    0.015681\n",
       "12          Shops_1    0.013984\n",
       "16        Floor_cat    0.009635"
      ]
     },
     "execution_count": 69,
     "metadata": {},
     "output_type": "execute_result"
    }
   ],
   "source": [
    "feature_importances = pd.DataFrame(zip(X_train.columns, rf_model.feature_importances_), \n",
    "                                   columns=['feature_name', 'importance'])\n",
    "\n",
    "feature_importances.sort_values(by='importance', ascending=False)"
   ]
  },
  {
   "cell_type": "markdown",
   "metadata": {
    "papermill": {
     "duration": 0.094058,
     "end_time": "2022-06-14T12:06:45.323492",
     "exception": false,
     "start_time": "2022-06-14T12:06:45.229434",
     "status": "completed"
    },
    "tags": []
   },
   "source": [
    "### 8. Прогнозирование на тестовом датасете  <a class='anchor' id='prediction'>\n",
    "\n",
    "1. Выполнить для тестового датасета те же этапы обработки и постронияния признаков\n",
    "2. Не потерять и не перемешать индексы от примеров при построении прогнозов\n",
    "3. Прогнозы должны быть для все примеров из тестового датасета (для всех строк)"
   ]
  },
  {
   "cell_type": "code",
   "execution_count": 70,
   "metadata": {
    "execution": {
     "iopub.execute_input": "2022-06-14T12:06:45.515987Z",
     "iopub.status.busy": "2022-06-14T12:06:45.514988Z",
     "iopub.status.idle": "2022-06-14T12:06:45.520285Z",
     "shell.execute_reply": "2022-06-14T12:06:45.520745Z",
     "shell.execute_reply.started": "2022-06-08T19:41:15.205564Z"
    },
    "papermill": {
     "duration": 0.103411,
     "end_time": "2022-06-14T12:06:45.520895",
     "exception": false,
     "start_time": "2022-06-14T12:06:45.417484",
     "status": "completed"
    },
    "tags": []
   },
   "outputs": [
    {
     "data": {
      "text/plain": [
       "(5000, 18)"
      ]
     },
     "execution_count": 70,
     "metadata": {},
     "output_type": "execute_result"
    }
   ],
   "source": [
    "test_df.shape"
   ]
  },
  {
   "cell_type": "code",
   "execution_count": 71,
   "metadata": {
    "execution": {
     "iopub.execute_input": "2022-06-14T12:06:45.713598Z",
     "iopub.status.busy": "2022-06-14T12:06:45.712593Z",
     "iopub.status.idle": "2022-06-14T12:06:45.743379Z",
     "shell.execute_reply": "2022-06-14T12:06:45.743848Z",
     "shell.execute_reply.started": "2022-06-08T19:41:15.214223Z"
    },
    "papermill": {
     "duration": 0.128954,
     "end_time": "2022-06-14T12:06:45.743998",
     "exception": false,
     "start_time": "2022-06-14T12:06:45.615044",
     "status": "completed"
    },
    "tags": []
   },
   "outputs": [
    {
     "data": {
      "text/html": [
       "<div>\n",
       "<style scoped>\n",
       "    .dataframe tbody tr th:only-of-type {\n",
       "        vertical-align: middle;\n",
       "    }\n",
       "\n",
       "    .dataframe tbody tr th {\n",
       "        vertical-align: top;\n",
       "    }\n",
       "\n",
       "    .dataframe thead th {\n",
       "        text-align: right;\n",
       "    }\n",
       "</style>\n",
       "<table border=\"1\" class=\"dataframe\">\n",
       "  <thead>\n",
       "    <tr style=\"text-align: right;\">\n",
       "      <th></th>\n",
       "      <th>DistrictId</th>\n",
       "      <th>Rooms</th>\n",
       "      <th>Square</th>\n",
       "      <th>LifeSquare</th>\n",
       "      <th>KitchenSquare</th>\n",
       "      <th>HouseFloor</th>\n",
       "      <th>HouseYear</th>\n",
       "      <th>Ecology_1</th>\n",
       "      <th>Social_1</th>\n",
       "      <th>Social_2</th>\n",
       "      <th>Social_3</th>\n",
       "      <th>Healthcare_1</th>\n",
       "      <th>Shops_1</th>\n",
       "      <th>DistrictYear</th>\n",
       "      <th>DistrictDensity</th>\n",
       "      <th>DistrictPrice</th>\n",
       "      <th>Floor_cat</th>\n",
       "      <th>Social</th>\n",
       "    </tr>\n",
       "  </thead>\n",
       "  <tbody>\n",
       "    <tr>\n",
       "      <th>0</th>\n",
       "      <td>44</td>\n",
       "      <td>1.0</td>\n",
       "      <td>36.847630</td>\n",
       "      <td>19.094182</td>\n",
       "      <td>5.0</td>\n",
       "      <td>9.0</td>\n",
       "      <td>1970.0</td>\n",
       "      <td>0.036122</td>\n",
       "      <td>24</td>\n",
       "      <td>4378</td>\n",
       "      <td>0</td>\n",
       "      <td>1036.0</td>\n",
       "      <td>1</td>\n",
       "      <td>1977.0</td>\n",
       "      <td>46.971646</td>\n",
       "      <td>4431.704675</td>\n",
       "      <td>1</td>\n",
       "      <td>-1.654285</td>\n",
       "    </tr>\n",
       "    <tr>\n",
       "      <th>1</th>\n",
       "      <td>62</td>\n",
       "      <td>1.0</td>\n",
       "      <td>42.568133</td>\n",
       "      <td>42.493907</td>\n",
       "      <td>10.0</td>\n",
       "      <td>17.0</td>\n",
       "      <td>2017.0</td>\n",
       "      <td>0.072158</td>\n",
       "      <td>2</td>\n",
       "      <td>629</td>\n",
       "      <td>1</td>\n",
       "      <td>2300.0</td>\n",
       "      <td>0</td>\n",
       "      <td>1977.0</td>\n",
       "      <td>56.667328</td>\n",
       "      <td>2859.977368</td>\n",
       "      <td>1</td>\n",
       "      <td>-1.462656</td>\n",
       "    </tr>\n",
       "    <tr>\n",
       "      <th>2</th>\n",
       "      <td>27</td>\n",
       "      <td>2.0</td>\n",
       "      <td>59.463678</td>\n",
       "      <td>38.570943</td>\n",
       "      <td>9.0</td>\n",
       "      <td>19.0</td>\n",
       "      <td>1977.0</td>\n",
       "      <td>0.211401</td>\n",
       "      <td>9</td>\n",
       "      <td>1892</td>\n",
       "      <td>0</td>\n",
       "      <td>900.0</td>\n",
       "      <td>1</td>\n",
       "      <td>1977.0</td>\n",
       "      <td>55.064041</td>\n",
       "      <td>2654.571480</td>\n",
       "      <td>3</td>\n",
       "      <td>-1.659865</td>\n",
       "    </tr>\n",
       "    <tr>\n",
       "      <th>3</th>\n",
       "      <td>23</td>\n",
       "      <td>3.0</td>\n",
       "      <td>49.646030</td>\n",
       "      <td>33.893825</td>\n",
       "      <td>6.0</td>\n",
       "      <td>2.0</td>\n",
       "      <td>1965.0</td>\n",
       "      <td>0.014073</td>\n",
       "      <td>2</td>\n",
       "      <td>475</td>\n",
       "      <td>0</td>\n",
       "      <td>0.0</td>\n",
       "      <td>0</td>\n",
       "      <td>1977.0</td>\n",
       "      <td>54.345128</td>\n",
       "      <td>2093.831883</td>\n",
       "      <td>0</td>\n",
       "      <td>-1.662911</td>\n",
       "    </tr>\n",
       "    <tr>\n",
       "      <th>4</th>\n",
       "      <td>74</td>\n",
       "      <td>1.0</td>\n",
       "      <td>53.837056</td>\n",
       "      <td>42.069644</td>\n",
       "      <td>1.0</td>\n",
       "      <td>17.0</td>\n",
       "      <td>1977.0</td>\n",
       "      <td>0.309479</td>\n",
       "      <td>35</td>\n",
       "      <td>7715</td>\n",
       "      <td>4</td>\n",
       "      <td>990.0</td>\n",
       "      <td>6</td>\n",
       "      <td>1977.0</td>\n",
       "      <td>56.148572</td>\n",
       "      <td>3483.810063</td>\n",
       "      <td>2</td>\n",
       "      <td>-0.847631</td>\n",
       "    </tr>\n",
       "    <tr>\n",
       "      <th>...</th>\n",
       "      <td>...</td>\n",
       "      <td>...</td>\n",
       "      <td>...</td>\n",
       "      <td>...</td>\n",
       "      <td>...</td>\n",
       "      <td>...</td>\n",
       "      <td>...</td>\n",
       "      <td>...</td>\n",
       "      <td>...</td>\n",
       "      <td>...</td>\n",
       "      <td>...</td>\n",
       "      <td>...</td>\n",
       "      <td>...</td>\n",
       "      <td>...</td>\n",
       "      <td>...</td>\n",
       "      <td>...</td>\n",
       "      <td>...</td>\n",
       "      <td>...</td>\n",
       "    </tr>\n",
       "    <tr>\n",
       "      <th>4995</th>\n",
       "      <td>29</td>\n",
       "      <td>2.0</td>\n",
       "      <td>43.177521</td>\n",
       "      <td>30.339945</td>\n",
       "      <td>5.0</td>\n",
       "      <td>6.0</td>\n",
       "      <td>1962.0</td>\n",
       "      <td>0.069660</td>\n",
       "      <td>31</td>\n",
       "      <td>6119</td>\n",
       "      <td>4</td>\n",
       "      <td>1783.4</td>\n",
       "      <td>2</td>\n",
       "      <td>1966.0</td>\n",
       "      <td>42.460503</td>\n",
       "      <td>4190.624398</td>\n",
       "      <td>1</td>\n",
       "      <td>-0.850724</td>\n",
       "    </tr>\n",
       "    <tr>\n",
       "      <th>4996</th>\n",
       "      <td>38</td>\n",
       "      <td>3.0</td>\n",
       "      <td>94.521465</td>\n",
       "      <td>93.698122</td>\n",
       "      <td>10.0</td>\n",
       "      <td>27.0</td>\n",
       "      <td>2018.0</td>\n",
       "      <td>0.060753</td>\n",
       "      <td>15</td>\n",
       "      <td>2787</td>\n",
       "      <td>2</td>\n",
       "      <td>520.0</td>\n",
       "      <td>7</td>\n",
       "      <td>2011.0</td>\n",
       "      <td>65.410829</td>\n",
       "      <td>5033.548791</td>\n",
       "      <td>3</td>\n",
       "      <td>-1.257825</td>\n",
       "    </tr>\n",
       "    <tr>\n",
       "      <th>4997</th>\n",
       "      <td>101</td>\n",
       "      <td>1.0</td>\n",
       "      <td>33.656723</td>\n",
       "      <td>19.003259</td>\n",
       "      <td>5.0</td>\n",
       "      <td>5.0</td>\n",
       "      <td>1966.0</td>\n",
       "      <td>0.038693</td>\n",
       "      <td>28</td>\n",
       "      <td>6533</td>\n",
       "      <td>1</td>\n",
       "      <td>1015.0</td>\n",
       "      <td>5</td>\n",
       "      <td>1967.0</td>\n",
       "      <td>46.416381</td>\n",
       "      <td>3970.074724</td>\n",
       "      <td>0</td>\n",
       "      <td>-1.450241</td>\n",
       "    </tr>\n",
       "    <tr>\n",
       "      <th>4998</th>\n",
       "      <td>10</td>\n",
       "      <td>1.0</td>\n",
       "      <td>38.635155</td>\n",
       "      <td>20.976257</td>\n",
       "      <td>9.0</td>\n",
       "      <td>14.0</td>\n",
       "      <td>1970.0</td>\n",
       "      <td>0.089040</td>\n",
       "      <td>33</td>\n",
       "      <td>7976</td>\n",
       "      <td>5</td>\n",
       "      <td>900.0</td>\n",
       "      <td>11</td>\n",
       "      <td>1973.0</td>\n",
       "      <td>49.844005</td>\n",
       "      <td>4368.622761</td>\n",
       "      <td>2</td>\n",
       "      <td>-0.647366</td>\n",
       "    </tr>\n",
       "    <tr>\n",
       "      <th>4999</th>\n",
       "      <td>21</td>\n",
       "      <td>2.0</td>\n",
       "      <td>67.122742</td>\n",
       "      <td>33.944344</td>\n",
       "      <td>13.0</td>\n",
       "      <td>17.0</td>\n",
       "      <td>2009.0</td>\n",
       "      <td>0.194489</td>\n",
       "      <td>47</td>\n",
       "      <td>8004</td>\n",
       "      <td>3</td>\n",
       "      <td>125.0</td>\n",
       "      <td>5</td>\n",
       "      <td>1970.0</td>\n",
       "      <td>45.924009</td>\n",
       "      <td>3958.272059</td>\n",
       "      <td>2</td>\n",
       "      <td>-1.046081</td>\n",
       "    </tr>\n",
       "  </tbody>\n",
       "</table>\n",
       "<p>5000 rows × 18 columns</p>\n",
       "</div>"
      ],
      "text/plain": [
       "      DistrictId  Rooms     Square  LifeSquare  KitchenSquare  HouseFloor  \\\n",
       "0             44    1.0  36.847630   19.094182            5.0         9.0   \n",
       "1             62    1.0  42.568133   42.493907           10.0        17.0   \n",
       "2             27    2.0  59.463678   38.570943            9.0        19.0   \n",
       "3             23    3.0  49.646030   33.893825            6.0         2.0   \n",
       "4             74    1.0  53.837056   42.069644            1.0        17.0   \n",
       "...          ...    ...        ...         ...            ...         ...   \n",
       "4995          29    2.0  43.177521   30.339945            5.0         6.0   \n",
       "4996          38    3.0  94.521465   93.698122           10.0        27.0   \n",
       "4997         101    1.0  33.656723   19.003259            5.0         5.0   \n",
       "4998          10    1.0  38.635155   20.976257            9.0        14.0   \n",
       "4999          21    2.0  67.122742   33.944344           13.0        17.0   \n",
       "\n",
       "      HouseYear  Ecology_1  Social_1  Social_2  Social_3  Healthcare_1  \\\n",
       "0        1970.0   0.036122        24      4378         0        1036.0   \n",
       "1        2017.0   0.072158         2       629         1        2300.0   \n",
       "2        1977.0   0.211401         9      1892         0         900.0   \n",
       "3        1965.0   0.014073         2       475         0           0.0   \n",
       "4        1977.0   0.309479        35      7715         4         990.0   \n",
       "...         ...        ...       ...       ...       ...           ...   \n",
       "4995     1962.0   0.069660        31      6119         4        1783.4   \n",
       "4996     2018.0   0.060753        15      2787         2         520.0   \n",
       "4997     1966.0   0.038693        28      6533         1        1015.0   \n",
       "4998     1970.0   0.089040        33      7976         5         900.0   \n",
       "4999     2009.0   0.194489        47      8004         3         125.0   \n",
       "\n",
       "      Shops_1  DistrictYear  DistrictDensity  DistrictPrice  Floor_cat  \\\n",
       "0           1        1977.0        46.971646    4431.704675          1   \n",
       "1           0        1977.0        56.667328    2859.977368          1   \n",
       "2           1        1977.0        55.064041    2654.571480          3   \n",
       "3           0        1977.0        54.345128    2093.831883          0   \n",
       "4           6        1977.0        56.148572    3483.810063          2   \n",
       "...       ...           ...              ...            ...        ...   \n",
       "4995        2        1966.0        42.460503    4190.624398          1   \n",
       "4996        7        2011.0        65.410829    5033.548791          3   \n",
       "4997        5        1967.0        46.416381    3970.074724          0   \n",
       "4998       11        1973.0        49.844005    4368.622761          2   \n",
       "4999        5        1970.0        45.924009    3958.272059          2   \n",
       "\n",
       "        Social  \n",
       "0    -1.654285  \n",
       "1    -1.462656  \n",
       "2    -1.659865  \n",
       "3    -1.662911  \n",
       "4    -0.847631  \n",
       "...        ...  \n",
       "4995 -0.850724  \n",
       "4996 -1.257825  \n",
       "4997 -1.450241  \n",
       "4998 -0.647366  \n",
       "4999 -1.046081  \n",
       "\n",
       "[5000 rows x 18 columns]"
      ]
     },
     "execution_count": 71,
     "metadata": {},
     "output_type": "execute_result"
    }
   ],
   "source": [
    "test_df"
   ]
  },
  {
   "cell_type": "code",
   "execution_count": 72,
   "metadata": {
    "execution": {
     "iopub.execute_input": "2022-06-14T12:06:45.945853Z",
     "iopub.status.busy": "2022-06-14T12:06:45.944941Z",
     "iopub.status.idle": "2022-06-14T12:06:45.960967Z",
     "shell.execute_reply": "2022-06-14T12:06:45.961511Z",
     "shell.execute_reply.started": "2022-06-08T19:41:15.253584Z"
    },
    "papermill": {
     "duration": 0.120997,
     "end_time": "2022-06-14T12:06:45.961671",
     "exception": false,
     "start_time": "2022-06-14T12:06:45.840674",
     "status": "completed"
    },
    "tags": []
   },
   "outputs": [
    {
     "data": {
      "text/html": [
       "<div>\n",
       "<style scoped>\n",
       "    .dataframe tbody tr th:only-of-type {\n",
       "        vertical-align: middle;\n",
       "    }\n",
       "\n",
       "    .dataframe tbody tr th {\n",
       "        vertical-align: top;\n",
       "    }\n",
       "\n",
       "    .dataframe thead th {\n",
       "        text-align: right;\n",
       "    }\n",
       "</style>\n",
       "<table border=\"1\" class=\"dataframe\">\n",
       "  <thead>\n",
       "    <tr style=\"text-align: right;\">\n",
       "      <th></th>\n",
       "      <th>Id</th>\n",
       "      <th>Price</th>\n",
       "    </tr>\n",
       "  </thead>\n",
       "  <tbody>\n",
       "    <tr>\n",
       "      <th>0</th>\n",
       "      <td>4567</td>\n",
       "      <td>200000.0</td>\n",
       "    </tr>\n",
       "    <tr>\n",
       "      <th>1</th>\n",
       "      <td>5925</td>\n",
       "      <td>200000.0</td>\n",
       "    </tr>\n",
       "    <tr>\n",
       "      <th>2</th>\n",
       "      <td>960</td>\n",
       "      <td>200000.0</td>\n",
       "    </tr>\n",
       "    <tr>\n",
       "      <th>3</th>\n",
       "      <td>3848</td>\n",
       "      <td>200000.0</td>\n",
       "    </tr>\n",
       "    <tr>\n",
       "      <th>4</th>\n",
       "      <td>746</td>\n",
       "      <td>200000.0</td>\n",
       "    </tr>\n",
       "  </tbody>\n",
       "</table>\n",
       "</div>"
      ],
      "text/plain": [
       "     Id     Price\n",
       "0  4567  200000.0\n",
       "1  5925  200000.0\n",
       "2   960  200000.0\n",
       "3  3848  200000.0\n",
       "4   746  200000.0"
      ]
     },
     "execution_count": 72,
     "metadata": {},
     "output_type": "execute_result"
    }
   ],
   "source": [
    "submit = pd.read_csv(SAMPLE_DATASET_PATH)\n",
    "submit.head()"
   ]
  },
  {
   "cell_type": "code",
   "execution_count": 73,
   "metadata": {
    "execution": {
     "iopub.execute_input": "2022-06-14T12:06:46.163922Z",
     "iopub.status.busy": "2022-06-14T12:06:46.162884Z",
     "iopub.status.idle": "2022-06-14T12:06:46.347418Z",
     "shell.execute_reply": "2022-06-14T12:06:46.346824Z",
     "shell.execute_reply.started": "2022-06-08T19:41:15.269919Z"
    },
    "papermill": {
     "duration": 0.286491,
     "end_time": "2022-06-14T12:06:46.347541",
     "exception": false,
     "start_time": "2022-06-14T12:06:46.061050",
     "status": "completed"
    },
    "tags": []
   },
   "outputs": [
    {
     "data": {
      "text/plain": [
       "array([154743.65862831, 124011.57392321, 140555.03832373, ...,\n",
       "       148593.55520105, 183912.23802055, 294715.47596434])"
      ]
     },
     "execution_count": 73,
     "metadata": {},
     "output_type": "execute_result"
    }
   ],
   "source": [
    "predictions = rf_model.predict(test_df)\n",
    "predictions"
   ]
  },
  {
   "cell_type": "code",
   "execution_count": 74,
   "metadata": {
    "execution": {
     "iopub.execute_input": "2022-06-14T12:06:46.543513Z",
     "iopub.status.busy": "2022-06-14T12:06:46.542507Z",
     "iopub.status.idle": "2022-06-14T12:06:46.552914Z",
     "shell.execute_reply": "2022-06-14T12:06:46.553505Z",
     "shell.execute_reply.started": "2022-06-08T19:41:15.411994Z"
    },
    "papermill": {
     "duration": 0.110105,
     "end_time": "2022-06-14T12:06:46.553661",
     "exception": false,
     "start_time": "2022-06-14T12:06:46.443556",
     "status": "completed"
    },
    "tags": []
   },
   "outputs": [
    {
     "data": {
      "text/html": [
       "<div>\n",
       "<style scoped>\n",
       "    .dataframe tbody tr th:only-of-type {\n",
       "        vertical-align: middle;\n",
       "    }\n",
       "\n",
       "    .dataframe tbody tr th {\n",
       "        vertical-align: top;\n",
       "    }\n",
       "\n",
       "    .dataframe thead th {\n",
       "        text-align: right;\n",
       "    }\n",
       "</style>\n",
       "<table border=\"1\" class=\"dataframe\">\n",
       "  <thead>\n",
       "    <tr style=\"text-align: right;\">\n",
       "      <th></th>\n",
       "      <th>Id</th>\n",
       "      <th>Price</th>\n",
       "    </tr>\n",
       "  </thead>\n",
       "  <tbody>\n",
       "    <tr>\n",
       "      <th>0</th>\n",
       "      <td>4567</td>\n",
       "      <td>154743.658628</td>\n",
       "    </tr>\n",
       "    <tr>\n",
       "      <th>1</th>\n",
       "      <td>5925</td>\n",
       "      <td>124011.573923</td>\n",
       "    </tr>\n",
       "    <tr>\n",
       "      <th>2</th>\n",
       "      <td>960</td>\n",
       "      <td>140555.038324</td>\n",
       "    </tr>\n",
       "    <tr>\n",
       "      <th>3</th>\n",
       "      <td>3848</td>\n",
       "      <td>117772.840791</td>\n",
       "    </tr>\n",
       "    <tr>\n",
       "      <th>4</th>\n",
       "      <td>746</td>\n",
       "      <td>186703.339603</td>\n",
       "    </tr>\n",
       "  </tbody>\n",
       "</table>\n",
       "</div>"
      ],
      "text/plain": [
       "     Id          Price\n",
       "0  4567  154743.658628\n",
       "1  5925  124011.573923\n",
       "2   960  140555.038324\n",
       "3  3848  117772.840791\n",
       "4   746  186703.339603"
      ]
     },
     "execution_count": 74,
     "metadata": {},
     "output_type": "execute_result"
    }
   ],
   "source": [
    "submit['Price'] = predictions\n",
    "submit.head()"
   ]
  },
  {
   "cell_type": "code",
   "execution_count": 75,
   "metadata": {
    "execution": {
     "iopub.execute_input": "2022-06-14T12:06:46.762492Z",
     "iopub.status.busy": "2022-06-14T12:06:46.761455Z",
     "iopub.status.idle": "2022-06-14T12:06:47.067202Z",
     "shell.execute_reply": "2022-06-14T12:06:47.066447Z",
     "shell.execute_reply.started": "2022-06-08T19:41:15.426375Z"
    },
    "papermill": {
     "duration": 0.41521,
     "end_time": "2022-06-14T12:06:47.067333",
     "exception": false,
     "start_time": "2022-06-14T12:06:46.652123",
     "status": "completed"
    },
    "tags": []
   },
   "outputs": [],
   "source": [
    "submit.to_csv(RESULT, index=False)"
   ]
  }
 ],
 "metadata": {
  "kernelspec": {
   "display_name": "Python 3",
   "language": "python",
   "name": "python3"
  },
  "language_info": {
   "codemirror_mode": {
    "name": "ipython",
    "version": 3
   },
   "file_extension": ".py",
   "mimetype": "text/x-python",
   "name": "python",
   "nbconvert_exporter": "python",
   "pygments_lexer": "ipython3",
   "version": "3.7.6"
  },
  "papermill": {
   "duration": 37.501459,
   "end_time": "2022-06-14T12:06:47.271840",
   "environment_variables": {},
   "exception": null,
   "input_path": "__notebook__.ipynb",
   "output_path": "__notebook__.ipynb",
   "parameters": {},
   "start_time": "2022-06-14T12:06:09.770381",
   "version": "2.1.0"
  }
 },
 "nbformat": 4,
 "nbformat_minor": 4
}
