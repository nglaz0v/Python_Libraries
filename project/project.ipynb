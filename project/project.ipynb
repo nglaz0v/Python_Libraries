{
 "cells": [
  {
   "cell_type": "markdown",
   "metadata": {
    "papermill": {
     "duration": 0.084624,
     "end_time": "2021-11-02T18:57:35.694630",
     "exception": false,
     "start_time": "2021-11-02T18:57:35.610006",
     "status": "completed"
    },
    "tags": []
   },
   "source": [
    "# Курсовая \"Модель предсказания цены на недвижимость\"\n",
    "\n",
    "Нужно будет оформить ноутбук с основными этапами:\n",
    "1. подготовка данных\n",
    "    * анализ\n",
    "    * визуализация\n",
    "    * обработка выбросов\n",
    "    * обработка пропусков\n",
    "    * генерация фичей\n",
    "2. обучение модели\n",
    "3. проверка качества модели\n",
    "\n",
    "Так же надо отправить файл с предсказаниями на kaggle и на private leaderboard получить больше 0.6\n",
    "\n",
    "Данные для курсового можно брать отсюда https://www.kaggle.com/t/b4c9382d4f934176af9fe860b1976528 (вкладка data)\n",
    "\n",
    "Метрика:\n",
    "R2 - коэффициент детерминации (sklearn.metrics.r2_score)\n",
    "\n",
    "Примечание:\n",
    "Все файлы csv должны содержать названия полей (header - то есть \"шапку\"),разделитель - запятая. В файлах не должны содержаться индексы из датафрейма.\n",
    "____________\n",
    "Рекомендации для файла с кодом (ipynb):\n",
    "1. Файл должен содержать заголовки и комментарии\n",
    "2. Повторяющиеся операции лучше оформлять в виде функций\n",
    "3. По возможности добавлять графики, описывающие данные (около 3-5)\n",
    "4. Добавлять только лучшую модель, то есть не включать в код все варианты решения проекта\n",
    "5. Скрипт проекта должен отрабатывать от начала и до конца (от загрузки данных до выгрузки предсказаний)\n",
    "6. Весь проект должен быть в одном скрипте (файл ipynb).\n",
    "7. При использовании статистик (среднее, медиана и т.д.) в качестве признаков, лучше считать их на трейне, и потом на валидационных и тестовых данных не считать статистики заново, а брать их с трейна.\n",
    "8. Проект должен полностью отрабатывать за разумное время (не больше 10 минут), поэтому в финальный вариант лучше не включать GridSearch с перебором большого количества сочетаний параметров. "
   ]
  },
  {
   "cell_type": "markdown",
   "metadata": {
    "papermill": {
     "duration": 0.081191,
     "end_time": "2021-11-02T18:57:35.857777",
     "exception": false,
     "start_time": "2021-11-02T18:57:35.776586",
     "status": "completed"
    },
    "tags": []
   },
   "source": [
    "**Содержание**\n",
    "* [0. Загрузка данных](#load)\n",
    "* [1. Разведочный анализ данных](#eda)\n",
    "* [2. Обработка выбросов](#outlier)\n",
    "* [3. Обработка пропусков](#nan)\n",
    "* [4. Построение новых признаков](#feature)\n",
    "* [5. Отбор признаков](#feature_selection)\n",
    "* [6. Разбиение на train и test](#split)\n",
    "* [7. Построение модели](#modeling)\n",
    "* [8. Прогнозирование на тестовом датасете](#prediction)"
   ]
  },
  {
   "cell_type": "markdown",
   "metadata": {
    "papermill": {
     "duration": 0.079449,
     "end_time": "2021-11-02T18:57:36.017375",
     "exception": false,
     "start_time": "2021-11-02T18:57:35.937926",
     "status": "completed"
    },
    "tags": []
   },
   "source": [
    "**Подключение библиотек и скриптов**"
   ]
  },
  {
   "cell_type": "code",
   "execution_count": 1,
   "metadata": {
    "execution": {
     "iopub.execute_input": "2021-11-02T18:57:36.355200Z",
     "iopub.status.busy": "2021-11-02T18:57:36.354037Z",
     "iopub.status.idle": "2021-11-02T18:57:37.702448Z",
     "shell.execute_reply": "2021-11-02T18:57:37.701665Z",
     "shell.execute_reply.started": "2021-11-02T18:55:57.077453Z"
    },
    "papermill": {
     "duration": 1.43217,
     "end_time": "2021-11-02T18:57:37.702583",
     "exception": false,
     "start_time": "2021-11-02T18:57:36.270413",
     "status": "completed"
    },
    "tags": []
   },
   "outputs": [],
   "source": [
    "%matplotlib inline\n",
    "\n",
    "import numpy as np\n",
    "import pandas as pd\n",
    "\n",
    "import matplotlib as mpl\n",
    "import matplotlib.pyplot as plt\n",
    "import seaborn as sns\n",
    "\n",
    "from sklearn.model_selection import train_test_split, cross_val_score\n",
    "from sklearn.preprocessing import StandardScaler, RobustScaler\n",
    "from sklearn.ensemble import RandomForestRegressor\n",
    "from sklearn.metrics import r2_score as r2\n",
    "from sklearn.model_selection import KFold, GridSearchCV\n",
    "\n",
    "from datetime import datetime\n",
    "import random"
   ]
  },
  {
   "cell_type": "code",
   "execution_count": 2,
   "metadata": {
    "execution": {
     "iopub.execute_input": "2021-11-02T18:57:37.864294Z",
     "iopub.status.busy": "2021-11-02T18:57:37.863206Z",
     "iopub.status.idle": "2021-11-02T18:57:37.867783Z",
     "shell.execute_reply": "2021-11-02T18:57:37.868487Z",
     "shell.execute_reply.started": "2021-11-02T18:55:57.526911Z"
    },
    "papermill": {
     "duration": 0.086685,
     "end_time": "2021-11-02T18:57:37.868639",
     "exception": false,
     "start_time": "2021-11-02T18:57:37.781954",
     "status": "completed"
    },
    "tags": []
   },
   "outputs": [],
   "source": [
    "import warnings\n",
    "warnings.filterwarnings('ignore')"
   ]
  },
  {
   "cell_type": "code",
   "execution_count": 3,
   "metadata": {
    "execution": {
     "iopub.execute_input": "2021-11-02T18:57:38.030489Z",
     "iopub.status.busy": "2021-11-02T18:57:38.029367Z",
     "iopub.status.idle": "2021-11-02T18:57:38.034486Z",
     "shell.execute_reply": "2021-11-02T18:57:38.035153Z",
     "shell.execute_reply.started": "2021-11-02T18:55:57.532115Z"
    },
    "papermill": {
     "duration": 0.088019,
     "end_time": "2021-11-02T18:57:38.035329",
     "exception": false,
     "start_time": "2021-11-02T18:57:37.947310",
     "status": "completed"
    },
    "tags": []
   },
   "outputs": [],
   "source": [
    "mpl.rcParams.update({'font.size': 14})"
   ]
  },
  {
   "cell_type": "code",
   "execution_count": 4,
   "metadata": {
    "execution": {
     "iopub.execute_input": "2021-11-02T18:57:38.198456Z",
     "iopub.status.busy": "2021-11-02T18:57:38.197247Z",
     "iopub.status.idle": "2021-11-02T18:57:38.208727Z",
     "shell.execute_reply": "2021-11-02T18:57:38.207958Z",
     "shell.execute_reply.started": "2021-11-02T18:55:57.546148Z"
    },
    "papermill": {
     "duration": 0.094798,
     "end_time": "2021-11-02T18:57:38.208863",
     "exception": false,
     "start_time": "2021-11-02T18:57:38.114065",
     "status": "completed"
    },
    "tags": []
   },
   "outputs": [],
   "source": [
    "def evaluate_preds(train_true_values, train_pred_values, test_true_values, test_pred_values):\n",
    "    \"\"\"Сравнить предсказанные (_pred_) значения с фактическими (_true_) для обучающей (train) и тестовой (test) выборки\"\"\"\n",
    "    print(\"Train R2:\\t\" + str(round(r2(train_true_values, train_pred_values), 3)))\n",
    "    print(\"Test R2:\\t\" + str(round(r2(test_true_values, test_pred_values), 3)))\n",
    "    \n",
    "    plt.figure(figsize=(18,10))\n",
    "    \n",
    "    plt.subplot(121)\n",
    "    sns.scatterplot(x=train_pred_values, y=train_true_values)\n",
    "    plt.xlabel('Predicted values')\n",
    "    plt.ylabel('True values')\n",
    "    plt.title('Train sample prediction')\n",
    "    \n",
    "    plt.subplot(122)\n",
    "    sns.scatterplot(x=test_pred_values, y=test_true_values)\n",
    "    plt.xlabel('Predicted values')\n",
    "    plt.ylabel('True values')\n",
    "    plt.title('Test sample prediction')\n",
    "\n",
    "    plt.show()"
   ]
  },
  {
   "cell_type": "markdown",
   "metadata": {
    "papermill": {
     "duration": 0.079393,
     "end_time": "2021-11-02T18:57:38.368518",
     "exception": false,
     "start_time": "2021-11-02T18:57:38.289125",
     "status": "completed"
    },
    "tags": []
   },
   "source": [
    "**Пути к директориям и файлам**"
   ]
  },
  {
   "cell_type": "code",
   "execution_count": 5,
   "metadata": {
    "execution": {
     "iopub.execute_input": "2021-11-02T18:57:38.530725Z",
     "iopub.status.busy": "2021-11-02T18:57:38.529587Z",
     "iopub.status.idle": "2021-11-02T18:57:38.534514Z",
     "shell.execute_reply": "2021-11-02T18:57:38.535130Z",
     "shell.execute_reply.started": "2021-11-02T18:55:57.561193Z"
    },
    "papermill": {
     "duration": 0.087487,
     "end_time": "2021-11-02T18:57:38.535313",
     "exception": false,
     "start_time": "2021-11-02T18:57:38.447826",
     "status": "completed"
    },
    "tags": []
   },
   "outputs": [],
   "source": [
    "TRAIN_DATASET_PATH = 'train.csv'\n",
    "TEST_DATASET_PATH = 'test.csv'"
   ]
  },
  {
   "cell_type": "markdown",
   "metadata": {
    "papermill": {
     "duration": 0.080694,
     "end_time": "2021-11-02T18:57:38.696555",
     "exception": false,
     "start_time": "2021-11-02T18:57:38.615861",
     "status": "completed"
    },
    "tags": []
   },
   "source": [
    "### Загрузка данных <a class='anchor' id='load'>"
   ]
  },
  {
   "cell_type": "markdown",
   "metadata": {
    "papermill": {
     "duration": 0.0894,
     "end_time": "2021-11-02T18:57:38.887286",
     "exception": false,
     "start_time": "2021-11-02T18:57:38.797886",
     "status": "completed"
    },
    "tags": []
   },
   "source": [
    "**Описание датасета**\n",
    "\n",
    "* **Id** - идентификационный номер квартиры\n",
    "* **DistrictId** - идентификационный номер района\n",
    "* **Rooms** - количество комнат\n",
    "* **Square** - площадь\n",
    "* **LifeSquare** - жилая площадь\n",
    "* **KitchenSquare** - площадь кухни\n",
    "* **Floor** - этаж\n",
    "* **HouseFloor** - количество этажей в доме\n",
    "* **HouseYear** - год постройки дома\n",
    "* **Ecology_1, Ecology_2, Ecology_3** - экологические показатели местности\n",
    "* **Social_1, Social_2, Social_3** - социальные показатели местности\n",
    "* **Healthcare_1, Helthcare_2** - показатели местности, связанные с охраной здоровья\n",
    "* **Shops_1, Shops_2** - показатели, связанные с наличием магазинов, торговых центров\n",
    "* **Price** - цена квартиры"
   ]
  },
  {
   "cell_type": "code",
   "execution_count": 6,
   "metadata": {
    "execution": {
     "iopub.execute_input": "2021-11-02T18:57:39.049124Z",
     "iopub.status.busy": "2021-11-02T18:57:39.048416Z",
     "iopub.status.idle": "2021-11-02T18:57:39.139796Z",
     "shell.execute_reply": "2021-11-02T18:57:39.139022Z",
     "shell.execute_reply.started": "2021-11-02T18:55:57.578093Z"
    },
    "papermill": {
     "duration": 0.173769,
     "end_time": "2021-11-02T18:57:39.139941",
     "exception": false,
     "start_time": "2021-11-02T18:57:38.966172",
     "status": "completed"
    },
    "tags": []
   },
   "outputs": [
    {
     "data": {
      "text/html": [
       "<div>\n",
       "<style scoped>\n",
       "    .dataframe tbody tr th:only-of-type {\n",
       "        vertical-align: middle;\n",
       "    }\n",
       "\n",
       "    .dataframe tbody tr th {\n",
       "        vertical-align: top;\n",
       "    }\n",
       "\n",
       "    .dataframe thead th {\n",
       "        text-align: right;\n",
       "    }\n",
       "</style>\n",
       "<table border=\"1\" class=\"dataframe\">\n",
       "  <thead>\n",
       "    <tr style=\"text-align: right;\">\n",
       "      <th></th>\n",
       "      <th>DistrictId</th>\n",
       "      <th>Rooms</th>\n",
       "      <th>Square</th>\n",
       "      <th>LifeSquare</th>\n",
       "      <th>KitchenSquare</th>\n",
       "      <th>Floor</th>\n",
       "      <th>HouseFloor</th>\n",
       "      <th>HouseYear</th>\n",
       "      <th>Ecology_1</th>\n",
       "      <th>Ecology_2</th>\n",
       "      <th>Ecology_3</th>\n",
       "      <th>Social_1</th>\n",
       "      <th>Social_2</th>\n",
       "      <th>Social_3</th>\n",
       "      <th>Healthcare_1</th>\n",
       "      <th>Helthcare_2</th>\n",
       "      <th>Shops_1</th>\n",
       "      <th>Shops_2</th>\n",
       "      <th>Price</th>\n",
       "    </tr>\n",
       "    <tr>\n",
       "      <th>Id</th>\n",
       "      <th></th>\n",
       "      <th></th>\n",
       "      <th></th>\n",
       "      <th></th>\n",
       "      <th></th>\n",
       "      <th></th>\n",
       "      <th></th>\n",
       "      <th></th>\n",
       "      <th></th>\n",
       "      <th></th>\n",
       "      <th></th>\n",
       "      <th></th>\n",
       "      <th></th>\n",
       "      <th></th>\n",
       "      <th></th>\n",
       "      <th></th>\n",
       "      <th></th>\n",
       "      <th></th>\n",
       "      <th></th>\n",
       "    </tr>\n",
       "  </thead>\n",
       "  <tbody>\n",
       "    <tr>\n",
       "      <th>1260</th>\n",
       "      <td>61</td>\n",
       "      <td>2.0</td>\n",
       "      <td>49.090728</td>\n",
       "      <td>33.272626</td>\n",
       "      <td>6.0</td>\n",
       "      <td>3</td>\n",
       "      <td>12.0</td>\n",
       "      <td>1981</td>\n",
       "      <td>0.300323</td>\n",
       "      <td>B</td>\n",
       "      <td>B</td>\n",
       "      <td>52</td>\n",
       "      <td>10311</td>\n",
       "      <td>6</td>\n",
       "      <td>NaN</td>\n",
       "      <td>1</td>\n",
       "      <td>9</td>\n",
       "      <td>B</td>\n",
       "      <td>119367.455796</td>\n",
       "    </tr>\n",
       "    <tr>\n",
       "      <th>16265</th>\n",
       "      <td>27</td>\n",
       "      <td>2.0</td>\n",
       "      <td>64.307684</td>\n",
       "      <td>37.038420</td>\n",
       "      <td>9.0</td>\n",
       "      <td>13</td>\n",
       "      <td>0.0</td>\n",
       "      <td>1977</td>\n",
       "      <td>0.072158</td>\n",
       "      <td>B</td>\n",
       "      <td>B</td>\n",
       "      <td>2</td>\n",
       "      <td>629</td>\n",
       "      <td>1</td>\n",
       "      <td>NaN</td>\n",
       "      <td>0</td>\n",
       "      <td>0</td>\n",
       "      <td>A</td>\n",
       "      <td>199715.148807</td>\n",
       "    </tr>\n",
       "    <tr>\n",
       "      <th>2795</th>\n",
       "      <td>178</td>\n",
       "      <td>1.0</td>\n",
       "      <td>29.648057</td>\n",
       "      <td>16.555363</td>\n",
       "      <td>5.0</td>\n",
       "      <td>3</td>\n",
       "      <td>5.0</td>\n",
       "      <td>1958</td>\n",
       "      <td>0.460556</td>\n",
       "      <td>B</td>\n",
       "      <td>B</td>\n",
       "      <td>20</td>\n",
       "      <td>4386</td>\n",
       "      <td>14</td>\n",
       "      <td>NaN</td>\n",
       "      <td>1</td>\n",
       "      <td>5</td>\n",
       "      <td>B</td>\n",
       "      <td>165953.912580</td>\n",
       "    </tr>\n",
       "    <tr>\n",
       "      <th>14561</th>\n",
       "      <td>21</td>\n",
       "      <td>1.0</td>\n",
       "      <td>32.330292</td>\n",
       "      <td>22.326870</td>\n",
       "      <td>5.0</td>\n",
       "      <td>3</td>\n",
       "      <td>9.0</td>\n",
       "      <td>1969</td>\n",
       "      <td>0.194489</td>\n",
       "      <td>B</td>\n",
       "      <td>B</td>\n",
       "      <td>47</td>\n",
       "      <td>8004</td>\n",
       "      <td>3</td>\n",
       "      <td>125.0</td>\n",
       "      <td>3</td>\n",
       "      <td>5</td>\n",
       "      <td>B</td>\n",
       "      <td>171842.411855</td>\n",
       "    </tr>\n",
       "    <tr>\n",
       "      <th>7202</th>\n",
       "      <td>94</td>\n",
       "      <td>1.0</td>\n",
       "      <td>35.815476</td>\n",
       "      <td>22.301367</td>\n",
       "      <td>6.0</td>\n",
       "      <td>9</td>\n",
       "      <td>9.0</td>\n",
       "      <td>1975</td>\n",
       "      <td>0.127376</td>\n",
       "      <td>B</td>\n",
       "      <td>B</td>\n",
       "      <td>43</td>\n",
       "      <td>8429</td>\n",
       "      <td>3</td>\n",
       "      <td>NaN</td>\n",
       "      <td>3</td>\n",
       "      <td>9</td>\n",
       "      <td>B</td>\n",
       "      <td>177685.627486</td>\n",
       "    </tr>\n",
       "  </tbody>\n",
       "</table>\n",
       "</div>"
      ],
      "text/plain": [
       "       DistrictId  Rooms     Square  LifeSquare  KitchenSquare  Floor  \\\n",
       "Id                                                                      \n",
       "1260           61    2.0  49.090728   33.272626            6.0      3   \n",
       "16265          27    2.0  64.307684   37.038420            9.0     13   \n",
       "2795          178    1.0  29.648057   16.555363            5.0      3   \n",
       "14561          21    1.0  32.330292   22.326870            5.0      3   \n",
       "7202           94    1.0  35.815476   22.301367            6.0      9   \n",
       "\n",
       "       HouseFloor  HouseYear  Ecology_1 Ecology_2 Ecology_3  Social_1  \\\n",
       "Id                                                                      \n",
       "1260         12.0       1981   0.300323         B         B        52   \n",
       "16265         0.0       1977   0.072158         B         B         2   \n",
       "2795          5.0       1958   0.460556         B         B        20   \n",
       "14561         9.0       1969   0.194489         B         B        47   \n",
       "7202          9.0       1975   0.127376         B         B        43   \n",
       "\n",
       "       Social_2  Social_3  Healthcare_1  Helthcare_2  Shops_1 Shops_2  \\\n",
       "Id                                                                      \n",
       "1260      10311         6           NaN            1        9       B   \n",
       "16265       629         1           NaN            0        0       A   \n",
       "2795       4386        14           NaN            1        5       B   \n",
       "14561      8004         3         125.0            3        5       B   \n",
       "7202       8429         3           NaN            3        9       B   \n",
       "\n",
       "               Price  \n",
       "Id                    \n",
       "1260   119367.455796  \n",
       "16265  199715.148807  \n",
       "2795   165953.912580  \n",
       "14561  171842.411855  \n",
       "7202   177685.627486  "
      ]
     },
     "execution_count": 6,
     "metadata": {},
     "output_type": "execute_result"
    }
   ],
   "source": [
    "train_df = pd.read_csv(TRAIN_DATASET_PATH, index_col=\"Id\")\n",
    "train_df.tail()"
   ]
  },
  {
   "cell_type": "code",
   "execution_count": 7,
   "metadata": {},
   "outputs": [
    {
     "name": "stdout",
     "output_type": "stream",
     "text": [
      "<class 'pandas.core.frame.DataFrame'>\n",
      "Int64Index: 10000 entries, 11809 to 7202\n",
      "Data columns (total 19 columns):\n",
      " #   Column         Non-Null Count  Dtype  \n",
      "---  ------         --------------  -----  \n",
      " 0   DistrictId     10000 non-null  int64  \n",
      " 1   Rooms          10000 non-null  float64\n",
      " 2   Square         10000 non-null  float64\n",
      " 3   LifeSquare     7887 non-null   float64\n",
      " 4   KitchenSquare  10000 non-null  float64\n",
      " 5   Floor          10000 non-null  int64  \n",
      " 6   HouseFloor     10000 non-null  float64\n",
      " 7   HouseYear      10000 non-null  int64  \n",
      " 8   Ecology_1      10000 non-null  float64\n",
      " 9   Ecology_2      10000 non-null  object \n",
      " 10  Ecology_3      10000 non-null  object \n",
      " 11  Social_1       10000 non-null  int64  \n",
      " 12  Social_2       10000 non-null  int64  \n",
      " 13  Social_3       10000 non-null  int64  \n",
      " 14  Healthcare_1   5202 non-null   float64\n",
      " 15  Helthcare_2    10000 non-null  int64  \n",
      " 16  Shops_1        10000 non-null  int64  \n",
      " 17  Shops_2        10000 non-null  object \n",
      " 18  Price          10000 non-null  float64\n",
      "dtypes: float64(8), int64(8), object(3)\n",
      "memory usage: 1.5+ MB\n"
     ]
    }
   ],
   "source": [
    "train_df.info()"
   ]
  },
  {
   "cell_type": "code",
   "execution_count": 8,
   "metadata": {
    "execution": {
     "iopub.execute_input": "2021-11-02T18:57:39.513849Z",
     "iopub.status.busy": "2021-11-02T18:57:39.512709Z",
     "iopub.status.idle": "2021-11-02T18:57:39.563748Z",
     "shell.execute_reply": "2021-11-02T18:57:39.563140Z",
     "shell.execute_reply.started": "2021-11-02T18:55:57.647227Z"
    },
    "papermill": {
     "duration": 0.13412,
     "end_time": "2021-11-02T18:57:39.563884",
     "exception": false,
     "start_time": "2021-11-02T18:57:39.429764",
     "status": "completed"
    },
    "tags": []
   },
   "outputs": [
    {
     "data": {
      "text/html": [
       "<div>\n",
       "<style scoped>\n",
       "    .dataframe tbody tr th:only-of-type {\n",
       "        vertical-align: middle;\n",
       "    }\n",
       "\n",
       "    .dataframe tbody tr th {\n",
       "        vertical-align: top;\n",
       "    }\n",
       "\n",
       "    .dataframe thead th {\n",
       "        text-align: right;\n",
       "    }\n",
       "</style>\n",
       "<table border=\"1\" class=\"dataframe\">\n",
       "  <thead>\n",
       "    <tr style=\"text-align: right;\">\n",
       "      <th></th>\n",
       "      <th>DistrictId</th>\n",
       "      <th>Rooms</th>\n",
       "      <th>Square</th>\n",
       "      <th>LifeSquare</th>\n",
       "      <th>KitchenSquare</th>\n",
       "      <th>Floor</th>\n",
       "      <th>HouseFloor</th>\n",
       "      <th>HouseYear</th>\n",
       "      <th>Ecology_1</th>\n",
       "      <th>Ecology_2</th>\n",
       "      <th>Ecology_3</th>\n",
       "      <th>Social_1</th>\n",
       "      <th>Social_2</th>\n",
       "      <th>Social_3</th>\n",
       "      <th>Healthcare_1</th>\n",
       "      <th>Helthcare_2</th>\n",
       "      <th>Shops_1</th>\n",
       "      <th>Shops_2</th>\n",
       "    </tr>\n",
       "    <tr>\n",
       "      <th>Id</th>\n",
       "      <th></th>\n",
       "      <th></th>\n",
       "      <th></th>\n",
       "      <th></th>\n",
       "      <th></th>\n",
       "      <th></th>\n",
       "      <th></th>\n",
       "      <th></th>\n",
       "      <th></th>\n",
       "      <th></th>\n",
       "      <th></th>\n",
       "      <th></th>\n",
       "      <th></th>\n",
       "      <th></th>\n",
       "      <th></th>\n",
       "      <th></th>\n",
       "      <th></th>\n",
       "      <th></th>\n",
       "    </tr>\n",
       "  </thead>\n",
       "  <tbody>\n",
       "    <tr>\n",
       "      <th>10379</th>\n",
       "      <td>29</td>\n",
       "      <td>2.0</td>\n",
       "      <td>43.177521</td>\n",
       "      <td>30.339945</td>\n",
       "      <td>5.0</td>\n",
       "      <td>6</td>\n",
       "      <td>5.0</td>\n",
       "      <td>1962</td>\n",
       "      <td>0.069660</td>\n",
       "      <td>B</td>\n",
       "      <td>B</td>\n",
       "      <td>31</td>\n",
       "      <td>6119</td>\n",
       "      <td>4</td>\n",
       "      <td>NaN</td>\n",
       "      <td>1</td>\n",
       "      <td>2</td>\n",
       "      <td>B</td>\n",
       "    </tr>\n",
       "    <tr>\n",
       "      <th>16138</th>\n",
       "      <td>38</td>\n",
       "      <td>3.0</td>\n",
       "      <td>93.698122</td>\n",
       "      <td>94.521465</td>\n",
       "      <td>10.0</td>\n",
       "      <td>21</td>\n",
       "      <td>27.0</td>\n",
       "      <td>2018</td>\n",
       "      <td>0.060753</td>\n",
       "      <td>B</td>\n",
       "      <td>B</td>\n",
       "      <td>15</td>\n",
       "      <td>2787</td>\n",
       "      <td>2</td>\n",
       "      <td>520.0</td>\n",
       "      <td>0</td>\n",
       "      <td>7</td>\n",
       "      <td>B</td>\n",
       "    </tr>\n",
       "    <tr>\n",
       "      <th>3912</th>\n",
       "      <td>101</td>\n",
       "      <td>1.0</td>\n",
       "      <td>33.656723</td>\n",
       "      <td>19.003259</td>\n",
       "      <td>5.0</td>\n",
       "      <td>2</td>\n",
       "      <td>5.0</td>\n",
       "      <td>1966</td>\n",
       "      <td>0.038693</td>\n",
       "      <td>B</td>\n",
       "      <td>B</td>\n",
       "      <td>28</td>\n",
       "      <td>6533</td>\n",
       "      <td>1</td>\n",
       "      <td>1015.0</td>\n",
       "      <td>2</td>\n",
       "      <td>5</td>\n",
       "      <td>B</td>\n",
       "    </tr>\n",
       "    <tr>\n",
       "      <th>5722</th>\n",
       "      <td>10</td>\n",
       "      <td>1.0</td>\n",
       "      <td>38.635155</td>\n",
       "      <td>20.976257</td>\n",
       "      <td>9.0</td>\n",
       "      <td>8</td>\n",
       "      <td>14.0</td>\n",
       "      <td>1970</td>\n",
       "      <td>0.089040</td>\n",
       "      <td>B</td>\n",
       "      <td>B</td>\n",
       "      <td>33</td>\n",
       "      <td>7976</td>\n",
       "      <td>5</td>\n",
       "      <td>NaN</td>\n",
       "      <td>0</td>\n",
       "      <td>11</td>\n",
       "      <td>B</td>\n",
       "    </tr>\n",
       "    <tr>\n",
       "      <th>11004</th>\n",
       "      <td>21</td>\n",
       "      <td>2.0</td>\n",
       "      <td>67.122742</td>\n",
       "      <td>33.944344</td>\n",
       "      <td>13.0</td>\n",
       "      <td>9</td>\n",
       "      <td>17.0</td>\n",
       "      <td>2009</td>\n",
       "      <td>0.194489</td>\n",
       "      <td>B</td>\n",
       "      <td>B</td>\n",
       "      <td>47</td>\n",
       "      <td>8004</td>\n",
       "      <td>3</td>\n",
       "      <td>125.0</td>\n",
       "      <td>3</td>\n",
       "      <td>5</td>\n",
       "      <td>B</td>\n",
       "    </tr>\n",
       "  </tbody>\n",
       "</table>\n",
       "</div>"
      ],
      "text/plain": [
       "       DistrictId  Rooms     Square  LifeSquare  KitchenSquare  Floor  \\\n",
       "Id                                                                      \n",
       "10379          29    2.0  43.177521   30.339945            5.0      6   \n",
       "16138          38    3.0  93.698122   94.521465           10.0     21   \n",
       "3912          101    1.0  33.656723   19.003259            5.0      2   \n",
       "5722           10    1.0  38.635155   20.976257            9.0      8   \n",
       "11004          21    2.0  67.122742   33.944344           13.0      9   \n",
       "\n",
       "       HouseFloor  HouseYear  Ecology_1 Ecology_2 Ecology_3  Social_1  \\\n",
       "Id                                                                      \n",
       "10379         5.0       1962   0.069660         B         B        31   \n",
       "16138        27.0       2018   0.060753         B         B        15   \n",
       "3912          5.0       1966   0.038693         B         B        28   \n",
       "5722         14.0       1970   0.089040         B         B        33   \n",
       "11004        17.0       2009   0.194489         B         B        47   \n",
       "\n",
       "       Social_2  Social_3  Healthcare_1  Helthcare_2  Shops_1 Shops_2  \n",
       "Id                                                                     \n",
       "10379      6119         4           NaN            1        2       B  \n",
       "16138      2787         2         520.0            0        7       B  \n",
       "3912       6533         1        1015.0            2        5       B  \n",
       "5722       7976         5           NaN            0       11       B  \n",
       "11004      8004         3         125.0            3        5       B  "
      ]
     },
     "execution_count": 8,
     "metadata": {},
     "output_type": "execute_result"
    }
   ],
   "source": [
    "test_df = pd.read_csv(TEST_DATASET_PATH, index_col=\"Id\")\n",
    "test_df.tail()"
   ]
  },
  {
   "cell_type": "code",
   "execution_count": 9,
   "metadata": {},
   "outputs": [
    {
     "name": "stdout",
     "output_type": "stream",
     "text": [
      "<class 'pandas.core.frame.DataFrame'>\n",
      "Int64Index: 5000 entries, 4567 to 11004\n",
      "Data columns (total 18 columns):\n",
      " #   Column         Non-Null Count  Dtype  \n",
      "---  ------         --------------  -----  \n",
      " 0   DistrictId     5000 non-null   int64  \n",
      " 1   Rooms          5000 non-null   float64\n",
      " 2   Square         5000 non-null   float64\n",
      " 3   LifeSquare     3959 non-null   float64\n",
      " 4   KitchenSquare  5000 non-null   float64\n",
      " 5   Floor          5000 non-null   int64  \n",
      " 6   HouseFloor     5000 non-null   float64\n",
      " 7   HouseYear      5000 non-null   int64  \n",
      " 8   Ecology_1      5000 non-null   float64\n",
      " 9   Ecology_2      5000 non-null   object \n",
      " 10  Ecology_3      5000 non-null   object \n",
      " 11  Social_1       5000 non-null   int64  \n",
      " 12  Social_2       5000 non-null   int64  \n",
      " 13  Social_3       5000 non-null   int64  \n",
      " 14  Healthcare_1   2623 non-null   float64\n",
      " 15  Helthcare_2    5000 non-null   int64  \n",
      " 16  Shops_1        5000 non-null   int64  \n",
      " 17  Shops_2        5000 non-null   object \n",
      "dtypes: float64(7), int64(8), object(3)\n",
      "memory usage: 742.2+ KB\n"
     ]
    }
   ],
   "source": [
    "test_df.info()"
   ]
  },
  {
   "cell_type": "code",
   "execution_count": 10,
   "metadata": {
    "execution": {
     "iopub.execute_input": "2021-11-02T18:57:39.752308Z",
     "iopub.status.busy": "2021-11-02T18:57:39.751039Z",
     "iopub.status.idle": "2021-11-02T18:57:39.758469Z",
     "shell.execute_reply": "2021-11-02T18:57:39.757383Z",
     "shell.execute_reply.started": "2021-11-02T18:55:57.689426Z"
    },
    "papermill": {
     "duration": 0.102848,
     "end_time": "2021-11-02T18:57:39.758675",
     "exception": false,
     "start_time": "2021-11-02T18:57:39.655827",
     "status": "completed"
    },
    "tags": []
   },
   "outputs": [
    {
     "data": {
      "text/plain": [
       "((10000, 19), (5000, 18))"
      ]
     },
     "execution_count": 10,
     "metadata": {},
     "output_type": "execute_result"
    }
   ],
   "source": [
    "train_df.shape, test_df.shape"
   ]
  },
  {
   "cell_type": "code",
   "execution_count": 11,
   "metadata": {
    "execution": {
     "iopub.execute_input": "2021-11-02T18:57:39.926105Z",
     "iopub.status.busy": "2021-11-02T18:57:39.924983Z",
     "iopub.status.idle": "2021-11-02T18:57:39.931967Z",
     "shell.execute_reply": "2021-11-02T18:57:39.932592Z",
     "shell.execute_reply.started": "2021-11-02T18:55:57.697117Z"
    },
    "papermill": {
     "duration": 0.092021,
     "end_time": "2021-11-02T18:57:39.932760",
     "exception": false,
     "start_time": "2021-11-02T18:57:39.840739",
     "status": "completed"
    },
    "tags": []
   },
   "outputs": [],
   "source": [
    "assert(train_df.shape[1] - 1 == test_df.shape[1])"
   ]
  },
  {
   "cell_type": "markdown",
   "metadata": {
    "papermill": {
     "duration": 0.0817,
     "end_time": "2021-11-02T18:57:40.095681",
     "exception": false,
     "start_time": "2021-11-02T18:57:40.013981",
     "status": "completed"
    },
    "tags": []
   },
   "source": [
    "### Приведение типов"
   ]
  },
  {
   "cell_type": "code",
   "execution_count": 12,
   "metadata": {
    "execution": {
     "iopub.execute_input": "2021-11-02T18:57:40.444545Z",
     "iopub.status.busy": "2021-11-02T18:57:40.443823Z",
     "iopub.status.idle": "2021-11-02T18:57:40.457805Z",
     "shell.execute_reply": "2021-11-02T18:57:40.458427Z",
     "shell.execute_reply.started": "2021-11-02T18:55:57.727003Z"
    },
    "papermill": {
     "duration": 0.103652,
     "end_time": "2021-11-02T18:57:40.458599",
     "exception": false,
     "start_time": "2021-11-02T18:57:40.354947",
     "status": "completed"
    },
    "tags": []
   },
   "outputs": [],
   "source": [
    "# train_df['Id'] = train_df['Id'].astype(str)\n",
    "train_df['DistrictId'] = train_df['DistrictId'].astype(str)\n",
    "train_df['Rooms'] = train_df['Rooms'].astype(int)\n",
    "train_df['HouseFloor'] = train_df['HouseFloor'].astype(int)"
   ]
  },
  {
   "cell_type": "markdown",
   "metadata": {
    "papermill": {
     "duration": 0.081243,
     "end_time": "2021-11-02T18:57:40.621664",
     "exception": false,
     "start_time": "2021-11-02T18:57:40.540421",
     "status": "completed"
    },
    "tags": []
   },
   "source": [
    "## 1. Разведочный анализ данных  <a class='anchor' id='eda'>\n",
    "Делаем EDA для:\n",
    "- Исправления выбросов\n",
    "- Заполнения NaN\n",
    "- Идей для генерации новых фич"
   ]
  },
  {
   "cell_type": "markdown",
   "metadata": {
    "papermill": {
     "duration": 0.104822,
     "end_time": "2021-11-02T18:57:40.809096",
     "exception": false,
     "start_time": "2021-11-02T18:57:40.704274",
     "status": "completed"
    },
    "tags": []
   },
   "source": [
    "**Целевая переменная**"
   ]
  },
  {
   "cell_type": "code",
   "execution_count": 13,
   "metadata": {
    "execution": {
     "iopub.execute_input": "2021-11-02T18:57:40.991560Z",
     "iopub.status.busy": "2021-11-02T18:57:40.990788Z",
     "iopub.status.idle": "2021-11-02T18:57:41.330754Z",
     "shell.execute_reply": "2021-11-02T18:57:41.330060Z",
     "shell.execute_reply.started": "2021-11-02T18:55:57.743974Z"
    },
    "papermill": {
     "duration": 0.426539,
     "end_time": "2021-11-02T18:57:41.330934",
     "exception": false,
     "start_time": "2021-11-02T18:57:40.904395",
     "status": "completed"
    },
    "tags": []
   },
   "outputs": [
    {
     "data": {
      "image/png": "[encoded data removed]",
      "text/plain": [
       "<Figure size 1152x576 with 1 Axes>"
      ]
     },
     "metadata": {
      "needs_background": "light"
     },
     "output_type": "display_data"
    }
   ],
   "source": [
    "plt.figure(figsize = (16, 8))\n",
    "\n",
    "train_df['Price'].hist(bins=30)\n",
    "plt.ylabel('Count')\n",
    "plt.xlabel('Price')\n",
    "\n",
    "plt.title('Target distribution');"
   ]
  },
  {
   "cell_type": "markdown",
   "metadata": {
    "papermill": {
     "duration": 0.082652,
     "end_time": "2021-11-02T18:57:41.497315",
     "exception": false,
     "start_time": "2021-11-02T18:57:41.414663",
     "status": "completed"
    },
    "tags": []
   },
   "source": [
    "**Количественные переменные**"
   ]
  },
  {
   "cell_type": "code",
   "execution_count": 14,
   "metadata": {
    "_kg_hide-output": true,
    "execution": {
     "iopub.execute_input": "2021-11-02T18:57:41.666764Z",
     "iopub.status.busy": "2021-11-02T18:57:41.666056Z",
     "iopub.status.idle": "2021-11-02T18:57:41.831325Z",
     "shell.execute_reply": "2021-11-02T18:57:41.830702Z",
     "shell.execute_reply.started": "2021-11-02T18:55:57.977647Z"
    },
    "papermill": {
     "duration": 0.25132,
     "end_time": "2021-11-02T18:57:41.831462",
     "exception": false,
     "start_time": "2021-11-02T18:57:41.580142",
     "status": "completed"
    },
    "tags": []
   },
   "outputs": [
    {
     "data": {
      "text/html": [
       "<div>\n",
       "<style scoped>\n",
       "    .dataframe tbody tr th:only-of-type {\n",
       "        vertical-align: middle;\n",
       "    }\n",
       "\n",
       "    .dataframe tbody tr th {\n",
       "        vertical-align: top;\n",
       "    }\n",
       "\n",
       "    .dataframe thead th {\n",
       "        text-align: right;\n",
       "    }\n",
       "</style>\n",
       "<table border=\"1\" class=\"dataframe\">\n",
       "  <thead>\n",
       "    <tr style=\"text-align: right;\">\n",
       "      <th></th>\n",
       "      <th>Rooms</th>\n",
       "      <th>Square</th>\n",
       "      <th>LifeSquare</th>\n",
       "      <th>KitchenSquare</th>\n",
       "      <th>Floor</th>\n",
       "      <th>HouseFloor</th>\n",
       "      <th>HouseYear</th>\n",
       "      <th>Ecology_1</th>\n",
       "      <th>Social_1</th>\n",
       "      <th>Social_2</th>\n",
       "      <th>Social_3</th>\n",
       "      <th>Healthcare_1</th>\n",
       "      <th>Helthcare_2</th>\n",
       "      <th>Shops_1</th>\n",
       "      <th>Price</th>\n",
       "    </tr>\n",
       "  </thead>\n",
       "  <tbody>\n",
       "    <tr>\n",
       "      <th>count</th>\n",
       "      <td>10000.000000</td>\n",
       "      <td>10000.000000</td>\n",
       "      <td>7887.000000</td>\n",
       "      <td>10000.000000</td>\n",
       "      <td>10000.000000</td>\n",
       "      <td>10000.000000</td>\n",
       "      <td>1.000000e+04</td>\n",
       "      <td>10000.000000</td>\n",
       "      <td>10000.000000</td>\n",
       "      <td>10000.000000</td>\n",
       "      <td>10000.000000</td>\n",
       "      <td>5202.000000</td>\n",
       "      <td>10000.000000</td>\n",
       "      <td>10000.000000</td>\n",
       "      <td>10000.000000</td>\n",
       "    </tr>\n",
       "    <tr>\n",
       "      <th>mean</th>\n",
       "      <td>1.890500</td>\n",
       "      <td>56.315775</td>\n",
       "      <td>37.199645</td>\n",
       "      <td>6.273300</td>\n",
       "      <td>8.526700</td>\n",
       "      <td>12.609400</td>\n",
       "      <td>3.990166e+03</td>\n",
       "      <td>0.118858</td>\n",
       "      <td>24.687000</td>\n",
       "      <td>5352.157400</td>\n",
       "      <td>8.039200</td>\n",
       "      <td>1142.904460</td>\n",
       "      <td>1.319500</td>\n",
       "      <td>4.231300</td>\n",
       "      <td>214138.857399</td>\n",
       "    </tr>\n",
       "    <tr>\n",
       "      <th>std</th>\n",
       "      <td>0.839512</td>\n",
       "      <td>21.058732</td>\n",
       "      <td>86.241209</td>\n",
       "      <td>28.560917</td>\n",
       "      <td>5.241148</td>\n",
       "      <td>6.775974</td>\n",
       "      <td>2.005003e+05</td>\n",
       "      <td>0.119025</td>\n",
       "      <td>17.532614</td>\n",
       "      <td>4006.799803</td>\n",
       "      <td>23.831875</td>\n",
       "      <td>1021.517264</td>\n",
       "      <td>1.493601</td>\n",
       "      <td>4.806341</td>\n",
       "      <td>92872.293865</td>\n",
       "    </tr>\n",
       "    <tr>\n",
       "      <th>min</th>\n",
       "      <td>0.000000</td>\n",
       "      <td>1.136859</td>\n",
       "      <td>0.370619</td>\n",
       "      <td>0.000000</td>\n",
       "      <td>1.000000</td>\n",
       "      <td>0.000000</td>\n",
       "      <td>1.910000e+03</td>\n",
       "      <td>0.000000</td>\n",
       "      <td>0.000000</td>\n",
       "      <td>168.000000</td>\n",
       "      <td>0.000000</td>\n",
       "      <td>0.000000</td>\n",
       "      <td>0.000000</td>\n",
       "      <td>0.000000</td>\n",
       "      <td>59174.778028</td>\n",
       "    </tr>\n",
       "    <tr>\n",
       "      <th>25%</th>\n",
       "      <td>1.000000</td>\n",
       "      <td>41.774881</td>\n",
       "      <td>22.769832</td>\n",
       "      <td>1.000000</td>\n",
       "      <td>4.000000</td>\n",
       "      <td>9.000000</td>\n",
       "      <td>1.974000e+03</td>\n",
       "      <td>0.017647</td>\n",
       "      <td>6.000000</td>\n",
       "      <td>1564.000000</td>\n",
       "      <td>0.000000</td>\n",
       "      <td>350.000000</td>\n",
       "      <td>0.000000</td>\n",
       "      <td>1.000000</td>\n",
       "      <td>153872.633942</td>\n",
       "    </tr>\n",
       "    <tr>\n",
       "      <th>50%</th>\n",
       "      <td>2.000000</td>\n",
       "      <td>52.513310</td>\n",
       "      <td>32.781260</td>\n",
       "      <td>6.000000</td>\n",
       "      <td>7.000000</td>\n",
       "      <td>13.000000</td>\n",
       "      <td>1.977000e+03</td>\n",
       "      <td>0.075424</td>\n",
       "      <td>25.000000</td>\n",
       "      <td>5285.000000</td>\n",
       "      <td>2.000000</td>\n",
       "      <td>900.000000</td>\n",
       "      <td>1.000000</td>\n",
       "      <td>3.000000</td>\n",
       "      <td>192269.644879</td>\n",
       "    </tr>\n",
       "    <tr>\n",
       "      <th>75%</th>\n",
       "      <td>2.000000</td>\n",
       "      <td>65.900625</td>\n",
       "      <td>45.128803</td>\n",
       "      <td>9.000000</td>\n",
       "      <td>12.000000</td>\n",
       "      <td>17.000000</td>\n",
       "      <td>2.001000e+03</td>\n",
       "      <td>0.195781</td>\n",
       "      <td>36.000000</td>\n",
       "      <td>7227.000000</td>\n",
       "      <td>5.000000</td>\n",
       "      <td>1548.000000</td>\n",
       "      <td>2.000000</td>\n",
       "      <td>6.000000</td>\n",
       "      <td>249135.462171</td>\n",
       "    </tr>\n",
       "    <tr>\n",
       "      <th>max</th>\n",
       "      <td>19.000000</td>\n",
       "      <td>641.065193</td>\n",
       "      <td>7480.592129</td>\n",
       "      <td>2014.000000</td>\n",
       "      <td>42.000000</td>\n",
       "      <td>117.000000</td>\n",
       "      <td>2.005201e+07</td>\n",
       "      <td>0.521867</td>\n",
       "      <td>74.000000</td>\n",
       "      <td>19083.000000</td>\n",
       "      <td>141.000000</td>\n",
       "      <td>4849.000000</td>\n",
       "      <td>6.000000</td>\n",
       "      <td>23.000000</td>\n",
       "      <td>633233.466570</td>\n",
       "    </tr>\n",
       "  </tbody>\n",
       "</table>\n",
       "</div>"
      ],
      "text/plain": [
       "              Rooms        Square   LifeSquare  KitchenSquare         Floor  \\\n",
       "count  10000.000000  10000.000000  7887.000000   10000.000000  10000.000000   \n",
       "mean       1.890500     56.315775    37.199645       6.273300      8.526700   \n",
       "std        0.839512     21.058732    86.241209      28.560917      5.241148   \n",
       "min        0.000000      1.136859     0.370619       0.000000      1.000000   \n",
       "25%        1.000000     41.774881    22.769832       1.000000      4.000000   \n",
       "50%        2.000000     52.513310    32.781260       6.000000      7.000000   \n",
       "75%        2.000000     65.900625    45.128803       9.000000     12.000000   \n",
       "max       19.000000    641.065193  7480.592129    2014.000000     42.000000   \n",
       "\n",
       "         HouseFloor     HouseYear     Ecology_1      Social_1      Social_2  \\\n",
       "count  10000.000000  1.000000e+04  10000.000000  10000.000000  10000.000000   \n",
       "mean      12.609400  3.990166e+03      0.118858     24.687000   5352.157400   \n",
       "std        6.775974  2.005003e+05      0.119025     17.532614   4006.799803   \n",
       "min        0.000000  1.910000e+03      0.000000      0.000000    168.000000   \n",
       "25%        9.000000  1.974000e+03      0.017647      6.000000   1564.000000   \n",
       "50%       13.000000  1.977000e+03      0.075424     25.000000   5285.000000   \n",
       "75%       17.000000  2.001000e+03      0.195781     36.000000   7227.000000   \n",
       "max      117.000000  2.005201e+07      0.521867     74.000000  19083.000000   \n",
       "\n",
       "           Social_3  Healthcare_1   Helthcare_2       Shops_1          Price  \n",
       "count  10000.000000   5202.000000  10000.000000  10000.000000   10000.000000  \n",
       "mean       8.039200   1142.904460      1.319500      4.231300  214138.857399  \n",
       "std       23.831875   1021.517264      1.493601      4.806341   92872.293865  \n",
       "min        0.000000      0.000000      0.000000      0.000000   59174.778028  \n",
       "25%        0.000000    350.000000      0.000000      1.000000  153872.633942  \n",
       "50%        2.000000    900.000000      1.000000      3.000000  192269.644879  \n",
       "75%        5.000000   1548.000000      2.000000      6.000000  249135.462171  \n",
       "max      141.000000   4849.000000      6.000000     23.000000  633233.466570  "
      ]
     },
     "execution_count": 14,
     "metadata": {},
     "output_type": "execute_result"
    }
   ],
   "source": [
    "train_df.describe()"
   ]
  },
  {
   "cell_type": "markdown",
   "metadata": {
    "papermill": {
     "duration": 0.082602,
     "end_time": "2021-11-02T18:57:41.997437",
     "exception": false,
     "start_time": "2021-11-02T18:57:41.914835",
     "status": "completed"
    },
    "tags": []
   },
   "source": [
    "**Номинативные переменные**"
   ]
  },
  {
   "cell_type": "code",
   "execution_count": 15,
   "metadata": {
    "execution": {
     "iopub.execute_input": "2021-11-02T18:57:42.168843Z",
     "iopub.status.busy": "2021-11-02T18:57:42.167564Z",
     "iopub.status.idle": "2021-11-02T18:57:42.177790Z",
     "shell.execute_reply": "2021-11-02T18:57:42.178461Z",
     "shell.execute_reply.started": "2021-11-02T18:55:58.120056Z"
    },
    "papermill": {
     "duration": 0.097881,
     "end_time": "2021-11-02T18:57:42.178629",
     "exception": false,
     "start_time": "2021-11-02T18:57:42.080748",
     "status": "completed"
    },
    "tags": []
   },
   "outputs": [
    {
     "data": {
      "text/plain": [
       "['DistrictId', 'Ecology_2', 'Ecology_3', 'Shops_2']"
      ]
     },
     "execution_count": 15,
     "metadata": {},
     "output_type": "execute_result"
    }
   ],
   "source": [
    "train_df.select_dtypes(include='object').columns.tolist()"
   ]
  },
  {
   "cell_type": "code",
   "execution_count": 16,
   "metadata": {
    "execution": {
     "iopub.execute_input": "2021-11-02T18:57:42.351467Z",
     "iopub.status.busy": "2021-11-02T18:57:42.350366Z",
     "iopub.status.idle": "2021-11-02T18:57:42.363523Z",
     "shell.execute_reply": "2021-11-02T18:57:42.364199Z",
     "shell.execute_reply.started": "2021-11-02T18:55:58.132992Z"
    },
    "papermill": {
     "duration": 0.100624,
     "end_time": "2021-11-02T18:57:42.364361",
     "exception": false,
     "start_time": "2021-11-02T18:57:42.263737",
     "status": "completed"
    },
    "tags": []
   },
   "outputs": [
    {
     "data": {
      "text/plain": [
       "27     851\n",
       "1      652\n",
       "23     565\n",
       "6      511\n",
       "9      294\n",
       "      ... \n",
       "199      1\n",
       "117      1\n",
       "207      1\n",
       "209      1\n",
       "174      1\n",
       "Name: DistrictId, Length: 205, dtype: int64"
      ]
     },
     "execution_count": 16,
     "metadata": {},
     "output_type": "execute_result"
    }
   ],
   "source": [
    "train_df['DistrictId'].value_counts()"
   ]
  },
  {
   "cell_type": "code",
   "execution_count": 17,
   "metadata": {
    "execution": {
     "iopub.execute_input": "2021-11-02T18:57:42.587546Z",
     "iopub.status.busy": "2021-11-02T18:57:42.586448Z",
     "iopub.status.idle": "2021-11-02T18:57:42.597167Z",
     "shell.execute_reply": "2021-11-02T18:57:42.597842Z",
     "shell.execute_reply.started": "2021-11-02T18:55:58.149296Z"
    },
    "papermill": {
     "duration": 0.149401,
     "end_time": "2021-11-02T18:57:42.598017",
     "exception": false,
     "start_time": "2021-11-02T18:57:42.448616",
     "status": "completed"
    },
    "tags": []
   },
   "outputs": [
    {
     "data": {
      "text/plain": [
       "B    9903\n",
       "A      97\n",
       "Name: Ecology_2, dtype: int64"
      ]
     },
     "execution_count": 17,
     "metadata": {},
     "output_type": "execute_result"
    }
   ],
   "source": [
    "train_df['Ecology_2'].value_counts()"
   ]
  },
  {
   "cell_type": "code",
   "execution_count": 18,
   "metadata": {
    "execution": {
     "iopub.execute_input": "2021-11-02T18:57:42.771696Z",
     "iopub.status.busy": "2021-11-02T18:57:42.770543Z",
     "iopub.status.idle": "2021-11-02T18:57:42.781951Z",
     "shell.execute_reply": "2021-11-02T18:57:42.781346Z",
     "shell.execute_reply.started": "2021-11-02T18:55:58.164248Z"
    },
    "papermill": {
     "duration": 0.099429,
     "end_time": "2021-11-02T18:57:42.782104",
     "exception": false,
     "start_time": "2021-11-02T18:57:42.682675",
     "status": "completed"
    },
    "tags": []
   },
   "outputs": [
    {
     "data": {
      "text/plain": [
       "B    9725\n",
       "A     275\n",
       "Name: Ecology_3, dtype: int64"
      ]
     },
     "execution_count": 18,
     "metadata": {},
     "output_type": "execute_result"
    }
   ],
   "source": [
    "train_df['Ecology_3'].value_counts()"
   ]
  },
  {
   "cell_type": "code",
   "execution_count": 19,
   "metadata": {
    "execution": {
     "iopub.execute_input": "2021-11-02T18:57:42.967416Z",
     "iopub.status.busy": "2021-11-02T18:57:42.966410Z",
     "iopub.status.idle": "2021-11-02T18:57:42.970547Z",
     "shell.execute_reply": "2021-11-02T18:57:42.971196Z",
     "shell.execute_reply.started": "2021-11-02T18:55:58.177127Z"
    },
    "papermill": {
     "duration": 0.101355,
     "end_time": "2021-11-02T18:57:42.971361",
     "exception": false,
     "start_time": "2021-11-02T18:57:42.870006",
     "status": "completed"
    },
    "tags": []
   },
   "outputs": [
    {
     "data": {
      "text/plain": [
       "B    9175\n",
       "A     825\n",
       "Name: Shops_2, dtype: int64"
      ]
     },
     "execution_count": 19,
     "metadata": {},
     "output_type": "execute_result"
    }
   ],
   "source": [
    "train_df['Shops_2'].value_counts()"
   ]
  },
  {
   "cell_type": "markdown",
   "metadata": {
    "papermill": {
     "duration": 0.087652,
     "end_time": "2021-11-02T18:57:43.146355",
     "exception": false,
     "start_time": "2021-11-02T18:57:43.058703",
     "status": "completed"
    },
    "tags": []
   },
   "source": [
    "### 2. Обработка выбросов  <a class='anchor' id='outlier'>\n",
    "Что можно делать с ними?\n",
    "1. Выкинуть эти данные (только на трейне, на тесте ничего не выкидываем)\n",
    "2. Заменять выбросы разными методами (медианы, средние значения, np.clip и т.д.)\n",
    "3. Делать/не делать дополнительную фичу\n",
    "4. Ничего не делать"
   ]
  },
  {
   "cell_type": "markdown",
   "metadata": {
    "papermill": {
     "duration": 0.086486,
     "end_time": "2021-11-02T18:57:43.320535",
     "exception": false,
     "start_time": "2021-11-02T18:57:43.234049",
     "status": "completed"
    },
    "tags": []
   },
   "source": [
    "**Rooms**"
   ]
  },
  {
   "cell_type": "code",
   "execution_count": 20,
   "metadata": {
    "execution": {
     "iopub.execute_input": "2021-11-02T18:57:43.500960Z",
     "iopub.status.busy": "2021-11-02T18:57:43.499784Z",
     "iopub.status.idle": "2021-11-02T18:57:43.504629Z",
     "shell.execute_reply": "2021-11-02T18:57:43.503932Z",
     "shell.execute_reply.started": "2021-11-02T18:55:58.189337Z"
    },
    "papermill": {
     "duration": 0.09872,
     "end_time": "2021-11-02T18:57:43.504757",
     "exception": false,
     "start_time": "2021-11-02T18:57:43.406037",
     "status": "completed"
    },
    "scrolled": true,
    "tags": []
   },
   "outputs": [
    {
     "data": {
      "text/plain": [
       "2     3880\n",
       "1     3705\n",
       "3     2235\n",
       "4      150\n",
       "5       18\n",
       "0        8\n",
       "10       2\n",
       "19       1\n",
       "6        1\n",
       "Name: Rooms, dtype: int64"
      ]
     },
     "execution_count": 20,
     "metadata": {},
     "output_type": "execute_result"
    }
   ],
   "source": [
    "train_df['Rooms'].value_counts()"
   ]
  },
  {
   "cell_type": "code",
   "execution_count": 21,
   "metadata": {
    "execution": {
     "iopub.execute_input": "2021-11-02T18:57:43.683916Z",
     "iopub.status.busy": "2021-11-02T18:57:43.683084Z",
     "iopub.status.idle": "2021-11-02T18:57:43.733078Z",
     "shell.execute_reply": "2021-11-02T18:57:43.733699Z",
     "shell.execute_reply.started": "2021-11-02T18:55:58.204550Z"
    },
    "papermill": {
     "duration": 0.143666,
     "end_time": "2021-11-02T18:57:43.733865",
     "exception": false,
     "start_time": "2021-11-02T18:57:43.590199",
     "status": "completed"
    },
    "tags": []
   },
   "outputs": [
    {
     "data": {
      "text/html": [
       "<div>\n",
       "<style scoped>\n",
       "    .dataframe tbody tr th:only-of-type {\n",
       "        vertical-align: middle;\n",
       "    }\n",
       "\n",
       "    .dataframe tbody tr th {\n",
       "        vertical-align: top;\n",
       "    }\n",
       "\n",
       "    .dataframe thead th {\n",
       "        text-align: right;\n",
       "    }\n",
       "</style>\n",
       "<table border=\"1\" class=\"dataframe\">\n",
       "  <thead>\n",
       "    <tr style=\"text-align: right;\">\n",
       "      <th></th>\n",
       "      <th>DistrictId</th>\n",
       "      <th>Rooms</th>\n",
       "      <th>Square</th>\n",
       "      <th>LifeSquare</th>\n",
       "      <th>KitchenSquare</th>\n",
       "      <th>Floor</th>\n",
       "      <th>HouseFloor</th>\n",
       "      <th>HouseYear</th>\n",
       "      <th>Ecology_1</th>\n",
       "      <th>Ecology_2</th>\n",
       "      <th>Ecology_3</th>\n",
       "      <th>Social_1</th>\n",
       "      <th>Social_2</th>\n",
       "      <th>Social_3</th>\n",
       "      <th>Healthcare_1</th>\n",
       "      <th>Helthcare_2</th>\n",
       "      <th>Shops_1</th>\n",
       "      <th>Shops_2</th>\n",
       "      <th>Price</th>\n",
       "      <th>Rooms_outlier</th>\n",
       "    </tr>\n",
       "    <tr>\n",
       "      <th>Id</th>\n",
       "      <th></th>\n",
       "      <th></th>\n",
       "      <th></th>\n",
       "      <th></th>\n",
       "      <th></th>\n",
       "      <th></th>\n",
       "      <th></th>\n",
       "      <th></th>\n",
       "      <th></th>\n",
       "      <th></th>\n",
       "      <th></th>\n",
       "      <th></th>\n",
       "      <th></th>\n",
       "      <th></th>\n",
       "      <th></th>\n",
       "      <th></th>\n",
       "      <th></th>\n",
       "      <th></th>\n",
       "      <th></th>\n",
       "      <th></th>\n",
       "    </tr>\n",
       "  </thead>\n",
       "  <tbody>\n",
       "    <tr>\n",
       "      <th>11809</th>\n",
       "      <td>27</td>\n",
       "      <td>3</td>\n",
       "      <td>115.027311</td>\n",
       "      <td>NaN</td>\n",
       "      <td>10.0</td>\n",
       "      <td>4</td>\n",
       "      <td>10</td>\n",
       "      <td>2014</td>\n",
       "      <td>0.075424</td>\n",
       "      <td>B</td>\n",
       "      <td>B</td>\n",
       "      <td>11</td>\n",
       "      <td>3097</td>\n",
       "      <td>0</td>\n",
       "      <td>NaN</td>\n",
       "      <td>0</td>\n",
       "      <td>0</td>\n",
       "      <td>B</td>\n",
       "      <td>305018.871089</td>\n",
       "      <td>0</td>\n",
       "    </tr>\n",
       "    <tr>\n",
       "      <th>3013</th>\n",
       "      <td>22</td>\n",
       "      <td>1</td>\n",
       "      <td>39.832524</td>\n",
       "      <td>23.169223</td>\n",
       "      <td>8.0</td>\n",
       "      <td>7</td>\n",
       "      <td>8</td>\n",
       "      <td>1966</td>\n",
       "      <td>0.118537</td>\n",
       "      <td>B</td>\n",
       "      <td>B</td>\n",
       "      <td>30</td>\n",
       "      <td>6207</td>\n",
       "      <td>1</td>\n",
       "      <td>1183.0</td>\n",
       "      <td>1</td>\n",
       "      <td>0</td>\n",
       "      <td>B</td>\n",
       "      <td>177734.553407</td>\n",
       "      <td>0</td>\n",
       "    </tr>\n",
       "    <tr>\n",
       "      <th>8215</th>\n",
       "      <td>1</td>\n",
       "      <td>3</td>\n",
       "      <td>78.342215</td>\n",
       "      <td>47.671972</td>\n",
       "      <td>10.0</td>\n",
       "      <td>2</td>\n",
       "      <td>17</td>\n",
       "      <td>1988</td>\n",
       "      <td>0.025609</td>\n",
       "      <td>B</td>\n",
       "      <td>B</td>\n",
       "      <td>33</td>\n",
       "      <td>5261</td>\n",
       "      <td>0</td>\n",
       "      <td>240.0</td>\n",
       "      <td>3</td>\n",
       "      <td>1</td>\n",
       "      <td>B</td>\n",
       "      <td>282078.720850</td>\n",
       "      <td>0</td>\n",
       "    </tr>\n",
       "    <tr>\n",
       "      <th>2352</th>\n",
       "      <td>1</td>\n",
       "      <td>1</td>\n",
       "      <td>40.409907</td>\n",
       "      <td>NaN</td>\n",
       "      <td>1.0</td>\n",
       "      <td>10</td>\n",
       "      <td>22</td>\n",
       "      <td>1977</td>\n",
       "      <td>0.007122</td>\n",
       "      <td>B</td>\n",
       "      <td>B</td>\n",
       "      <td>1</td>\n",
       "      <td>264</td>\n",
       "      <td>0</td>\n",
       "      <td>NaN</td>\n",
       "      <td>0</td>\n",
       "      <td>1</td>\n",
       "      <td>B</td>\n",
       "      <td>168106.007630</td>\n",
       "      <td>0</td>\n",
       "    </tr>\n",
       "    <tr>\n",
       "      <th>13866</th>\n",
       "      <td>94</td>\n",
       "      <td>2</td>\n",
       "      <td>64.285067</td>\n",
       "      <td>38.562517</td>\n",
       "      <td>9.0</td>\n",
       "      <td>16</td>\n",
       "      <td>16</td>\n",
       "      <td>1972</td>\n",
       "      <td>0.282798</td>\n",
       "      <td>B</td>\n",
       "      <td>B</td>\n",
       "      <td>33</td>\n",
       "      <td>8667</td>\n",
       "      <td>2</td>\n",
       "      <td>NaN</td>\n",
       "      <td>0</td>\n",
       "      <td>6</td>\n",
       "      <td>B</td>\n",
       "      <td>343995.102962</td>\n",
       "      <td>0</td>\n",
       "    </tr>\n",
       "  </tbody>\n",
       "</table>\n",
       "</div>"
      ],
      "text/plain": [
       "      DistrictId  Rooms      Square  LifeSquare  KitchenSquare  Floor  \\\n",
       "Id                                                                      \n",
       "11809         27      3  115.027311         NaN           10.0      4   \n",
       "3013          22      1   39.832524   23.169223            8.0      7   \n",
       "8215           1      3   78.342215   47.671972           10.0      2   \n",
       "2352           1      1   40.409907         NaN            1.0     10   \n",
       "13866         94      2   64.285067   38.562517            9.0     16   \n",
       "\n",
       "       HouseFloor  HouseYear  Ecology_1 Ecology_2 Ecology_3  Social_1  \\\n",
       "Id                                                                      \n",
       "11809          10       2014   0.075424         B         B        11   \n",
       "3013            8       1966   0.118537         B         B        30   \n",
       "8215           17       1988   0.025609         B         B        33   \n",
       "2352           22       1977   0.007122         B         B         1   \n",
       "13866          16       1972   0.282798         B         B        33   \n",
       "\n",
       "       Social_2  Social_3  Healthcare_1  Helthcare_2  Shops_1 Shops_2  \\\n",
       "Id                                                                      \n",
       "11809      3097         0           NaN            0        0       B   \n",
       "3013       6207         1        1183.0            1        0       B   \n",
       "8215       5261         0         240.0            3        1       B   \n",
       "2352        264         0           NaN            0        1       B   \n",
       "13866      8667         2           NaN            0        6       B   \n",
       "\n",
       "               Price  Rooms_outlier  \n",
       "Id                                   \n",
       "11809  305018.871089              0  \n",
       "3013   177734.553407              0  \n",
       "8215   282078.720850              0  \n",
       "2352   168106.007630              0  \n",
       "13866  343995.102962              0  "
      ]
     },
     "execution_count": 21,
     "metadata": {},
     "output_type": "execute_result"
    }
   ],
   "source": [
    "train_df['Rooms_outlier'] = 0\n",
    "train_df.loc[(train_df['Rooms'] == 0) | (train_df['Rooms'] > 5), 'Rooms_outlier'] = 1\n",
    "train_df.head()"
   ]
  },
  {
   "cell_type": "code",
   "execution_count": 22,
   "metadata": {
    "execution": {
     "iopub.execute_input": "2021-11-02T18:57:43.914164Z",
     "iopub.status.busy": "2021-11-02T18:57:43.913445Z",
     "iopub.status.idle": "2021-11-02T18:57:43.922979Z",
     "shell.execute_reply": "2021-11-02T18:57:43.922236Z",
     "shell.execute_reply.started": "2021-11-02T18:55:58.239736Z"
    },
    "papermill": {
     "duration": 0.101527,
     "end_time": "2021-11-02T18:57:43.923112",
     "exception": false,
     "start_time": "2021-11-02T18:57:43.821585",
     "status": "completed"
    },
    "tags": []
   },
   "outputs": [],
   "source": [
    "train_df.loc[train_df['Rooms'] == 0, 'Rooms'] = 1\n",
    "train_df.loc[train_df['Rooms'] > 5, 'Rooms'] = 5"
   ]
  },
  {
   "cell_type": "code",
   "execution_count": 23,
   "metadata": {
    "execution": {
     "iopub.execute_input": "2021-11-02T18:57:44.107291Z",
     "iopub.status.busy": "2021-11-02T18:57:44.106495Z",
     "iopub.status.idle": "2021-11-02T18:57:44.112517Z",
     "shell.execute_reply": "2021-11-02T18:57:44.113240Z",
     "shell.execute_reply.started": "2021-11-02T18:55:58.247705Z"
    },
    "papermill": {
     "duration": 0.101397,
     "end_time": "2021-11-02T18:57:44.113408",
     "exception": false,
     "start_time": "2021-11-02T18:57:44.012011",
     "status": "completed"
    },
    "tags": []
   },
   "outputs": [
    {
     "data": {
      "text/plain": [
       "2    3880\n",
       "1    3713\n",
       "3    2235\n",
       "4     150\n",
       "5      22\n",
       "Name: Rooms, dtype: int64"
      ]
     },
     "execution_count": 23,
     "metadata": {},
     "output_type": "execute_result"
    }
   ],
   "source": [
    "train_df['Rooms'].value_counts()"
   ]
  },
  {
   "cell_type": "markdown",
   "metadata": {
    "papermill": {
     "duration": 0.088673,
     "end_time": "2021-11-02T18:57:44.289634",
     "exception": false,
     "start_time": "2021-11-02T18:57:44.200961",
     "status": "completed"
    },
    "tags": []
   },
   "source": [
    "**KitchenSquare** "
   ]
  },
  {
   "cell_type": "code",
   "execution_count": 24,
   "metadata": {
    "execution": {
     "iopub.execute_input": "2021-11-02T18:57:44.467801Z",
     "iopub.status.busy": "2021-11-02T18:57:44.467123Z",
     "iopub.status.idle": "2021-11-02T18:57:44.477514Z",
     "shell.execute_reply": "2021-11-02T18:57:44.476776Z",
     "shell.execute_reply.started": "2021-11-02T18:55:58.262097Z"
    },
    "papermill": {
     "duration": 0.100162,
     "end_time": "2021-11-02T18:57:44.477646",
     "exception": false,
     "start_time": "2021-11-02T18:57:44.377484",
     "status": "completed"
    },
    "tags": []
   },
   "outputs": [
    {
     "data": {
      "text/plain": [
       "1.0       2460\n",
       "8.0       1306\n",
       "5.0       1169\n",
       "10.0      1075\n",
       "6.0       1038\n",
       "9.0        843\n",
       "0.0        697\n",
       "7.0        609\n",
       "12.0       249\n",
       "11.0       233\n",
       "13.0        67\n",
       "14.0        51\n",
       "4.0         39\n",
       "15.0        31\n",
       "3.0         22\n",
       "16.0        16\n",
       "20.0        14\n",
       "17.0        12\n",
       "19.0        11\n",
       "18.0         6\n",
       "2.0          4\n",
       "22.0         3\n",
       "30.0         2\n",
       "43.0         2\n",
       "41.0         2\n",
       "112.0        2\n",
       "25.0         2\n",
       "51.0         2\n",
       "37.0         2\n",
       "58.0         2\n",
       "32.0         2\n",
       "21.0         1\n",
       "73.0         1\n",
       "75.0         1\n",
       "36.0         1\n",
       "27.0         1\n",
       "63.0         1\n",
       "1970.0       1\n",
       "54.0         1\n",
       "53.0         1\n",
       "60.0         1\n",
       "26.0         1\n",
       "66.0         1\n",
       "39.0         1\n",
       "29.0         1\n",
       "78.0         1\n",
       "31.0         1\n",
       "84.0         1\n",
       "48.0         1\n",
       "96.0         1\n",
       "42.0         1\n",
       "40.0         1\n",
       "23.0         1\n",
       "72.0         1\n",
       "35.0         1\n",
       "62.0         1\n",
       "123.0        1\n",
       "2014.0       1\n",
       "Name: KitchenSquare, dtype: int64"
      ]
     },
     "execution_count": 24,
     "metadata": {},
     "output_type": "execute_result"
    }
   ],
   "source": [
    "train_df['KitchenSquare'].value_counts()"
   ]
  },
  {
   "cell_type": "code",
   "execution_count": 25,
   "metadata": {
    "execution": {
     "iopub.execute_input": "2021-11-02T18:57:44.663524Z",
     "iopub.status.busy": "2021-11-02T18:57:44.662398Z",
     "iopub.status.idle": "2021-11-02T18:57:44.668662Z",
     "shell.execute_reply": "2021-11-02T18:57:44.669373Z",
     "shell.execute_reply.started": "2021-11-02T18:55:58.278905Z"
    },
    "papermill": {
     "duration": 0.102311,
     "end_time": "2021-11-02T18:57:44.669535",
     "exception": false,
     "start_time": "2021-11-02T18:57:44.567224",
     "status": "completed"
    },
    "tags": []
   },
   "outputs": [
    {
     "data": {
      "text/plain": [
       "(13.0, 0.0)"
      ]
     },
     "execution_count": 25,
     "metadata": {},
     "output_type": "execute_result"
    }
   ],
   "source": [
    "train_df['KitchenSquare'].quantile(.975), train_df['KitchenSquare'].quantile(.025)"
   ]
  },
  {
   "cell_type": "code",
   "execution_count": 26,
   "metadata": {
    "execution": {
     "iopub.execute_input": "2021-11-02T18:57:44.851405Z",
     "iopub.status.busy": "2021-11-02T18:57:44.850615Z",
     "iopub.status.idle": "2021-11-02T18:57:44.861785Z",
     "shell.execute_reply": "2021-11-02T18:57:44.861167Z",
     "shell.execute_reply.started": "2021-11-02T18:55:58.289442Z"
    },
    "papermill": {
     "duration": 0.103364,
     "end_time": "2021-11-02T18:57:44.861927",
     "exception": false,
     "start_time": "2021-11-02T18:57:44.758563",
     "status": "completed"
    },
    "tags": []
   },
   "outputs": [],
   "source": [
    "condition = train_df['KitchenSquare'] > train_df['KitchenSquare'].quantile(.975)\n",
    "train_df.loc[condition, 'KitchenSquare'] = train_df['KitchenSquare'].quantile(.975)\n",
    "train_df.loc[train_df['KitchenSquare'] < 3, 'KitchenSquare'] = 3"
   ]
  },
  {
   "cell_type": "code",
   "execution_count": 27,
   "metadata": {
    "execution": {
     "iopub.execute_input": "2021-11-02T18:57:45.043643Z",
     "iopub.status.busy": "2021-11-02T18:57:45.042802Z",
     "iopub.status.idle": "2021-11-02T18:57:45.052598Z",
     "shell.execute_reply": "2021-11-02T18:57:45.051930Z",
     "shell.execute_reply.started": "2021-11-02T18:55:58.302151Z"
    },
    "papermill": {
     "duration": 0.101789,
     "end_time": "2021-11-02T18:57:45.052733",
     "exception": false,
     "start_time": "2021-11-02T18:57:44.950944",
     "status": "completed"
    },
    "tags": []
   },
   "outputs": [
    {
     "data": {
      "text/plain": [
       "3.0     3183\n",
       "8.0     1306\n",
       "5.0     1169\n",
       "10.0    1075\n",
       "6.0     1038\n",
       "9.0      843\n",
       "7.0      609\n",
       "13.0     256\n",
       "12.0     249\n",
       "11.0     233\n",
       "4.0       39\n",
       "Name: KitchenSquare, dtype: int64"
      ]
     },
     "execution_count": 27,
     "metadata": {},
     "output_type": "execute_result"
    }
   ],
   "source": [
    "train_df['KitchenSquare'].value_counts()"
   ]
  },
  {
   "cell_type": "markdown",
   "metadata": {
    "papermill": {
     "duration": 0.089304,
     "end_time": "2021-11-02T18:57:45.232527",
     "exception": false,
     "start_time": "2021-11-02T18:57:45.143223",
     "status": "completed"
    },
    "tags": []
   },
   "source": [
    "**HouseFloor, Floor**"
   ]
  },
  {
   "cell_type": "code",
   "execution_count": 28,
   "metadata": {
    "execution": {
     "iopub.execute_input": "2021-11-02T18:57:45.415779Z",
     "iopub.status.busy": "2021-11-02T18:57:45.415001Z",
     "iopub.status.idle": "2021-11-02T18:57:45.422805Z",
     "shell.execute_reply": "2021-11-02T18:57:45.422116Z",
     "shell.execute_reply.started": "2021-11-02T18:55:58.315272Z"
    },
    "papermill": {
     "duration": 0.101609,
     "end_time": "2021-11-02T18:57:45.422947",
     "exception": false,
     "start_time": "2021-11-02T18:57:45.321338",
     "status": "completed"
    },
    "scrolled": true,
    "tags": []
   },
   "outputs": [
    {
     "data": {
      "text/plain": [
       "array([  0,   1,   2,   3,   4,   5,   6,   7,   8,   9,  10,  11,  12,\n",
       "        13,  14,  15,  16,  17,  18,  19,  20,  21,  22,  23,  24,  25,\n",
       "        26,  27,  28,  29,  30,  31,  32,  36,  37,  38,  39,  40,  44,\n",
       "        45,  47,  48,  99, 117])"
      ]
     },
     "execution_count": 28,
     "metadata": {},
     "output_type": "execute_result"
    }
   ],
   "source": [
    "train_df['HouseFloor'].sort_values().unique()"
   ]
  },
  {
   "cell_type": "code",
   "execution_count": 29,
   "metadata": {
    "execution": {
     "iopub.execute_input": "2021-11-02T18:57:45.607717Z",
     "iopub.status.busy": "2021-11-02T18:57:45.606914Z",
     "iopub.status.idle": "2021-11-02T18:57:45.614258Z",
     "shell.execute_reply": "2021-11-02T18:57:45.613625Z",
     "shell.execute_reply.started": "2021-11-02T18:55:58.325887Z"
    },
    "papermill": {
     "duration": 0.101509,
     "end_time": "2021-11-02T18:57:45.614397",
     "exception": false,
     "start_time": "2021-11-02T18:57:45.512888",
     "status": "completed"
    },
    "scrolled": true,
    "tags": []
   },
   "outputs": [
    {
     "data": {
      "text/plain": [
       "array([ 1,  2,  3,  4,  5,  6,  7,  8,  9, 10, 11, 12, 13, 14, 15, 16, 17,\n",
       "       18, 19, 20, 21, 22, 23, 24, 25, 26, 27, 28, 31, 32, 33, 37, 42],\n",
       "      dtype=int64)"
      ]
     },
     "execution_count": 29,
     "metadata": {},
     "output_type": "execute_result"
    }
   ],
   "source": [
    "train_df['Floor'].sort_values().unique()"
   ]
  },
  {
   "cell_type": "code",
   "execution_count": 30,
   "metadata": {
    "execution": {
     "iopub.execute_input": "2021-11-02T18:57:45.802543Z",
     "iopub.status.busy": "2021-11-02T18:57:45.801822Z",
     "iopub.status.idle": "2021-11-02T18:57:45.806587Z",
     "shell.execute_reply": "2021-11-02T18:57:45.805920Z",
     "shell.execute_reply.started": "2021-11-02T18:55:58.338063Z"
    },
    "papermill": {
     "duration": 0.10148,
     "end_time": "2021-11-02T18:57:45.806720",
     "exception": false,
     "start_time": "2021-11-02T18:57:45.705240",
     "status": "completed"
    },
    "tags": []
   },
   "outputs": [
    {
     "data": {
      "text/plain": [
       "1825"
      ]
     },
     "execution_count": 30,
     "metadata": {},
     "output_type": "execute_result"
    }
   ],
   "source": [
    "(train_df['Floor'] > train_df['HouseFloor']).sum()"
   ]
  },
  {
   "cell_type": "code",
   "execution_count": 31,
   "metadata": {
    "execution": {
     "iopub.execute_input": "2021-11-02T18:57:46.000242Z",
     "iopub.status.busy": "2021-11-02T18:57:45.999268Z",
     "iopub.status.idle": "2021-11-02T18:57:46.003164Z",
     "shell.execute_reply": "2021-11-02T18:57:46.002490Z",
     "shell.execute_reply.started": "2021-11-02T18:55:58.348581Z"
    },
    "papermill": {
     "duration": 0.106155,
     "end_time": "2021-11-02T18:57:46.003314",
     "exception": false,
     "start_time": "2021-11-02T18:57:45.897159",
     "status": "completed"
    },
    "tags": []
   },
   "outputs": [],
   "source": [
    "train_df['HouseFloor_outlier'] = 0\n",
    "train_df.loc[train_df['HouseFloor'] == 0, 'HouseFloor_outlier'] = 1\n",
    "train_df.loc[train_df['HouseFloor'] > 48, 'HouseFloor_outlier'] = 1\n",
    "train_df.loc[train_df['Floor'] > train_df['HouseFloor'], 'HouseFloor_outlier'] = 1"
   ]
  },
  {
   "cell_type": "code",
   "execution_count": 32,
   "metadata": {
    "execution": {
     "iopub.execute_input": "2021-11-02T18:57:46.191076Z",
     "iopub.status.busy": "2021-11-02T18:57:46.189896Z",
     "iopub.status.idle": "2021-11-02T18:57:46.195425Z",
     "shell.execute_reply": "2021-11-02T18:57:46.194656Z",
     "shell.execute_reply.started": "2021-11-02T18:55:58.361498Z"
    },
    "papermill": {
     "duration": 0.102694,
     "end_time": "2021-11-02T18:57:46.195571",
     "exception": false,
     "start_time": "2021-11-02T18:57:46.092877",
     "status": "completed"
    },
    "tags": []
   },
   "outputs": [],
   "source": [
    "train_df.loc[train_df['HouseFloor'] == 0, 'HouseFloor'] = train_df['HouseFloor'].median()\n",
    "train_df.loc[train_df['HouseFloor'] > 48, 'HouseFloor'] = 48"
   ]
  },
  {
   "cell_type": "code",
   "execution_count": 33,
   "metadata": {
    "execution": {
     "iopub.execute_input": "2021-11-02T18:57:46.384658Z",
     "iopub.status.busy": "2021-11-02T18:57:46.382284Z",
     "iopub.status.idle": "2021-11-02T18:57:46.389250Z",
     "shell.execute_reply": "2021-11-02T18:57:46.388497Z",
     "shell.execute_reply.started": "2021-11-02T18:55:58.370678Z"
    },
    "papermill": {
     "duration": 0.102826,
     "end_time": "2021-11-02T18:57:46.389378",
     "exception": false,
     "start_time": "2021-11-02T18:57:46.286552",
     "status": "completed"
    },
    "tags": []
   },
   "outputs": [
    {
     "data": {
      "text/plain": [
       "Int64Index([ 1190,   367,  8471,  4521,  8553,   847,  7757,  1699,  3736,\n",
       "             9024,\n",
       "            ...\n",
       "              794,  9792,  3659, 15686,  2913,  7659, 16258,  9920, 13501,\n",
       "             4944],\n",
       "           dtype='int64', name='Id', length=1610)"
      ]
     },
     "execution_count": 33,
     "metadata": {},
     "output_type": "execute_result"
    }
   ],
   "source": [
    "floor_outliers = train_df.loc[train_df['Floor'] > train_df['HouseFloor']].index\n",
    "floor_outliers"
   ]
  },
  {
   "cell_type": "code",
   "execution_count": 34,
   "metadata": {
    "execution": {
     "iopub.execute_input": "2021-11-02T18:57:46.579200Z",
     "iopub.status.busy": "2021-11-02T18:57:46.578455Z",
     "iopub.status.idle": "2021-11-02T18:57:46.582454Z",
     "shell.execute_reply": "2021-11-02T18:57:46.583147Z",
     "shell.execute_reply.started": "2021-11-02T18:55:58.385119Z"
    },
    "papermill": {
     "duration": 0.104819,
     "end_time": "2021-11-02T18:57:46.583340",
     "exception": false,
     "start_time": "2021-11-02T18:57:46.478521",
     "status": "completed"
    },
    "tags": []
   },
   "outputs": [],
   "source": [
    "train_df.loc[floor_outliers, 'Floor'] = train_df.loc[floor_outliers, 'HouseFloor'].apply(lambda x: random.randint(1, x))"
   ]
  },
  {
   "cell_type": "code",
   "execution_count": 35,
   "metadata": {
    "execution": {
     "iopub.execute_input": "2021-11-02T18:57:46.771755Z",
     "iopub.status.busy": "2021-11-02T18:57:46.770964Z",
     "iopub.status.idle": "2021-11-02T18:57:46.774632Z",
     "shell.execute_reply": "2021-11-02T18:57:46.775162Z",
     "shell.execute_reply.started": "2021-11-02T18:55:58.402215Z"
    },
    "papermill": {
     "duration": 0.101848,
     "end_time": "2021-11-02T18:57:46.775339",
     "exception": false,
     "start_time": "2021-11-02T18:57:46.673491",
     "status": "completed"
    },
    "tags": []
   },
   "outputs": [
    {
     "data": {
      "text/plain": [
       "0"
      ]
     },
     "execution_count": 35,
     "metadata": {},
     "output_type": "execute_result"
    }
   ],
   "source": [
    "(train_df['Floor'] > train_df['HouseFloor']).sum()"
   ]
  },
  {
   "cell_type": "markdown",
   "metadata": {
    "papermill": {
     "duration": 0.08903,
     "end_time": "2021-11-02T18:57:46.953796",
     "exception": false,
     "start_time": "2021-11-02T18:57:46.864766",
     "status": "completed"
    },
    "tags": []
   },
   "source": [
    "**HouseYear**"
   ]
  },
  {
   "cell_type": "code",
   "execution_count": 36,
   "metadata": {
    "execution": {
     "iopub.execute_input": "2021-11-02T18:57:47.136702Z",
     "iopub.status.busy": "2021-11-02T18:57:47.135994Z",
     "iopub.status.idle": "2021-11-02T18:57:47.144682Z",
     "shell.execute_reply": "2021-11-02T18:57:47.145254Z",
     "shell.execute_reply.started": "2021-11-02T18:55:58.412288Z"
    },
    "papermill": {
     "duration": 0.102019,
     "end_time": "2021-11-02T18:57:47.145412",
     "exception": false,
     "start_time": "2021-11-02T18:57:47.043393",
     "status": "completed"
    },
    "tags": []
   },
   "outputs": [
    {
     "data": {
      "text/plain": [
       "Id\n",
       "10814    20052011\n",
       "11607        4968\n",
       "8892         2020\n",
       "2530         2020\n",
       "9600         2020\n",
       "           ...   \n",
       "7920         1916\n",
       "6751         1914\n",
       "14556        1912\n",
       "2085         1912\n",
       "13288        1910\n",
       "Name: HouseYear, Length: 10000, dtype: int64"
      ]
     },
     "execution_count": 36,
     "metadata": {},
     "output_type": "execute_result"
    }
   ],
   "source": [
    "train_df['HouseYear'].sort_values(ascending=False)"
   ]
  },
  {
   "cell_type": "code",
   "execution_count": 37,
   "metadata": {
    "execution": {
     "iopub.execute_input": "2021-11-02T18:57:47.332288Z",
     "iopub.status.busy": "2021-11-02T18:57:47.331602Z",
     "iopub.status.idle": "2021-11-02T18:57:47.334232Z",
     "shell.execute_reply": "2021-11-02T18:57:47.334791Z",
     "shell.execute_reply.started": "2021-11-02T18:55:58.425464Z"
    },
    "papermill": {
     "duration": 0.099537,
     "end_time": "2021-11-02T18:57:47.334946",
     "exception": false,
     "start_time": "2021-11-02T18:57:47.235409",
     "status": "completed"
    },
    "tags": []
   },
   "outputs": [],
   "source": [
    "train_df.loc[train_df['HouseYear'] > 2020, 'HouseYear'] = 2020"
   ]
  },
  {
   "cell_type": "markdown",
   "metadata": {
    "papermill": {
     "duration": 0.091801,
     "end_time": "2021-11-02T18:57:47.518317",
     "exception": false,
     "start_time": "2021-11-02T18:57:47.426516",
     "status": "completed"
    },
    "tags": []
   },
   "source": [
    "### 3. Обработка пропусков  <a class='anchor' id='nan'>"
   ]
  },
  {
   "cell_type": "code",
   "execution_count": 39,
   "metadata": {
    "execution": {
     "iopub.execute_input": "2021-11-02T18:57:47.706261Z",
     "iopub.status.busy": "2021-11-02T18:57:47.705227Z",
     "iopub.status.idle": "2021-11-02T18:57:47.718490Z",
     "shell.execute_reply": "2021-11-02T18:57:47.717861Z",
     "shell.execute_reply.started": "2021-11-02T18:55:58.434399Z"
    },
    "papermill": {
     "duration": 0.109496,
     "end_time": "2021-11-02T18:57:47.718618",
     "exception": false,
     "start_time": "2021-11-02T18:57:47.609122",
     "status": "completed"
    },
    "tags": []
   },
   "outputs": [
    {
     "data": {
      "text/plain": [
       "Id                       0\n",
       "DistrictId               0\n",
       "Rooms                    0\n",
       "Square                   0\n",
       "LifeSquare            2113\n",
       "KitchenSquare            0\n",
       "Floor                    0\n",
       "HouseFloor               0\n",
       "HouseYear                0\n",
       "Ecology_1                0\n",
       "Ecology_2                0\n",
       "Ecology_3                0\n",
       "Social_1                 0\n",
       "Social_2                 0\n",
       "Social_3                 0\n",
       "Healthcare_1          4798\n",
       "Helthcare_2              0\n",
       "Shops_1                  0\n",
       "Shops_2                  0\n",
       "Price                    0\n",
       "Rooms_outlier            0\n",
       "HouseFloor_outlier       0\n",
       "dtype: int64"
      ]
     },
     "execution_count": 39,
     "metadata": {},
     "output_type": "execute_result"
    }
   ],
   "source": [
    "train_df.isna().sum()"
   ]
  },
  {
   "cell_type": "code",
   "execution_count": 40,
   "metadata": {
    "execution": {
     "iopub.execute_input": "2021-11-02T18:57:47.908211Z",
     "iopub.status.busy": "2021-11-02T18:57:47.907047Z",
     "iopub.status.idle": "2021-11-02T18:57:47.921736Z",
     "shell.execute_reply": "2021-11-02T18:57:47.922537Z",
     "shell.execute_reply.started": "2021-11-02T18:55:58.449937Z"
    },
    "papermill": {
     "duration": 0.110746,
     "end_time": "2021-11-02T18:57:47.922712",
     "exception": false,
     "start_time": "2021-11-02T18:57:47.811966",
     "status": "completed"
    },
    "tags": []
   },
   "outputs": [
    {
     "data": {
      "text/html": [
       "<div>\n",
       "<style scoped>\n",
       "    .dataframe tbody tr th:only-of-type {\n",
       "        vertical-align: middle;\n",
       "    }\n",
       "\n",
       "    .dataframe tbody tr th {\n",
       "        vertical-align: top;\n",
       "    }\n",
       "\n",
       "    .dataframe thead th {\n",
       "        text-align: right;\n",
       "    }\n",
       "</style>\n",
       "<table border=\"1\" class=\"dataframe\">\n",
       "  <thead>\n",
       "    <tr style=\"text-align: right;\">\n",
       "      <th></th>\n",
       "      <th>Square</th>\n",
       "      <th>LifeSquare</th>\n",
       "      <th>KitchenSquare</th>\n",
       "    </tr>\n",
       "  </thead>\n",
       "  <tbody>\n",
       "    <tr>\n",
       "      <th>0</th>\n",
       "      <td>115.027311</td>\n",
       "      <td>NaN</td>\n",
       "      <td>10.0</td>\n",
       "    </tr>\n",
       "    <tr>\n",
       "      <th>1</th>\n",
       "      <td>39.832524</td>\n",
       "      <td>23.169223</td>\n",
       "      <td>8.0</td>\n",
       "    </tr>\n",
       "    <tr>\n",
       "      <th>2</th>\n",
       "      <td>78.342215</td>\n",
       "      <td>47.671972</td>\n",
       "      <td>10.0</td>\n",
       "    </tr>\n",
       "    <tr>\n",
       "      <th>3</th>\n",
       "      <td>40.409907</td>\n",
       "      <td>NaN</td>\n",
       "      <td>3.0</td>\n",
       "    </tr>\n",
       "    <tr>\n",
       "      <th>4</th>\n",
       "      <td>64.285067</td>\n",
       "      <td>38.562517</td>\n",
       "      <td>9.0</td>\n",
       "    </tr>\n",
       "    <tr>\n",
       "      <th>5</th>\n",
       "      <td>62.528465</td>\n",
       "      <td>47.103833</td>\n",
       "      <td>6.0</td>\n",
       "    </tr>\n",
       "    <tr>\n",
       "      <th>6</th>\n",
       "      <td>33.938750</td>\n",
       "      <td>21.772930</td>\n",
       "      <td>9.0</td>\n",
       "    </tr>\n",
       "    <tr>\n",
       "      <th>7</th>\n",
       "      <td>50.391814</td>\n",
       "      <td>32.893256</td>\n",
       "      <td>8.0</td>\n",
       "    </tr>\n",
       "    <tr>\n",
       "      <th>8</th>\n",
       "      <td>46.887892</td>\n",
       "      <td>44.628132</td>\n",
       "      <td>3.0</td>\n",
       "    </tr>\n",
       "    <tr>\n",
       "      <th>9</th>\n",
       "      <td>79.867477</td>\n",
       "      <td>75.085125</td>\n",
       "      <td>3.0</td>\n",
       "    </tr>\n",
       "  </tbody>\n",
       "</table>\n",
       "</div>"
      ],
      "text/plain": [
       "       Square  LifeSquare  KitchenSquare\n",
       "0  115.027311         NaN           10.0\n",
       "1   39.832524   23.169223            8.0\n",
       "2   78.342215   47.671972           10.0\n",
       "3   40.409907         NaN            3.0\n",
       "4   64.285067   38.562517            9.0\n",
       "5   62.528465   47.103833            6.0\n",
       "6   33.938750   21.772930            9.0\n",
       "7   50.391814   32.893256            8.0\n",
       "8   46.887892   44.628132            3.0\n",
       "9   79.867477   75.085125            3.0"
      ]
     },
     "execution_count": 40,
     "metadata": {},
     "output_type": "execute_result"
    }
   ],
   "source": [
    "train_df[['Square', 'LifeSquare', 'KitchenSquare']].head(10)"
   ]
  },
  {
   "cell_type": "markdown",
   "metadata": {
    "papermill": {
     "duration": 0.092084,
     "end_time": "2021-11-02T18:57:48.107124",
     "exception": false,
     "start_time": "2021-11-02T18:57:48.015040",
     "status": "completed"
    },
    "tags": []
   },
   "source": [
    "**LifeSquare**"
   ]
  },
  {
   "cell_type": "code",
   "execution_count": 41,
   "metadata": {
    "execution": {
     "iopub.execute_input": "2021-11-02T18:57:48.297728Z",
     "iopub.status.busy": "2021-11-02T18:57:48.296640Z",
     "iopub.status.idle": "2021-11-02T18:57:48.309834Z",
     "shell.execute_reply": "2021-11-02T18:57:48.310478Z",
     "shell.execute_reply.started": "2021-11-02T18:55:58.464870Z"
    },
    "papermill": {
     "duration": 0.110737,
     "end_time": "2021-11-02T18:57:48.310641",
     "exception": false,
     "start_time": "2021-11-02T18:57:48.199904",
     "status": "completed"
    },
    "tags": []
   },
   "outputs": [],
   "source": [
    "train_df['LifeSquare_nan'] = train_df['LifeSquare'].isna() * 1\n",
    "\n",
    "condition = (train_df['LifeSquare'].isna()) \\\n",
    "             & (~train_df['Square'].isna()) \\\n",
    "             & (~train_df['KitchenSquare'].isna())\n",
    "        \n",
    "train_df.loc[condition, 'LifeSquare'] = train_df.loc[condition, 'Square'] \\\n",
    "                                            - train_df.loc[condition, 'KitchenSquare'] - 3"
   ]
  },
  {
   "cell_type": "markdown",
   "metadata": {
    "papermill": {
     "duration": 0.092915,
     "end_time": "2021-11-02T18:57:48.495213",
     "exception": false,
     "start_time": "2021-11-02T18:57:48.402298",
     "status": "completed"
    },
    "tags": []
   },
   "source": [
    "**Healthcare_1**"
   ]
  },
  {
   "cell_type": "code",
   "execution_count": 42,
   "metadata": {
    "execution": {
     "iopub.execute_input": "2021-11-02T18:57:48.684612Z",
     "iopub.status.busy": "2021-11-02T18:57:48.683502Z",
     "iopub.status.idle": "2021-11-02T18:57:48.691995Z",
     "shell.execute_reply": "2021-11-02T18:57:48.692654Z",
     "shell.execute_reply.started": "2021-11-02T18:55:58.489512Z"
    },
    "papermill": {
     "duration": 0.105107,
     "end_time": "2021-11-02T18:57:48.692825",
     "exception": false,
     "start_time": "2021-11-02T18:57:48.587718",
     "status": "completed"
    },
    "tags": []
   },
   "outputs": [],
   "source": [
    "train_df.drop('Healthcare_1', axis=1, inplace=True)"
   ]
  },
  {
   "cell_type": "code",
   "execution_count": 43,
   "metadata": {
    "execution": {
     "iopub.execute_input": "2021-11-02T18:57:48.888267Z",
     "iopub.status.busy": "2021-11-02T18:57:48.887054Z",
     "iopub.status.idle": "2021-11-02T18:57:48.909462Z",
     "shell.execute_reply": "2021-11-02T18:57:48.910134Z",
     "shell.execute_reply.started": "2021-11-02T18:55:58.498385Z"
    },
    "papermill": {
     "duration": 0.119783,
     "end_time": "2021-11-02T18:57:48.910323",
     "exception": false,
     "start_time": "2021-11-02T18:57:48.790540",
     "status": "completed"
    },
    "tags": []
   },
   "outputs": [],
   "source": [
    "class DataPreprocessing:\n",
    "    \"\"\"Подготовка исходных данных\"\"\"\n",
    "\n",
    "    def __init__(self):\n",
    "        \"\"\"Параметры класса\"\"\"\n",
    "        self.medians = None\n",
    "        self.kitchen_square_quantile = None\n",
    "        \n",
    "    def fit(self, X):\n",
    "        \"\"\"Сохранение статистик\"\"\"       \n",
    "        # Расчет медиан\n",
    "        self.medians = X.median()\n",
    "        self.kitchen_square_quantile = X['KitchenSquare'].quantile(.975)\n",
    "    \n",
    "    def transform(self, X):\n",
    "        \"\"\"Трансформация данных\"\"\"\n",
    "\n",
    "        # Rooms\n",
    "        X['Rooms_outlier'] = 0\n",
    "        X.loc[(X['Rooms'] == 0) | (X['Rooms'] >= 6), 'Rooms_outlier'] = 1\n",
    "        \n",
    "        X.loc[X['Rooms'] == 0, 'Rooms'] = 1\n",
    "        X.loc[X['Rooms'] >= 6, 'Rooms'] = self.medians['Rooms']\n",
    "        \n",
    "        # KitchenSquare\n",
    "        condition = (X['KitchenSquare'].isna()) \\\n",
    "                    | (X['KitchenSquare'] > self.kitchen_square_quantile)\n",
    "        \n",
    "        X.loc[condition, 'KitchenSquare'] = self.medians['KitchenSquare']\n",
    "\n",
    "        X.loc[X['KitchenSquare'] < 3, 'KitchenSquare'] = 3\n",
    "        \n",
    "        # HouseFloor, Floor\n",
    "        X['HouseFloor_outlier'] = 0\n",
    "        X.loc[X['HouseFloor'] == 0, 'HouseFloor_outlier'] = 1\n",
    "        X.loc[X['Floor'] > X['HouseFloor'], 'HouseFloor_outlier'] = 1\n",
    "        \n",
    "        X.loc[X['HouseFloor'] == 0, 'HouseFloor'] = self.medians['HouseFloor']\n",
    "        \n",
    "        floor_outliers = X.loc[X['Floor'] > X['HouseFloor']].index\n",
    "        X.loc[floor_outliers, 'Floor'] = X.loc[floor_outliers, 'HouseFloor']\\\n",
    "                                            .apply(lambda x: random.randint(1, x))\n",
    "        \n",
    "        # HouseYear\n",
    "        current_year = datetime.now().year\n",
    "        \n",
    "        X['HouseYear_outlier'] = 0\n",
    "        X.loc[X['HouseYear'] > current_year, 'HouseYear_outlier'] = 1\n",
    "        \n",
    "        X.loc[X['HouseYear'] > current_year, 'HouseYear'] = current_year\n",
    "        \n",
    "        # Healthcare_1\n",
    "        if 'Healthcare_1' in X.columns:\n",
    "            X.drop('Healthcare_1', axis=1, inplace=True)\n",
    "            \n",
    "        # LifeSquare\n",
    "        X['LifeSquare_nan'] = X['LifeSquare'].isna() * 1\n",
    "        condition = (X['LifeSquare'].isna()) & \\\n",
    "                      (~X['Square'].isna()) & \\\n",
    "                      (~X['KitchenSquare'].isna())\n",
    "        \n",
    "        X.loc[condition, 'LifeSquare'] = X.loc[condition, 'Square'] - X.loc[condition, 'KitchenSquare'] - 3\n",
    "        \n",
    "        \n",
    "        X.fillna(self.medians, inplace=True)\n",
    "        \n",
    "        return X"
   ]
  },
  {
   "cell_type": "markdown",
   "metadata": {
    "papermill": {
     "duration": 0.091939,
     "end_time": "2021-11-02T18:57:49.096346",
     "exception": false,
     "start_time": "2021-11-02T18:57:49.004407",
     "status": "completed"
    },
    "tags": []
   },
   "source": [
    "### 4. Построение новых признаков  <a class='anchor' id='feature'>"
   ]
  },
  {
   "cell_type": "markdown",
   "metadata": {
    "papermill": {
     "duration": 0.092225,
     "end_time": "2021-11-02T18:57:49.280735",
     "exception": false,
     "start_time": "2021-11-02T18:57:49.188510",
     "status": "completed"
    },
    "tags": []
   },
   "source": [
    "**Dummies**"
   ]
  },
  {
   "cell_type": "code",
   "execution_count": 44,
   "metadata": {
    "execution": {
     "iopub.execute_input": "2021-11-02T18:57:49.480150Z",
     "iopub.status.busy": "2021-11-02T18:57:49.479414Z",
     "iopub.status.idle": "2021-11-02T18:57:49.499106Z",
     "shell.execute_reply": "2021-11-02T18:57:49.498474Z",
     "shell.execute_reply.started": "2021-11-02T18:55:58.522376Z"
    },
    "papermill": {
     "duration": 0.125228,
     "end_time": "2021-11-02T18:57:49.499260",
     "exception": false,
     "start_time": "2021-11-02T18:57:49.374032",
     "status": "completed"
    },
    "tags": []
   },
   "outputs": [],
   "source": [
    "binary_to_numbers = {'A': 0, 'B': 1}\n",
    "\n",
    "train_df['Ecology_2'] = train_df['Ecology_2'].replace(binary_to_numbers)\n",
    "train_df['Ecology_3'] = train_df['Ecology_3'].replace(binary_to_numbers)\n",
    "train_df['Shops_2'] = train_df['Shops_2'].replace(binary_to_numbers)"
   ]
  },
  {
   "cell_type": "markdown",
   "metadata": {
    "papermill": {
     "duration": 0.093334,
     "end_time": "2021-11-02T18:57:49.686290",
     "exception": false,
     "start_time": "2021-11-02T18:57:49.592956",
     "status": "completed"
    },
    "tags": []
   },
   "source": [
    "**DistrictSize, IsDistrictLarge**"
   ]
  },
  {
   "cell_type": "code",
   "execution_count": 45,
   "metadata": {
    "execution": {
     "iopub.execute_input": "2021-11-02T18:57:49.887936Z",
     "iopub.status.busy": "2021-11-02T18:57:49.887146Z",
     "iopub.status.idle": "2021-11-02T18:57:49.892009Z",
     "shell.execute_reply": "2021-11-02T18:57:49.892734Z",
     "shell.execute_reply.started": "2021-11-02T18:55:58.557067Z"
    },
    "papermill": {
     "duration": 0.114104,
     "end_time": "2021-11-02T18:57:49.892903",
     "exception": false,
     "start_time": "2021-11-02T18:57:49.778799",
     "status": "completed"
    },
    "tags": []
   },
   "outputs": [
    {
     "data": {
      "text/html": [
       "<div>\n",
       "<style scoped>\n",
       "    .dataframe tbody tr th:only-of-type {\n",
       "        vertical-align: middle;\n",
       "    }\n",
       "\n",
       "    .dataframe tbody tr th {\n",
       "        vertical-align: top;\n",
       "    }\n",
       "\n",
       "    .dataframe thead th {\n",
       "        text-align: right;\n",
       "    }\n",
       "</style>\n",
       "<table border=\"1\" class=\"dataframe\">\n",
       "  <thead>\n",
       "    <tr style=\"text-align: right;\">\n",
       "      <th></th>\n",
       "      <th>DistrictId</th>\n",
       "      <th>DistrictSize</th>\n",
       "    </tr>\n",
       "  </thead>\n",
       "  <tbody>\n",
       "    <tr>\n",
       "      <th>0</th>\n",
       "      <td>27</td>\n",
       "      <td>851</td>\n",
       "    </tr>\n",
       "    <tr>\n",
       "      <th>1</th>\n",
       "      <td>1</td>\n",
       "      <td>652</td>\n",
       "    </tr>\n",
       "    <tr>\n",
       "      <th>2</th>\n",
       "      <td>23</td>\n",
       "      <td>565</td>\n",
       "    </tr>\n",
       "    <tr>\n",
       "      <th>3</th>\n",
       "      <td>6</td>\n",
       "      <td>511</td>\n",
       "    </tr>\n",
       "    <tr>\n",
       "      <th>4</th>\n",
       "      <td>9</td>\n",
       "      <td>294</td>\n",
       "    </tr>\n",
       "  </tbody>\n",
       "</table>\n",
       "</div>"
      ],
      "text/plain": [
       "  DistrictId  DistrictSize\n",
       "0         27           851\n",
       "1          1           652\n",
       "2         23           565\n",
       "3          6           511\n",
       "4          9           294"
      ]
     },
     "execution_count": 45,
     "metadata": {},
     "output_type": "execute_result"
    }
   ],
   "source": [
    "district_size = train_df['DistrictId'].value_counts().reset_index()\\\n",
    "                    .rename(columns={'index':'DistrictId', 'DistrictId':'DistrictSize'})\n",
    "\n",
    "district_size.head()"
   ]
  },
  {
   "cell_type": "code",
   "execution_count": 46,
   "metadata": {
    "execution": {
     "iopub.execute_input": "2021-11-02T18:57:50.082903Z",
     "iopub.status.busy": "2021-11-02T18:57:50.082214Z",
     "iopub.status.idle": "2021-11-02T18:57:50.130740Z",
     "shell.execute_reply": "2021-11-02T18:57:50.129969Z",
     "shell.execute_reply.started": "2021-11-02T18:55:58.577249Z"
    },
    "papermill": {
     "duration": 0.143701,
     "end_time": "2021-11-02T18:57:50.130908",
     "exception": false,
     "start_time": "2021-11-02T18:57:49.987207",
     "status": "completed"
    },
    "tags": []
   },
   "outputs": [
    {
     "data": {
      "text/html": [
       "<div>\n",
       "<style scoped>\n",
       "    .dataframe tbody tr th:only-of-type {\n",
       "        vertical-align: middle;\n",
       "    }\n",
       "\n",
       "    .dataframe tbody tr th {\n",
       "        vertical-align: top;\n",
       "    }\n",
       "\n",
       "    .dataframe thead th {\n",
       "        text-align: right;\n",
       "    }\n",
       "</style>\n",
       "<table border=\"1\" class=\"dataframe\">\n",
       "  <thead>\n",
       "    <tr style=\"text-align: right;\">\n",
       "      <th></th>\n",
       "      <th>Id</th>\n",
       "      <th>DistrictId</th>\n",
       "      <th>Rooms</th>\n",
       "      <th>Square</th>\n",
       "      <th>LifeSquare</th>\n",
       "      <th>KitchenSquare</th>\n",
       "      <th>Floor</th>\n",
       "      <th>HouseFloor</th>\n",
       "      <th>HouseYear</th>\n",
       "      <th>Ecology_1</th>\n",
       "      <th>...</th>\n",
       "      <th>Social_2</th>\n",
       "      <th>Social_3</th>\n",
       "      <th>Helthcare_2</th>\n",
       "      <th>Shops_1</th>\n",
       "      <th>Shops_2</th>\n",
       "      <th>Price</th>\n",
       "      <th>Rooms_outlier</th>\n",
       "      <th>HouseFloor_outlier</th>\n",
       "      <th>LifeSquare_nan</th>\n",
       "      <th>DistrictSize</th>\n",
       "    </tr>\n",
       "  </thead>\n",
       "  <tbody>\n",
       "    <tr>\n",
       "      <th>0</th>\n",
       "      <td>11809</td>\n",
       "      <td>27</td>\n",
       "      <td>3.0</td>\n",
       "      <td>115.027311</td>\n",
       "      <td>102.027311</td>\n",
       "      <td>10.0</td>\n",
       "      <td>4</td>\n",
       "      <td>10.0</td>\n",
       "      <td>2014</td>\n",
       "      <td>0.075424</td>\n",
       "      <td>...</td>\n",
       "      <td>3097</td>\n",
       "      <td>0</td>\n",
       "      <td>0</td>\n",
       "      <td>0</td>\n",
       "      <td>1</td>\n",
       "      <td>305018.871089</td>\n",
       "      <td>0</td>\n",
       "      <td>0</td>\n",
       "      <td>1</td>\n",
       "      <td>851</td>\n",
       "    </tr>\n",
       "    <tr>\n",
       "      <th>1</th>\n",
       "      <td>3013</td>\n",
       "      <td>22</td>\n",
       "      <td>1.0</td>\n",
       "      <td>39.832524</td>\n",
       "      <td>23.169223</td>\n",
       "      <td>8.0</td>\n",
       "      <td>7</td>\n",
       "      <td>8.0</td>\n",
       "      <td>1966</td>\n",
       "      <td>0.118537</td>\n",
       "      <td>...</td>\n",
       "      <td>6207</td>\n",
       "      <td>1</td>\n",
       "      <td>1</td>\n",
       "      <td>0</td>\n",
       "      <td>1</td>\n",
       "      <td>177734.553407</td>\n",
       "      <td>0</td>\n",
       "      <td>0</td>\n",
       "      <td>0</td>\n",
       "      <td>78</td>\n",
       "    </tr>\n",
       "    <tr>\n",
       "      <th>2</th>\n",
       "      <td>8215</td>\n",
       "      <td>1</td>\n",
       "      <td>3.0</td>\n",
       "      <td>78.342215</td>\n",
       "      <td>47.671972</td>\n",
       "      <td>10.0</td>\n",
       "      <td>2</td>\n",
       "      <td>17.0</td>\n",
       "      <td>1988</td>\n",
       "      <td>0.025609</td>\n",
       "      <td>...</td>\n",
       "      <td>5261</td>\n",
       "      <td>0</td>\n",
       "      <td>3</td>\n",
       "      <td>1</td>\n",
       "      <td>1</td>\n",
       "      <td>282078.720850</td>\n",
       "      <td>0</td>\n",
       "      <td>0</td>\n",
       "      <td>0</td>\n",
       "      <td>652</td>\n",
       "    </tr>\n",
       "    <tr>\n",
       "      <th>3</th>\n",
       "      <td>2352</td>\n",
       "      <td>1</td>\n",
       "      <td>1.0</td>\n",
       "      <td>40.409907</td>\n",
       "      <td>34.409907</td>\n",
       "      <td>3.0</td>\n",
       "      <td>10</td>\n",
       "      <td>22.0</td>\n",
       "      <td>1977</td>\n",
       "      <td>0.007122</td>\n",
       "      <td>...</td>\n",
       "      <td>264</td>\n",
       "      <td>0</td>\n",
       "      <td>0</td>\n",
       "      <td>1</td>\n",
       "      <td>1</td>\n",
       "      <td>168106.007630</td>\n",
       "      <td>0</td>\n",
       "      <td>0</td>\n",
       "      <td>1</td>\n",
       "      <td>652</td>\n",
       "    </tr>\n",
       "    <tr>\n",
       "      <th>4</th>\n",
       "      <td>13866</td>\n",
       "      <td>94</td>\n",
       "      <td>2.0</td>\n",
       "      <td>64.285067</td>\n",
       "      <td>38.562517</td>\n",
       "      <td>9.0</td>\n",
       "      <td>16</td>\n",
       "      <td>16.0</td>\n",
       "      <td>1972</td>\n",
       "      <td>0.282798</td>\n",
       "      <td>...</td>\n",
       "      <td>8667</td>\n",
       "      <td>2</td>\n",
       "      <td>0</td>\n",
       "      <td>6</td>\n",
       "      <td>1</td>\n",
       "      <td>343995.102962</td>\n",
       "      <td>0</td>\n",
       "      <td>0</td>\n",
       "      <td>0</td>\n",
       "      <td>89</td>\n",
       "    </tr>\n",
       "  </tbody>\n",
       "</table>\n",
       "<p>5 rows × 23 columns</p>\n",
       "</div>"
      ],
      "text/plain": [
       "      Id DistrictId  Rooms      Square  LifeSquare  KitchenSquare  Floor  \\\n",
       "0  11809         27    3.0  115.027311  102.027311           10.0      4   \n",
       "1   3013         22    1.0   39.832524   23.169223            8.0      7   \n",
       "2   8215          1    3.0   78.342215   47.671972           10.0      2   \n",
       "3   2352          1    1.0   40.409907   34.409907            3.0     10   \n",
       "4  13866         94    2.0   64.285067   38.562517            9.0     16   \n",
       "\n",
       "   HouseFloor  HouseYear  Ecology_1  ...  Social_2  Social_3  Helthcare_2  \\\n",
       "0        10.0       2014   0.075424  ...      3097         0            0   \n",
       "1         8.0       1966   0.118537  ...      6207         1            1   \n",
       "2        17.0       1988   0.025609  ...      5261         0            3   \n",
       "3        22.0       1977   0.007122  ...       264         0            0   \n",
       "4        16.0       1972   0.282798  ...      8667         2            0   \n",
       "\n",
       "   Shops_1  Shops_2          Price  Rooms_outlier  HouseFloor_outlier  \\\n",
       "0        0        1  305018.871089              0                   0   \n",
       "1        0        1  177734.553407              0                   0   \n",
       "2        1        1  282078.720850              0                   0   \n",
       "3        1        1  168106.007630              0                   0   \n",
       "4        6        1  343995.102962              0                   0   \n",
       "\n",
       "   LifeSquare_nan  DistrictSize  \n",
       "0               1           851  \n",
       "1               0            78  \n",
       "2               0           652  \n",
       "3               1           652  \n",
       "4               0            89  \n",
       "\n",
       "[5 rows x 23 columns]"
      ]
     },
     "execution_count": 46,
     "metadata": {},
     "output_type": "execute_result"
    }
   ],
   "source": [
    "train_df = train_df.merge(district_size, on='DistrictId', how='left')\n",
    "train_df.head()"
   ]
  },
  {
   "cell_type": "code",
   "execution_count": 47,
   "metadata": {
    "execution": {
     "iopub.execute_input": "2021-11-02T18:57:50.321997Z",
     "iopub.status.busy": "2021-11-02T18:57:50.321297Z",
     "iopub.status.idle": "2021-11-02T18:57:50.332950Z",
     "shell.execute_reply": "2021-11-02T18:57:50.332254Z",
     "shell.execute_reply.started": "2021-11-02T18:55:58.621050Z"
    },
    "papermill": {
     "duration": 0.108391,
     "end_time": "2021-11-02T18:57:50.333118",
     "exception": false,
     "start_time": "2021-11-02T18:57:50.224727",
     "status": "completed"
    },
    "tags": []
   },
   "outputs": [
    {
     "data": {
      "text/plain": [
       "True     5069\n",
       "False    4931\n",
       "Name: DistrictSize, dtype: int64"
      ]
     },
     "execution_count": 47,
     "metadata": {},
     "output_type": "execute_result"
    }
   ],
   "source": [
    "(train_df['DistrictSize'] > 100).value_counts()"
   ]
  },
  {
   "cell_type": "code",
   "execution_count": 48,
   "metadata": {
    "execution": {
     "iopub.execute_input": "2021-11-02T18:57:50.527749Z",
     "iopub.status.busy": "2021-11-02T18:57:50.527019Z",
     "iopub.status.idle": "2021-11-02T18:57:50.531586Z",
     "shell.execute_reply": "2021-11-02T18:57:50.530882Z",
     "shell.execute_reply.started": "2021-11-02T18:55:58.632565Z"
    },
    "papermill": {
     "duration": 0.104751,
     "end_time": "2021-11-02T18:57:50.531720",
     "exception": false,
     "start_time": "2021-11-02T18:57:50.426969",
     "status": "completed"
    },
    "tags": []
   },
   "outputs": [],
   "source": [
    "train_df['IsDistrictLarge'] = (train_df['DistrictSize'] > 100).astype(int)"
   ]
  },
  {
   "cell_type": "markdown",
   "metadata": {
    "papermill": {
     "duration": 0.096844,
     "end_time": "2021-11-02T18:57:50.724697",
     "exception": false,
     "start_time": "2021-11-02T18:57:50.627853",
     "status": "completed"
    },
    "tags": []
   },
   "source": [
    "**MedPriceByDistrict**"
   ]
  },
  {
   "cell_type": "code",
   "execution_count": 49,
   "metadata": {
    "execution": {
     "iopub.execute_input": "2021-11-02T18:57:50.922812Z",
     "iopub.status.busy": "2021-11-02T18:57:50.922037Z",
     "iopub.status.idle": "2021-11-02T18:57:50.943330Z",
     "shell.execute_reply": "2021-11-02T18:57:50.942600Z",
     "shell.execute_reply.started": "2021-11-02T18:55:58.641535Z"
    },
    "papermill": {
     "duration": 0.123953,
     "end_time": "2021-11-02T18:57:50.943470",
     "exception": false,
     "start_time": "2021-11-02T18:57:50.819517",
     "status": "completed"
    },
    "tags": []
   },
   "outputs": [
    {
     "data": {
      "text/html": [
       "<div>\n",
       "<style scoped>\n",
       "    .dataframe tbody tr th:only-of-type {\n",
       "        vertical-align: middle;\n",
       "    }\n",
       "\n",
       "    .dataframe tbody tr th {\n",
       "        vertical-align: top;\n",
       "    }\n",
       "\n",
       "    .dataframe thead th {\n",
       "        text-align: right;\n",
       "    }\n",
       "</style>\n",
       "<table border=\"1\" class=\"dataframe\">\n",
       "  <thead>\n",
       "    <tr style=\"text-align: right;\">\n",
       "      <th></th>\n",
       "      <th>DistrictId</th>\n",
       "      <th>Rooms</th>\n",
       "      <th>MedPriceByDistrict</th>\n",
       "    </tr>\n",
       "  </thead>\n",
       "  <tbody>\n",
       "    <tr>\n",
       "      <th>0</th>\n",
       "      <td>0</td>\n",
       "      <td>1.0</td>\n",
       "      <td>142799.434052</td>\n",
       "    </tr>\n",
       "    <tr>\n",
       "      <th>1</th>\n",
       "      <td>0</td>\n",
       "      <td>2.0</td>\n",
       "      <td>176210.812334</td>\n",
       "    </tr>\n",
       "    <tr>\n",
       "      <th>2</th>\n",
       "      <td>0</td>\n",
       "      <td>3.0</td>\n",
       "      <td>300610.359425</td>\n",
       "    </tr>\n",
       "    <tr>\n",
       "      <th>3</th>\n",
       "      <td>1</td>\n",
       "      <td>1.0</td>\n",
       "      <td>146735.671740</td>\n",
       "    </tr>\n",
       "    <tr>\n",
       "      <th>4</th>\n",
       "      <td>1</td>\n",
       "      <td>2.0</td>\n",
       "      <td>202666.310126</td>\n",
       "    </tr>\n",
       "  </tbody>\n",
       "</table>\n",
       "</div>"
      ],
      "text/plain": [
       "  DistrictId  Rooms  MedPriceByDistrict\n",
       "0          0    1.0       142799.434052\n",
       "1          0    2.0       176210.812334\n",
       "2          0    3.0       300610.359425\n",
       "3          1    1.0       146735.671740\n",
       "4          1    2.0       202666.310126"
      ]
     },
     "execution_count": 49,
     "metadata": {},
     "output_type": "execute_result"
    }
   ],
   "source": [
    "med_price_by_district = train_df.groupby(['DistrictId', 'Rooms'], as_index=False).agg({'Price':'median'})\\\n",
    "                            .rename(columns={'Price':'MedPriceByDistrict'})\n",
    "\n",
    "med_price_by_district.head()"
   ]
  },
  {
   "cell_type": "code",
   "execution_count": 50,
   "metadata": {
    "execution": {
     "iopub.execute_input": "2021-11-02T18:57:51.135865Z",
     "iopub.status.busy": "2021-11-02T18:57:51.134773Z",
     "iopub.status.idle": "2021-11-02T18:57:51.141081Z",
     "shell.execute_reply": "2021-11-02T18:57:51.141786Z",
     "shell.execute_reply.started": "2021-11-02T18:55:58.668939Z"
    },
    "papermill": {
     "duration": 0.104206,
     "end_time": "2021-11-02T18:57:51.141946",
     "exception": false,
     "start_time": "2021-11-02T18:57:51.037740",
     "status": "completed"
    },
    "tags": []
   },
   "outputs": [
    {
     "data": {
      "text/plain": [
       "(667, 3)"
      ]
     },
     "execution_count": 50,
     "metadata": {},
     "output_type": "execute_result"
    }
   ],
   "source": [
    "med_price_by_district.shape"
   ]
  },
  {
   "cell_type": "code",
   "execution_count": 51,
   "metadata": {
    "execution": {
     "iopub.execute_input": "2021-11-02T18:57:51.339415Z",
     "iopub.status.busy": "2021-11-02T18:57:51.338283Z",
     "iopub.status.idle": "2021-11-02T18:57:51.385701Z",
     "shell.execute_reply": "2021-11-02T18:57:51.385024Z",
     "shell.execute_reply.started": "2021-11-02T18:55:58.677189Z"
    },
    "papermill": {
     "duration": 0.148283,
     "end_time": "2021-11-02T18:57:51.385844",
     "exception": false,
     "start_time": "2021-11-02T18:57:51.237561",
     "status": "completed"
    },
    "tags": []
   },
   "outputs": [
    {
     "data": {
      "text/html": [
       "<div>\n",
       "<style scoped>\n",
       "    .dataframe tbody tr th:only-of-type {\n",
       "        vertical-align: middle;\n",
       "    }\n",
       "\n",
       "    .dataframe tbody tr th {\n",
       "        vertical-align: top;\n",
       "    }\n",
       "\n",
       "    .dataframe thead th {\n",
       "        text-align: right;\n",
       "    }\n",
       "</style>\n",
       "<table border=\"1\" class=\"dataframe\">\n",
       "  <thead>\n",
       "    <tr style=\"text-align: right;\">\n",
       "      <th></th>\n",
       "      <th>Id</th>\n",
       "      <th>DistrictId</th>\n",
       "      <th>Rooms</th>\n",
       "      <th>Square</th>\n",
       "      <th>LifeSquare</th>\n",
       "      <th>KitchenSquare</th>\n",
       "      <th>Floor</th>\n",
       "      <th>HouseFloor</th>\n",
       "      <th>HouseYear</th>\n",
       "      <th>Ecology_1</th>\n",
       "      <th>...</th>\n",
       "      <th>Helthcare_2</th>\n",
       "      <th>Shops_1</th>\n",
       "      <th>Shops_2</th>\n",
       "      <th>Price</th>\n",
       "      <th>Rooms_outlier</th>\n",
       "      <th>HouseFloor_outlier</th>\n",
       "      <th>LifeSquare_nan</th>\n",
       "      <th>DistrictSize</th>\n",
       "      <th>IsDistrictLarge</th>\n",
       "      <th>MedPriceByDistrict</th>\n",
       "    </tr>\n",
       "  </thead>\n",
       "  <tbody>\n",
       "    <tr>\n",
       "      <th>0</th>\n",
       "      <td>11809</td>\n",
       "      <td>27</td>\n",
       "      <td>3.0</td>\n",
       "      <td>115.027311</td>\n",
       "      <td>102.027311</td>\n",
       "      <td>10.0</td>\n",
       "      <td>4</td>\n",
       "      <td>10.0</td>\n",
       "      <td>2014</td>\n",
       "      <td>0.075424</td>\n",
       "      <td>...</td>\n",
       "      <td>0</td>\n",
       "      <td>0</td>\n",
       "      <td>1</td>\n",
       "      <td>305018.871089</td>\n",
       "      <td>0</td>\n",
       "      <td>0</td>\n",
       "      <td>1</td>\n",
       "      <td>851</td>\n",
       "      <td>1</td>\n",
       "      <td>213530.788443</td>\n",
       "    </tr>\n",
       "    <tr>\n",
       "      <th>1</th>\n",
       "      <td>3013</td>\n",
       "      <td>22</td>\n",
       "      <td>1.0</td>\n",
       "      <td>39.832524</td>\n",
       "      <td>23.169223</td>\n",
       "      <td>8.0</td>\n",
       "      <td>7</td>\n",
       "      <td>8.0</td>\n",
       "      <td>1966</td>\n",
       "      <td>0.118537</td>\n",
       "      <td>...</td>\n",
       "      <td>1</td>\n",
       "      <td>0</td>\n",
       "      <td>1</td>\n",
       "      <td>177734.553407</td>\n",
       "      <td>0</td>\n",
       "      <td>0</td>\n",
       "      <td>0</td>\n",
       "      <td>78</td>\n",
       "      <td>0</td>\n",
       "      <td>146032.829834</td>\n",
       "    </tr>\n",
       "    <tr>\n",
       "      <th>2</th>\n",
       "      <td>8215</td>\n",
       "      <td>1</td>\n",
       "      <td>3.0</td>\n",
       "      <td>78.342215</td>\n",
       "      <td>47.671972</td>\n",
       "      <td>10.0</td>\n",
       "      <td>2</td>\n",
       "      <td>17.0</td>\n",
       "      <td>1988</td>\n",
       "      <td>0.025609</td>\n",
       "      <td>...</td>\n",
       "      <td>3</td>\n",
       "      <td>1</td>\n",
       "      <td>1</td>\n",
       "      <td>282078.720850</td>\n",
       "      <td>0</td>\n",
       "      <td>0</td>\n",
       "      <td>0</td>\n",
       "      <td>652</td>\n",
       "      <td>1</td>\n",
       "      <td>244005.272380</td>\n",
       "    </tr>\n",
       "    <tr>\n",
       "      <th>3</th>\n",
       "      <td>2352</td>\n",
       "      <td>1</td>\n",
       "      <td>1.0</td>\n",
       "      <td>40.409907</td>\n",
       "      <td>34.409907</td>\n",
       "      <td>3.0</td>\n",
       "      <td>10</td>\n",
       "      <td>22.0</td>\n",
       "      <td>1977</td>\n",
       "      <td>0.007122</td>\n",
       "      <td>...</td>\n",
       "      <td>0</td>\n",
       "      <td>1</td>\n",
       "      <td>1</td>\n",
       "      <td>168106.007630</td>\n",
       "      <td>0</td>\n",
       "      <td>0</td>\n",
       "      <td>1</td>\n",
       "      <td>652</td>\n",
       "      <td>1</td>\n",
       "      <td>146735.671740</td>\n",
       "    </tr>\n",
       "    <tr>\n",
       "      <th>4</th>\n",
       "      <td>13866</td>\n",
       "      <td>94</td>\n",
       "      <td>2.0</td>\n",
       "      <td>64.285067</td>\n",
       "      <td>38.562517</td>\n",
       "      <td>9.0</td>\n",
       "      <td>16</td>\n",
       "      <td>16.0</td>\n",
       "      <td>1972</td>\n",
       "      <td>0.282798</td>\n",
       "      <td>...</td>\n",
       "      <td>0</td>\n",
       "      <td>6</td>\n",
       "      <td>1</td>\n",
       "      <td>343995.102962</td>\n",
       "      <td>0</td>\n",
       "      <td>0</td>\n",
       "      <td>0</td>\n",
       "      <td>89</td>\n",
       "      <td>0</td>\n",
       "      <td>201584.441255</td>\n",
       "    </tr>\n",
       "  </tbody>\n",
       "</table>\n",
       "<p>5 rows × 25 columns</p>\n",
       "</div>"
      ],
      "text/plain": [
       "      Id DistrictId  Rooms      Square  LifeSquare  KitchenSquare  Floor  \\\n",
       "0  11809         27    3.0  115.027311  102.027311           10.0      4   \n",
       "1   3013         22    1.0   39.832524   23.169223            8.0      7   \n",
       "2   8215          1    3.0   78.342215   47.671972           10.0      2   \n",
       "3   2352          1    1.0   40.409907   34.409907            3.0     10   \n",
       "4  13866         94    2.0   64.285067   38.562517            9.0     16   \n",
       "\n",
       "   HouseFloor  HouseYear  Ecology_1  ...  Helthcare_2  Shops_1  Shops_2  \\\n",
       "0        10.0       2014   0.075424  ...            0        0        1   \n",
       "1         8.0       1966   0.118537  ...            1        0        1   \n",
       "2        17.0       1988   0.025609  ...            3        1        1   \n",
       "3        22.0       1977   0.007122  ...            0        1        1   \n",
       "4        16.0       1972   0.282798  ...            0        6        1   \n",
       "\n",
       "           Price  Rooms_outlier  HouseFloor_outlier  LifeSquare_nan  \\\n",
       "0  305018.871089              0                   0               1   \n",
       "1  177734.553407              0                   0               0   \n",
       "2  282078.720850              0                   0               0   \n",
       "3  168106.007630              0                   0               1   \n",
       "4  343995.102962              0                   0               0   \n",
       "\n",
       "   DistrictSize  IsDistrictLarge  MedPriceByDistrict  \n",
       "0           851                1       213530.788443  \n",
       "1            78                0       146032.829834  \n",
       "2           652                1       244005.272380  \n",
       "3           652                1       146735.671740  \n",
       "4            89                0       201584.441255  \n",
       "\n",
       "[5 rows x 25 columns]"
      ]
     },
     "execution_count": 51,
     "metadata": {},
     "output_type": "execute_result"
    }
   ],
   "source": [
    "train_df = train_df.merge(med_price_by_district, on=['DistrictId', 'Rooms'], how='left')\n",
    "train_df.head()"
   ]
  },
  {
   "cell_type": "markdown",
   "metadata": {
    "papermill": {
     "duration": 0.097399,
     "end_time": "2021-11-02T18:57:51.581480",
     "exception": false,
     "start_time": "2021-11-02T18:57:51.484081",
     "status": "completed"
    },
    "tags": []
   },
   "source": [
    "**MedPriceByFloorYear**"
   ]
  },
  {
   "cell_type": "code",
   "execution_count": 52,
   "metadata": {
    "execution": {
     "iopub.execute_input": "2021-11-02T18:57:51.821387Z",
     "iopub.status.busy": "2021-11-02T18:57:51.820138Z",
     "iopub.status.idle": "2021-11-02T18:57:51.823036Z",
     "shell.execute_reply": "2021-11-02T18:57:51.823829Z",
     "shell.execute_reply.started": "2021-11-02T18:55:58.720341Z"
    },
    "papermill": {
     "duration": 0.147367,
     "end_time": "2021-11-02T18:57:51.824013",
     "exception": false,
     "start_time": "2021-11-02T18:57:51.676646",
     "status": "completed"
    },
    "tags": []
   },
   "outputs": [],
   "source": [
    "def floor_to_cat(X):\n",
    "\n",
    "    X['floor_cat'] = 0\n",
    "\n",
    "    X.loc[X['Floor'] <= 3, 'floor_cat'] = 1  \n",
    "    X.loc[(X['Floor'] > 3) & (X['Floor'] <= 5), 'floor_cat'] = 2\n",
    "    X.loc[(X['Floor'] > 5) & (X['Floor'] <= 9), 'floor_cat'] = 3\n",
    "    X.loc[(X['Floor'] > 9) & (X['Floor'] <= 15), 'floor_cat'] = 4\n",
    "    X.loc[X['Floor'] > 15, 'floor_cat'] = 5\n",
    "\n",
    "    return X\n",
    "\n",
    "\n",
    "def floor_to_cat_pandas(X):\n",
    "    bins = [X['Floor'].min(), 3, 5, 9, 15, X['Floor'].max()]\n",
    "    X['floor_cat'] = pd.cut(X['Floor'], bins=bins, labels=False)\n",
    "    \n",
    "    X['floor_cat'].fillna(-1, inplace=True)\n",
    "    return X\n",
    "\n",
    "\n",
    "def year_to_cat(X):\n",
    "\n",
    "    X['year_cat'] = 0\n",
    "\n",
    "    X.loc[X['HouseYear'] <= 1941, 'year_cat'] = 1\n",
    "    X.loc[(X['HouseYear'] > 1941) & (X['HouseYear'] <= 1945), 'year_cat'] = 2\n",
    "    X.loc[(X['HouseYear'] > 1945) & (X['HouseYear'] <= 1980), 'year_cat'] = 3\n",
    "    X.loc[(X['HouseYear'] > 1980) & (X['HouseYear'] <= 2000), 'year_cat'] = 4\n",
    "    X.loc[(X['HouseYear'] > 2000) & (X['HouseYear'] <= 2010), 'year_cat'] = 5\n",
    "    X.loc[(X['HouseYear'] > 2010), 'year_cat'] = 6\n",
    "\n",
    "    return X\n",
    "\n",
    "\n",
    "def year_to_cat_pandas(X):\n",
    "    bins = [X['HouseYear'].min(), 1941, 1945, 1980, 2000, 2010, X['HouseYear'].max()]\n",
    "    X['year_cat'] = pd.cut(X['HouseYear'], bins=bins, labels=False)\n",
    "    \n",
    "    X['year_cat'].fillna(-1, inplace=True)\n",
    "    return X"
   ]
  },
  {
   "cell_type": "code",
   "execution_count": 53,
   "metadata": {
    "execution": {
     "iopub.execute_input": "2021-11-02T18:57:52.025353Z",
     "iopub.status.busy": "2021-11-02T18:57:52.024220Z",
     "iopub.status.idle": "2021-11-02T18:57:52.036162Z",
     "shell.execute_reply": "2021-11-02T18:57:52.036759Z",
     "shell.execute_reply.started": "2021-11-02T18:56:26.825853Z"
    },
    "papermill": {
     "duration": 0.111772,
     "end_time": "2021-11-02T18:57:52.036922",
     "exception": false,
     "start_time": "2021-11-02T18:57:51.925150",
     "status": "completed"
    },
    "tags": []
   },
   "outputs": [
    {
     "data": {
      "text/plain": [
       "0       1.0\n",
       "1       2.0\n",
       "2       0.0\n",
       "3       3.0\n",
       "4       4.0\n",
       "       ... \n",
       "9995    0.0\n",
       "9996    3.0\n",
       "9997    0.0\n",
       "9998    0.0\n",
       "9999    2.0\n",
       "Name: Floor, Length: 10000, dtype: float64"
      ]
     },
     "execution_count": 53,
     "metadata": {},
     "output_type": "execute_result"
    }
   ],
   "source": [
    "bins = [train_df['Floor'].min(), 3, 5, 9, 15, train_df['Floor'].max()]\n",
    "pd.cut(train_df['Floor'], bins=bins, labels=False)"
   ]
  },
  {
   "cell_type": "code",
   "execution_count": 54,
   "metadata": {
    "execution": {
     "iopub.execute_input": "2021-11-02T18:57:52.232532Z",
     "iopub.status.busy": "2021-11-02T18:57:52.231770Z",
     "iopub.status.idle": "2021-11-02T18:57:52.252798Z",
     "shell.execute_reply": "2021-11-02T18:57:52.252078Z",
     "shell.execute_reply.started": "2021-11-02T18:56:30.606994Z"
    },
    "papermill": {
     "duration": 0.119851,
     "end_time": "2021-11-02T18:57:52.252930",
     "exception": false,
     "start_time": "2021-11-02T18:57:52.133079",
     "status": "completed"
    },
    "tags": []
   },
   "outputs": [
    {
     "data": {
      "text/plain": [
       "0         (3, 5]\n",
       "1         (5, 9]\n",
       "2         (1, 3]\n",
       "3        (9, 15]\n",
       "4       (15, 42]\n",
       "          ...   \n",
       "9995      (1, 3]\n",
       "9996     (9, 15]\n",
       "9997      (1, 3]\n",
       "9998      (1, 3]\n",
       "9999      (5, 9]\n",
       "Name: Floor, Length: 10000, dtype: category\n",
       "Categories (5, interval[int64, right]): [(1, 3] < (3, 5] < (5, 9] < (9, 15] < (15, 42]]"
      ]
     },
     "execution_count": 54,
     "metadata": {},
     "output_type": "execute_result"
    }
   ],
   "source": [
    "bins = [train_df['Floor'].min(), 3, 5, 9, 15, train_df['Floor'].max()]\n",
    "pd.cut(train_df['Floor'], bins=bins)"
   ]
  },
  {
   "cell_type": "code",
   "execution_count": 55,
   "metadata": {
    "execution": {
     "iopub.execute_input": "2021-11-02T18:57:52.450409Z",
     "iopub.status.busy": "2021-11-02T18:57:52.449698Z",
     "iopub.status.idle": "2021-11-02T18:57:52.499938Z",
     "shell.execute_reply": "2021-11-02T18:57:52.500538Z",
     "shell.execute_reply.started": "2021-11-02T18:56:31.184326Z"
    },
    "papermill": {
     "duration": 0.15123,
     "end_time": "2021-11-02T18:57:52.500741",
     "exception": false,
     "start_time": "2021-11-02T18:57:52.349511",
     "status": "completed"
    },
    "tags": []
   },
   "outputs": [
    {
     "data": {
      "text/html": [
       "<div>\n",
       "<style scoped>\n",
       "    .dataframe tbody tr th:only-of-type {\n",
       "        vertical-align: middle;\n",
       "    }\n",
       "\n",
       "    .dataframe tbody tr th {\n",
       "        vertical-align: top;\n",
       "    }\n",
       "\n",
       "    .dataframe thead th {\n",
       "        text-align: right;\n",
       "    }\n",
       "</style>\n",
       "<table border=\"1\" class=\"dataframe\">\n",
       "  <thead>\n",
       "    <tr style=\"text-align: right;\">\n",
       "      <th></th>\n",
       "      <th>Id</th>\n",
       "      <th>DistrictId</th>\n",
       "      <th>Rooms</th>\n",
       "      <th>Square</th>\n",
       "      <th>LifeSquare</th>\n",
       "      <th>KitchenSquare</th>\n",
       "      <th>Floor</th>\n",
       "      <th>HouseFloor</th>\n",
       "      <th>HouseYear</th>\n",
       "      <th>Ecology_1</th>\n",
       "      <th>...</th>\n",
       "      <th>Shops_2</th>\n",
       "      <th>Price</th>\n",
       "      <th>Rooms_outlier</th>\n",
       "      <th>HouseFloor_outlier</th>\n",
       "      <th>LifeSquare_nan</th>\n",
       "      <th>DistrictSize</th>\n",
       "      <th>IsDistrictLarge</th>\n",
       "      <th>MedPriceByDistrict</th>\n",
       "      <th>year_cat</th>\n",
       "      <th>floor_cat</th>\n",
       "    </tr>\n",
       "  </thead>\n",
       "  <tbody>\n",
       "    <tr>\n",
       "      <th>0</th>\n",
       "      <td>11809</td>\n",
       "      <td>27</td>\n",
       "      <td>3.0</td>\n",
       "      <td>115.027311</td>\n",
       "      <td>102.027311</td>\n",
       "      <td>10.0</td>\n",
       "      <td>4</td>\n",
       "      <td>10.0</td>\n",
       "      <td>2014</td>\n",
       "      <td>0.075424</td>\n",
       "      <td>...</td>\n",
       "      <td>1</td>\n",
       "      <td>305018.871089</td>\n",
       "      <td>0</td>\n",
       "      <td>0</td>\n",
       "      <td>1</td>\n",
       "      <td>851</td>\n",
       "      <td>1</td>\n",
       "      <td>213530.788443</td>\n",
       "      <td>6</td>\n",
       "      <td>2</td>\n",
       "    </tr>\n",
       "    <tr>\n",
       "      <th>1</th>\n",
       "      <td>3013</td>\n",
       "      <td>22</td>\n",
       "      <td>1.0</td>\n",
       "      <td>39.832524</td>\n",
       "      <td>23.169223</td>\n",
       "      <td>8.0</td>\n",
       "      <td>7</td>\n",
       "      <td>8.0</td>\n",
       "      <td>1966</td>\n",
       "      <td>0.118537</td>\n",
       "      <td>...</td>\n",
       "      <td>1</td>\n",
       "      <td>177734.553407</td>\n",
       "      <td>0</td>\n",
       "      <td>0</td>\n",
       "      <td>0</td>\n",
       "      <td>78</td>\n",
       "      <td>0</td>\n",
       "      <td>146032.829834</td>\n",
       "      <td>3</td>\n",
       "      <td>3</td>\n",
       "    </tr>\n",
       "    <tr>\n",
       "      <th>2</th>\n",
       "      <td>8215</td>\n",
       "      <td>1</td>\n",
       "      <td>3.0</td>\n",
       "      <td>78.342215</td>\n",
       "      <td>47.671972</td>\n",
       "      <td>10.0</td>\n",
       "      <td>2</td>\n",
       "      <td>17.0</td>\n",
       "      <td>1988</td>\n",
       "      <td>0.025609</td>\n",
       "      <td>...</td>\n",
       "      <td>1</td>\n",
       "      <td>282078.720850</td>\n",
       "      <td>0</td>\n",
       "      <td>0</td>\n",
       "      <td>0</td>\n",
       "      <td>652</td>\n",
       "      <td>1</td>\n",
       "      <td>244005.272380</td>\n",
       "      <td>4</td>\n",
       "      <td>1</td>\n",
       "    </tr>\n",
       "    <tr>\n",
       "      <th>3</th>\n",
       "      <td>2352</td>\n",
       "      <td>1</td>\n",
       "      <td>1.0</td>\n",
       "      <td>40.409907</td>\n",
       "      <td>34.409907</td>\n",
       "      <td>3.0</td>\n",
       "      <td>10</td>\n",
       "      <td>22.0</td>\n",
       "      <td>1977</td>\n",
       "      <td>0.007122</td>\n",
       "      <td>...</td>\n",
       "      <td>1</td>\n",
       "      <td>168106.007630</td>\n",
       "      <td>0</td>\n",
       "      <td>0</td>\n",
       "      <td>1</td>\n",
       "      <td>652</td>\n",
       "      <td>1</td>\n",
       "      <td>146735.671740</td>\n",
       "      <td>3</td>\n",
       "      <td>4</td>\n",
       "    </tr>\n",
       "    <tr>\n",
       "      <th>4</th>\n",
       "      <td>13866</td>\n",
       "      <td>94</td>\n",
       "      <td>2.0</td>\n",
       "      <td>64.285067</td>\n",
       "      <td>38.562517</td>\n",
       "      <td>9.0</td>\n",
       "      <td>16</td>\n",
       "      <td>16.0</td>\n",
       "      <td>1972</td>\n",
       "      <td>0.282798</td>\n",
       "      <td>...</td>\n",
       "      <td>1</td>\n",
       "      <td>343995.102962</td>\n",
       "      <td>0</td>\n",
       "      <td>0</td>\n",
       "      <td>0</td>\n",
       "      <td>89</td>\n",
       "      <td>0</td>\n",
       "      <td>201584.441255</td>\n",
       "      <td>3</td>\n",
       "      <td>5</td>\n",
       "    </tr>\n",
       "  </tbody>\n",
       "</table>\n",
       "<p>5 rows × 27 columns</p>\n",
       "</div>"
      ],
      "text/plain": [
       "      Id DistrictId  Rooms      Square  LifeSquare  KitchenSquare  Floor  \\\n",
       "0  11809         27    3.0  115.027311  102.027311           10.0      4   \n",
       "1   3013         22    1.0   39.832524   23.169223            8.0      7   \n",
       "2   8215          1    3.0   78.342215   47.671972           10.0      2   \n",
       "3   2352          1    1.0   40.409907   34.409907            3.0     10   \n",
       "4  13866         94    2.0   64.285067   38.562517            9.0     16   \n",
       "\n",
       "   HouseFloor  HouseYear  Ecology_1  ...  Shops_2          Price  \\\n",
       "0        10.0       2014   0.075424  ...        1  305018.871089   \n",
       "1         8.0       1966   0.118537  ...        1  177734.553407   \n",
       "2        17.0       1988   0.025609  ...        1  282078.720850   \n",
       "3        22.0       1977   0.007122  ...        1  168106.007630   \n",
       "4        16.0       1972   0.282798  ...        1  343995.102962   \n",
       "\n",
       "   Rooms_outlier  HouseFloor_outlier  LifeSquare_nan  DistrictSize  \\\n",
       "0              0                   0               1           851   \n",
       "1              0                   0               0            78   \n",
       "2              0                   0               0           652   \n",
       "3              0                   0               1           652   \n",
       "4              0                   0               0            89   \n",
       "\n",
       "   IsDistrictLarge  MedPriceByDistrict  year_cat  floor_cat  \n",
       "0                1       213530.788443         6          2  \n",
       "1                0       146032.829834         3          3  \n",
       "2                1       244005.272380         4          1  \n",
       "3                1       146735.671740         3          4  \n",
       "4                0       201584.441255         3          5  \n",
       "\n",
       "[5 rows x 27 columns]"
      ]
     },
     "execution_count": 55,
     "metadata": {},
     "output_type": "execute_result"
    }
   ],
   "source": [
    "train_df = year_to_cat(train_df)\n",
    "train_df = floor_to_cat(train_df)\n",
    "train_df.head()"
   ]
  },
  {
   "cell_type": "code",
   "execution_count": 56,
   "metadata": {
    "execution": {
     "iopub.execute_input": "2021-11-02T18:57:52.704632Z",
     "iopub.status.busy": "2021-11-02T18:57:52.703841Z",
     "iopub.status.idle": "2021-11-02T18:57:52.718508Z",
     "shell.execute_reply": "2021-11-02T18:57:52.719154Z",
     "shell.execute_reply.started": "2021-11-02T18:56:31.620571Z"
    },
    "papermill": {
     "duration": 0.120254,
     "end_time": "2021-11-02T18:57:52.719341",
     "exception": false,
     "start_time": "2021-11-02T18:57:52.599087",
     "status": "completed"
    },
    "tags": []
   },
   "outputs": [
    {
     "data": {
      "text/html": [
       "<div>\n",
       "<style scoped>\n",
       "    .dataframe tbody tr th:only-of-type {\n",
       "        vertical-align: middle;\n",
       "    }\n",
       "\n",
       "    .dataframe tbody tr th {\n",
       "        vertical-align: top;\n",
       "    }\n",
       "\n",
       "    .dataframe thead th {\n",
       "        text-align: right;\n",
       "    }\n",
       "</style>\n",
       "<table border=\"1\" class=\"dataframe\">\n",
       "  <thead>\n",
       "    <tr style=\"text-align: right;\">\n",
       "      <th></th>\n",
       "      <th>year_cat</th>\n",
       "      <th>floor_cat</th>\n",
       "      <th>MedPriceByFloorYear</th>\n",
       "    </tr>\n",
       "  </thead>\n",
       "  <tbody>\n",
       "    <tr>\n",
       "      <th>0</th>\n",
       "      <td>1</td>\n",
       "      <td>1</td>\n",
       "      <td>380100.280424</td>\n",
       "    </tr>\n",
       "    <tr>\n",
       "      <th>1</th>\n",
       "      <td>1</td>\n",
       "      <td>2</td>\n",
       "      <td>315589.771017</td>\n",
       "    </tr>\n",
       "    <tr>\n",
       "      <th>2</th>\n",
       "      <td>1</td>\n",
       "      <td>3</td>\n",
       "      <td>386006.546376</td>\n",
       "    </tr>\n",
       "    <tr>\n",
       "      <th>3</th>\n",
       "      <td>1</td>\n",
       "      <td>4</td>\n",
       "      <td>274992.472366</td>\n",
       "    </tr>\n",
       "    <tr>\n",
       "      <th>4</th>\n",
       "      <td>2</td>\n",
       "      <td>1</td>\n",
       "      <td>467230.539057</td>\n",
       "    </tr>\n",
       "  </tbody>\n",
       "</table>\n",
       "</div>"
      ],
      "text/plain": [
       "   year_cat  floor_cat  MedPriceByFloorYear\n",
       "0         1          1        380100.280424\n",
       "1         1          2        315589.771017\n",
       "2         1          3        386006.546376\n",
       "3         1          4        274992.472366\n",
       "4         2          1        467230.539057"
      ]
     },
     "execution_count": 56,
     "metadata": {},
     "output_type": "execute_result"
    }
   ],
   "source": [
    "med_price_by_floor_year = train_df.groupby(['year_cat', 'floor_cat'], as_index=False).agg({'Price':'median'}).\\\n",
    "                                            rename(columns={'Price':'MedPriceByFloorYear'})\n",
    "med_price_by_floor_year.head()"
   ]
  },
  {
   "cell_type": "code",
   "execution_count": 57,
   "metadata": {
    "execution": {
     "iopub.execute_input": "2021-11-02T18:57:52.917957Z",
     "iopub.status.busy": "2021-11-02T18:57:52.917243Z",
     "iopub.status.idle": "2021-11-02T18:57:52.961662Z",
     "shell.execute_reply": "2021-11-02T18:57:52.960919Z",
     "shell.execute_reply.started": "2021-11-02T18:56:31.863498Z"
    },
    "papermill": {
     "duration": 0.143767,
     "end_time": "2021-11-02T18:57:52.961808",
     "exception": false,
     "start_time": "2021-11-02T18:57:52.818041",
     "status": "completed"
    },
    "tags": []
   },
   "outputs": [
    {
     "data": {
      "text/html": [
       "<div>\n",
       "<style scoped>\n",
       "    .dataframe tbody tr th:only-of-type {\n",
       "        vertical-align: middle;\n",
       "    }\n",
       "\n",
       "    .dataframe tbody tr th {\n",
       "        vertical-align: top;\n",
       "    }\n",
       "\n",
       "    .dataframe thead th {\n",
       "        text-align: right;\n",
       "    }\n",
       "</style>\n",
       "<table border=\"1\" class=\"dataframe\">\n",
       "  <thead>\n",
       "    <tr style=\"text-align: right;\">\n",
       "      <th></th>\n",
       "      <th>Id</th>\n",
       "      <th>DistrictId</th>\n",
       "      <th>Rooms</th>\n",
       "      <th>Square</th>\n",
       "      <th>LifeSquare</th>\n",
       "      <th>KitchenSquare</th>\n",
       "      <th>Floor</th>\n",
       "      <th>HouseFloor</th>\n",
       "      <th>HouseYear</th>\n",
       "      <th>Ecology_1</th>\n",
       "      <th>...</th>\n",
       "      <th>Price</th>\n",
       "      <th>Rooms_outlier</th>\n",
       "      <th>HouseFloor_outlier</th>\n",
       "      <th>LifeSquare_nan</th>\n",
       "      <th>DistrictSize</th>\n",
       "      <th>IsDistrictLarge</th>\n",
       "      <th>MedPriceByDistrict</th>\n",
       "      <th>year_cat</th>\n",
       "      <th>floor_cat</th>\n",
       "      <th>MedPriceByFloorYear</th>\n",
       "    </tr>\n",
       "  </thead>\n",
       "  <tbody>\n",
       "    <tr>\n",
       "      <th>0</th>\n",
       "      <td>11809</td>\n",
       "      <td>27</td>\n",
       "      <td>3.0</td>\n",
       "      <td>115.027311</td>\n",
       "      <td>102.027311</td>\n",
       "      <td>10.0</td>\n",
       "      <td>4</td>\n",
       "      <td>10.0</td>\n",
       "      <td>2014</td>\n",
       "      <td>0.075424</td>\n",
       "      <td>...</td>\n",
       "      <td>305018.871089</td>\n",
       "      <td>0</td>\n",
       "      <td>0</td>\n",
       "      <td>1</td>\n",
       "      <td>851</td>\n",
       "      <td>1</td>\n",
       "      <td>213530.788443</td>\n",
       "      <td>6</td>\n",
       "      <td>2</td>\n",
       "      <td>163969.984699</td>\n",
       "    </tr>\n",
       "    <tr>\n",
       "      <th>1</th>\n",
       "      <td>3013</td>\n",
       "      <td>22</td>\n",
       "      <td>1.0</td>\n",
       "      <td>39.832524</td>\n",
       "      <td>23.169223</td>\n",
       "      <td>8.0</td>\n",
       "      <td>7</td>\n",
       "      <td>8.0</td>\n",
       "      <td>1966</td>\n",
       "      <td>0.118537</td>\n",
       "      <td>...</td>\n",
       "      <td>177734.553407</td>\n",
       "      <td>0</td>\n",
       "      <td>0</td>\n",
       "      <td>0</td>\n",
       "      <td>78</td>\n",
       "      <td>0</td>\n",
       "      <td>146032.829834</td>\n",
       "      <td>3</td>\n",
       "      <td>3</td>\n",
       "      <td>192711.526271</td>\n",
       "    </tr>\n",
       "    <tr>\n",
       "      <th>2</th>\n",
       "      <td>8215</td>\n",
       "      <td>1</td>\n",
       "      <td>3.0</td>\n",
       "      <td>78.342215</td>\n",
       "      <td>47.671972</td>\n",
       "      <td>10.0</td>\n",
       "      <td>2</td>\n",
       "      <td>17.0</td>\n",
       "      <td>1988</td>\n",
       "      <td>0.025609</td>\n",
       "      <td>...</td>\n",
       "      <td>282078.720850</td>\n",
       "      <td>0</td>\n",
       "      <td>0</td>\n",
       "      <td>0</td>\n",
       "      <td>652</td>\n",
       "      <td>1</td>\n",
       "      <td>244005.272380</td>\n",
       "      <td>4</td>\n",
       "      <td>1</td>\n",
       "      <td>203194.412979</td>\n",
       "    </tr>\n",
       "    <tr>\n",
       "      <th>3</th>\n",
       "      <td>2352</td>\n",
       "      <td>1</td>\n",
       "      <td>1.0</td>\n",
       "      <td>40.409907</td>\n",
       "      <td>34.409907</td>\n",
       "      <td>3.0</td>\n",
       "      <td>10</td>\n",
       "      <td>22.0</td>\n",
       "      <td>1977</td>\n",
       "      <td>0.007122</td>\n",
       "      <td>...</td>\n",
       "      <td>168106.007630</td>\n",
       "      <td>0</td>\n",
       "      <td>0</td>\n",
       "      <td>1</td>\n",
       "      <td>652</td>\n",
       "      <td>1</td>\n",
       "      <td>146735.671740</td>\n",
       "      <td>3</td>\n",
       "      <td>4</td>\n",
       "      <td>183536.270077</td>\n",
       "    </tr>\n",
       "    <tr>\n",
       "      <th>4</th>\n",
       "      <td>13866</td>\n",
       "      <td>94</td>\n",
       "      <td>2.0</td>\n",
       "      <td>64.285067</td>\n",
       "      <td>38.562517</td>\n",
       "      <td>9.0</td>\n",
       "      <td>16</td>\n",
       "      <td>16.0</td>\n",
       "      <td>1972</td>\n",
       "      <td>0.282798</td>\n",
       "      <td>...</td>\n",
       "      <td>343995.102962</td>\n",
       "      <td>0</td>\n",
       "      <td>0</td>\n",
       "      <td>0</td>\n",
       "      <td>89</td>\n",
       "      <td>0</td>\n",
       "      <td>201584.441255</td>\n",
       "      <td>3</td>\n",
       "      <td>5</td>\n",
       "      <td>171931.149112</td>\n",
       "    </tr>\n",
       "  </tbody>\n",
       "</table>\n",
       "<p>5 rows × 28 columns</p>\n",
       "</div>"
      ],
      "text/plain": [
       "      Id DistrictId  Rooms      Square  LifeSquare  KitchenSquare  Floor  \\\n",
       "0  11809         27    3.0  115.027311  102.027311           10.0      4   \n",
       "1   3013         22    1.0   39.832524   23.169223            8.0      7   \n",
       "2   8215          1    3.0   78.342215   47.671972           10.0      2   \n",
       "3   2352          1    1.0   40.409907   34.409907            3.0     10   \n",
       "4  13866         94    2.0   64.285067   38.562517            9.0     16   \n",
       "\n",
       "   HouseFloor  HouseYear  Ecology_1  ...          Price  Rooms_outlier  \\\n",
       "0        10.0       2014   0.075424  ...  305018.871089              0   \n",
       "1         8.0       1966   0.118537  ...  177734.553407              0   \n",
       "2        17.0       1988   0.025609  ...  282078.720850              0   \n",
       "3        22.0       1977   0.007122  ...  168106.007630              0   \n",
       "4        16.0       1972   0.282798  ...  343995.102962              0   \n",
       "\n",
       "   HouseFloor_outlier  LifeSquare_nan  DistrictSize  IsDistrictLarge  \\\n",
       "0                   0               1           851                1   \n",
       "1                   0               0            78                0   \n",
       "2                   0               0           652                1   \n",
       "3                   0               1           652                1   \n",
       "4                   0               0            89                0   \n",
       "\n",
       "   MedPriceByDistrict  year_cat  floor_cat  MedPriceByFloorYear  \n",
       "0       213530.788443         6          2        163969.984699  \n",
       "1       146032.829834         3          3        192711.526271  \n",
       "2       244005.272380         4          1        203194.412979  \n",
       "3       146735.671740         3          4        183536.270077  \n",
       "4       201584.441255         3          5        171931.149112  \n",
       "\n",
       "[5 rows x 28 columns]"
      ]
     },
     "execution_count": 57,
     "metadata": {},
     "output_type": "execute_result"
    }
   ],
   "source": [
    "train_df = train_df.merge(med_price_by_floor_year, on=['year_cat', 'floor_cat'], how='left')\n",
    "train_df.head()"
   ]
  },
  {
   "cell_type": "code",
   "execution_count": 58,
   "metadata": {
    "execution": {
     "iopub.execute_input": "2021-11-02T18:57:53.184521Z",
     "iopub.status.busy": "2021-11-02T18:57:53.162711Z",
     "iopub.status.idle": "2021-11-02T18:57:53.195490Z",
     "shell.execute_reply": "2021-11-02T18:57:53.194831Z",
     "shell.execute_reply.started": "2021-11-02T18:56:32.247567Z"
    },
    "papermill": {
     "duration": 0.135049,
     "end_time": "2021-11-02T18:57:53.195626",
     "exception": false,
     "start_time": "2021-11-02T18:57:53.060577",
     "status": "completed"
    },
    "tags": []
   },
   "outputs": [],
   "source": [
    "class FeatureGenetator():\n",
    "    \"\"\"Генерация новых фич\"\"\"\n",
    "    \n",
    "    def __init__(self):\n",
    "        self.DistrictId_counts = None\n",
    "        self.binary_to_numbers = None\n",
    "        self.med_price_by_district = None\n",
    "        self.med_price_by_floor_year = None\n",
    "        self.house_year_max = None\n",
    "        self.floor_max = None\n",
    "        self.house_year_min = None\n",
    "        self.floor_min = None\n",
    "        self.district_size = None\n",
    "        \n",
    "    def fit(self, X, y=None):\n",
    "        \n",
    "        X = X.copy()\n",
    "        \n",
    "        # Binary features\n",
    "        self.binary_to_numbers = {'A': 0, 'B': 1}\n",
    "        \n",
    "        # DistrictID\n",
    "        self.district_size = X['DistrictId'].value_counts().reset_index() \\\n",
    "                               .rename(columns={'index':'DistrictId', 'DistrictId':'DistrictSize'})\n",
    "                \n",
    "        # Target encoding\n",
    "        ## District, Rooms\n",
    "        df = X.copy()\n",
    "        \n",
    "        if y is not None:\n",
    "            df['Price'] = y.values\n",
    "            \n",
    "            self.med_price_by_district = df.groupby(['DistrictId', 'Rooms'], as_index=False).agg({'Price':'median'})\\\n",
    "                                            .rename(columns={'Price':'MedPriceByDistrict'})\n",
    "            \n",
    "            self.med_price_by_district_median = self.med_price_by_district['MedPriceByDistrict'].median()\n",
    "            \n",
    "        ## floor, year\n",
    "        if y is not None:\n",
    "            self.floor_max = df['Floor'].max()\n",
    "            self.floor_min = df['Floor'].min()\n",
    "            self.house_year_max = df['HouseYear'].max()\n",
    "            self.house_year_min = df['HouseYear'].min()\n",
    "            df['Price'] = y.values\n",
    "            df = self.floor_to_cat(df)\n",
    "            df = self.year_to_cat(df)\n",
    "            self.med_price_by_floor_year = df.groupby(['year_cat', 'floor_cat'], as_index=False).agg({'Price':'median'}).\\\n",
    "                                            rename(columns={'Price':'MedPriceByFloorYear'})\n",
    "            self.med_price_by_floor_year_median = self.med_price_by_floor_year['MedPriceByFloorYear'].median()\n",
    "        \n",
    "\n",
    "        \n",
    "    def transform(self, X):\n",
    "        \n",
    "        # Binary features\n",
    "        X['Ecology_2'] = X['Ecology_2'].map(self.binary_to_numbers)  # self.binary_to_numbers = {'A': 0, 'B': 1}\n",
    "        X['Ecology_3'] = X['Ecology_3'].map(self.binary_to_numbers)\n",
    "        X['Shops_2'] = X['Shops_2'].map(self.binary_to_numbers)\n",
    "        \n",
    "        # DistrictId, IsDistrictLarge\n",
    "        X = X.merge(self.district_size, on='DistrictId', how='left')\n",
    "        \n",
    "        X['new_district'] = 0\n",
    "        X.loc[X['DistrictSize'].isna(), 'new_district'] = 1\n",
    "        \n",
    "        X['DistrictSize'].fillna(5, inplace=True)\n",
    "        \n",
    "        X['IsDistrictLarge'] = (X['DistrictSize'] > 100).astype(int)\n",
    "        \n",
    "        # More categorical features\n",
    "        X = self.floor_to_cat(X)  # + столбец floor_cat\n",
    "        X = self.year_to_cat(X)   # + столбец year_cat\n",
    "        \n",
    "        # Target encoding\n",
    "        if self.med_price_by_district is not None:\n",
    "            X = X.merge(self.med_price_by_district, on=['DistrictId', 'Rooms'], how='left')\n",
    "            X['MedPriceByDistrict'].fillna(self.med_price_by_district_median, inplace=True)\n",
    "            \n",
    "        if self.med_price_by_floor_year is not None:\n",
    "            X = X.merge(self.med_price_by_floor_year, on=['year_cat', 'floor_cat'], how='left')\n",
    "            X['MedPriceByFloorYear'].fillna(self.med_price_by_floor_year_median, inplace=True)\n",
    "        \n",
    "        return X\n",
    "    \n",
    "    def floor_to_cat(self, X):\n",
    "        bins = [self.floor_min, 3, 5, 9, 15, self.floor_max]\n",
    "        X['floor_cat'] = pd.cut(X['Floor'], bins=bins, labels=False)\n",
    "\n",
    "        X['floor_cat'].fillna(-1, inplace=True)\n",
    "        return X\n",
    "     \n",
    "    def year_to_cat(self, X):\n",
    "        bins = [self.house_year_min, 1941, 1945, 1980, 2000, 2010, self.house_year_max]\n",
    "        X['year_cat'] = pd.cut(X['HouseYear'], bins=bins, labels=False)\n",
    "\n",
    "        X['year_cat'].fillna(-1, inplace=True)\n",
    "        return X"
   ]
  },
  {
   "cell_type": "markdown",
   "metadata": {
    "papermill": {
     "duration": 0.100171,
     "end_time": "2021-11-02T18:57:53.394970",
     "exception": false,
     "start_time": "2021-11-02T18:57:53.294799",
     "status": "completed"
    },
    "tags": []
   },
   "source": [
    "### 5. Отбор признаков  <a class='anchor' id='feature_selection'>"
   ]
  },
  {
   "cell_type": "code",
   "execution_count": 59,
   "metadata": {
    "execution": {
     "iopub.execute_input": "2021-11-02T18:57:53.599878Z",
     "iopub.status.busy": "2021-11-02T18:57:53.599146Z",
     "iopub.status.idle": "2021-11-02T18:57:53.602627Z",
     "shell.execute_reply": "2021-11-02T18:57:53.603152Z",
     "shell.execute_reply.started": "2021-11-02T18:56:32.600703Z"
    },
    "papermill": {
     "duration": 0.109332,
     "end_time": "2021-11-02T18:57:53.603350",
     "exception": false,
     "start_time": "2021-11-02T18:57:53.494018",
     "status": "completed"
    },
    "tags": []
   },
   "outputs": [
    {
     "data": {
      "text/plain": [
       "['Id',\n",
       " 'DistrictId',\n",
       " 'Rooms',\n",
       " 'Square',\n",
       " 'LifeSquare',\n",
       " 'KitchenSquare',\n",
       " 'Floor',\n",
       " 'HouseFloor',\n",
       " 'HouseYear',\n",
       " 'Ecology_1',\n",
       " 'Ecology_2',\n",
       " 'Ecology_3',\n",
       " 'Social_1',\n",
       " 'Social_2',\n",
       " 'Social_3',\n",
       " 'Helthcare_2',\n",
       " 'Shops_1',\n",
       " 'Shops_2',\n",
       " 'Price',\n",
       " 'Rooms_outlier',\n",
       " 'HouseFloor_outlier',\n",
       " 'LifeSquare_nan',\n",
       " 'DistrictSize',\n",
       " 'IsDistrictLarge',\n",
       " 'MedPriceByDistrict',\n",
       " 'year_cat',\n",
       " 'floor_cat',\n",
       " 'MedPriceByFloorYear']"
      ]
     },
     "execution_count": 59,
     "metadata": {},
     "output_type": "execute_result"
    }
   ],
   "source": [
    "train_df.columns.tolist()"
   ]
  },
  {
   "cell_type": "code",
   "execution_count": 60,
   "metadata": {
    "execution": {
     "iopub.execute_input": "2021-11-02T18:57:53.810425Z",
     "iopub.status.busy": "2021-11-02T18:57:53.809642Z",
     "iopub.status.idle": "2021-11-02T18:57:53.813014Z",
     "shell.execute_reply": "2021-11-02T18:57:53.812258Z",
     "shell.execute_reply.started": "2021-11-02T18:56:33.165715Z"
    },
    "papermill": {
     "duration": 0.110044,
     "end_time": "2021-11-02T18:57:53.813158",
     "exception": false,
     "start_time": "2021-11-02T18:57:53.703114",
     "status": "completed"
    },
    "tags": []
   },
   "outputs": [],
   "source": [
    "feature_names = ['Rooms', 'Square', 'LifeSquare', 'KitchenSquare', 'Floor', 'HouseFloor', 'HouseYear',\n",
    "                 'Ecology_1', 'Ecology_2', 'Ecology_3', 'Social_1', 'Social_2', 'Social_3',\n",
    "                 'Helthcare_2', 'Shops_1', 'Shops_2']\n",
    "\n",
    "new_feature_names = ['Rooms_outlier', 'HouseFloor_outlier', 'HouseYear_outlier', 'LifeSquare_nan', 'DistrictSize',\n",
    "                     'new_district', 'IsDistrictLarge',  'MedPriceByDistrict', 'MedPriceByFloorYear']\n",
    "\n",
    "target_name = 'Price'"
   ]
  },
  {
   "cell_type": "markdown",
   "metadata": {
    "papermill": {
     "duration": 0.098501,
     "end_time": "2021-11-02T18:57:54.011409",
     "exception": false,
     "start_time": "2021-11-02T18:57:53.912908",
     "status": "completed"
    },
    "tags": []
   },
   "source": [
    "### 6. Разбиение на train и test  <a class='anchor' id='split'>"
   ]
  },
  {
   "cell_type": "code",
   "execution_count": 61,
   "metadata": {
    "execution": {
     "iopub.execute_input": "2021-11-02T18:57:54.212449Z",
     "iopub.status.busy": "2021-11-02T18:57:54.211717Z",
     "iopub.status.idle": "2021-11-02T18:57:54.270468Z",
     "shell.execute_reply": "2021-11-02T18:57:54.269834Z",
     "shell.execute_reply.started": "2021-11-02T18:56:33.585536Z"
    },
    "papermill": {
     "duration": 0.160864,
     "end_time": "2021-11-02T18:57:54.270605",
     "exception": false,
     "start_time": "2021-11-02T18:57:54.109741",
     "status": "completed"
    },
    "tags": []
   },
   "outputs": [],
   "source": [
    "train_df = pd.read_csv(TRAIN_DATASET_PATH)\n",
    "test_df = pd.read_csv(TEST_DATASET_PATH)\n",
    "\n",
    "X = train_df.drop(columns=target_name)\n",
    "y = train_df[target_name]"
   ]
  },
  {
   "cell_type": "code",
   "execution_count": 62,
   "metadata": {
    "execution": {
     "iopub.execute_input": "2021-11-02T18:57:54.470086Z",
     "iopub.status.busy": "2021-11-02T18:57:54.469385Z",
     "iopub.status.idle": "2021-11-02T18:57:54.477767Z",
     "shell.execute_reply": "2021-11-02T18:57:54.478432Z",
     "shell.execute_reply.started": "2021-11-02T18:56:33.637105Z"
    },
    "papermill": {
     "duration": 0.109812,
     "end_time": "2021-11-02T18:57:54.478594",
     "exception": false,
     "start_time": "2021-11-02T18:57:54.368782",
     "status": "completed"
    },
    "tags": []
   },
   "outputs": [],
   "source": [
    "X_train, X_valid, y_train, y_valid = train_test_split(X, y, test_size=0.33, shuffle=True, random_state=21)"
   ]
  },
  {
   "cell_type": "code",
   "execution_count": 63,
   "metadata": {
    "execution": {
     "iopub.execute_input": "2021-11-02T18:57:54.676682Z",
     "iopub.status.busy": "2021-11-02T18:57:54.675914Z",
     "iopub.status.idle": "2021-11-02T18:57:54.771495Z",
     "shell.execute_reply": "2021-11-02T18:57:54.770709Z",
     "shell.execute_reply.started": "2021-11-02T18:56:33.910585Z"
    },
    "papermill": {
     "duration": 0.195912,
     "end_time": "2021-11-02T18:57:54.771632",
     "exception": false,
     "start_time": "2021-11-02T18:57:54.575720",
     "status": "completed"
    },
    "tags": []
   },
   "outputs": [
    {
     "data": {
      "text/plain": [
       "((6700, 22), (3300, 22), (5000, 22))"
      ]
     },
     "execution_count": 63,
     "metadata": {},
     "output_type": "execute_result"
    }
   ],
   "source": [
    "preprocessor = DataPreprocessing()\n",
    "preprocessor.fit(X_train)\n",
    "\n",
    "X_train = preprocessor.transform(X_train)\n",
    "X_valid = preprocessor.transform(X_valid)\n",
    "test_df = preprocessor.transform(test_df)\n",
    "\n",
    "X_train.shape, X_valid.shape, test_df.shape"
   ]
  },
  {
   "cell_type": "code",
   "execution_count": 64,
   "metadata": {
    "execution": {
     "iopub.execute_input": "2021-11-02T18:57:54.976627Z",
     "iopub.status.busy": "2021-11-02T18:57:54.975853Z",
     "iopub.status.idle": "2021-11-02T18:57:55.113878Z",
     "shell.execute_reply": "2021-11-02T18:57:55.113100Z",
     "shell.execute_reply.started": "2021-11-02T18:56:34.216069Z"
    },
    "papermill": {
     "duration": 0.24336,
     "end_time": "2021-11-02T18:57:55.114019",
     "exception": false,
     "start_time": "2021-11-02T18:57:54.870659",
     "status": "completed"
    },
    "tags": []
   },
   "outputs": [
    {
     "data": {
      "text/plain": [
       "((6700, 29), (3300, 29), (5000, 29))"
      ]
     },
     "execution_count": 64,
     "metadata": {},
     "output_type": "execute_result"
    }
   ],
   "source": [
    "features_gen = FeatureGenetator()\n",
    "features_gen.fit(X_train, y_train)\n",
    "\n",
    "X_train = features_gen.transform(X_train)\n",
    "X_valid = features_gen.transform(X_valid)\n",
    "test_df = features_gen.transform(test_df)\n",
    "\n",
    "X_train.shape, X_valid.shape, test_df.shape"
   ]
  },
  {
   "cell_type": "code",
   "execution_count": 65,
   "metadata": {
    "execution": {
     "iopub.execute_input": "2021-11-02T18:57:55.321387Z",
     "iopub.status.busy": "2021-11-02T18:57:55.320636Z",
     "iopub.status.idle": "2021-11-02T18:57:55.330213Z",
     "shell.execute_reply": "2021-11-02T18:57:55.329577Z",
     "shell.execute_reply.started": "2021-11-02T18:56:34.358951Z"
    },
    "papermill": {
     "duration": 0.11649,
     "end_time": "2021-11-02T18:57:55.330345",
     "exception": false,
     "start_time": "2021-11-02T18:57:55.213855",
     "status": "completed"
    },
    "tags": []
   },
   "outputs": [],
   "source": [
    "X_train = X_train[feature_names + new_feature_names]\n",
    "X_valid = X_valid[feature_names + new_feature_names]\n",
    "test_df = test_df[feature_names + new_feature_names]"
   ]
  },
  {
   "cell_type": "code",
   "execution_count": 66,
   "metadata": {
    "execution": {
     "iopub.execute_input": "2021-11-02T18:57:55.537588Z",
     "iopub.status.busy": "2021-11-02T18:57:55.536448Z",
     "iopub.status.idle": "2021-11-02T18:57:55.544772Z",
     "shell.execute_reply": "2021-11-02T18:57:55.545479Z",
     "shell.execute_reply.started": "2021-11-02T18:56:34.608613Z"
    },
    "papermill": {
     "duration": 0.115327,
     "end_time": "2021-11-02T18:57:55.545637",
     "exception": false,
     "start_time": "2021-11-02T18:57:55.430310",
     "status": "completed"
    },
    "tags": []
   },
   "outputs": [
    {
     "data": {
      "text/plain": [
       "(0, 0, 0)"
      ]
     },
     "execution_count": 66,
     "metadata": {},
     "output_type": "execute_result"
    }
   ],
   "source": [
    "X_train.isna().sum().sum(), X_valid.isna().sum().sum(), test_df.isna().sum().sum()"
   ]
  },
  {
   "cell_type": "markdown",
   "metadata": {
    "papermill": {
     "duration": 0.098309,
     "end_time": "2021-11-02T18:57:55.743721",
     "exception": false,
     "start_time": "2021-11-02T18:57:55.645412",
     "status": "completed"
    },
    "tags": []
   },
   "source": [
    "### 7. Построение модели  <a class='anchor' id='modeling'>"
   ]
  },
  {
   "cell_type": "markdown",
   "metadata": {
    "papermill": {
     "duration": 0.09919,
     "end_time": "2021-11-02T18:57:55.942611",
     "exception": false,
     "start_time": "2021-11-02T18:57:55.843421",
     "status": "completed"
    },
    "tags": []
   },
   "source": [
    "**Обучение**"
   ]
  },
  {
   "cell_type": "code",
   "execution_count": 67,
   "metadata": {
    "execution": {
     "iopub.execute_input": "2021-11-02T18:57:56.147126Z",
     "iopub.status.busy": "2021-11-02T18:57:56.145727Z",
     "iopub.status.idle": "2021-11-02T18:58:01.381615Z",
     "shell.execute_reply": "2021-11-02T18:58:01.380957Z",
     "shell.execute_reply.started": "2021-11-02T18:56:35.455936Z"
    },
    "papermill": {
     "duration": 5.337944,
     "end_time": "2021-11-02T18:58:01.381750",
     "exception": false,
     "start_time": "2021-11-02T18:57:56.043806",
     "status": "completed"
    },
    "tags": []
   },
   "outputs": [
    {
     "data": {
      "text/plain": [
       "RandomForestRegressor(random_state=21)"
      ]
     },
     "execution_count": 67,
     "metadata": {},
     "output_type": "execute_result"
    }
   ],
   "source": [
    "rf_model = RandomForestRegressor(random_state=21, criterion='mse')\n",
    "rf_model.fit(X_train, y_train)"
   ]
  },
  {
   "cell_type": "markdown",
   "metadata": {
    "papermill": {
     "duration": 0.099481,
     "end_time": "2021-11-02T18:58:01.581501",
     "exception": false,
     "start_time": "2021-11-02T18:58:01.482020",
     "status": "completed"
    },
    "tags": []
   },
   "source": [
    "**Оценка модели**"
   ]
  },
  {
   "cell_type": "code",
   "execution_count": 68,
   "metadata": {
    "execution": {
     "iopub.execute_input": "2021-11-02T18:58:01.785374Z",
     "iopub.status.busy": "2021-11-02T18:58:01.784657Z",
     "iopub.status.idle": "2021-11-02T18:58:02.507635Z",
     "shell.execute_reply": "2021-11-02T18:58:02.508222Z",
     "shell.execute_reply.started": "2021-11-02T18:56:41.161170Z"
    },
    "papermill": {
     "duration": 0.827745,
     "end_time": "2021-11-02T18:58:02.508381",
     "exception": false,
     "start_time": "2021-11-02T18:58:01.680636",
     "status": "completed"
    },
    "tags": []
   },
   "outputs": [
    {
     "name": "stdout",
     "output_type": "stream",
     "text": [
      "Train R2:\t0.966\n",
      "Test R2:\t0.703\n"
     ]
    },
    {
     "data": {
      "image/png": "[encoded data removed]",
      "text/plain": [
       "<Figure size 1296x720 with 2 Axes>"
      ]
     },
     "metadata": {
      "needs_background": "light"
     },
     "output_type": "display_data"
    }
   ],
   "source": [
    "y_train_preds = rf_model.predict(X_train)\n",
    "y_test_preds = rf_model.predict(X_valid)\n",
    "\n",
    "evaluate_preds(y_train, y_train_preds, y_valid, y_test_preds)"
   ]
  },
  {
   "cell_type": "markdown",
   "metadata": {
    "papermill": {
     "duration": 0.103517,
     "end_time": "2021-11-02T18:58:02.715285",
     "exception": false,
     "start_time": "2021-11-02T18:58:02.611768",
     "status": "completed"
    },
    "tags": []
   },
   "source": [
    "**Кросс-валидация**"
   ]
  },
  {
   "cell_type": "code",
   "execution_count": 69,
   "metadata": {
    "execution": {
     "iopub.execute_input": "2021-11-02T18:58:02.959476Z",
     "iopub.status.busy": "2021-11-02T18:58:02.958726Z",
     "iopub.status.idle": "2021-11-02T18:58:13.354976Z",
     "shell.execute_reply": "2021-11-02T18:58:13.354248Z",
     "shell.execute_reply.started": "2021-11-02T18:56:41.773768Z"
    },
    "papermill": {
     "duration": 10.506568,
     "end_time": "2021-11-02T18:58:13.355115",
     "exception": false,
     "start_time": "2021-11-02T18:58:02.848547",
     "status": "completed"
    },
    "tags": []
   },
   "outputs": [
    {
     "data": {
      "text/plain": [
       "array([0.77293598, 0.72876923, 0.7555163 ])"
      ]
     },
     "execution_count": 69,
     "metadata": {},
     "output_type": "execute_result"
    }
   ],
   "source": [
    "cv_score = cross_val_score(rf_model, X_train, y_train, scoring='r2', cv=KFold(n_splits=3, shuffle=True, random_state=21))\n",
    "cv_score"
   ]
  },
  {
   "cell_type": "code",
   "execution_count": 70,
   "metadata": {
    "execution": {
     "iopub.execute_input": "2021-11-02T18:58:13.570331Z",
     "iopub.status.busy": "2021-11-02T18:58:13.569608Z",
     "iopub.status.idle": "2021-11-02T18:58:13.576760Z",
     "shell.execute_reply": "2021-11-02T18:58:13.576159Z",
     "shell.execute_reply.started": "2021-11-02T18:56:53.343689Z"
    },
    "papermill": {
     "duration": 0.114841,
     "end_time": "2021-11-02T18:58:13.576904",
     "exception": false,
     "start_time": "2021-11-02T18:58:13.462063",
     "status": "completed"
    },
    "tags": []
   },
   "outputs": [
    {
     "data": {
      "text/plain": [
       "0.7524071708386023"
      ]
     },
     "execution_count": 70,
     "metadata": {},
     "output_type": "execute_result"
    }
   ],
   "source": [
    "cv_score.mean()"
   ]
  },
  {
   "cell_type": "markdown",
   "metadata": {
    "papermill": {
     "duration": 0.137715,
     "end_time": "2021-11-02T18:58:13.819264",
     "exception": false,
     "start_time": "2021-11-02T18:58:13.681549",
     "status": "completed"
    },
    "tags": []
   },
   "source": [
    "**Важность признаков**"
   ]
  },
  {
   "cell_type": "code",
   "execution_count": 71,
   "metadata": {
    "execution": {
     "iopub.execute_input": "2021-11-02T18:58:14.045336Z",
     "iopub.status.busy": "2021-11-02T18:58:14.044149Z",
     "iopub.status.idle": "2021-11-02T18:58:14.088603Z",
     "shell.execute_reply": "2021-11-02T18:58:14.087882Z",
     "shell.execute_reply.started": "2021-11-02T18:56:53.352974Z"
    },
    "papermill": {
     "duration": 0.156579,
     "end_time": "2021-11-02T18:58:14.088729",
     "exception": false,
     "start_time": "2021-11-02T18:58:13.932150",
     "status": "completed"
    },
    "tags": []
   },
   "outputs": [
    {
     "data": {
      "text/html": [
       "<div>\n",
       "<style scoped>\n",
       "    .dataframe tbody tr th:only-of-type {\n",
       "        vertical-align: middle;\n",
       "    }\n",
       "\n",
       "    .dataframe tbody tr th {\n",
       "        vertical-align: top;\n",
       "    }\n",
       "\n",
       "    .dataframe thead th {\n",
       "        text-align: right;\n",
       "    }\n",
       "</style>\n",
       "<table border=\"1\" class=\"dataframe\">\n",
       "  <thead>\n",
       "    <tr style=\"text-align: right;\">\n",
       "      <th></th>\n",
       "      <th>feature_name</th>\n",
       "      <th>importance</th>\n",
       "    </tr>\n",
       "  </thead>\n",
       "  <tbody>\n",
       "    <tr>\n",
       "      <th>23</th>\n",
       "      <td>MedPriceByDistrict</td>\n",
       "      <td>6.500178e-01</td>\n",
       "    </tr>\n",
       "    <tr>\n",
       "      <th>1</th>\n",
       "      <td>Square</td>\n",
       "      <td>1.090036e-01</td>\n",
       "    </tr>\n",
       "    <tr>\n",
       "      <th>2</th>\n",
       "      <td>LifeSquare</td>\n",
       "      <td>3.407513e-02</td>\n",
       "    </tr>\n",
       "    <tr>\n",
       "      <th>6</th>\n",
       "      <td>HouseYear</td>\n",
       "      <td>2.266921e-02</td>\n",
       "    </tr>\n",
       "    <tr>\n",
       "      <th>5</th>\n",
       "      <td>HouseFloor</td>\n",
       "      <td>2.184077e-02</td>\n",
       "    </tr>\n",
       "    <tr>\n",
       "      <th>24</th>\n",
       "      <td>MedPriceByFloorYear</td>\n",
       "      <td>2.153683e-02</td>\n",
       "    </tr>\n",
       "    <tr>\n",
       "      <th>20</th>\n",
       "      <td>DistrictSize</td>\n",
       "      <td>2.018415e-02</td>\n",
       "    </tr>\n",
       "    <tr>\n",
       "      <th>12</th>\n",
       "      <td>Social_3</td>\n",
       "      <td>1.972429e-02</td>\n",
       "    </tr>\n",
       "    <tr>\n",
       "      <th>4</th>\n",
       "      <td>Floor</td>\n",
       "      <td>1.657255e-02</td>\n",
       "    </tr>\n",
       "    <tr>\n",
       "      <th>3</th>\n",
       "      <td>KitchenSquare</td>\n",
       "      <td>1.562761e-02</td>\n",
       "    </tr>\n",
       "    <tr>\n",
       "      <th>7</th>\n",
       "      <td>Ecology_1</td>\n",
       "      <td>1.532774e-02</td>\n",
       "    </tr>\n",
       "    <tr>\n",
       "      <th>11</th>\n",
       "      <td>Social_2</td>\n",
       "      <td>1.461498e-02</td>\n",
       "    </tr>\n",
       "    <tr>\n",
       "      <th>10</th>\n",
       "      <td>Social_1</td>\n",
       "      <td>1.371185e-02</td>\n",
       "    </tr>\n",
       "    <tr>\n",
       "      <th>14</th>\n",
       "      <td>Shops_1</td>\n",
       "      <td>8.079305e-03</td>\n",
       "    </tr>\n",
       "    <tr>\n",
       "      <th>13</th>\n",
       "      <td>Helthcare_2</td>\n",
       "      <td>5.750169e-03</td>\n",
       "    </tr>\n",
       "    <tr>\n",
       "      <th>0</th>\n",
       "      <td>Rooms</td>\n",
       "      <td>5.207842e-03</td>\n",
       "    </tr>\n",
       "    <tr>\n",
       "      <th>17</th>\n",
       "      <td>HouseFloor_outlier</td>\n",
       "      <td>1.844828e-03</td>\n",
       "    </tr>\n",
       "    <tr>\n",
       "      <th>9</th>\n",
       "      <td>Ecology_3</td>\n",
       "      <td>1.097854e-03</td>\n",
       "    </tr>\n",
       "    <tr>\n",
       "      <th>19</th>\n",
       "      <td>LifeSquare_nan</td>\n",
       "      <td>1.005166e-03</td>\n",
       "    </tr>\n",
       "    <tr>\n",
       "      <th>15</th>\n",
       "      <td>Shops_2</td>\n",
       "      <td>9.465014e-04</td>\n",
       "    </tr>\n",
       "    <tr>\n",
       "      <th>22</th>\n",
       "      <td>IsDistrictLarge</td>\n",
       "      <td>8.080961e-04</td>\n",
       "    </tr>\n",
       "    <tr>\n",
       "      <th>8</th>\n",
       "      <td>Ecology_2</td>\n",
       "      <td>2.955102e-04</td>\n",
       "    </tr>\n",
       "    <tr>\n",
       "      <th>16</th>\n",
       "      <td>Rooms_outlier</td>\n",
       "      <td>5.771886e-05</td>\n",
       "    </tr>\n",
       "    <tr>\n",
       "      <th>18</th>\n",
       "      <td>HouseYear_outlier</td>\n",
       "      <td>4.207580e-07</td>\n",
       "    </tr>\n",
       "    <tr>\n",
       "      <th>21</th>\n",
       "      <td>new_district</td>\n",
       "      <td>0.000000e+00</td>\n",
       "    </tr>\n",
       "  </tbody>\n",
       "</table>\n",
       "</div>"
      ],
      "text/plain": [
       "           feature_name    importance\n",
       "23   MedPriceByDistrict  6.500178e-01\n",
       "1                Square  1.090036e-01\n",
       "2            LifeSquare  3.407513e-02\n",
       "6             HouseYear  2.266921e-02\n",
       "5            HouseFloor  2.184077e-02\n",
       "24  MedPriceByFloorYear  2.153683e-02\n",
       "20         DistrictSize  2.018415e-02\n",
       "12             Social_3  1.972429e-02\n",
       "4                 Floor  1.657255e-02\n",
       "3         KitchenSquare  1.562761e-02\n",
       "7             Ecology_1  1.532774e-02\n",
       "11             Social_2  1.461498e-02\n",
       "10             Social_1  1.371185e-02\n",
       "14              Shops_1  8.079305e-03\n",
       "13          Helthcare_2  5.750169e-03\n",
       "0                 Rooms  5.207842e-03\n",
       "17   HouseFloor_outlier  1.844828e-03\n",
       "9             Ecology_3  1.097854e-03\n",
       "19       LifeSquare_nan  1.005166e-03\n",
       "15              Shops_2  9.465014e-04\n",
       "22      IsDistrictLarge  8.080961e-04\n",
       "8             Ecology_2  2.955102e-04\n",
       "16        Rooms_outlier  5.771886e-05\n",
       "18    HouseYear_outlier  4.207580e-07\n",
       "21         new_district  0.000000e+00"
      ]
     },
     "execution_count": 71,
     "metadata": {},
     "output_type": "execute_result"
    }
   ],
   "source": [
    "feature_importances = pd.DataFrame(zip(X_train.columns, rf_model.feature_importances_), \n",
    "                                   columns=['feature_name', 'importance'])\n",
    "\n",
    "feature_importances.sort_values(by='importance', ascending=False)"
   ]
  },
  {
   "cell_type": "markdown",
   "metadata": {
    "papermill": {
     "duration": 0.105554,
     "end_time": "2021-11-02T18:58:14.300217",
     "exception": false,
     "start_time": "2021-11-02T18:58:14.194663",
     "status": "completed"
    },
    "tags": []
   },
   "source": [
    "Идея более сложных моделей:"
   ]
  },
  {
   "cell_type": "markdown",
   "metadata": {
    "execution": {
     "iopub.execute_input": "2021-11-02T18:13:02.155387Z",
     "iopub.status.busy": "2021-11-02T18:13:02.154956Z",
     "iopub.status.idle": "2021-11-02T18:13:02.231853Z",
     "shell.execute_reply": "2021-11-02T18:13:02.230398Z",
     "shell.execute_reply.started": "2021-11-02T18:13:02.155343Z"
    },
    "papermill": {
     "duration": 0.104144,
     "end_time": "2021-11-02T18:58:14.511506",
     "exception": false,
     "start_time": "2021-11-02T18:58:14.407362",
     "status": "completed"
    },
    "tags": []
   },
   "source": [
    "catboost, lightgbm, xgboost"
   ]
  },
  {
   "cell_type": "code",
   "execution_count": 72,
   "metadata": {
    "execution": {
     "iopub.execute_input": "2021-11-02T18:58:14.724260Z",
     "iopub.status.busy": "2021-11-02T18:58:14.723548Z",
     "iopub.status.idle": "2021-11-02T18:58:41.230626Z",
     "shell.execute_reply": "2021-11-02T18:58:41.229986Z"
    },
    "papermill": {
     "duration": 26.614224,
     "end_time": "2021-11-02T18:58:41.230780",
     "exception": false,
     "start_time": "2021-11-02T18:58:14.616556",
     "status": "completed"
    },
    "tags": []
   },
   "outputs": [
    {
     "data": {
      "text/plain": [
       "StackingRegressor(estimators=[('lr', LinearRegression()),\n",
       "                              ('rf', RandomForestRegressor(random_state=21))],\n",
       "                  final_estimator=GradientBoostingRegressor())"
      ]
     },
     "execution_count": 72,
     "metadata": {},
     "output_type": "execute_result"
    }
   ],
   "source": [
    "from sklearn.ensemble import StackingRegressor, VotingRegressor, BaggingRegressor, GradientBoostingRegressor\n",
    "from sklearn.linear_model import LinearRegression\n",
    "\n",
    "lr = LinearRegression()\n",
    "gb = GradientBoostingRegressor()\n",
    "\n",
    "stack = StackingRegressor([('lr', lr), ('rf', rf_model)], final_estimator=gb)\n",
    "stack.fit(X_train, y_train)"
   ]
  },
  {
   "cell_type": "code",
   "execution_count": 73,
   "metadata": {
    "execution": {
     "iopub.execute_input": "2021-11-02T18:58:41.452414Z",
     "iopub.status.busy": "2021-11-02T18:58:41.451629Z",
     "iopub.status.idle": "2021-11-02T18:58:42.152756Z",
     "shell.execute_reply": "2021-11-02T18:58:42.153342Z"
    },
    "papermill": {
     "duration": 0.815882,
     "end_time": "2021-11-02T18:58:42.153504",
     "exception": false,
     "start_time": "2021-11-02T18:58:41.337622",
     "status": "completed"
    },
    "tags": []
   },
   "outputs": [
    {
     "name": "stdout",
     "output_type": "stream",
     "text": [
      "Train R2:\t0.941\n",
      "Test R2:\t0.694\n"
     ]
    },
    {
     "data": {
      "image/png": "[encoded data removed]",
      "text/plain": [
       "<Figure size 1296x720 with 2 Axes>"
      ]
     },
     "metadata": {
      "needs_background": "light"
     },
     "output_type": "display_data"
    }
   ],
   "source": [
    "y_train_preds = stack.predict(X_train)\n",
    "y_test_preds = stack.predict(X_valid)\n",
    "\n",
    "evaluate_preds(y_train, y_train_preds, y_valid, y_test_preds)"
   ]
  },
  {
   "cell_type": "markdown",
   "metadata": {
    "papermill": {
     "duration": 0.109678,
     "end_time": "2021-11-02T18:58:42.372761",
     "exception": false,
     "start_time": "2021-11-02T18:58:42.263083",
     "status": "completed"
    },
    "tags": []
   },
   "source": [
    "### 8. Прогнозирование на тестовом датасете  <a class='anchor' id='prediction'>\n",
    "\n",
    "1. Выполнить для тестового датасета те же этапы обработки и постронияния признаков\n",
    "2. Не потерять и не перемешать индексы от примеров при построении прогнозов\n",
    "3. Прогнозы должны быть для все примеров из тестового датасета (для всех строк)"
   ]
  },
  {
   "cell_type": "code",
   "execution_count": 74,
   "metadata": {
    "execution": {
     "iopub.execute_input": "2021-11-02T18:58:42.596588Z",
     "iopub.status.busy": "2021-11-02T18:58:42.595865Z",
     "iopub.status.idle": "2021-11-02T18:58:42.603148Z",
     "shell.execute_reply": "2021-11-02T18:58:42.602421Z"
    },
    "papermill": {
     "duration": 0.120443,
     "end_time": "2021-11-02T18:58:42.603324",
     "exception": false,
     "start_time": "2021-11-02T18:58:42.482881",
     "status": "completed"
    },
    "tags": []
   },
   "outputs": [
    {
     "data": {
      "text/plain": [
       "(5000, 25)"
      ]
     },
     "execution_count": 74,
     "metadata": {},
     "output_type": "execute_result"
    }
   ],
   "source": [
    "test_df.shape"
   ]
  },
  {
   "cell_type": "code",
   "execution_count": 75,
   "metadata": {
    "execution": {
     "iopub.execute_input": "2021-11-02T18:58:42.832634Z",
     "iopub.status.busy": "2021-11-02T18:58:42.831852Z",
     "iopub.status.idle": "2021-11-02T18:58:42.878655Z",
     "shell.execute_reply": "2021-11-02T18:58:42.877925Z"
    },
    "papermill": {
     "duration": 0.16475,
     "end_time": "2021-11-02T18:58:42.878795",
     "exception": false,
     "start_time": "2021-11-02T18:58:42.714045",
     "status": "completed"
    },
    "tags": []
   },
   "outputs": [
    {
     "data": {
      "text/html": [
       "<div>\n",
       "<style scoped>\n",
       "    .dataframe tbody tr th:only-of-type {\n",
       "        vertical-align: middle;\n",
       "    }\n",
       "\n",
       "    .dataframe tbody tr th {\n",
       "        vertical-align: top;\n",
       "    }\n",
       "\n",
       "    .dataframe thead th {\n",
       "        text-align: right;\n",
       "    }\n",
       "</style>\n",
       "<table border=\"1\" class=\"dataframe\">\n",
       "  <thead>\n",
       "    <tr style=\"text-align: right;\">\n",
       "      <th></th>\n",
       "      <th>Rooms</th>\n",
       "      <th>Square</th>\n",
       "      <th>LifeSquare</th>\n",
       "      <th>KitchenSquare</th>\n",
       "      <th>Floor</th>\n",
       "      <th>HouseFloor</th>\n",
       "      <th>HouseYear</th>\n",
       "      <th>Ecology_1</th>\n",
       "      <th>Ecology_2</th>\n",
       "      <th>Ecology_3</th>\n",
       "      <th>...</th>\n",
       "      <th>Shops_2</th>\n",
       "      <th>Rooms_outlier</th>\n",
       "      <th>HouseFloor_outlier</th>\n",
       "      <th>HouseYear_outlier</th>\n",
       "      <th>LifeSquare_nan</th>\n",
       "      <th>DistrictSize</th>\n",
       "      <th>new_district</th>\n",
       "      <th>IsDistrictLarge</th>\n",
       "      <th>MedPriceByDistrict</th>\n",
       "      <th>MedPriceByFloorYear</th>\n",
       "    </tr>\n",
       "  </thead>\n",
       "  <tbody>\n",
       "    <tr>\n",
       "      <th>0</th>\n",
       "      <td>1.0</td>\n",
       "      <td>36.847630</td>\n",
       "      <td>19.094182</td>\n",
       "      <td>5.0</td>\n",
       "      <td>5</td>\n",
       "      <td>9.0</td>\n",
       "      <td>1970</td>\n",
       "      <td>0.036122</td>\n",
       "      <td>1</td>\n",
       "      <td>1</td>\n",
       "      <td>...</td>\n",
       "      <td>1</td>\n",
       "      <td>0</td>\n",
       "      <td>0</td>\n",
       "      <td>0</td>\n",
       "      <td>0</td>\n",
       "      <td>76.0</td>\n",
       "      <td>0</td>\n",
       "      <td>0</td>\n",
       "      <td>171145.169069</td>\n",
       "      <td>188584.132829</td>\n",
       "    </tr>\n",
       "    <tr>\n",
       "      <th>1</th>\n",
       "      <td>1.0</td>\n",
       "      <td>42.493907</td>\n",
       "      <td>42.568133</td>\n",
       "      <td>10.0</td>\n",
       "      <td>7</td>\n",
       "      <td>17.0</td>\n",
       "      <td>2017</td>\n",
       "      <td>0.072158</td>\n",
       "      <td>1</td>\n",
       "      <td>1</td>\n",
       "      <td>...</td>\n",
       "      <td>0</td>\n",
       "      <td>0</td>\n",
       "      <td>0</td>\n",
       "      <td>0</td>\n",
       "      <td>0</td>\n",
       "      <td>164.0</td>\n",
       "      <td>0</td>\n",
       "      <td>1</td>\n",
       "      <td>131107.271962</td>\n",
       "      <td>177710.601401</td>\n",
       "    </tr>\n",
       "    <tr>\n",
       "      <th>2</th>\n",
       "      <td>2.0</td>\n",
       "      <td>59.463678</td>\n",
       "      <td>47.463678</td>\n",
       "      <td>9.0</td>\n",
       "      <td>19</td>\n",
       "      <td>19.0</td>\n",
       "      <td>1977</td>\n",
       "      <td>0.211401</td>\n",
       "      <td>1</td>\n",
       "      <td>1</td>\n",
       "      <td>...</td>\n",
       "      <td>1</td>\n",
       "      <td>0</td>\n",
       "      <td>0</td>\n",
       "      <td>0</td>\n",
       "      <td>1</td>\n",
       "      <td>580.0</td>\n",
       "      <td>0</td>\n",
       "      <td>1</td>\n",
       "      <td>165993.292450</td>\n",
       "      <td>174339.691014</td>\n",
       "    </tr>\n",
       "    <tr>\n",
       "      <th>3</th>\n",
       "      <td>3.0</td>\n",
       "      <td>49.646030</td>\n",
       "      <td>33.893825</td>\n",
       "      <td>6.0</td>\n",
       "      <td>2</td>\n",
       "      <td>2.0</td>\n",
       "      <td>1965</td>\n",
       "      <td>0.014073</td>\n",
       "      <td>1</td>\n",
       "      <td>1</td>\n",
       "      <td>...</td>\n",
       "      <td>1</td>\n",
       "      <td>0</td>\n",
       "      <td>0</td>\n",
       "      <td>0</td>\n",
       "      <td>0</td>\n",
       "      <td>372.0</td>\n",
       "      <td>0</td>\n",
       "      <td>1</td>\n",
       "      <td>172778.615365</td>\n",
       "      <td>179651.003718</td>\n",
       "    </tr>\n",
       "    <tr>\n",
       "      <th>4</th>\n",
       "      <td>1.0</td>\n",
       "      <td>53.837056</td>\n",
       "      <td>47.837056</td>\n",
       "      <td>3.0</td>\n",
       "      <td>8</td>\n",
       "      <td>17.0</td>\n",
       "      <td>1977</td>\n",
       "      <td>0.309479</td>\n",
       "      <td>1</td>\n",
       "      <td>1</td>\n",
       "      <td>...</td>\n",
       "      <td>1</td>\n",
       "      <td>0</td>\n",
       "      <td>0</td>\n",
       "      <td>0</td>\n",
       "      <td>1</td>\n",
       "      <td>65.0</td>\n",
       "      <td>0</td>\n",
       "      <td>0</td>\n",
       "      <td>164116.183543</td>\n",
       "      <td>191991.803903</td>\n",
       "    </tr>\n",
       "    <tr>\n",
       "      <th>...</th>\n",
       "      <td>...</td>\n",
       "      <td>...</td>\n",
       "      <td>...</td>\n",
       "      <td>...</td>\n",
       "      <td>...</td>\n",
       "      <td>...</td>\n",
       "      <td>...</td>\n",
       "      <td>...</td>\n",
       "      <td>...</td>\n",
       "      <td>...</td>\n",
       "      <td>...</td>\n",
       "      <td>...</td>\n",
       "      <td>...</td>\n",
       "      <td>...</td>\n",
       "      <td>...</td>\n",
       "      <td>...</td>\n",
       "      <td>...</td>\n",
       "      <td>...</td>\n",
       "      <td>...</td>\n",
       "      <td>...</td>\n",
       "      <td>...</td>\n",
       "    </tr>\n",
       "    <tr>\n",
       "      <th>4995</th>\n",
       "      <td>2.0</td>\n",
       "      <td>43.177521</td>\n",
       "      <td>30.339945</td>\n",
       "      <td>5.0</td>\n",
       "      <td>4</td>\n",
       "      <td>5.0</td>\n",
       "      <td>1962</td>\n",
       "      <td>0.069660</td>\n",
       "      <td>1</td>\n",
       "      <td>1</td>\n",
       "      <td>...</td>\n",
       "      <td>1</td>\n",
       "      <td>0</td>\n",
       "      <td>1</td>\n",
       "      <td>0</td>\n",
       "      <td>0</td>\n",
       "      <td>56.0</td>\n",
       "      <td>0</td>\n",
       "      <td>0</td>\n",
       "      <td>183575.963167</td>\n",
       "      <td>188584.132829</td>\n",
       "    </tr>\n",
       "    <tr>\n",
       "      <th>4996</th>\n",
       "      <td>3.0</td>\n",
       "      <td>93.698122</td>\n",
       "      <td>94.521465</td>\n",
       "      <td>10.0</td>\n",
       "      <td>21</td>\n",
       "      <td>27.0</td>\n",
       "      <td>2018</td>\n",
       "      <td>0.060753</td>\n",
       "      <td>1</td>\n",
       "      <td>1</td>\n",
       "      <td>...</td>\n",
       "      <td>1</td>\n",
       "      <td>0</td>\n",
       "      <td>0</td>\n",
       "      <td>0</td>\n",
       "      <td>0</td>\n",
       "      <td>26.0</td>\n",
       "      <td>0</td>\n",
       "      <td>0</td>\n",
       "      <td>425037.641820</td>\n",
       "      <td>201323.139697</td>\n",
       "    </tr>\n",
       "    <tr>\n",
       "      <th>4997</th>\n",
       "      <td>1.0</td>\n",
       "      <td>33.656723</td>\n",
       "      <td>19.003259</td>\n",
       "      <td>5.0</td>\n",
       "      <td>2</td>\n",
       "      <td>5.0</td>\n",
       "      <td>1966</td>\n",
       "      <td>0.038693</td>\n",
       "      <td>1</td>\n",
       "      <td>1</td>\n",
       "      <td>...</td>\n",
       "      <td>1</td>\n",
       "      <td>0</td>\n",
       "      <td>0</td>\n",
       "      <td>0</td>\n",
       "      <td>0</td>\n",
       "      <td>54.0</td>\n",
       "      <td>0</td>\n",
       "      <td>0</td>\n",
       "      <td>156266.487610</td>\n",
       "      <td>179651.003718</td>\n",
       "    </tr>\n",
       "    <tr>\n",
       "      <th>4998</th>\n",
       "      <td>1.0</td>\n",
       "      <td>38.635155</td>\n",
       "      <td>20.976257</td>\n",
       "      <td>9.0</td>\n",
       "      <td>8</td>\n",
       "      <td>14.0</td>\n",
       "      <td>1970</td>\n",
       "      <td>0.089040</td>\n",
       "      <td>1</td>\n",
       "      <td>1</td>\n",
       "      <td>...</td>\n",
       "      <td>1</td>\n",
       "      <td>0</td>\n",
       "      <td>0</td>\n",
       "      <td>0</td>\n",
       "      <td>0</td>\n",
       "      <td>40.0</td>\n",
       "      <td>0</td>\n",
       "      <td>0</td>\n",
       "      <td>185704.766694</td>\n",
       "      <td>191991.803903</td>\n",
       "    </tr>\n",
       "    <tr>\n",
       "      <th>4999</th>\n",
       "      <td>2.0</td>\n",
       "      <td>67.122742</td>\n",
       "      <td>33.944344</td>\n",
       "      <td>6.0</td>\n",
       "      <td>9</td>\n",
       "      <td>17.0</td>\n",
       "      <td>2009</td>\n",
       "      <td>0.194489</td>\n",
       "      <td>1</td>\n",
       "      <td>1</td>\n",
       "      <td>...</td>\n",
       "      <td>1</td>\n",
       "      <td>0</td>\n",
       "      <td>0</td>\n",
       "      <td>0</td>\n",
       "      <td>0</td>\n",
       "      <td>117.0</td>\n",
       "      <td>0</td>\n",
       "      <td>1</td>\n",
       "      <td>182602.286983</td>\n",
       "      <td>229167.624266</td>\n",
       "    </tr>\n",
       "  </tbody>\n",
       "</table>\n",
       "<p>5000 rows × 25 columns</p>\n",
       "</div>"
      ],
      "text/plain": [
       "      Rooms     Square  LifeSquare  KitchenSquare  Floor  HouseFloor  \\\n",
       "0       1.0  36.847630   19.094182            5.0      5         9.0   \n",
       "1       1.0  42.493907   42.568133           10.0      7        17.0   \n",
       "2       2.0  59.463678   47.463678            9.0     19        19.0   \n",
       "3       3.0  49.646030   33.893825            6.0      2         2.0   \n",
       "4       1.0  53.837056   47.837056            3.0      8        17.0   \n",
       "...     ...        ...         ...            ...    ...         ...   \n",
       "4995    2.0  43.177521   30.339945            5.0      4         5.0   \n",
       "4996    3.0  93.698122   94.521465           10.0     21        27.0   \n",
       "4997    1.0  33.656723   19.003259            5.0      2         5.0   \n",
       "4998    1.0  38.635155   20.976257            9.0      8        14.0   \n",
       "4999    2.0  67.122742   33.944344            6.0      9        17.0   \n",
       "\n",
       "      HouseYear  Ecology_1  Ecology_2  Ecology_3  ...  Shops_2  Rooms_outlier  \\\n",
       "0          1970   0.036122          1          1  ...        1              0   \n",
       "1          2017   0.072158          1          1  ...        0              0   \n",
       "2          1977   0.211401          1          1  ...        1              0   \n",
       "3          1965   0.014073          1          1  ...        1              0   \n",
       "4          1977   0.309479          1          1  ...        1              0   \n",
       "...         ...        ...        ...        ...  ...      ...            ...   \n",
       "4995       1962   0.069660          1          1  ...        1              0   \n",
       "4996       2018   0.060753          1          1  ...        1              0   \n",
       "4997       1966   0.038693          1          1  ...        1              0   \n",
       "4998       1970   0.089040          1          1  ...        1              0   \n",
       "4999       2009   0.194489          1          1  ...        1              0   \n",
       "\n",
       "      HouseFloor_outlier  HouseYear_outlier  LifeSquare_nan  DistrictSize  \\\n",
       "0                      0                  0               0          76.0   \n",
       "1                      0                  0               0         164.0   \n",
       "2                      0                  0               1         580.0   \n",
       "3                      0                  0               0         372.0   \n",
       "4                      0                  0               1          65.0   \n",
       "...                  ...                ...             ...           ...   \n",
       "4995                   1                  0               0          56.0   \n",
       "4996                   0                  0               0          26.0   \n",
       "4997                   0                  0               0          54.0   \n",
       "4998                   0                  0               0          40.0   \n",
       "4999                   0                  0               0         117.0   \n",
       "\n",
       "      new_district  IsDistrictLarge  MedPriceByDistrict  MedPriceByFloorYear  \n",
       "0                0                0       171145.169069        188584.132829  \n",
       "1                0                1       131107.271962        177710.601401  \n",
       "2                0                1       165993.292450        174339.691014  \n",
       "3                0                1       172778.615365        179651.003718  \n",
       "4                0                0       164116.183543        191991.803903  \n",
       "...            ...              ...                 ...                  ...  \n",
       "4995             0                0       183575.963167        188584.132829  \n",
       "4996             0                0       425037.641820        201323.139697  \n",
       "4997             0                0       156266.487610        179651.003718  \n",
       "4998             0                0       185704.766694        191991.803903  \n",
       "4999             0                1       182602.286983        229167.624266  \n",
       "\n",
       "[5000 rows x 25 columns]"
      ]
     },
     "execution_count": 75,
     "metadata": {},
     "output_type": "execute_result"
    }
   ],
   "source": [
    "test_df"
   ]
  },
  {
   "cell_type": "code",
   "execution_count": 76,
   "metadata": {
    "execution": {
     "iopub.execute_input": "2021-11-02T18:58:43.109825Z",
     "iopub.status.busy": "2021-11-02T18:58:43.109103Z",
     "iopub.status.idle": "2021-11-02T18:58:43.131713Z",
     "shell.execute_reply": "2021-11-02T18:58:43.130977Z"
    },
    "papermill": {
     "duration": 0.142304,
     "end_time": "2021-11-02T18:58:43.131898",
     "exception": false,
     "start_time": "2021-11-02T18:58:42.989594",
     "status": "completed"
    },
    "tags": []
   },
   "outputs": [
    {
     "data": {
      "text/html": [
       "<div>\n",
       "<style scoped>\n",
       "    .dataframe tbody tr th:only-of-type {\n",
       "        vertical-align: middle;\n",
       "    }\n",
       "\n",
       "    .dataframe tbody tr th {\n",
       "        vertical-align: top;\n",
       "    }\n",
       "\n",
       "    .dataframe thead th {\n",
       "        text-align: right;\n",
       "    }\n",
       "</style>\n",
       "<table border=\"1\" class=\"dataframe\">\n",
       "  <thead>\n",
       "    <tr style=\"text-align: right;\">\n",
       "      <th></th>\n",
       "      <th>Id</th>\n",
       "      <th>Price</th>\n",
       "    </tr>\n",
       "  </thead>\n",
       "  <tbody>\n",
       "    <tr>\n",
       "      <th>0</th>\n",
       "      <td>4567</td>\n",
       "      <td>200000.0</td>\n",
       "    </tr>\n",
       "    <tr>\n",
       "      <th>1</th>\n",
       "      <td>5925</td>\n",
       "      <td>200000.0</td>\n",
       "    </tr>\n",
       "    <tr>\n",
       "      <th>2</th>\n",
       "      <td>960</td>\n",
       "      <td>200000.0</td>\n",
       "    </tr>\n",
       "    <tr>\n",
       "      <th>3</th>\n",
       "      <td>3848</td>\n",
       "      <td>200000.0</td>\n",
       "    </tr>\n",
       "    <tr>\n",
       "      <th>4</th>\n",
       "      <td>746</td>\n",
       "      <td>200000.0</td>\n",
       "    </tr>\n",
       "  </tbody>\n",
       "</table>\n",
       "</div>"
      ],
      "text/plain": [
       "     Id     Price\n",
       "0  4567  200000.0\n",
       "1  5925  200000.0\n",
       "2   960  200000.0\n",
       "3  3848  200000.0\n",
       "4   746  200000.0"
      ]
     },
     "execution_count": 76,
     "metadata": {},
     "output_type": "execute_result"
    }
   ],
   "source": [
    "submit = pd.read_csv('sample_submission.csv')\n",
    "submit.head()"
   ]
  },
  {
   "cell_type": "code",
   "execution_count": 77,
   "metadata": {
    "execution": {
     "iopub.execute_input": "2021-11-02T18:58:43.366604Z",
     "iopub.status.busy": "2021-11-02T18:58:43.365882Z",
     "iopub.status.idle": "2021-11-02T18:58:43.501493Z",
     "shell.execute_reply": "2021-11-02T18:58:43.500682Z"
    },
    "papermill": {
     "duration": 0.256195,
     "end_time": "2021-11-02T18:58:43.501628",
     "exception": false,
     "start_time": "2021-11-02T18:58:43.245433",
     "status": "completed"
    },
    "tags": []
   },
   "outputs": [
    {
     "data": {
      "text/plain": [
       "array([159500.13701001, 124420.17016683, 139868.07282783, ...,\n",
       "       148647.05266307, 188481.09340534, 236705.90523957])"
      ]
     },
     "execution_count": 77,
     "metadata": {},
     "output_type": "execute_result"
    }
   ],
   "source": [
    "predictions = rf_model.predict(test_df)\n",
    "predictions"
   ]
  },
  {
   "cell_type": "code",
   "execution_count": 78,
   "metadata": {
    "execution": {
     "iopub.execute_input": "2021-11-02T18:58:43.735865Z",
     "iopub.status.busy": "2021-11-02T18:58:43.735115Z",
     "iopub.status.idle": "2021-11-02T18:58:43.740245Z",
     "shell.execute_reply": "2021-11-02T18:58:43.739500Z"
    },
    "papermill": {
     "duration": 0.126771,
     "end_time": "2021-11-02T18:58:43.740378",
     "exception": false,
     "start_time": "2021-11-02T18:58:43.613607",
     "status": "completed"
    },
    "tags": []
   },
   "outputs": [
    {
     "data": {
      "text/html": [
       "<div>\n",
       "<style scoped>\n",
       "    .dataframe tbody tr th:only-of-type {\n",
       "        vertical-align: middle;\n",
       "    }\n",
       "\n",
       "    .dataframe tbody tr th {\n",
       "        vertical-align: top;\n",
       "    }\n",
       "\n",
       "    .dataframe thead th {\n",
       "        text-align: right;\n",
       "    }\n",
       "</style>\n",
       "<table border=\"1\" class=\"dataframe\">\n",
       "  <thead>\n",
       "    <tr style=\"text-align: right;\">\n",
       "      <th></th>\n",
       "      <th>Id</th>\n",
       "      <th>Price</th>\n",
       "    </tr>\n",
       "  </thead>\n",
       "  <tbody>\n",
       "    <tr>\n",
       "      <th>0</th>\n",
       "      <td>4567</td>\n",
       "      <td>159500.137010</td>\n",
       "    </tr>\n",
       "    <tr>\n",
       "      <th>1</th>\n",
       "      <td>5925</td>\n",
       "      <td>124420.170167</td>\n",
       "    </tr>\n",
       "    <tr>\n",
       "      <th>2</th>\n",
       "      <td>960</td>\n",
       "      <td>139868.072828</td>\n",
       "    </tr>\n",
       "    <tr>\n",
       "      <th>3</th>\n",
       "      <td>3848</td>\n",
       "      <td>168377.550589</td>\n",
       "    </tr>\n",
       "    <tr>\n",
       "      <th>4</th>\n",
       "      <td>746</td>\n",
       "      <td>172434.322707</td>\n",
       "    </tr>\n",
       "  </tbody>\n",
       "</table>\n",
       "</div>"
      ],
      "text/plain": [
       "     Id          Price\n",
       "0  4567  159500.137010\n",
       "1  5925  124420.170167\n",
       "2   960  139868.072828\n",
       "3  3848  168377.550589\n",
       "4   746  172434.322707"
      ]
     },
     "execution_count": 78,
     "metadata": {},
     "output_type": "execute_result"
    }
   ],
   "source": [
    "submit['Price'] = predictions\n",
    "submit.head()"
   ]
  },
  {
   "cell_type": "code",
   "execution_count": 79,
   "metadata": {
    "execution": {
     "iopub.execute_input": "2021-11-02T18:58:43.971294Z",
     "iopub.status.busy": "2021-11-02T18:58:43.970555Z",
     "iopub.status.idle": "2021-11-02T18:58:44.271135Z",
     "shell.execute_reply": "2021-11-02T18:58:44.270420Z"
    },
    "papermill": {
     "duration": 0.418232,
     "end_time": "2021-11-02T18:58:44.271301",
     "exception": false,
     "start_time": "2021-11-02T18:58:43.853069",
     "status": "completed"
    },
    "tags": []
   },
   "outputs": [],
   "source": [
    "submit.to_csv('rf_submit.csv', index=False)"
   ]
  }
 ],
 "metadata": {
  "kernelspec": {
   "display_name": "Python 3 (ipykernel)",
   "language": "python",
   "name": "python3"
  },
  "language_info": {
   "codemirror_mode": {
    "name": "ipython",
    "version": 3
   },
   "file_extension": ".py",
   "mimetype": "text/x-python",
   "name": "python",
   "nbconvert_exporter": "python",
   "pygments_lexer": "ipython3",
   "version": "3.8.12"
  },
  "papermill": {
   "duration": 73.843468,
   "end_time": "2021-11-02T18:58:44.492747",
   "environment_variables": {},
   "exception": null,
   "input_path": "__notebook__.ipynb",
   "output_path": "__notebook__.ipynb",
   "parameters": {},
   "start_time": "2021-11-02T18:57:30.649279",
   "version": "2.1.0"
  }
 },
 "nbformat": 4,
 "nbformat_minor": 4
}
